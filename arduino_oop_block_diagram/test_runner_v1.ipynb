{
 "cells": [
  {
   "cell_type": "code",
   "execution_count": 1,
   "metadata": {},
   "outputs": [],
   "source": [
    "%matplotlib inline\n",
    "import matplotlib.pyplot as plt\n",
    "import numpy as np\n",
    "plt.rcParams['font.size'] = 14\n",
    "import time, copy,os\n",
    "from numpy import pi, sin, cos, tan\n",
    "import control\n",
    "from numpy.fft import fft"
   ]
  },
  {
   "cell_type": "code",
   "execution_count": 2,
   "metadata": {},
   "outputs": [],
   "source": [
    "import os"
   ]
  },
  {
   "cell_type": "code",
   "execution_count": 3,
   "metadata": {},
   "outputs": [],
   "source": [
    "import pylab_util as PU"
   ]
  },
  {
   "cell_type": "code",
   "execution_count": 4,
   "metadata": {},
   "outputs": [],
   "source": [
    "import serial"
   ]
  },
  {
   "cell_type": "code",
   "execution_count": 5,
   "metadata": {},
   "outputs": [],
   "source": [
    "import serial_utils"
   ]
  },
  {
   "cell_type": "code",
   "execution_count": 6,
   "metadata": {},
   "outputs": [],
   "source": [
    "import importlib"
   ]
  },
  {
   "cell_type": "code",
   "execution_count": 7,
   "metadata": {},
   "outputs": [
    {
     "data": {
      "text/plain": [
       "<module 'serial_utils' from '/home/ryanwkrauss/git/research/serial_utils.py'>"
      ]
     },
     "execution_count": 7,
     "metadata": {},
     "output_type": "execute_result"
    }
   ],
   "source": [
    "importlib.reload(serial_utils)"
   ]
  },
  {
   "cell_type": "code",
   "execution_count": 8,
   "metadata": {},
   "outputs": [],
   "source": [
    "import re"
   ]
  },
  {
   "cell_type": "code",
   "execution_count": 9,
   "metadata": {},
   "outputs": [],
   "source": [
    "p = re.compile(\"^[0-9.]+,.*\")"
   ]
  },
  {
   "cell_type": "code",
   "execution_count": 10,
   "metadata": {},
   "outputs": [],
   "source": [
    "def data_to_float_array(data):\n",
    "    mylist = data.split('\\n')\n",
    "\n",
    "    for i, rowstr in enumerate(mylist):\n",
    "        if p.search(rowstr) is not None:\n",
    "            #this is the start row\n",
    "            start_ind = i\n",
    "            break\n",
    "                \n",
    "    # search backwards for '#end'\n",
    "    N = len(mylist)\n",
    "    for i in range(1,N):\n",
    "        ind = N-i\n",
    "        rowstr = mylist[ind]\n",
    "        if p.search(rowstr) is not None:\n",
    "            end_ind = ind\n",
    "            break\n",
    "    \n",
    "    clean_list = mylist[start_ind:end_ind]\n",
    "    clean_2 = list(filter(None,clean_list))\n",
    "    nested_list = [row.split(',') for row in clean_2]\n",
    "    str_array = np.array(nested_list)\n",
    "    float_array = str_array.astype(float)\n",
    "    return float_array"
   ]
  },
  {
   "cell_type": "code",
   "execution_count": 11,
   "metadata": {},
   "outputs": [
    {
     "data": {
      "text/plain": [
       "'/home/ryanwkrauss/sabbatical_github_work/arduino_oop_block_diagram'"
      ]
     },
     "execution_count": 11,
     "metadata": {},
     "output_type": "execute_result"
    }
   ],
   "source": [
    "pwd"
   ]
  },
  {
   "cell_type": "code",
   "execution_count": 12,
   "metadata": {},
   "outputs": [
    {
     "name": "stdout",
     "output_type": "stream",
     "text": [
      "\u001b[0m\u001b[40;33;01m/dev/tty\u001b[0m  \u001b[40;33;01m/dev/ttyACM0\u001b[0m\r\n"
     ]
    }
   ],
   "source": [
    "ls /dev/tty*"
   ]
  },
  {
   "cell_type": "markdown",
   "metadata": {
    "collapsed": true
   },
   "source": [
    "## Get the portname"
   ]
  },
  {
   "cell_type": "code",
   "execution_count": 13,
   "metadata": {},
   "outputs": [
    {
     "name": "stdout",
     "output_type": "stream",
     "text": [
      "portname: /dev/ttyACM0\n"
     ]
    }
   ],
   "source": [
    "for i in range(10):\n",
    "    portname = \"/dev/ttyACM%i\" % i\n",
    "    if os.path.exists(portname):\n",
    "        break\n",
    "print(\"portname: %s\" % portname)"
   ]
  },
  {
   "cell_type": "code",
   "execution_count": 14,
   "metadata": {},
   "outputs": [],
   "source": [
    "ser = serial_utils.serial_test(portname)"
   ]
  },
  {
   "cell_type": "code",
   "execution_count": 15,
   "metadata": {},
   "outputs": [],
   "source": [
    "ser.open()"
   ]
  },
  {
   "cell_type": "code",
   "execution_count": 16,
   "metadata": {},
   "outputs": [
    {
     "name": "stdout",
     "output_type": "stream",
     "text": [
      "Cart Pendulum Autogen 1\r\n",
      "using rtblockdiagram library\r\n",
      "enter any character to start a test\r\n",
      "\n"
     ]
    }
   ],
   "source": [
    "ser.print_all()"
   ]
  },
  {
   "cell_type": "code",
   "execution_count": 17,
   "metadata": {},
   "outputs": [],
   "source": [
    "ser.flush()"
   ]
  },
  {
   "cell_type": "code",
   "execution_count": 18,
   "metadata": {},
   "outputs": [],
   "source": [
    "ser.write_char('s')"
   ]
  },
  {
   "cell_type": "code",
   "execution_count": 19,
   "metadata": {},
   "outputs": [],
   "source": [
    "data = ser.get_data()"
   ]
  },
  {
   "cell_type": "code",
   "execution_count": 20,
   "metadata": {},
   "outputs": [],
   "source": [
    "data2 = ser.get_data()"
   ]
  },
  {
   "cell_type": "code",
   "execution_count": 21,
   "metadata": {},
   "outputs": [],
   "source": [
    "data += data2"
   ]
  },
  {
   "cell_type": "code",
   "execution_count": 22,
   "metadata": {},
   "outputs": [
    {
     "name": "stdout",
     "output_type": "stream",
     "text": [
      "t0 =5386204\r\n",
      "1.97,0,-44\n",
      "12.02,0,-44\n",
      "22.06,0,-44\n",
      "32.11,0,-44\n",
      "42.16,0,-44\n",
      "52.21,0,-44\n",
      "62.26,0,-44\n",
      "72.30,0,-44\n",
      "82.35,0,-44\n",
      "92.40,0,-44\n",
      "102.45,200,-44\n",
      "112.50,200,-44\n",
      "122.54,200,-43\n",
      "132.59,200,-42\n",
      "142.64,200,-41\n",
      "152.69,200,-39\n",
      "162.74,200,-37\n",
      "172.78,200,-35\n",
      "182.83,200,-34\n",
      "192.88,200,-32\n",
      "202.93,200,-30\n",
      "212.98,200,-27\n",
      "223.02,200,-24\n",
      "233.07,200,-20\n",
      "243.12,200,-16\n",
      "253.17,200,-12\n",
      "263.22,200,-9\n",
      "273.26,200,-5\n",
      "283.31,200,-1\n",
      "293.36,200,3\n",
      "303.41,200,8\n",
      "313.46,200,11\n",
      "323.50,200,15\n",
      "333.55,200,18\n",
      "343.60,200,22\n",
      "353.65,200,25\n",
      "363.70,200,27\n",
      "373.74,200,30\n",
      "383.79,200,32\n",
      "393.84,200,33\n",
      "403.89,200,35\n",
      "413.94,200,36\n",
      "423.99,200,36\n",
      "434.03,200,36\n",
      "444.08,200,36\n",
      "454.13,200,35\n",
      "464.18,200,34\n",
      "474.22,200,33\n",
      "484.27,200,31\n",
      "494.32,200,28\n",
      "504.37,0,26\n",
      "514.42,0,23\n",
      "524.46,0,19\n",
      "534.51,0,15\n",
      "544.56,0,9\n",
      "554.61,0,3\n",
      "564.66,0,-5\n",
      "574.70,0,-13\n",
      "584.76,0,-22\n",
      "594.80,0,-32\n",
      "604.85,0,-42\n",
      "614.90,0,-53\n",
      "624.94,0,-64\n",
      "634.99,0,-75\n",
      "645.04,0,-86\n",
      "655.09,0,-98\n",
      "665.14,0,-108\n",
      "675.18,0,-118\n",
      "685.23,0,-128\n",
      "695.28,0,-136\n",
      "705.33,0,-145\n",
      "715.38,0,-152\n",
      "725.42,0,-159\n",
      "735.47,0,-165\n",
      "745.52,0,-171\n",
      "755.57,0,-175\n",
      "765.62,0,-179\n",
      "775.66,0,-182\n",
      "785.71,0,-184\n",
      "795.76,0,-185\n",
      "805.81,0,-185\n",
      "815.86,0,-185\n",
      "825.90,0,-183\n",
      "835.95,0,-181\n",
      "846.00,0,-178\n",
      "856.05,0,-174\n",
      "866.10,0,-169\n",
      "876.14,0,-164\n",
      "886.19,0,-158\n",
      "896.24,0,-151\n",
      "906.30,0,-143\n",
      "916.34,0,-135\n",
      "926.38,0,-127\n",
      "936.43,0,-118\n",
      "946.48,0,-108\n",
      "956.53,0,-98\n",
      "966.58,0,-88\n",
      "976.62,0,-77\n",
      "986.67,0,-67\n",
      "996.72,0,-56\n",
      "1006.77,0,-45\n",
      "1016.82,0,-34\n",
      "1026.86,0,-23\n",
      "1036.91,0,-12\n",
      "1046.96,0,-2\n",
      "1057.01,0,9\n",
      "1067.06,0,19\n",
      "1077.10,0,29\n",
      "1087.15,0,38\n",
      "1097.20,0,47\n",
      "1107.25,0,55\n",
      "1117.30,0,63\n",
      "1127.34,0,70\n",
      "1137.39,0,77\n",
      "1147.44,0,82\n",
      "1157.49,0,88\n",
      "1167.54,0,92\n",
      "1177.58,0,95\n",
      "1187.63,0,98\n",
      "1197.68,0,100\n",
      "1207.73,0,101\n",
      "1217.78,0,102\n",
      "1227.83,0,101\n",
      "1237.87,0,100\n",
      "1247.92,0,98\n",
      "1257.97,0,95\n",
      "1268.02,0,92\n",
      "1278.06,0,88\n",
      "1288.11,0,83\n",
      "1298.16,0,77\n",
      "1308.21,0,71\n",
      "1318.26,0,64\n",
      "1328.30,0,57\n",
      "1338.35,0,49\n",
      "1348.40,0,40\n",
      "1358.45,0,31\n",
      "1368.50,0,22\n",
      "1378.54,0,13\n",
      "1388.60,0,3\n",
      "1398.64,0,-7\n",
      "1408.69,0,-17\n",
      "1418.74,0,-27\n",
      "1428.78,0,-38\n",
      "1438.83,0,-48\n",
      "1448.88,0,-58\n",
      "1458.93,0,-68\n",
      "1468.98,0,-78\n",
      "1479.02,0,-87\n",
      "1489.07,0,-96\n",
      "1499.12,0,-105\n",
      "1509.17,0,-113\n",
      "1519.22,0,-121\n",
      "1529.26,0,-128\n",
      "1539.31,0,-135\n",
      "1549.37,0,-141\n",
      "1559.41,0,-147\n",
      "1569.46,0,-151\n",
      "1579.50,0,-155\n",
      "1589.55,0,-159\n",
      "1599.60,0,-162\n",
      "1609.65,0,-163\n",
      "1619.70,0,-165\n",
      "1629.74,0,-165\n",
      "1639.79,0,-165\n",
      "1649.84,0,-163\n",
      "1659.89,0,-162\n",
      "1669.94,0,-159\n",
      "1679.98,0,-156\n",
      "1690.03,0,-152\n",
      "1700.08,0,-147\n",
      "1710.14,0,-142\n",
      "1720.18,0,-137\n",
      "1730.22,0,-130\n",
      "1740.27,0,-123\n",
      "1750.32,0,-116\n",
      "1760.37,0,-108\n",
      "1770.42,0,-100\n",
      "1780.46,0,-92\n",
      "1790.51,0,-83\n",
      "1800.56,0,-74\n",
      "1810.61,0,-65\n",
      "1820.66,0,-55\n",
      "1830.70,0,-46\n",
      "1840.75,0,-36\n",
      "1850.80,0,-27\n",
      "1860.85,0,-17\n",
      "1870.90,0,-8\n",
      "1880.94,0,1\n",
      "1890.99,0,10\n",
      "1901.04,0,18\n",
      "1911.09,0,26\n",
      "1921.14,0,34\n",
      "1931.18,0,41\n",
      "1941.23,0,48\n",
      "1951.28,0,54\n",
      "1961.33,0,60\n",
      "1971.38,0,65\n",
      "1981.42,0,70\n",
      "1991.47,0,74\n",
      "2001.52,0,77\n",
      "2011.57,0,79\n",
      "2021.62,0,81\n",
      "2031.67,0,82\n",
      "2041.71,0,83\n",
      "2051.76,0,82\n",
      "2061.81,0,81\n",
      "2071.86,0,80\n",
      "2081.90,0,77\n",
      "2091.95,0,75\n",
      "2102.00,0,71\n",
      "2112.05,0,67\n",
      "2122.10,0,62\n",
      "2132.14,0,57\n",
      "2142.19,0,51\n",
      "2152.24,0,44\n",
      "2162.29,0,38\n",
      "2172.34,0,30\n",
      "2182.38,0,23\n",
      "2192.44,0,15\n",
      "2202.48,0,7\n",
      "2212.53,0,-2\n",
      "2222.58,0,-10\n",
      "2232.62,0,-19\n",
      "2242.67,0,-28\n",
      "2252.72,0,-37\n",
      "2262.77,0,-45\n",
      "2272.82,0,-54\n",
      "2282.86,0,-62\n",
      "2292.91,0,-71\n",
      "2302.96,0,-79\n",
      "2313.01,0,-87\n",
      "2323.06,0,-94\n",
      "2333.10,0,-102\n",
      "2343.15,0,-108\n",
      "2353.21,0,-115\n",
      "2363.25,0,-120\n",
      "2373.30,0,-126\n",
      "2383.34,0,-130\n",
      "2393.39,0,-135\n",
      "2403.44,0,-138\n",
      "2413.49,0,-141\n",
      "2423.54,0,-143\n",
      "2433.58,0,-145\n",
      "2443.63,0,-146\n",
      "2453.68,0,-147\n",
      "2463.73,0,-146\n",
      "2473.78,0,-145\n",
      "2483.82,0,-144\n",
      "2493.87,0,-142\n",
      "2503.92,0,-139\n",
      "2513.97,0,-136\n",
      "2524.02,0,-132\n",
      "2534.06,0,-127\n",
      "2544.11,0,-122\n",
      "2554.16,0,-117\n",
      "2564.21,0,-111\n",
      "2574.26,0,-105\n",
      "2584.30,0,-98\n",
      "2594.35,0,-91\n",
      "2604.40,0,-84\n",
      "2614.45,0,-77\n",
      "2624.50,0,-69\n",
      "2634.54,0,-61\n",
      "2644.59,0,-53\n",
      "2654.64,0,-45\n",
      "2664.69,0,-37\n",
      "2674.74,0,-29\n",
      "2684.78,0,-21\n",
      "2694.83,0,-13\n",
      "2704.88,0,-5\n",
      "2714.93,0,2\n",
      "2724.98,0,10\n",
      "2735.02,0,17\n",
      "2745.07,0,23\n",
      "2755.12,0,29\n",
      "2765.17,0,35\n",
      "2775.22,0,41\n",
      "2785.26,0,46\n",
      "2795.31,0,50\n",
      "2805.36,0,54\n",
      "2815.41,0,57\n",
      "2825.46,0,60\n",
      "2835.51,0,62\n",
      "2845.55,0,63\n",
      "2855.60,0,64\n",
      "2865.65,0,65\n",
      "2875.70,0,65\n",
      "2885.74,0,64\n",
      "2895.79,0,62\n",
      "2905.84,0,60\n",
      "2915.89,0,58\n",
      "2925.94,0,55\n",
      "2935.98,0,51\n",
      "2946.03,0,47\n",
      "2956.08,0,42\n",
      "2966.13,0,37\n",
      "2976.18,0,32\n",
      "2986.22,0,26\n",
      "2996.28,0,20\n",
      "enter any character to start a test\r\n",
      "\n"
     ]
    }
   ],
   "source": [
    "print(data)"
   ]
  },
  {
   "cell_type": "code",
   "execution_count": 23,
   "metadata": {},
   "outputs": [],
   "source": [
    "float_array = data_to_float_array(data)"
   ]
  },
  {
   "cell_type": "code",
   "execution_count": 24,
   "metadata": {},
   "outputs": [],
   "source": [
    "t = float_array[:,0]"
   ]
  },
  {
   "cell_type": "code",
   "execution_count": 25,
   "metadata": {},
   "outputs": [],
   "source": [
    "if t[0] > 500:\n",
    "    t[0] = 0"
   ]
  },
  {
   "cell_type": "code",
   "execution_count": 26,
   "metadata": {},
   "outputs": [
    {
     "data": {
      "text/plain": [
       "[<matplotlib.lines.Line2D at 0x7d4b33bab860>]"
      ]
     },
     "execution_count": 26,
     "metadata": {},
     "output_type": "execute_result"
    },
    {
     "data": {
      "image/png": "[encoded data removed]",
      "text/plain": [
       "<Figure size 432x288 with 1 Axes>"
      ]
     },
     "metadata": {
      "needs_background": "light"
     },
     "output_type": "display_data"
    }
   ],
   "source": [
    "plt.figure()\n",
    "plt.plot(t)"
   ]
  },
  {
   "cell_type": "code",
   "execution_count": 29,
   "metadata": {},
   "outputs": [
    {
     "data": {
      "text/plain": [
       "array([ 1.97, 12.02, 22.06, 32.11, 42.16, 52.21, 62.26, 72.3 , 82.35,\n",
       "       92.4 ])"
      ]
     },
     "execution_count": 29,
     "metadata": {},
     "output_type": "execute_result"
    }
   ],
   "source": [
    "t[0:10]"
   ]
  },
  {
   "cell_type": "code",
   "execution_count": 30,
   "metadata": {},
   "outputs": [],
   "source": [
    "dt_array = t[1:]-t[0:-1]"
   ]
  },
  {
   "cell_type": "code",
   "execution_count": 31,
   "metadata": {},
   "outputs": [
    {
     "data": {
      "text/plain": [
       "[<matplotlib.lines.Line2D at 0x7d4b33a84240>]"
      ]
     },
     "execution_count": 31,
     "metadata": {},
     "output_type": "execute_result"
    },
    {
     "data": {
      "image/png": "[encoded data removed]",
      "text/plain": [
       "<Figure size 432x288 with 1 Axes>"
      ]
     },
     "metadata": {
      "needs_background": "light"
     },
     "output_type": "display_data"
    }
   ],
   "source": [
    "plt.figure()\n",
    "plt.plot(dt_array)"
   ]
  },
  {
   "cell_type": "code",
   "execution_count": 32,
   "metadata": {},
   "outputs": [],
   "source": [
    "v_in = float_array[:,-2]\n",
    "v_out = float_array[:,-1]"
   ]
  },
  {
   "cell_type": "code",
   "execution_count": 33,
   "metadata": {},
   "outputs": [
    {
     "data": {
      "text/plain": [
       "[<matplotlib.lines.Line2D at 0x7d4b33a220b8>,\n",
       " <matplotlib.lines.Line2D at 0x7d4b339ddef0>]"
      ]
     },
     "execution_count": 33,
     "metadata": {},
     "output_type": "execute_result"
    },
    {
     "data": {
      "image/png": "[encoded data removed]",
      "text/plain": [
       "<Figure size 432x288 with 1 Axes>"
      ]
     },
     "metadata": {
      "needs_background": "light"
     },
     "output_type": "display_data"
    }
   ],
   "source": [
    "plt.figure()\n",
    "plt.plot(t, v_in, t, v_out)\n",
    "#plt.ylim([-5,260])\n",
    "#plt.xlim([0,2000])\n",
    "#plt.legend(['ax','ay','az'])"
   ]
  },
  {
   "cell_type": "code",
   "execution_count": 181,
   "metadata": {},
   "outputs": [
    {
     "data": {
      "text/plain": [
       "[<matplotlib.lines.Line2D at 0x7fc4195e0da0>]"
      ]
     },
     "execution_count": 181,
     "metadata": {},
     "output_type": "execute_result"
    },
    {
     "data": {
      "image/png": "[encoded data removed]",
      "text/plain": [
       "<Figure size 432x288 with 1 Axes>"
      ]
     },
     "metadata": {
      "needs_background": "light"
     },
     "output_type": "display_data"
    }
   ],
   "source": [
    "plt.figure()\n",
    "plt.plot(t, az)\n",
    "#plt.ylim([-5,260])\n",
    "#plt.xlim([0,2000])\n",
    "#plt.legend(['ax','ay','az'])"
   ]
  },
  {
   "cell_type": "code",
   "execution_count": 34,
   "metadata": {},
   "outputs": [],
   "source": [
    "ser.close()"
   ]
  },
  {
   "cell_type": "code",
   "execution_count": 34,
   "metadata": {},
   "outputs": [],
   "source": [
    "data_out = float_array"
   ]
  },
  {
   "cell_type": "code",
   "execution_count": 359,
   "metadata": {},
   "outputs": [],
   "source": [
    "np.savetxt(fn,data_out,delimiter=',')"
   ]
  }
 ],
 "metadata": {
  "kernelspec": {
   "display_name": "Python 3",
   "language": "python",
   "name": "python3"
  },
  "language_info": {
   "codemirror_mode": {
    "name": "ipython",
    "version": 3
   },
   "file_extension": ".py",
   "mimetype": "text/x-python",
   "name": "python",
   "nbconvert_exporter": "python",
   "pygments_lexer": "ipython3",
   "version": "3.7.3"
  }
 },
 "nbformat": 4,
 "nbformat_minor": 4
}
