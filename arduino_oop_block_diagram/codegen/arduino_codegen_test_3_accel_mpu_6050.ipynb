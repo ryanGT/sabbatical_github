{
 "cells": [
  {
   "cell_type": "code",
   "execution_count": 1,
   "metadata": {},
   "outputs": [],
   "source": [
    "%matplotlib inline\n",
    "import matplotlib.pyplot as plt\n",
    "import numpy as np\n",
    "import control\n",
    "from numpy import sin, cos, tan, pi\n",
    "from control import TransferFunction as TF"
   ]
  },
  {
   "cell_type": "code",
   "execution_count": 2,
   "metadata": {},
   "outputs": [],
   "source": [
    "import txt_mixin"
   ]
  },
  {
   "cell_type": "code",
   "execution_count": 3,
   "metadata": {},
   "outputs": [],
   "source": [
    "plt.rcParams['font.size'] = 14"
   ]
  },
  {
   "cell_type": "code",
   "execution_count": 4,
   "metadata": {},
   "outputs": [],
   "source": [
    "import py_block_diagram"
   ]
  },
  {
   "cell_type": "code",
   "execution_count": 5,
   "metadata": {},
   "outputs": [],
   "source": [
    "import importlib"
   ]
  },
  {
   "cell_type": "code",
   "execution_count": 6,
   "metadata": {},
   "outputs": [
    {
     "data": {
      "text/plain": [
       "<module 'py_block_diagram' from '/home/ryanwkrauss/git/py_block_diagram/py_block_diagram/__init__.py'>"
      ]
     },
     "execution_count": 6,
     "metadata": {},
     "output_type": "execute_result"
    }
   ],
   "source": [
    "importlib.reload(py_block_diagram)"
   ]
  },
  {
   "cell_type": "code",
   "execution_count": 7,
   "metadata": {},
   "outputs": [],
   "source": [
    "import py_block_diagram as pybd"
   ]
  },
  {
   "cell_type": "markdown",
   "metadata": {},
   "source": [
    "## System Description"
   ]
  },
  {
   "cell_type": "code",
   "execution_count": 8,
   "metadata": {},
   "outputs": [],
   "source": [
    "U = pybd.step_input(\"$U(s)$\")"
   ]
  },
  {
   "cell_type": "code",
   "execution_count": 9,
   "metadata": {},
   "outputs": [],
   "source": [
    "sum1 = pybd.summing_junction(U,radius=0.35)"
   ]
  },
  {
   "cell_type": "code",
   "execution_count": 10,
   "metadata": {},
   "outputs": [],
   "source": [
    "U.place_absolute(0,0)"
   ]
  },
  {
   "cell_type": "code",
   "execution_count": 11,
   "metadata": {},
   "outputs": [],
   "source": [
    "sum1.place_relative(U,\"right\")"
   ]
  },
  {
   "cell_type": "code",
   "execution_count": 12,
   "metadata": {},
   "outputs": [],
   "source": [
    "D = pybd.PD_controller(3, 0.1, sum1, \"$D(s)$\")"
   ]
  },
  {
   "cell_type": "code",
   "execution_count": 13,
   "metadata": {},
   "outputs": [],
   "source": [
    "D.place_relative(sum1, \"right\",3.5)"
   ]
  },
  {
   "cell_type": "code",
   "execution_count": 14,
   "metadata": {},
   "outputs": [
    {
     "data": {
      "text/plain": [
       "<py_block_diagram.summing_junction at 0x7820c5c34a58>"
      ]
     },
     "execution_count": 14,
     "metadata": {},
     "output_type": "execute_result"
    }
   ],
   "source": [
    "D.input"
   ]
  },
  {
   "cell_type": "code",
   "execution_count": 15,
   "metadata": {},
   "outputs": [],
   "source": [
    "sat = pybd.saturation_block(\"sat\",D)"
   ]
  },
  {
   "cell_type": "code",
   "execution_count": 16,
   "metadata": {},
   "outputs": [],
   "source": [
    "sat.place_relative(D, \"right\",5)"
   ]
  },
  {
   "cell_type": "code",
   "execution_count": 17,
   "metadata": {},
   "outputs": [],
   "source": [
    "encoder = pybd.encoder(11)"
   ]
  },
  {
   "cell_type": "code",
   "execution_count": 18,
   "metadata": {},
   "outputs": [],
   "source": [
    "HB = pybd.h_bridge(6,4,9)"
   ]
  },
  {
   "cell_type": "code",
   "execution_count": 19,
   "metadata": {},
   "outputs": [],
   "source": [
    "G = pybd.plant(encoder,HB,\"$G(s)$\",sat)"
   ]
  },
  {
   "cell_type": "code",
   "execution_count": 20,
   "metadata": {},
   "outputs": [],
   "source": [
    "G.place_relative(sat,\"right\",5)"
   ]
  },
  {
   "cell_type": "code",
   "execution_count": 21,
   "metadata": {},
   "outputs": [],
   "source": [
    "sum1.input2 = G"
   ]
  },
  {
   "cell_type": "markdown",
   "metadata": {},
   "source": [
    "### Custom sensor for accel\n",
    "\n",
    "- the class `azaccel6050` is defined in the `.ino` template file\n",
    "    - not in the `rtblockdiagram` library\n",
    "- `accelgyro` is an instance of the `MPU6050` library's main class\n",
    "- the `azaccel6050` class' main job is to wrap the reading of the accelerometer in the official `get_reading` method that the plant class will call"
   ]
  },
  {
   "cell_type": "markdown",
   "metadata": {},
   "source": [
    "```\n",
    "azaccel6050 myaccel = azaccel6050();\n",
    "```"
   ]
  },
  {
   "cell_type": "code",
   "execution_count": 22,
   "metadata": {},
   "outputs": [],
   "source": [
    "accel = pybd.custom_sensor(\"myaccel\", \"azaccel6050\", \"&accelgyro\")"
   ]
  },
  {
   "cell_type": "code",
   "execution_count": 23,
   "metadata": {},
   "outputs": [],
   "source": [
    "Ga = pybd.plant_no_actuator(accel,\"$G_a(s)$\",G,variable_name=\"Ga\")"
   ]
  },
  {
   "cell_type": "code",
   "execution_count": 24,
   "metadata": {},
   "outputs": [],
   "source": [
    "Ga.place_relative(G, \"right\", 5)"
   ]
  },
  {
   "cell_type": "code",
   "execution_count": 25,
   "metadata": {},
   "outputs": [],
   "source": [
    "#Y = pybd.output_block(\"$Y(s)$\",G)\n",
    "#Y.place_relative(G, \"right\",6)"
   ]
  },
  {
   "cell_type": "code",
   "execution_count": 26,
   "metadata": {},
   "outputs": [
    {
     "data": {
      "image/png": "[encoded data removed]",
      "text/plain": [
       "<Figure size 864x432 with 1 Axes>"
      ]
     },
     "metadata": {
      "needs_background": "light"
     },
     "output_type": "display_data"
    }
   ],
   "source": [
    "fig = plt.figure(figsize=(12,6))\n",
    "ax = fig.add_subplot(111)\n",
    "mysys = pybd.block_diagram([U,sum1,D,sat,G,Ga],ax)\n",
    "mysys.draw()\n",
    "plt.xlim([-1,25])\n",
    "plt.ylim([-5,5])\n",
    "mysys.axis_off()"
   ]
  },
  {
   "cell_type": "markdown",
   "metadata": {},
   "source": [
    "## Codegen Test"
   ]
  },
  {
   "cell_type": "code",
   "execution_count": 27,
   "metadata": {},
   "outputs": [],
   "source": [
    "msg = \"Arduino codegen test 3 - MPU6050 accel z\""
   ]
  },
  {
   "cell_type": "code",
   "execution_count": 28,
   "metadata": {},
   "outputs": [],
   "source": [
    "mysys.welcome_msg = msg"
   ]
  },
  {
   "cell_type": "code",
   "execution_count": 29,
   "metadata": {},
   "outputs": [
    {
     "data": {
      "text/plain": [
       "['step_input u = step_input(0.1, 100);',\n",
       " 'summing_junction sum1 = summing_junction();',\n",
       " 'PD_control_block PD = PD_control_block(3, 0.1);',\n",
       " 'saturation_block sat_block = saturation_block();',\n",
       " 'h_bridge_actuator HB = h_bridge_actuator(6, 4, 9);',\n",
       " 'encoder enc = encoder(11);',\n",
       " '',\n",
       " 'void enc_isr_wrapper() {',\n",
       " '    enc.encoderISR();',\n",
       " '}',\n",
       " '',\n",
       " 'plant G = plant(&HB, &enc);',\n",
       " 'azaccel6050 myaccel = azaccel6050(&accelgyro);',\n",
       " 'plant_no_actuator Ga = plant_no_actuator(&myaccel);']"
      ]
     },
     "execution_count": 29,
     "metadata": {},
     "output_type": "execute_result"
    }
   ],
   "source": [
    "mysys.get_arduino_init_code()"
   ]
  },
  {
   "cell_type": "markdown",
   "metadata": {},
   "source": [
    "## Note to self:\n",
    "\n",
    "Right now, a plant block in the Arduino library does not have an input pointer\n",
    "- the input is passed in explicitly\n",
    "- this seems fairly inconsistent"
   ]
  },
  {
   "cell_type": "code",
   "execution_count": 30,
   "metadata": {},
   "outputs": [],
   "source": [
    "template_fn = \"arduino_template3_accel.ino\""
   ]
  },
  {
   "cell_type": "code",
   "execution_count": 31,
   "metadata": {},
   "outputs": [],
   "source": [
    "mysys.generate_arduino_code(\"autogen3\", template_fn)"
   ]
  },
  {
   "cell_type": "code",
   "execution_count": 32,
   "metadata": {},
   "outputs": [
    {
     "data": {
      "text/plain": [
       "['// I2C device class (I2Cdev) demonstration Arduino sketch for MPU6050 class',\n",
       " '// 10/7/2011 by Jeff Rowberg <jeff@rowberg.net>',\n",
       " '// Updates should (hopefully) always be available at https://github.com/jrowberg/i2cdevlib',\n",
       " '//',\n",
       " '// Changelog:',\n",
       " '//      2013-05-08 - added multiple output formats',\n",
       " '//                 - added seamless Fastwire support',\n",
       " '//      2011-10-07 - initial release',\n",
       " '',\n",
       " '/* ============================================',\n",
       " 'I2Cdev device library code is placed under the MIT license',\n",
       " 'Copyright (c) 2011 Jeff Rowberg',\n",
       " '',\n",
       " 'Permission is hereby granted, free of charge, to any person obtaining a copy',\n",
       " 'of this software and associated documentation files (the \"Software\"), to deal',\n",
       " 'in the Software without restriction, including without limitation the rights',\n",
       " 'to use, copy, modify, merge, publish, distribute, sublicense, and/or sell',\n",
       " 'copies of the Software, and to permit persons to whom the Software is',\n",
       " 'furnished to do so, subject to the following conditions:',\n",
       " '',\n",
       " 'The above copyright notice and this permission notice shall be included in',\n",
       " 'all copies or substantial portions of the Software.',\n",
       " '',\n",
       " 'THE SOFTWARE IS PROVIDED \"AS IS\", WITHOUT WARRANTY OF ANY KIND, EXPRESS OR',\n",
       " 'IMPLIED, INCLUDING BUT NOT LIMITED TO THE WARRANTIES OF MERCHANTABILITY,',\n",
       " 'FITNESS FOR A PARTICULAR PURPOSE AND NONINFRINGEMENT. IN NO EVENT SHALL THE',\n",
       " 'AUTHORS OR COPYRIGHT HOLDERS BE LIABLE FOR ANY CLAIM, DAMAGES OR OTHER',\n",
       " 'LIABILITY, WHETHER IN AN ACTION OF CONTRACT, TORT OR OTHERWISE, ARISING FROM,',\n",
       " 'OUT OF OR IN CONNECTION WITH THE SOFTWARE OR THE USE OR OTHER DEALINGS IN',\n",
       " 'THE SOFTWARE.',\n",
       " '===============================================',\n",
       " '*/',\n",
       " '',\n",
       " '// I2Cdev and MPU6050 must be installed as libraries, or else the .cpp/.h files',\n",
       " '// for both classes must be in the include path of your project',\n",
       " '#include \"I2Cdev.h\"',\n",
       " '#include \"MPU6050.h\"',\n",
       " '',\n",
       " '// Arduino Wire library is required if I2Cdev I2CDEV_ARDUINO_WIRE implementation',\n",
       " '// is used in I2Cdev.h',\n",
       " '#if I2CDEV_IMPLEMENTATION == I2CDEV_ARDUINO_WIRE',\n",
       " '    #include \"Wire.h\"',\n",
       " '#endif',\n",
       " '',\n",
       " '// class default I2C address is 0x68',\n",
       " '// specific I2C addresses may be passed as a parameter here',\n",
       " '// AD0 low = 0x68 (default for InvenSense evaluation board)',\n",
       " '// AD0 high = 0x69',\n",
       " 'MPU6050 accelgyro;',\n",
       " '//MPU6050 accelgyro(0x69); // <-- use for AD0 high',\n",
       " '//MPU6050 accelgyro(0x68, &Wire1); // <-- use for AD0 low, but 2nd Wire (TWI/I2C) object',\n",
       " '',\n",
       " '',\n",
       " '//int16_t gx, gy, gz;',\n",
       " '',\n",
       " '#include <kraussserial.h>',\n",
       " '#include <rtblockdiagram.h>',\n",
       " '// both the libraries above need to be installed on student computers',\n",
       " '// - what is the most efficient way to accomplish that?',\n",
       " '//     - install from zip using the Arduino IDE?',\n",
       " '',\n",
       " '#define encoderPinA 2',\n",
       " '#define squarewave_pin 12',\n",
       " '',\n",
       " '// define custom sensor class to work with MPU6050 az:',\n",
       " '// - from my rtblockdiagram library',\n",
       " '/* class sensor{ */',\n",
       " '/*  public: */',\n",
       " '/*   // pure virtual function */',\n",
       " '/*   virtual int get_reading() = 0; */',\n",
       " '/* }; */',\n",
       " '',\n",
       " '',\n",
       " '// this will not be auto-generated',\n",
       " 'class azaccel6050: public sensor{',\n",
       " '  // a valid sensor class must have a get_reading method with no',\n",
       " '  // inputs that returns an int (the sensor reading)',\n",
       " ' public:',\n",
       " '  int16_t ax, ay, az;',\n",
       " '  MPU6050* accelgyro;',\n",
       " '',\n",
       " '  azaccel6050(MPU6050* myaccel){',\n",
       " '    accelgyro = myaccel;',\n",
       " '  }',\n",
       " '',\n",
       " '  int get_reading(){',\n",
       " '    accelgyro->getAcceleration(&ax, &ay, &az);',\n",
       " '    return(az);',\n",
       " '  }',\n",
       " '};',\n",
       " '',\n",
       " '// this might be auto-generated:',\n",
       " '//azaccel6050 myaccel = azaccel6050(&accelgyro);',\n",
       " '',\n",
       " '// this is the code I am seeking to autogenerate:',\n",
       " '/* step_input u = step_input(0.5, 150); */',\n",
       " '/* h_bridge_actuator HB = h_bridge_actuator(6, 4, 9);//in1, in2, pwm_pin */',\n",
       " '/* encoder enc = encoder(11); */',\n",
       " '',\n",
       " '/* void enc_isr_wrapper() { */',\n",
       " '/*   enc.encoderISR(); */',\n",
       " '/* } */',\n",
       " '',\n",
       " '/* plant G = plant(&HB, &enc); */',\n",
       " '/* summing_junction sum1 = summing_junction(&u, &G); */',\n",
       " '/* PD_control_block PD = PD_control_block(3, 0.1, &sum1); */',\n",
       " '/* saturation_block sat_block = saturation_block(&PD); */',\n",
       " '',\n",
       " '//bdsysinitcode',\n",
       " 'step_input u = step_input(0.1, 100);',\n",
       " 'summing_junction sum1 = summing_junction();',\n",
       " 'PD_control_block PD = PD_control_block(3, 0.1);',\n",
       " 'saturation_block sat_block = saturation_block();',\n",
       " 'h_bridge_actuator HB = h_bridge_actuator(6, 4, 9);',\n",
       " 'encoder enc = encoder(11);',\n",
       " '',\n",
       " 'void enc_isr_wrapper() {',\n",
       " '    enc.encoderISR();',\n",
       " '}',\n",
       " '',\n",
       " 'plant G = plant(&HB, &enc);',\n",
       " 'azaccel6050 myaccel = azaccel6050(&accelgyro);',\n",
       " 'plant_no_actuator Ga = plant_no_actuator(&myaccel);',\n",
       " '',\n",
       " '',\n",
       " '//attachInterrupt(0, isr, FALLING);',\n",
       " 'int nISR;',\n",
       " 'int nIn;',\n",
       " 'int ISR_Happened;',\n",
       " 'int mypause = 1;',\n",
       " 'int ISRstate = 0;',\n",
       " 'int motor_speed, raw_motor_speed, vOut,error;',\n",
       " 'bool send_ser;',\n",
       " '',\n",
       " 'unsigned long t0;',\n",
       " 'unsigned long t;',\n",
       " 'unsigned long t1;',\n",
       " 'unsigned long cur_t;',\n",
       " 'float t_ms, t_sec, prev_t, dt;',\n",
       " '',\n",
       " 'void setup(){',\n",
       " '   Serial.begin(115200);',\n",
       " '   //bdsyswelcomecode',\n",
       " '   Serial.println(\"Arduino codegen test 3 - MPU6050 accel z\");',\n",
       " '',\n",
       " '',\n",
       " '   Serial.println(\"using rtblockdiagram library\");',\n",
       " '   mynewline();',\n",
       " '',\n",
       " '   pinMode(squarewave_pin, OUTPUT);',\n",
       " '',\n",
       " '   // should any of this be auto-generated, or just included in the template?',\n",
       " '    #if I2CDEV_IMPLEMENTATION == I2CDEV_ARDUINO_WIRE',\n",
       " '        Wire.begin();',\n",
       " '    #elif I2CDEV_IMPLEMENTATION == I2CDEV_BUILTIN_FASTWIRE',\n",
       " '        Fastwire::setup(400, true);',\n",
       " '    #endif',\n",
       " '',\n",
       " '    // initialize device',\n",
       " '    Serial.println(\"Initializing I2C devices...\");',\n",
       " '    accelgyro.initialize();',\n",
       " '',\n",
       " '    // verify connection',\n",
       " '    Serial.println(\"Testing device connections...\");',\n",
       " '    Serial.println(accelgyro.testConnection() ? \"MPU6050 connection successful\" : \"MPU6050 connection failed\");',\n",
       " '',\n",
       " '',\n",
       " '    accelgyro.setFullScaleAccelRange(MPU6050_ACCEL_FS_8);',\n",
       " '    int read_range = accelgyro.getFullScaleAccelRange();',\n",
       " '    Serial.print(\"accel range: \");',\n",
       " '    Serial.println(read_range);',\n",
       " '',\n",
       " '   Serial.print(\"kp = \");',\n",
       " '   Serial.println(PD.Kp);',\n",
       " '   Serial.print(\"kd = \");',\n",
       " '   Serial.println(PD.Kd);',\n",
       " '',\n",
       " '   //!// encoder pin on interrupt 0 (pin 2)',\n",
       " '',\n",
       " '   // here is the setup code I should autogenerate:',\n",
       " '   //attachInterrupt(0, enc_isr_wrapper, RISING);',\n",
       " '   //HB.setup();',\n",
       " '',\n",
       " '   //bdsyssetupcode',\n",
       " '   sum1.set_inputs(&u, &G);',\n",
       " '   PD.set_input(&sum1);',\n",
       " '   sat_block.set_input(&PD);',\n",
       " '   HB.setup();',\n",
       " '   attachInterrupt(0, enc_isr_wrapper, RISING);',\n",
       " '   G.set_input(&sat_block);',\n",
       " '   Ga.set_input(&G);',\n",
       " '',\n",
       " '',\n",
       " '   //=======================================================',\n",
       " '   // set up the Timer2 interrupt',\n",
       " '   //=======================================================',\n",
       " '   cli();// disable global interrupts temporarily',\n",
       " '   TCCR2A = 0;// set entire TCCR3A register to 0',\n",
       " '   TCCR2B = 0;// same for TCCR3B',\n",
       " '   //TCNT3  = 0;//initialize counter value to 0',\n",
       " '   // set compare match register for 8khz increments',\n",
       " '   OCR2A = 57;// = (16*10^6) / (8000*8) - 1 (must be <255)',\n",
       " '   //OCR2A = 148;// = (16*10^6) / (8000*8) - 1 (must be <255)',\n",
       " '   // turn on CTC mode',\n",
       " '   //TCCR3A |= (1 << WGM31);',\n",
       " '   //TCCR3B = (TCCR3B & 0b11111000) | 0x07;// set prescaler to 1034',\n",
       " '   // taken from here: https://playground.arduino.cc/Main/TimerPWMCheatsheet',\n",
       " '   //        scroll down to \"Pins 11 and 3: controlled by timer 3\"',\n",
       " '   //TCCR3B = (TCCR3B & 0b11111000) | 0x06;',\n",
       " '',\n",
       " '   TCCR2B |= (1 << WGM12);',\n",
       " '',\n",
       " '   // Set CS10 and CS12 bits for 1024 prescaler:',\n",
       " '   TCCR2B |= (1 << CS10);',\n",
       " '   TCCR2B |= (1 << CS12);',\n",
       " '',\n",
       " '   TIMSK2 |= (1 << OCIE2A);',\n",
       " '   sei();// re-enable global interrupts',\n",
       " '   //=======================================================',\n",
       " '   menu();',\n",
       " '}',\n",
       " '',\n",
       " '',\n",
       " 'void menu(){',\n",
       " '  Serial.println(\"enter any character to start a test\");',\n",
       " '  char mychar = get_char();',\n",
       " '  // reset encoders and t0 at the start of a test',\n",
       " '  //enc.encoder_count = 0;',\n",
       " '  //bdsysmenucode',\n",
       " '   enc.encoder_count = 0;',\n",
       " '',\n",
       " '',\n",
       " '  t0 = micros();',\n",
       " '  ISR_Happened = 0;// clear flag and wait for next time step',\n",
       " '  Serial.print(\"t0 =\");',\n",
       " '  Serial.println(t0);',\n",
       " '}',\n",
       " '',\n",
       " '',\n",
       " 'void loop(){',\n",
       " '  if (ISR_Happened == 1){',\n",
       " '    ISR_Happened = 0;',\n",
       " '    cur_t = micros();',\n",
       " '    t = cur_t-t0;',\n",
       " '    if (t < 0){',\n",
       " '      t += 65536;',\n",
       " '    }',\n",
       " '    t_ms = t/1000.0;',\n",
       " '',\n",
       " '    if (t_ms > 3000){',\n",
       " '      G.send_command(0);',\n",
       " '      menu();',\n",
       " '    }',\n",
       " '    t_sec = t_ms/1000.0;',\n",
       " '    dt = t_sec - prev_t;',\n",
       " '',\n",
       " '',\n",
       " '',\n",
       " '    // here is the loop code I want to autogenerate:',\n",
       " '    /* u.find_output(t_sec); */',\n",
       " '    /* error = sum1.find_output(t_sec); */',\n",
       " '    /* raw_motor_speed = PD.get_output(t_sec); */',\n",
       " '    /* motor_speed = sat_block.get_output(t_sec); */',\n",
       " '    /* G.send_command(motor_speed); */',\n",
       " '',\n",
       " '    //bdsysloopcode',\n",
       " '   u.find_output(t_sec);',\n",
       " '   sum1.find_output(t_sec);',\n",
       " '   PD.find_output(t_sec);',\n",
       " '   sat_block.find_output(t_sec);',\n",
       " '   G.send_command();',\n",
       " '   G.find_output(t_sec);',\n",
       " '   Ga.find_output(t_sec);',\n",
       " '',\n",
       " '',\n",
       " '',\n",
       " '    //HB.send_command(motor_speed);',\n",
       " '    // print data',\n",
       " '    Serial.print(t_ms);',\n",
       " '',\n",
       " '    //bdsysprintcode',\n",
       " '   print_comma_then_int(u.read_output());',\n",
       " '   print_comma_then_int(sum1.read_output());',\n",
       " '   print_comma_then_int(PD.read_output());',\n",
       " '   print_comma_then_int(sat_block.read_output());',\n",
       " '   print_comma_then_int(G.read_output());',\n",
       " '   print_comma_then_int(Ga.read_output());',\n",
       " '',\n",
       " '',\n",
       " '    //Serial.print(\",\");',\n",
       " '    //Serial.print(dt,8);',\n",
       " '    //print_comma_then_int(u.get_output(t_sec));',\n",
       " '    //print_comma_then_int(G.get_output(t_sec));',\n",
       " '',\n",
       " '    // how do I decide what to print?',\n",
       " '    // - all blocks or only some?',\n",
       " '    //     - printing all can slow things down',\n",
       " '    //     - printing all might be confusing',\n",
       " '    // - call the get_output method?',\n",
       " '    //     - do I ever need float output?',\n",
       " '',\n",
       " '    /* print_comma_then_int(motor_speed); */',\n",
       " '    /* print_comma_then_int(raw_motor_speed); */',\n",
       " '    /* print_comma_then_int(PD.input_value); */',\n",
       " '    /* print_comma_then_float(PD.din_dt); */',\n",
       " '    /* print_comma_then_int(G.read_output()); */',\n",
       " '',\n",
       " '',\n",
       " '    //Serial.print(\",\");',\n",
       " '    //Serial.print(PD.prev_t,8);',\n",
       " '    //Serial.print(\",\");',\n",
       " '    //Serial.print(PD.dt,8);',\n",
       " '',\n",
       " '    //print_comma_then_int(enc.get_reading());',\n",
       " '    mynewline();',\n",
       " '',\n",
       " '    prev_t = t_sec;',\n",
       " '    //PD.save_values(t_sec);',\n",
       " '',\n",
       " '  }',\n",
       " '}',\n",
       " '',\n",
       " '',\n",
       " 'ISR(TIMER2_COMPA_vect)',\n",
       " '{',\n",
       " '  ISR_Happened = 1;',\n",
       " '  nISR++;',\n",
       " '',\n",
       " '  //G.send_command(motor_speed);',\n",
       " '',\n",
       " '  if (ISRstate == 1){',\n",
       " '    ISRstate = 0;',\n",
       " '    digitalWrite(squarewave_pin, LOW);',\n",
       " '  }',\n",
       " '  else{',\n",
       " '    ISRstate = 1;',\n",
       " '    digitalWrite(squarewave_pin, HIGH);',\n",
       " '  }',\n",
       " '}']"
      ]
     },
     "execution_count": 32,
     "metadata": {},
     "output_type": "execute_result"
    }
   ],
   "source": [
    "mysys.arduino_file.list"
   ]
  },
  {
   "cell_type": "code",
   "execution_count": null,
   "metadata": {},
   "outputs": [],
   "source": []
  },
  {
   "cell_type": "code",
   "execution_count": null,
   "metadata": {},
   "outputs": [],
   "source": []
  }
 ],
 "metadata": {
  "kernelspec": {
   "display_name": "Python 3",
   "language": "python",
   "name": "python3"
  },
  "language_info": {
   "codemirror_mode": {
    "name": "ipython",
    "version": 3
   },
   "file_extension": ".py",
   "mimetype": "text/x-python",
   "name": "python",
   "nbconvert_exporter": "python",
   "pygments_lexer": "ipython3",
   "version": "3.9.10"
  }
 },
 "nbformat": 4,
 "nbformat_minor": 4
}
