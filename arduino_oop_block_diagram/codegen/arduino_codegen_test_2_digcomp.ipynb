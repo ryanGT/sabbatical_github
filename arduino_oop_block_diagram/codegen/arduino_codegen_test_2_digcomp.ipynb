{
 "cells": [
  {
   "cell_type": "code",
   "execution_count": 1,
   "metadata": {},
   "outputs": [],
   "source": [
    "%matplotlib inline\n",
    "import matplotlib.pyplot as plt\n",
    "import numpy as np\n",
    "import control\n",
    "from numpy import sin, cos, tan, pi\n",
    "from control import TransferFunction as TF"
   ]
  },
  {
   "cell_type": "code",
   "execution_count": 2,
   "metadata": {},
   "outputs": [],
   "source": [
    "import txt_mixin"
   ]
  },
  {
   "cell_type": "code",
   "execution_count": 3,
   "metadata": {},
   "outputs": [],
   "source": [
    "plt.rcParams['font.size'] = 14"
   ]
  },
  {
   "cell_type": "code",
   "execution_count": 4,
   "metadata": {},
   "outputs": [],
   "source": [
    "import py_block_diagram"
   ]
  },
  {
   "cell_type": "code",
   "execution_count": 5,
   "metadata": {},
   "outputs": [],
   "source": [
    "import importlib"
   ]
  },
  {
   "cell_type": "code",
   "execution_count": 6,
   "metadata": {},
   "outputs": [
    {
     "data": {
      "text/plain": [
       "<module 'py_block_diagram' from '/home/ryanwkrauss/git/py_block_diagram/py_block_diagram/__init__.py'>"
      ]
     },
     "execution_count": 6,
     "metadata": {},
     "output_type": "execute_result"
    }
   ],
   "source": [
    "importlib.reload(py_block_diagram)"
   ]
  },
  {
   "cell_type": "code",
   "execution_count": 7,
   "metadata": {},
   "outputs": [],
   "source": [
    "import py_block_diagram as pybd"
   ]
  },
  {
   "cell_type": "markdown",
   "metadata": {},
   "source": [
    "## Test Case 1: Simple Feedback Loop\n",
    "\n",
    "- the feedback loop is called out explicitly\n",
    "- drawing code / system generation copied from `sabbatical_github_work/py_block_diagram_drawing_tests/drawing_test_1.ipynb`"
   ]
  },
  {
   "cell_type": "code",
   "execution_count": 8,
   "metadata": {},
   "outputs": [],
   "source": [
    "U = pybd.step_input(\"$U(s)$\")"
   ]
  },
  {
   "cell_type": "code",
   "execution_count": 9,
   "metadata": {},
   "outputs": [],
   "source": [
    "sum1 = pybd.summing_junction(U,radius=0.35)"
   ]
  },
  {
   "cell_type": "code",
   "execution_count": 10,
   "metadata": {},
   "outputs": [],
   "source": [
    "U.place_absolute(0,0)"
   ]
  },
  {
   "cell_type": "code",
   "execution_count": 11,
   "metadata": {},
   "outputs": [],
   "source": [
    "sum1.place_relative(U,\"right\")"
   ]
  },
  {
   "cell_type": "code",
   "execution_count": 12,
   "metadata": {},
   "outputs": [
    {
     "data": {
      "text/latex": [
       "$$\\frac{0.1 s + 30}{1}$$"
      ],
      "text/plain": [
       "TransferFunction(array([ 0.1, 30. ]), array([1]))"
      ]
     },
     "execution_count": 12,
     "metadata": {},
     "output_type": "execute_result"
    }
   ],
   "source": [
    "part1 = TF([0.1,30],1)\n",
    "part1"
   ]
  },
  {
   "cell_type": "code",
   "execution_count": 13,
   "metadata": {},
   "outputs": [],
   "source": [
    "p = 900\n",
    "part2 = TF(p,[1,p])"
   ]
  },
  {
   "cell_type": "code",
   "execution_count": 14,
   "metadata": {},
   "outputs": [
    {
     "data": {
      "text/latex": [
       "$$\\frac{90 s + 2.7 \\times 10^{4}}{s + 900}$$"
      ],
      "text/plain": [
       "TransferFunction(array([   90., 27000.]), array([  1, 900]))"
      ]
     },
     "execution_count": 14,
     "metadata": {},
     "output_type": "execute_result"
    }
   ],
   "source": [
    "Ds = part1*part2\n",
    "Ds"
   ]
  },
  {
   "cell_type": "code",
   "execution_count": 15,
   "metadata": {},
   "outputs": [],
   "source": [
    "D = pybd.digcomp_block(Ds, 0.002, sum1)"
   ]
  },
  {
   "cell_type": "code",
   "execution_count": 16,
   "metadata": {},
   "outputs": [],
   "source": [
    "D.place_relative(sum1, \"right\",3.5)"
   ]
  },
  {
   "cell_type": "code",
   "execution_count": 17,
   "metadata": {},
   "outputs": [
    {
     "data": {
      "text/plain": [
       "<py_block_diagram.summing_junction at 0x7e84436e7438>"
      ]
     },
     "execution_count": 17,
     "metadata": {},
     "output_type": "execute_result"
    }
   ],
   "source": [
    "D.input"
   ]
  },
  {
   "cell_type": "code",
   "execution_count": 18,
   "metadata": {},
   "outputs": [],
   "source": [
    "sat = pybd.saturation_block(\"sat\",D)"
   ]
  },
  {
   "cell_type": "code",
   "execution_count": 19,
   "metadata": {},
   "outputs": [],
   "source": [
    "sat.place_relative(D, \"right\",5)"
   ]
  },
  {
   "cell_type": "code",
   "execution_count": 20,
   "metadata": {},
   "outputs": [],
   "source": [
    "encoder = pybd.encoder(11)"
   ]
  },
  {
   "cell_type": "code",
   "execution_count": 21,
   "metadata": {},
   "outputs": [],
   "source": [
    "HB = pybd.h_bridge(6,4,9)"
   ]
  },
  {
   "cell_type": "code",
   "execution_count": 22,
   "metadata": {},
   "outputs": [],
   "source": [
    "G = pybd.plant(encoder,HB,\"$G(s)$\",sat)"
   ]
  },
  {
   "cell_type": "code",
   "execution_count": 23,
   "metadata": {},
   "outputs": [],
   "source": [
    "G.place_relative(sat,\"right\",5)"
   ]
  },
  {
   "cell_type": "code",
   "execution_count": 24,
   "metadata": {},
   "outputs": [],
   "source": [
    "Y = pybd.output_block(\"$Y(s)$\",G)\n",
    "Y.place_relative(G, \"right\",6)"
   ]
  },
  {
   "cell_type": "code",
   "execution_count": 25,
   "metadata": {},
   "outputs": [],
   "source": [
    "sum1.input2 = G"
   ]
  },
  {
   "cell_type": "code",
   "execution_count": 26,
   "metadata": {},
   "outputs": [
    {
     "data": {
      "image/png": "[encoded data removed]",
      "text/plain": [
       "<Figure size 864x432 with 1 Axes>"
      ]
     },
     "metadata": {
      "needs_background": "light"
     },
     "output_type": "display_data"
    }
   ],
   "source": [
    "fig = plt.figure(figsize=(12,6))\n",
    "ax = fig.add_subplot(111)\n",
    "mysys = pybd.block_diagram([U,sum1,D,sat,G,Y],ax)\n",
    "mysys.draw()\n",
    "plt.xlim([-1,25])\n",
    "plt.ylim([-5,5])\n",
    "mysys.axis_off()"
   ]
  },
  {
   "cell_type": "markdown",
   "metadata": {},
   "source": [
    "## Codegen Test on Parital System\n",
    "\n"
   ]
  },
  {
   "cell_type": "code",
   "execution_count": 27,
   "metadata": {},
   "outputs": [],
   "source": [
    "test_sys = pybd.block_diagram([U,sum1,D,sat,G])"
   ]
  },
  {
   "cell_type": "code",
   "execution_count": 28,
   "metadata": {},
   "outputs": [
    {
     "data": {
      "text/plain": [
       "['step_input u = step_input(0.1, 100);',\n",
       " 'summing_junction sum1 = summing_junction();',\n",
       " 'float b_vect[2] = {61.57894737, -33.15789474};',\n",
       " 'float a_vect[2] = {1, -0.05263157895};',\n",
       " 'digcomp_block Dz = digcomp_block(b_vect, a_vect, 2, 2);',\n",
       " 'saturation_block sat_block = saturation_block();',\n",
       " 'h_bridge_actuator HB = h_bridge_actuator(6, 4, 9);',\n",
       " 'encoder enc = encoder(11);',\n",
       " '',\n",
       " 'void enc_isr_wrapper() {',\n",
       " '    enc.encoderISR();',\n",
       " '}',\n",
       " '',\n",
       " 'plant G = plant(&HB, &enc);']"
      ]
     },
     "execution_count": 28,
     "metadata": {},
     "output_type": "execute_result"
    }
   ],
   "source": [
    "test_sys.get_arduino_init_code()"
   ]
  },
  {
   "cell_type": "markdown",
   "metadata": {},
   "source": [
    "## Note to self:\n",
    "\n",
    "Right now, a plant block in the Arduino library does not have an input pointer\n",
    "- the input is passed in explicitly\n",
    "- this seems fairly inconsistent"
   ]
  },
  {
   "cell_type": "code",
   "execution_count": 29,
   "metadata": {},
   "outputs": [],
   "source": [
    "template_fn = \"arduino_template1.ino\""
   ]
  },
  {
   "cell_type": "code",
   "execution_count": 30,
   "metadata": {},
   "outputs": [],
   "source": [
    "test_sys.generate_arduino_code(\"autogen2_digcomp\", template_fn)"
   ]
  },
  {
   "cell_type": "code",
   "execution_count": 31,
   "metadata": {},
   "outputs": [
    {
     "data": {
      "text/plain": [
       "['#include <kraussserial.h>',\n",
       " '#include <rtblockdiagram.h>',\n",
       " '// both the libraries above need to be installed on student computers',\n",
       " '// - what is the most efficient way to accomplish that?',\n",
       " '//     - install from zip using the Arduino IDE?',\n",
       " '',\n",
       " '#define encoderPinA 2',\n",
       " '#define squarewave_pin 12',\n",
       " 'byte inByte;',\n",
       " '',\n",
       " '// this is the code I am seeking to autogenerate:',\n",
       " '/* step_input u = step_input(0.5, 150); */',\n",
       " '/* h_bridge_actuator HB = h_bridge_actuator(6, 4, 9);//in1, in2, pwm_pin */',\n",
       " '/* encoder enc = encoder(11); */',\n",
       " '',\n",
       " '/* void enc_isr_wrapper() { */',\n",
       " '/*   enc.encoderISR(); */',\n",
       " '/* } */',\n",
       " '',\n",
       " '/* plant G = plant(&HB, &enc); */',\n",
       " '/* summing_junction sum1 = summing_junction(&u, &G); */',\n",
       " '/* PD_control_block PD = PD_control_block(3, 0.1, &sum1); */',\n",
       " '/* saturation_block sat_block = saturation_block(&PD); */',\n",
       " '',\n",
       " '//bdsysinitcode',\n",
       " 'step_input u = step_input(0.1, 100);',\n",
       " 'summing_junction sum1 = summing_junction();',\n",
       " 'float b_vect[2] = {61.57894737, -33.15789474};',\n",
       " 'float a_vect[2] = {1, -0.05263157895};',\n",
       " 'digcomp_block Dz = digcomp_block(b_vect, a_vect, 2, 2);',\n",
       " 'saturation_block sat_block = saturation_block();',\n",
       " 'h_bridge_actuator HB = h_bridge_actuator(6, 4, 9);',\n",
       " 'encoder enc = encoder(11);',\n",
       " '',\n",
       " 'void enc_isr_wrapper() {',\n",
       " '    enc.encoderISR();',\n",
       " '}',\n",
       " '',\n",
       " 'plant G = plant(&HB, &enc);',\n",
       " '',\n",
       " '',\n",
       " '//attachInterrupt(0, isr, FALLING);',\n",
       " 'int nISR;',\n",
       " 'int nIn;',\n",
       " 'int ISR_Happened;',\n",
       " 'int mypause = 1;',\n",
       " 'int ISRstate = 0;',\n",
       " 'int motor_speed, raw_motor_speed, vOut,error;',\n",
       " 'bool send_ser;',\n",
       " '',\n",
       " 'unsigned long t0;',\n",
       " 'unsigned long t;',\n",
       " 'unsigned long t1;',\n",
       " 'unsigned long cur_t;',\n",
       " 'float t_ms, t_sec, prev_t, dt;',\n",
       " '',\n",
       " 'void setup(){',\n",
       " '   Serial.begin(115200);',\n",
       " '   Serial.println(\"auto-generated PD code v.1.0.0\");',\n",
       " '   Serial.println(\"using rtblockdiagram library\");',\n",
       " '   pinMode(squarewave_pin, OUTPUT);',\n",
       " '',\n",
       " '   Serial.print(\"kp = \");',\n",
       " '   Serial.println(PD.Kp);',\n",
       " '   Serial.print(\"kd = \");',\n",
       " '   Serial.println(PD.Kd);',\n",
       " '',\n",
       " '   //!// encoder pin on interrupt 0 (pin 2)',\n",
       " '',\n",
       " '   // here is the setup code I should autogenerate:',\n",
       " '   //attachInterrupt(0, enc_isr_wrapper, RISING);',\n",
       " '   //HB.setup();',\n",
       " '',\n",
       " '   //bdsyssetupcode',\n",
       " '   sum1.set_inputs(&u, &G);',\n",
       " '   Dz.set_input(&sum1);',\n",
       " '   sat_block.set_input(&Dz);',\n",
       " '   HB.setup();',\n",
       " '   attachInterrupt(0, enc_isr_wrapper, RISING);',\n",
       " '   G.set_input(&sat_block);',\n",
       " '',\n",
       " '',\n",
       " '   //=======================================================',\n",
       " '   // set up the Timer2 interrupt',\n",
       " '   //=======================================================',\n",
       " '   cli();// disable global interrupts temporarily',\n",
       " '   TCCR2A = 0;// set entire TCCR3A register to 0',\n",
       " '   TCCR2B = 0;// same for TCCR3B',\n",
       " '   //TCNT3  = 0;//initialize counter value to 0',\n",
       " '   // set compare match register for 8khz increments',\n",
       " '   OCR2A = 57;// = (16*10^6) / (8000*8) - 1 (must be <255)',\n",
       " '   //OCR2A = 148;// = (16*10^6) / (8000*8) - 1 (must be <255)',\n",
       " '   // turn on CTC mode',\n",
       " '   //TCCR3A |= (1 << WGM31);',\n",
       " '   //TCCR3B = (TCCR3B & 0b11111000) | 0x07;// set prescaler to 1034',\n",
       " '   // taken from here: https://playground.arduino.cc/Main/TimerPWMCheatsheet',\n",
       " '   //        scroll down to \"Pins 11 and 3: controlled by timer 3\"',\n",
       " '   //TCCR3B = (TCCR3B & 0b11111000) | 0x06;',\n",
       " '',\n",
       " '   TCCR2B |= (1 << WGM12);',\n",
       " '',\n",
       " '   // Set CS10 and CS12 bits for 1024 prescaler:',\n",
       " '   TCCR2B |= (1 << CS10);',\n",
       " '   TCCR2B |= (1 << CS12);',\n",
       " '',\n",
       " '   TIMSK2 |= (1 << OCIE2A);',\n",
       " '   sei();// re-enable global interrupts',\n",
       " '   //=======================================================',\n",
       " '   menu();',\n",
       " '}',\n",
       " '',\n",
       " '',\n",
       " 'void menu(){',\n",
       " '  Serial.println(\"enter any character to start a test\");',\n",
       " '  char mychar = get_char();',\n",
       " '  // reset encoders and t0 at the start of a test',\n",
       " '  //enc.encoder_count = 0;',\n",
       " '  //bdsysmenucode',\n",
       " '   enc.encoder_count = 0;',\n",
       " '',\n",
       " '  t0 = micros();',\n",
       " '  ISR_Happened = 0;// clear flag and wait for next time step',\n",
       " '  Serial.print(\"t0 =\");',\n",
       " '  Serial.println(t0);',\n",
       " '}',\n",
       " '',\n",
       " '',\n",
       " 'void loop(){',\n",
       " '  if (ISR_Happened == 1){',\n",
       " '    ISR_Happened = 0;',\n",
       " '    cur_t = micros();',\n",
       " '    t = cur_t-t0;',\n",
       " '    if (t < 0){',\n",
       " '      t += 65536;',\n",
       " '    }',\n",
       " '    t_ms = t/1000.0;',\n",
       " '',\n",
       " '    if (t_ms > 3000){',\n",
       " '      G.send_command(0);',\n",
       " '      menu();',\n",
       " '    }',\n",
       " '    t_sec = t_ms/1000.0;',\n",
       " '    dt = t_sec - prev_t;',\n",
       " '',\n",
       " '',\n",
       " '',\n",
       " '    // here is the loop code I want to autogenerate:',\n",
       " '    /* u.find_output(t_sec); */',\n",
       " '    /* error = sum1.find_output(t_sec); */',\n",
       " '    /* raw_motor_speed = PD.get_output(t_sec); */',\n",
       " '    /* motor_speed = sat_block.get_output(t_sec); */',\n",
       " '    /* G.send_command(motor_speed); */',\n",
       " '',\n",
       " '    //bdsysloopcode',\n",
       " '   u.find_output(t_sec);',\n",
       " '   sum1.find_output(t_sec);',\n",
       " '   Dz.find_output(t_sec);',\n",
       " '   sat_block.find_output(t_sec);',\n",
       " '   G.send_command();',\n",
       " '   G.find_output(t_sec);',\n",
       " '',\n",
       " '',\n",
       " '',\n",
       " '    //HB.send_command(motor_speed);',\n",
       " '    // print data',\n",
       " '    Serial.print(t_ms);',\n",
       " '',\n",
       " '    //bdsysprintcode',\n",
       " '   print_comma_then_int(u.read_output());',\n",
       " '   print_comma_then_int(sum1.read_output());',\n",
       " '   print_comma_then_int(Dz.read_output());',\n",
       " '   print_comma_then_int(sat_block.read_output());',\n",
       " '   print_comma_then_int(G.read_output());',\n",
       " '',\n",
       " '',\n",
       " '    //Serial.print(\",\");',\n",
       " '    //Serial.print(dt,8);',\n",
       " '    //print_comma_then_int(u.get_output(t_sec));',\n",
       " '    //print_comma_then_int(G.get_output(t_sec));',\n",
       " '',\n",
       " '    // how do I decide what to print?',\n",
       " '    // - all blocks or only some?',\n",
       " '    //     - printing all can slow things down',\n",
       " '    //     - printing all might be confusing',\n",
       " '    // - call the get_output method?',\n",
       " '    //     - do I ever need float output?',\n",
       " '',\n",
       " '    /* print_comma_then_int(motor_speed); */',\n",
       " '    /* print_comma_then_int(raw_motor_speed); */',\n",
       " '    /* print_comma_then_int(PD.input_value); */',\n",
       " '    /* print_comma_then_float(PD.din_dt); */',\n",
       " '    /* print_comma_then_int(G.read_output()); */',\n",
       " '',\n",
       " '',\n",
       " '    //Serial.print(\",\");',\n",
       " '    //Serial.print(PD.prev_t,8);',\n",
       " '    //Serial.print(\",\");',\n",
       " '    //Serial.print(PD.dt,8);',\n",
       " '',\n",
       " '    //print_comma_then_int(enc.get_reading());',\n",
       " '    mynewline();',\n",
       " '',\n",
       " '    prev_t = t_sec;',\n",
       " '    //PD.save_values(t_sec);',\n",
       " '',\n",
       " '  }',\n",
       " '}',\n",
       " '',\n",
       " '',\n",
       " 'ISR(TIMER2_COMPA_vect)',\n",
       " '{',\n",
       " '  ISR_Happened = 1;',\n",
       " '  nISR++;',\n",
       " '',\n",
       " '  //G.send_command(motor_speed);',\n",
       " '',\n",
       " '  if (ISRstate == 1){',\n",
       " '    ISRstate = 0;',\n",
       " '    digitalWrite(squarewave_pin, LOW);',\n",
       " '  }',\n",
       " '  else{',\n",
       " '    ISRstate = 1;',\n",
       " '    digitalWrite(squarewave_pin, HIGH);',\n",
       " '  }',\n",
       " '}']"
      ]
     },
     "execution_count": 31,
     "metadata": {},
     "output_type": "execute_result"
    }
   ],
   "source": [
    "test_sys.arduino_file.list"
   ]
  },
  {
   "cell_type": "code",
   "execution_count": 32,
   "metadata": {},
   "outputs": [
    {
     "data": {
      "text/plain": [
       "24"
      ]
     },
     "execution_count": 32,
     "metadata": {},
     "output_type": "execute_result"
    }
   ],
   "source": [
    "test_sys.arduino_file.list.find(\"bdsysinitcode\")"
   ]
  },
  {
   "cell_type": "code",
   "execution_count": 33,
   "metadata": {},
   "outputs": [],
   "source": [
    "import os"
   ]
  },
  {
   "cell_type": "code",
   "execution_count": 34,
   "metadata": {},
   "outputs": [
    {
     "data": {
      "text/plain": [
       "'/home/ryanwkrauss/sabbatical_github_work/arduino_oop_block_diagram/codegen'"
      ]
     },
     "execution_count": 34,
     "metadata": {},
     "output_type": "execute_result"
    }
   ],
   "source": [
    "os.getcwd()"
   ]
  },
  {
   "cell_type": "code",
   "execution_count": 35,
   "metadata": {},
   "outputs": [
    {
     "data": {
      "text/plain": [
       "819"
      ]
     },
     "execution_count": 35,
     "metadata": {},
     "output_type": "execute_result"
    }
   ],
   "source": [
    "2**15-31949"
   ]
  },
  {
   "cell_type": "code",
   "execution_count": 36,
   "metadata": {},
   "outputs": [
    {
     "data": {
      "text/plain": [
       "38461.53846153846"
      ]
     },
     "execution_count": 36,
     "metadata": {},
     "output_type": "execute_result"
    }
   ],
   "source": [
    "100/0.0026"
   ]
  },
  {
   "cell_type": "code",
   "execution_count": null,
   "metadata": {},
   "outputs": [],
   "source": []
  }
 ],
 "metadata": {
  "kernelspec": {
   "display_name": "Python 3",
   "language": "python",
   "name": "python3"
  },
  "language_info": {
   "codemirror_mode": {
    "name": "ipython",
    "version": 3
   },
   "file_extension": ".py",
   "mimetype": "text/x-python",
   "name": "python",
   "nbconvert_exporter": "python",
   "pygments_lexer": "ipython3",
   "version": "3.7.3"
  }
 },
 "nbformat": 4,
 "nbformat_minor": 4
}
