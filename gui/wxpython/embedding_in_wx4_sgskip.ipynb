{
  "cells": [
    {
      "cell_type": "code",
      "execution_count": null,
      "metadata": {
        "collapsed": false
      },
      "outputs": [],
      "source": [
        "%matplotlib inline"
      ]
    },
    {
      "cell_type": "markdown",
      "metadata": {},
      "source": [
        "\n==================\nEmbedding in wx #4\n==================\n\nAn example of how to use wx or wxagg in an application with a custom toolbar.\n"
      ]
    },
    {
      "cell_type": "code",
      "execution_count": null,
      "metadata": {
        "collapsed": false
      },
      "outputs": [],
      "source": [
        "from matplotlib.backends.backend_wxagg import FigureCanvasWxAgg as FigureCanvas\nfrom matplotlib.backends.backend_wxagg import NavigationToolbar2WxAgg as NavigationToolbar\nfrom matplotlib.backends.backend_wx import _load_bitmap\nfrom matplotlib.figure import Figure\n\nimport numpy as np\n\nimport wx\n\n\nclass MyNavigationToolbar(NavigationToolbar):\n    \"\"\"Extend the default wx toolbar with your own event handlers.\"\"\"\n\n    def __init__(self, canvas, cankill):\n        NavigationToolbar.__init__(self, canvas)\n\n        # for simplicity I'm going to reuse a bitmap from wx, you'll\n        # probably want to add your own.\n        tool = self.AddTool(wx.ID_ANY, 'Click me', _load_bitmap('back.png'),\n                            'Activate custom contol')\n        self.Bind(wx.EVT_TOOL, self._on_custom, id=tool.GetId())\n\n    def _on_custom(self, evt):\n        # add some text to the axes in a random location in axes (0,1)\n        # coords) with a random color\n\n        # get the axes\n        ax = self.canvas.figure.axes[0]\n\n        # generate a random location can color\n        x, y = np.random.rand(2)\n        rgb = np.random.rand(3)\n\n        # add the text and draw\n        ax.text(x, y, 'You clicked me',\n                transform=ax.transAxes,\n                color=rgb)\n        self.canvas.draw()\n        evt.Skip()\n\n\nclass CanvasFrame(wx.Frame):\n    def __init__(self):\n        wx.Frame.__init__(self, None, -1,\n                          'CanvasFrame', size=(550, 350))\n\n        self.figure = Figure(figsize=(5, 4), dpi=100)\n        self.axes = self.figure.add_subplot(111)\n        t = np.arange(0.0, 3.0, 0.01)\n        s = np.sin(2 * np.pi * t)\n\n        self.axes.plot(t, s)\n\n        self.canvas = FigureCanvas(self, -1, self.figure)\n\n        self.sizer = wx.BoxSizer(wx.VERTICAL)\n        self.sizer.Add(self.canvas, 1, wx.TOP | wx.LEFT | wx.EXPAND)\n\n        self.toolbar = MyNavigationToolbar(self.canvas, True)\n        self.toolbar.Realize()\n        # By adding toolbar in sizer, we are able to put it at the bottom\n        # of the frame - so appearance is closer to GTK version.\n        self.sizer.Add(self.toolbar, 0, wx.LEFT | wx.EXPAND)\n\n        # update the axes menu on the toolbar\n        self.toolbar.update()\n        self.SetSizer(self.sizer)\n        self.Fit()\n\n\nclass App(wx.App):\n    def OnInit(self):\n        'Create the main window and insert the custom frame'\n        frame = CanvasFrame()\n        frame.Show(True)\n\n        return True\n\napp = App(0)\napp.MainLoop()"
      ]
    }
  ],
  "metadata": {
    "kernelspec": {
      "display_name": "Python 3",
      "language": "python",
      "name": "python3"
    },
    "language_info": {
      "codemirror_mode": {
        "name": "ipython",
        "version": 3
      },
      "file_extension": ".py",
      "mimetype": "text/x-python",
      "name": "python",
      "nbconvert_exporter": "python",
      "pygments_lexer": "ipython3",
      "version": "3.7.3"
    }
  },
  "nbformat": 4,
  "nbformat_minor": 0
}