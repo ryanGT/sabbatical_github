{
 "cells": [
  {
   "cell_type": "code",
   "execution_count": 41,
   "metadata": {},
   "outputs": [],
   "source": [
    "import txt_mixin"
   ]
  },
  {
   "cell_type": "code",
   "execution_count": 77,
   "metadata": {},
   "outputs": [
    {
     "name": "stdout",
     "output_type": "stream",
     "text": [
      "model_1_simple.csv   model_3_simple.csv   model_5A_simple.csv\r\n",
      "model_2_simple.csv   model_4_simple.csv   model_5_simple.csv\r\n"
     ]
    }
   ],
   "source": [
    "ls *.csv"
   ]
  },
  {
   "cell_type": "code",
   "execution_count": 78,
   "metadata": {},
   "outputs": [],
   "source": [
    "import glob"
   ]
  },
  {
   "cell_type": "code",
   "execution_count": 79,
   "metadata": {},
   "outputs": [
    {
     "data": {
      "text/plain": [
       "['model_5A_simple.csv',\n",
       " 'model_3_simple.csv',\n",
       " 'model_1_simple.csv',\n",
       " 'model_4_simple.csv',\n",
       " 'model_2_simple.csv',\n",
       " 'model_5_simple.csv']"
      ]
     },
     "execution_count": 79,
     "metadata": {},
     "output_type": "execute_result"
    }
   ],
   "source": [
    "csv_files = glob.glob(\"*.csv\")\n",
    "csv_files"
   ]
  },
  {
   "cell_type": "code",
   "execution_count": 80,
   "metadata": {},
   "outputs": [],
   "source": [
    "fn = 'model_5_simple.csv'"
   ]
  },
  {
   "cell_type": "code",
   "execution_count": 81,
   "metadata": {},
   "outputs": [],
   "source": [
    "import numpy as np"
   ]
  },
  {
   "cell_type": "code",
   "execution_count": 82,
   "metadata": {},
   "outputs": [],
   "source": [
    "import py_block_diagram"
   ]
  },
  {
   "cell_type": "code",
   "execution_count": 83,
   "metadata": {},
   "outputs": [],
   "source": [
    "import importlib"
   ]
  },
  {
   "cell_type": "code",
   "execution_count": 84,
   "metadata": {},
   "outputs": [
    {
     "data": {
      "text/plain": [
       "<module 'py_block_diagram' from '/Users/kraussry/git/py_block_diagram/py_block_diagram/__init__.py'>"
      ]
     },
     "execution_count": 84,
     "metadata": {},
     "output_type": "execute_result"
    }
   ],
   "source": [
    "importlib.reload(py_block_diagram)"
   ]
  },
  {
   "cell_type": "code",
   "execution_count": 85,
   "metadata": {},
   "outputs": [],
   "source": [
    "import py_block_diagram as pybd"
   ]
  },
  {
   "cell_type": "code",
   "execution_count": 86,
   "metadata": {},
   "outputs": [],
   "source": [
    "myloader = py_block_diagram.csv_block_diagram_loader(fn)"
   ]
  },
  {
   "cell_type": "code",
   "execution_count": 87,
   "metadata": {},
   "outputs": [
    {
     "data": {
      "text/plain": [
       "['variable_name', 'label', 'arduino_class', 'width', 'height']"
      ]
     },
     "execution_count": 87,
     "metadata": {},
     "output_type": "execute_result"
    }
   ],
   "source": [
    "myloader.init_params"
   ]
  },
  {
   "cell_type": "code",
   "execution_count": 88,
   "metadata": {},
   "outputs": [
    {
     "name": "stdout",
     "output_type": "stream",
     "text": [
      "kwargs: {'rel_pos': 'right', 'rel_distance': 4, 'xshift': 0, 'yshift': 0}\n",
      "kwargs: {'rel_pos': 'right', 'rel_distance': 4, 'xshift': 0, 'yshift': 0}\n",
      "kwargs: {'rel_pos': 'right', 'rel_distance': 4, 'xshift': 0, 'yshift': 0}\n",
      "kwargs: {'rel_pos': 'right', 'rel_distance': 4, 'xshift': 0, 'yshift': 0}\n"
     ]
    }
   ],
   "source": [
    "myloader.main()"
   ]
  },
  {
   "cell_type": "code",
   "execution_count": 89,
   "metadata": {},
   "outputs": [
    {
     "data": {
      "text/plain": [
       "{'U': <py_block_diagram.step_input at 0x127514fa0>,\n",
       " 'sum_junct': <py_block_diagram.summing_junction at 0x127514fd0>,\n",
       " 'D': <py_block_diagram.PD_controller at 0x1275a08b0>,\n",
       " 'G': <py_block_diagram.plant at 0x1275a0700>,\n",
       " 'Y': <py_block_diagram.output_block at 0x1275a0280>}"
      ]
     },
     "execution_count": 89,
     "metadata": {},
     "output_type": "execute_result"
    }
   ],
   "source": [
    "myloader.block_dict"
   ]
  },
  {
   "cell_type": "code",
   "execution_count": 90,
   "metadata": {},
   "outputs": [],
   "source": [
    "sj = myloader.block_dict['sum_junct']"
   ]
  },
  {
   "cell_type": "code",
   "execution_count": 91,
   "metadata": {},
   "outputs": [
    {
     "data": {
      "text/plain": [
       "'U'"
      ]
     },
     "execution_count": 91,
     "metadata": {},
     "output_type": "execute_result"
    }
   ],
   "source": [
    "sj.input_block1_name"
   ]
  },
  {
   "cell_type": "code",
   "execution_count": 92,
   "metadata": {},
   "outputs": [
    {
     "data": {
      "text/plain": [
       "<py_block_diagram.step_input at 0x127514fa0>"
      ]
     },
     "execution_count": 92,
     "metadata": {},
     "output_type": "execute_result"
    }
   ],
   "source": [
    "sj.input_block1"
   ]
  },
  {
   "cell_type": "code",
   "execution_count": 93,
   "metadata": {},
   "outputs": [
    {
     "data": {
      "text/plain": [
       "<py_block_diagram.plant at 0x1275a0700>"
      ]
     },
     "execution_count": 93,
     "metadata": {},
     "output_type": "execute_result"
    }
   ],
   "source": [
    "sj.input_block2"
   ]
  },
  {
   "cell_type": "code",
   "execution_count": 94,
   "metadata": {},
   "outputs": [
    {
     "data": {
      "text/plain": [
       "'G'"
      ]
     },
     "execution_count": 94,
     "metadata": {},
     "output_type": "execute_result"
    }
   ],
   "source": [
    "sj.input_block2_name"
   ]
  },
  {
   "cell_type": "code",
   "execution_count": 95,
   "metadata": {},
   "outputs": [
    {
     "data": {
      "text/plain": [
       "[{'block_type': 'step_input',\n",
       "  'variable_name': 'U',\n",
       "  'label': '$U(s)$',\n",
       "  'arduino_class': 'step_input',\n",
       "  'input_block1_name': '',\n",
       "  'input_block2_name': '',\n",
       "  'width': 3,\n",
       "  'height': 2,\n",
       "  'placement_type': 'absolute',\n",
       "  'abs_x': 0,\n",
       "  'abs_y': 0,\n",
       "  'rel_block_name': '',\n",
       "  'rel_pos': '',\n",
       "  'rel_distance': '',\n",
       "  'xshift': '',\n",
       "  'yshift': '',\n",
       "  'on_time': 0.1,\n",
       "  'amp': 100},\n",
       " {'block_type': 'summing_junction',\n",
       "  'variable_name': 'sum_junct',\n",
       "  'label': '',\n",
       "  'arduino_class': 'summing_junction',\n",
       "  'input_block1_name': 'U',\n",
       "  'input_block2_name': 'G',\n",
       "  'width': 2,\n",
       "  'height': 2,\n",
       "  'placement_type': 'relative',\n",
       "  'abs_x': '',\n",
       "  'abs_y': '',\n",
       "  'rel_block_name': 'U',\n",
       "  'rel_pos': 'right',\n",
       "  'rel_distance': 4,\n",
       "  'xshift': 0,\n",
       "  'yshift': 0},\n",
       " {'block_type': 'PD_controller',\n",
       "  'variable_name': 'D',\n",
       "  'label': 'PD',\n",
       "  'arduino_class': 'PD_control_block',\n",
       "  'input_block1_name': 'sum_junct',\n",
       "  'input_block2_name': '',\n",
       "  'width': 3,\n",
       "  'height': 2,\n",
       "  'placement_type': 'relative',\n",
       "  'abs_x': '',\n",
       "  'abs_y': '',\n",
       "  'rel_block_name': 'sum_junct',\n",
       "  'rel_pos': 'right',\n",
       "  'rel_distance': 4,\n",
       "  'xshift': 0,\n",
       "  'yshift': 0,\n",
       "  'Kp': 1,\n",
       "  'Kd': 0},\n",
       " {'block_type': 'plant',\n",
       "  'variable_name': 'G',\n",
       "  'label': '$G(s)$',\n",
       "  'arduino_class': 'plant',\n",
       "  'input_block1_name': 'D',\n",
       "  'input_block2_name': '',\n",
       "  'width': 3,\n",
       "  'height': 2,\n",
       "  'placement_type': 'relative',\n",
       "  'abs_x': '',\n",
       "  'abs_y': '',\n",
       "  'rel_block_name': 'D',\n",
       "  'rel_pos': 'right',\n",
       "  'rel_distance': 4,\n",
       "  'xshift': 0,\n",
       "  'yshift': 0,\n",
       "  'actuator_name': 'h_bridge_act',\n",
       "  'sensor_name': 'encoder_sensor'},\n",
       " {'block_type': 'output_block',\n",
       "  'variable_name': 'Y',\n",
       "  'label': '',\n",
       "  'arduino_class': '',\n",
       "  'input_block1_name': 'G',\n",
       "  'input_block2_name': '',\n",
       "  'width': 3,\n",
       "  'height': 2,\n",
       "  'placement_type': 'relative',\n",
       "  'abs_x': '',\n",
       "  'abs_y': '',\n",
       "  'rel_block_name': 'G',\n",
       "  'rel_pos': 'right',\n",
       "  'rel_distance': 4,\n",
       "  'xshift': 0,\n",
       "  'yshift': 0}]"
      ]
     },
     "execution_count": 95,
     "metadata": {},
     "output_type": "execute_result"
    }
   ],
   "source": [
    "myloader.block_dict_list_from_csv"
   ]
  },
  {
   "cell_type": "code",
   "execution_count": 96,
   "metadata": {},
   "outputs": [
    {
     "data": {
      "text/plain": [
       "{'h_bridge_act': <py_block_diagram.h_bridge at 0x1081a9040>}"
      ]
     },
     "execution_count": 96,
     "metadata": {},
     "output_type": "execute_result"
    }
   ],
   "source": [
    "myloader.actuators_dict"
   ]
  },
  {
   "cell_type": "code",
   "execution_count": 97,
   "metadata": {},
   "outputs": [
    {
     "data": {
      "text/plain": [
       "{'encoder_sensor': <py_block_diagram.encoder at 0x1273cbbe0>}"
      ]
     },
     "execution_count": 97,
     "metadata": {},
     "output_type": "execute_result"
    }
   ],
   "source": [
    "myloader.sensors_dict"
   ]
  },
  {
   "cell_type": "code",
   "execution_count": 98,
   "metadata": {},
   "outputs": [],
   "source": [
    "G = myloader.block_dict['G']"
   ]
  },
  {
   "cell_type": "code",
   "execution_count": 99,
   "metadata": {},
   "outputs": [
    {
     "data": {
      "text/plain": [
       "{'label': '$G(s)$',\n",
       " 'variable_name': 'G',\n",
       " 'arduino_class': 'plant',\n",
       " 'fontdict': {'size': 20, 'family': 'serif'},\n",
       " 'width': 3,\n",
       " 'height': 2,\n",
       " 'input_block1': <py_block_diagram.PD_controller at 0x1275a08b0>,\n",
       " 'dt': 0.002,\n",
       " 'input_block1_name': 'D',\n",
       " 'placement_type': 'relative',\n",
       " 'param_list': ['actuator_name', 'sensor_name'],\n",
       " 'default_params': {},\n",
       " 'abs_x': '',\n",
       " 'abs_y': '',\n",
       " 'rel_block_name': 'D',\n",
       " 'rel_pos': 'right',\n",
       " 'rel_distance': 4,\n",
       " 'xshift': 0,\n",
       " 'yshift': 0,\n",
       " 'sensor': <py_block_diagram.encoder at 0x1273cbbe0>,\n",
       " 'actuator': <py_block_diagram.h_bridge at 0x1081a9040>,\n",
       " 'actuator_name': 'h_bridge_act',\n",
       " 'sensor_name': 'encoder_sensor',\n",
       " 'output_block': <py_block_diagram.output_block at 0x1275a0280>,\n",
       " 'x': 12.0,\n",
       " 'y': 0.0,\n",
       " 'right_edge': (13.5, 0.0),\n",
       " 'left_edge': (10.5, 0.0),\n",
       " 'top_edge': (12.0, 1.0),\n",
       " 'bottom_edge': (12.0, -1.0)}"
      ]
     },
     "execution_count": 99,
     "metadata": {},
     "output_type": "execute_result"
    }
   ],
   "source": [
    "G.__dict__"
   ]
  },
  {
   "cell_type": "code",
   "execution_count": 100,
   "metadata": {},
   "outputs": [
    {
     "data": {
      "text/plain": [
       "<py_block_diagram.plant at 0x1275a0700>"
      ]
     },
     "execution_count": 100,
     "metadata": {},
     "output_type": "execute_result"
    }
   ],
   "source": [
    "sj.input_block2"
   ]
  },
  {
   "cell_type": "code",
   "execution_count": 101,
   "metadata": {},
   "outputs": [
    {
     "data": {
      "text/plain": [
       "'relative'"
      ]
     },
     "execution_count": 101,
     "metadata": {},
     "output_type": "execute_result"
    }
   ],
   "source": [
    "sj.placement_type"
   ]
  },
  {
   "cell_type": "code",
   "execution_count": 102,
   "metadata": {},
   "outputs": [
    {
     "data": {
      "text/plain": [
       "'U'"
      ]
     },
     "execution_count": 102,
     "metadata": {},
     "output_type": "execute_result"
    }
   ],
   "source": [
    "sj.rel_block_name"
   ]
  },
  {
   "cell_type": "code",
   "execution_count": 103,
   "metadata": {},
   "outputs": [
    {
     "data": {
      "text/plain": [
       "'right'"
      ]
     },
     "execution_count": 103,
     "metadata": {},
     "output_type": "execute_result"
    }
   ],
   "source": [
    "sj.rel_pos"
   ]
  },
  {
   "cell_type": "code",
   "execution_count": 104,
   "metadata": {},
   "outputs": [
    {
     "data": {
      "text/plain": [
       "4"
      ]
     },
     "execution_count": 104,
     "metadata": {},
     "output_type": "execute_result"
    }
   ],
   "source": [
    "sj.rel_distance"
   ]
  },
  {
   "cell_type": "code",
   "execution_count": 105,
   "metadata": {},
   "outputs": [
    {
     "data": {
      "text/plain": [
       "4.0"
      ]
     },
     "execution_count": 105,
     "metadata": {},
     "output_type": "execute_result"
    }
   ],
   "source": [
    "sj.x"
   ]
  },
  {
   "cell_type": "code",
   "execution_count": 106,
   "metadata": {},
   "outputs": [
    {
     "data": {
      "text/plain": [
       "0.0"
      ]
     },
     "execution_count": 106,
     "metadata": {},
     "output_type": "execute_result"
    }
   ],
   "source": [
    "sj.y"
   ]
  },
  {
   "cell_type": "code",
   "execution_count": 107,
   "metadata": {},
   "outputs": [],
   "source": [
    "Y = myloader.block_dict['Y']"
   ]
  },
  {
   "cell_type": "code",
   "execution_count": 108,
   "metadata": {},
   "outputs": [
    {
     "data": {
      "text/plain": [
       "<py_block_diagram.plant at 0x1275a0700>"
      ]
     },
     "execution_count": 108,
     "metadata": {},
     "output_type": "execute_result"
    }
   ],
   "source": [
    "Y.input_block1"
   ]
  },
  {
   "cell_type": "code",
   "execution_count": 109,
   "metadata": {},
   "outputs": [
    {
     "data": {
      "text/plain": [
       "'G'"
      ]
     },
     "execution_count": 109,
     "metadata": {},
     "output_type": "execute_result"
    }
   ],
   "source": [
    "Y.input_block1_name"
   ]
  },
  {
   "cell_type": "code",
   "execution_count": 110,
   "metadata": {},
   "outputs": [
    {
     "data": {
      "text/plain": [
       "16.0"
      ]
     },
     "execution_count": 110,
     "metadata": {},
     "output_type": "execute_result"
    }
   ],
   "source": [
    "Y.x"
   ]
  },
  {
   "cell_type": "code",
   "execution_count": 111,
   "metadata": {},
   "outputs": [
    {
     "data": {
      "text/plain": [
       "0.0"
      ]
     },
     "execution_count": 111,
     "metadata": {},
     "output_type": "execute_result"
    }
   ],
   "source": [
    "Y.y"
   ]
  },
  {
   "cell_type": "code",
   "execution_count": 112,
   "metadata": {},
   "outputs": [
    {
     "name": "stdout",
     "output_type": "stream",
     "text": [
      "kwargs: {'rel_pos': 'right', 'rel_distance': 4, 'xshift': 0, 'yshift': 0}\n",
      "kwargs: {'rel_pos': 'right', 'rel_distance': 4, 'xshift': 0, 'yshift': 0}\n",
      "kwargs: {'rel_pos': 'right', 'rel_distance': 4, 'xshift': 0, 'yshift': 0}\n",
      "kwargs: {'rel_pos': 'right', 'rel_distance': 4, 'xshift': 0, 'yshift': 0}\n"
     ]
    }
   ],
   "source": [
    "mysys = pybd.load_model_from_csv(fn)"
   ]
  },
  {
   "cell_type": "code",
   "execution_count": 113,
   "metadata": {},
   "outputs": [
    {
     "data": {
      "text/plain": [
       "{'U': <py_block_diagram.step_input at 0x1275a03a0>,\n",
       " 'sum_junct': <py_block_diagram.summing_junction at 0x1275a0a00>,\n",
       " 'D': <py_block_diagram.PD_controller at 0x1275a0970>,\n",
       " 'G': <py_block_diagram.plant at 0x1275a0bb0>,\n",
       " 'Y': <py_block_diagram.output_block at 0x1275a0640>}"
      ]
     },
     "execution_count": 113,
     "metadata": {},
     "output_type": "execute_result"
    }
   ],
   "source": [
    "mysys.block_dict"
   ]
  },
  {
   "cell_type": "code",
   "execution_count": 114,
   "metadata": {},
   "outputs": [
    {
     "data": {
      "text/plain": [
       "{'h_bridge_act': <py_block_diagram.h_bridge at 0x1279cdd30>}"
      ]
     },
     "execution_count": 114,
     "metadata": {},
     "output_type": "execute_result"
    }
   ],
   "source": [
    "mysys.actuators_dict"
   ]
  },
  {
   "cell_type": "code",
   "execution_count": 115,
   "metadata": {},
   "outputs": [
    {
     "data": {
      "text/plain": [
       "{'encoder_sensor': <py_block_diagram.encoder at 0x1279cde50>}"
      ]
     },
     "execution_count": 115,
     "metadata": {},
     "output_type": "execute_result"
    }
   ],
   "source": [
    "mysys.sensors_dict"
   ]
  },
  {
   "cell_type": "code",
   "execution_count": 116,
   "metadata": {},
   "outputs": [],
   "source": [
    "G = mysys.block_dict['G']"
   ]
  },
  {
   "cell_type": "code",
   "execution_count": 117,
   "metadata": {},
   "outputs": [
    {
     "data": {
      "text/plain": [
       "<py_block_diagram.encoder at 0x1279cde50>"
      ]
     },
     "execution_count": 117,
     "metadata": {},
     "output_type": "execute_result"
    }
   ],
   "source": [
    "G.sensor"
   ]
  },
  {
   "cell_type": "code",
   "execution_count": 118,
   "metadata": {},
   "outputs": [
    {
     "data": {
      "text/plain": [
       "<py_block_diagram.h_bridge at 0x1279cdd30>"
      ]
     },
     "execution_count": 118,
     "metadata": {},
     "output_type": "execute_result"
    }
   ],
   "source": [
    "G.actuator"
   ]
  },
  {
   "cell_type": "code",
   "execution_count": 119,
   "metadata": {},
   "outputs": [
    {
     "data": {
      "text/plain": [
       "['h_bridge_act']"
      ]
     },
     "execution_count": 119,
     "metadata": {},
     "output_type": "execute_result"
    }
   ],
   "source": [
    "mysys.actuator_name_list"
   ]
  },
  {
   "cell_type": "code",
   "execution_count": 120,
   "metadata": {},
   "outputs": [
    {
     "data": {
      "text/plain": [
       "['encoder_sensor']"
      ]
     },
     "execution_count": 120,
     "metadata": {},
     "output_type": "execute_result"
    }
   ],
   "source": [
    "mysys.sensor_name_list"
   ]
  },
  {
   "cell_type": "code",
   "execution_count": 124,
   "metadata": {},
   "outputs": [],
   "source": [
    "Y.x = 20"
   ]
  },
  {
   "cell_type": "code",
   "execution_count": 128,
   "metadata": {},
   "outputs": [
    {
     "name": "stdout",
     "output_type": "stream",
     "text": [
      "drawing: U\n",
      "drawing: sum_junct\n",
      "calling draw_feedback_wire\n",
      "drawing: D\n",
      "drawing: G\n",
      "drawing: Y\n"
     ]
    },
    {
     "data": {
      "image/png": "[encoded data removed]",
      "text/plain": [
       "<Figure size 648x648 with 1 Axes>"
      ]
     },
     "metadata": {
      "needs_background": "light"
     },
     "output_type": "display_data"
    }
   ],
   "source": [
    "mysys.draw()"
   ]
  },
  {
   "cell_type": "code",
   "execution_count": 127,
   "metadata": {},
   "outputs": [],
   "source": [
    "mysys.ax = None"
   ]
  },
  {
   "cell_type": "code",
   "execution_count": 27,
   "metadata": {},
   "outputs": [],
   "source": [
    "def mydraw(block_list,xlim=None,ylim=None):\n",
    "    fig = plt.figure(figsize=(12,6))\n",
    "    ax = fig.add_subplot(111)\n",
    "    mysys = pybd.block_diagram(block_list,ax)\n",
    "    mysys.draw()\n",
    "    if xlim is not None:\n",
    "        plt.xlim(xlim)\n",
    "    if ylim is not None:\n",
    "        plt.ylim(ylim)\n",
    "    mysys.axis_off()\n",
    "    return mysys"
   ]
  },
  {
   "cell_type": "code",
   "execution_count": null,
   "metadata": {},
   "outputs": [],
   "source": []
  }
 ],
 "metadata": {
  "kernelspec": {
   "display_name": "Python 3",
   "language": "python",
   "name": "python3"
  },
  "language_info": {
   "codemirror_mode": {
    "name": "ipython",
    "version": 3
   },
   "file_extension": ".py",
   "mimetype": "text/x-python",
   "name": "python",
   "nbconvert_exporter": "python",
   "pygments_lexer": "ipython3",
   "version": "3.9.10"
  }
 },
 "nbformat": 4,
 "nbformat_minor": 4
}
