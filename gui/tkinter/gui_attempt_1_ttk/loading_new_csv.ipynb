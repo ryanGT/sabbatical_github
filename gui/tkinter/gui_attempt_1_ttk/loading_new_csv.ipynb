{
 "cells": [
  {
   "cell_type": "code",
   "execution_count": 1,
   "id": "cleared-intensity",
   "metadata": {},
   "outputs": [],
   "source": [
    "import importlib"
   ]
  },
  {
   "cell_type": "code",
   "execution_count": 2,
   "id": "outdoor-petersburg",
   "metadata": {},
   "outputs": [],
   "source": [
    "import py_block_diagram as pybd"
   ]
  },
  {
   "cell_type": "code",
   "execution_count": 3,
   "id": "aggressive-explanation",
   "metadata": {},
   "outputs": [
    {
     "data": {
      "text/plain": [
       "<module 'py_block_diagram' from '/Users/kraussry/git/py_block_diagram/py_block_diagram/__init__.py'>"
      ]
     },
     "execution_count": 3,
     "metadata": {},
     "output_type": "execute_result"
    }
   ],
   "source": [
    "importlib.reload(pybd)"
   ]
  },
  {
   "cell_type": "code",
   "execution_count": 4,
   "id": "raising-salon",
   "metadata": {},
   "outputs": [
    {
     "data": {
      "text/plain": [
       "{'block_with_nISR_input': py_block_diagram.block_with_nISR_input,\n",
       " 'block_with_one_input_setup_code': py_block_diagram.block_with_one_input_setup_code,\n",
       " 'no_input_block1': py_block_diagram.no_input_block1,\n",
       " 'no_box_block': py_block_diagram.no_box_block,\n",
       " 'block_with_two_inputs': py_block_diagram.block_with_two_inputs,\n",
       " 'logic_block': py_block_diagram.logic_block,\n",
       " 'loop_count_block': py_block_diagram.loop_count_block,\n",
       " 'arduino_plant': py_block_diagram.arduino_plant,\n",
       " 'saturation_block': py_block_diagram.saturation_block,\n",
       " 'TF_block': py_block_diagram.TF_block,\n",
       " 'i2c_read_block': py_block_diagram.i2c_read_block,\n",
       " 'sat2_adjustable_block': py_block_diagram.sat2_adjustable_block,\n",
       " 'digcomp_block': py_block_diagram.digcomp_block,\n",
       " 'P_controller': py_block_diagram.P_controller,\n",
       " 'PD_controller': py_block_diagram.PD_controller,\n",
       " 'plant': py_block_diagram.plant,\n",
       " 'plant_no_actuator': py_block_diagram.plant_no_actuator,\n",
       " 'plant_with_double_actuator': py_block_diagram.plant_with_double_actuator,\n",
       " 'plant_with_double_actuator_two_sensors': py_block_diagram.plant_with_double_actuator_two_sensors,\n",
       " 'spi_send_block': py_block_diagram.spi_send_block,\n",
       " 'int_constant_block': py_block_diagram.int_constant_block,\n",
       " 'source_block': py_block_diagram.source_block,\n",
       " 'step_input': py_block_diagram.step_input,\n",
       " 'pulse_input': py_block_diagram.pulse_input,\n",
       " 'output_block': py_block_diagram.output_block,\n",
       " 'summing_junction': py_block_diagram.summing_junction,\n",
       " 'greater_than_block': py_block_diagram.greater_than_block,\n",
       " 'addition_block': py_block_diagram.addition_block,\n",
       " 'subtraction_block': py_block_diagram.subtraction_block,\n",
       " 'if_block': py_block_diagram.if_block,\n",
       " 'logic_block_no_params': py_block_diagram.logic_block_no_params,\n",
       " 'math_block_no_params': py_block_diagram.math_block_no_params}"
      ]
     },
     "execution_count": 4,
     "metadata": {},
     "output_type": "execute_result"
    }
   ],
   "source": [
    "pybd.block_classes_dict"
   ]
  },
  {
   "cell_type": "code",
   "execution_count": 5,
   "id": "structural-infection",
   "metadata": {},
   "outputs": [],
   "source": [
    "import copy"
   ]
  },
  {
   "cell_type": "code",
   "execution_count": 6,
   "id": "broken-buyer",
   "metadata": {},
   "outputs": [
    {
     "name": "stdout",
     "output_type": "stream",
     "text": [
      "model_1_simple.csv  model_2_simple.csv  model_3_simple.csv\r\n"
     ]
    }
   ],
   "source": [
    "ls *.csv"
   ]
  },
  {
   "cell_type": "code",
   "execution_count": 7,
   "id": "experienced-blackjack",
   "metadata": {},
   "outputs": [],
   "source": [
    "fn = \"model_3_simple.csv\""
   ]
  },
  {
   "cell_type": "code",
   "execution_count": 8,
   "id": "documented-benjamin",
   "metadata": {},
   "outputs": [
    {
     "name": "stdout",
     "output_type": "stream",
     "text": [
      "kwargs: {'rel_pos': 'right', 'rel_distance': 4, 'xshift': 0, 'yshift': 0}\n",
      "kwargs: {'rel_pos': 'right', 'rel_distance': 4, 'xshift': 0, 'yshift': 0}\n"
     ]
    }
   ],
   "source": [
    "myloader = pybd.csv_block_diagram_loader(fn)\n",
    "myloader.main()"
   ]
  },
  {
   "cell_type": "code",
   "execution_count": 9,
   "id": "surprised-certification",
   "metadata": {},
   "outputs": [
    {
     "data": {
      "text/plain": [
       "['h_bridge_act']"
      ]
     },
     "execution_count": 9,
     "metadata": {},
     "output_type": "execute_result"
    }
   ],
   "source": [
    "myloader.actuator_name_list"
   ]
  },
  {
   "cell_type": "code",
   "execution_count": 10,
   "id": "simple-miami",
   "metadata": {},
   "outputs": [
    {
     "data": {
      "text/plain": [
       "['U', 'sum_junct', 'D', 'G']"
      ]
     },
     "execution_count": 10,
     "metadata": {},
     "output_type": "execute_result"
    }
   ],
   "source": [
    "myloader.block_name_list"
   ]
  },
  {
   "cell_type": "code",
   "execution_count": 11,
   "id": "secret-undergraduate",
   "metadata": {},
   "outputs": [],
   "source": [
    "D = myloader.block_dict['D']"
   ]
  },
  {
   "cell_type": "code",
   "execution_count": 12,
   "id": "backed-conducting",
   "metadata": {},
   "outputs": [
    {
     "data": {
      "text/plain": [
       "'relative'"
      ]
     },
     "execution_count": 12,
     "metadata": {},
     "output_type": "execute_result"
    }
   ],
   "source": [
    "D.placement_type"
   ]
  },
  {
   "cell_type": "code",
   "execution_count": 13,
   "id": "composed-commissioner",
   "metadata": {},
   "outputs": [
    {
     "data": {
      "text/plain": [
       "<py_block_diagram.summing_junction at 0x12af9a790>"
      ]
     },
     "execution_count": 13,
     "metadata": {},
     "output_type": "execute_result"
    }
   ],
   "source": [
    "D.input_block1"
   ]
  },
  {
   "cell_type": "code",
   "execution_count": 14,
   "id": "regular-california",
   "metadata": {},
   "outputs": [
    {
     "data": {
      "text/plain": [
       "8.0"
      ]
     },
     "execution_count": 14,
     "metadata": {},
     "output_type": "execute_result"
    }
   ],
   "source": [
    "D.x"
   ]
  },
  {
   "cell_type": "code",
   "execution_count": 15,
   "id": "strong-encyclopedia",
   "metadata": {},
   "outputs": [
    {
     "data": {
      "text/plain": [
       "0.0"
      ]
     },
     "execution_count": 15,
     "metadata": {},
     "output_type": "execute_result"
    }
   ],
   "source": [
    "D.y"
   ]
  },
  {
   "cell_type": "code",
   "execution_count": 16,
   "id": "collect-willow",
   "metadata": {},
   "outputs": [
    {
     "data": {
      "text/plain": [
       "4"
      ]
     },
     "execution_count": 16,
     "metadata": {},
     "output_type": "execute_result"
    }
   ],
   "source": [
    "D.rel_distance"
   ]
  },
  {
   "cell_type": "code",
   "execution_count": 17,
   "id": "interior-ordinance",
   "metadata": {},
   "outputs": [
    {
     "data": {
      "text/plain": [
       "'right'"
      ]
     },
     "execution_count": 17,
     "metadata": {},
     "output_type": "execute_result"
    }
   ],
   "source": [
    "D.rel_pos"
   ]
  },
  {
   "cell_type": "code",
   "execution_count": 18,
   "id": "classical-discrimination",
   "metadata": {},
   "outputs": [
    {
     "data": {
      "text/plain": [
       "'sum_junct'"
      ]
     },
     "execution_count": 18,
     "metadata": {},
     "output_type": "execute_result"
    }
   ],
   "source": [
    "D.rel_block_name"
   ]
  },
  {
   "cell_type": "code",
   "execution_count": 19,
   "id": "amber-prevention",
   "metadata": {},
   "outputs": [],
   "source": [
    "G = myloader.block_dict['G']"
   ]
  },
  {
   "cell_type": "code",
   "execution_count": 20,
   "id": "expensive-dylan",
   "metadata": {},
   "outputs": [
    {
     "data": {
      "text/plain": [
       "True"
      ]
     },
     "execution_count": 20,
     "metadata": {},
     "output_type": "execute_result"
    }
   ],
   "source": [
    "isinstance(G,pybd.plant)"
   ]
  },
  {
   "cell_type": "code",
   "execution_count": 21,
   "id": "diagnostic-faculty",
   "metadata": {},
   "outputs": [
    {
     "data": {
      "text/plain": [
       "False"
      ]
     },
     "execution_count": 21,
     "metadata": {},
     "output_type": "execute_result"
    }
   ],
   "source": [
    "isinstance(D,pybd.plant)"
   ]
  },
  {
   "cell_type": "code",
   "execution_count": 22,
   "id": "historic-belgium",
   "metadata": {},
   "outputs": [
    {
     "data": {
      "text/plain": [
       "py_block_diagram.plant"
      ]
     },
     "execution_count": 22,
     "metadata": {},
     "output_type": "execute_result"
    }
   ],
   "source": [
    "type(G)"
   ]
  },
  {
   "cell_type": "code",
   "execution_count": 23,
   "id": "tutorial-glenn",
   "metadata": {},
   "outputs": [
    {
     "data": {
      "text/plain": [
       "'h_bridge_act'"
      ]
     },
     "execution_count": 23,
     "metadata": {},
     "output_type": "execute_result"
    }
   ],
   "source": [
    "G.actuator_name"
   ]
  },
  {
   "cell_type": "code",
   "execution_count": 24,
   "id": "distant-specification",
   "metadata": {},
   "outputs": [
    {
     "data": {
      "text/plain": [
       "'encoder_sensor'"
      ]
     },
     "execution_count": 24,
     "metadata": {},
     "output_type": "execute_result"
    }
   ],
   "source": [
    "G.sensor_name"
   ]
  },
  {
   "cell_type": "code",
   "execution_count": 25,
   "id": "hawaiian-validity",
   "metadata": {},
   "outputs": [
    {
     "data": {
      "text/plain": [
       "<py_block_diagram.h_bridge at 0x12af74bb0>"
      ]
     },
     "execution_count": 25,
     "metadata": {},
     "output_type": "execute_result"
    }
   ],
   "source": [
    "G.actuator"
   ]
  },
  {
   "cell_type": "code",
   "execution_count": 26,
   "id": "numerical-stroke",
   "metadata": {},
   "outputs": [
    {
     "data": {
      "text/plain": [
       "'h_bridge_act'"
      ]
     },
     "execution_count": 26,
     "metadata": {},
     "output_type": "execute_result"
    }
   ],
   "source": [
    "G.actuator_name"
   ]
  },
  {
   "cell_type": "code",
   "execution_count": 27,
   "id": "voluntary-church",
   "metadata": {},
   "outputs": [
    {
     "data": {
      "text/plain": [
       "<py_block_diagram.encoder at 0x12af74d60>"
      ]
     },
     "execution_count": 27,
     "metadata": {},
     "output_type": "execute_result"
    }
   ],
   "source": [
    "G.sensor"
   ]
  },
  {
   "cell_type": "code",
   "execution_count": 28,
   "id": "excess-anthropology",
   "metadata": {},
   "outputs": [
    {
     "data": {
      "text/plain": [
       "'encoder_sensor'"
      ]
     },
     "execution_count": 28,
     "metadata": {},
     "output_type": "execute_result"
    }
   ],
   "source": [
    "G.sensor_name"
   ]
  },
  {
   "cell_type": "code",
   "execution_count": null,
   "id": "objective-honor",
   "metadata": {},
   "outputs": [],
   "source": []
  }
 ],
 "metadata": {
  "kernelspec": {
   "display_name": "Python 3",
   "language": "python",
   "name": "python3"
  },
  "language_info": {
   "codemirror_mode": {
    "name": "ipython",
    "version": 3
   },
   "file_extension": ".py",
   "mimetype": "text/x-python",
   "name": "python",
   "nbconvert_exporter": "python",
   "pygments_lexer": "ipython3",
   "version": "3.9.10"
  }
 },
 "nbformat": 4,
 "nbformat_minor": 5
}
