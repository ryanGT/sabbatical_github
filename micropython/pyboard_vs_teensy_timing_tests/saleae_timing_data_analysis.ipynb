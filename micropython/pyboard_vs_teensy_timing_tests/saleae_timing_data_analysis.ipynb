{
 "cells": [
  {
   "cell_type": "code",
   "execution_count": 386,
   "id": "compact-jordan",
   "metadata": {},
   "outputs": [],
   "source": [
    "%matplotlib inline\n",
    "import matplotlib.pyplot as plt\n",
    "import numpy as np"
   ]
  },
  {
   "cell_type": "code",
   "execution_count": 387,
   "id": "extraordinary-snake",
   "metadata": {},
   "outputs": [],
   "source": [
    "import os"
   ]
  },
  {
   "cell_type": "code",
   "execution_count": 388,
   "id": "future-leader",
   "metadata": {},
   "outputs": [],
   "source": [
    "plt.rcParams['font.size'] = 14"
   ]
  },
  {
   "cell_type": "code",
   "execution_count": 389,
   "id": "likely-machinery",
   "metadata": {},
   "outputs": [],
   "source": [
    "import glob"
   ]
  },
  {
   "cell_type": "code",
   "execution_count": 390,
   "id": "rural-ladder",
   "metadata": {},
   "outputs": [],
   "source": [
    "folders = glob.glob(\"data/*\")"
   ]
  },
  {
   "cell_type": "code",
   "execution_count": 391,
   "id": "sweet-washington",
   "metadata": {},
   "outputs": [
    {
     "data": {
      "text/plain": [
       "['data/teensy41_test_01',\n",
       " 'data/pyboard_test_02',\n",
       " 'data/pyboard_test_05_with_Arduino_isrPin',\n",
       " 'data/pyboard_test_04_with_Arduino_isrPin',\n",
       " 'data/pyboard_test_03_with_Arduino_isrPin',\n",
       " 'data/teensy41_test_03',\n",
       " 'data/teensy41_test_02',\n",
       " 'data/Raspberry_Pi_test_01',\n",
       " 'data/pyboard_test_01',\n",
       " 'data/teensy41_test_03_with_Arduino_isrPin']"
      ]
     },
     "execution_count": 391,
     "metadata": {},
     "output_type": "execute_result"
    }
   ],
   "source": [
    "folders"
   ]
  },
  {
   "cell_type": "markdown",
   "id": "powered-isaac",
   "metadata": {},
   "source": [
    "## Note\n",
    "\n",
    "- I made changes to reset the counter so that the test starts with a full time step beginning with `pyboard_test_05_with_Arduino_isrPin`"
   ]
  },
  {
   "cell_type": "code",
   "execution_count": 392,
   "id": "clean-kentucky",
   "metadata": {},
   "outputs": [],
   "source": [
    "folder = \"Raspberry_Pi_test_01\""
   ]
  },
  {
   "cell_type": "code",
   "execution_count": 394,
   "id": "necessary-associate",
   "metadata": {},
   "outputs": [],
   "source": [
    "folder_path = os.path.join(\"data\",folder)"
   ]
  },
  {
   "cell_type": "code",
   "execution_count": 395,
   "id": "veterinary-illustration",
   "metadata": {},
   "outputs": [],
   "source": [
    "full_path = os.path.join(folder_path,\"digital.csv\")"
   ]
  },
  {
   "cell_type": "code",
   "execution_count": 397,
   "id": "mineral-hollywood",
   "metadata": {},
   "outputs": [
    {
     "data": {
      "text/plain": [
       "'data/Raspberry_Pi_test_01/digital.csv'"
      ]
     },
     "execution_count": 397,
     "metadata": {},
     "output_type": "execute_result"
    }
   ],
   "source": [
    "fn = full_path\n",
    "fn"
   ]
  },
  {
   "cell_type": "code",
   "execution_count": 398,
   "id": "blocked-ratio",
   "metadata": {},
   "outputs": [],
   "source": [
    "#fn = \"data/teensy41_test_03/digital.csv\""
   ]
  },
  {
   "cell_type": "code",
   "execution_count": 399,
   "id": "necessary-greeting",
   "metadata": {},
   "outputs": [],
   "source": [
    "#fn = \"data/pyboard_test_05_with_Arduino_isrPin/digital.csv\""
   ]
  },
  {
   "cell_type": "code",
   "execution_count": 400,
   "id": "incident-saint",
   "metadata": {},
   "outputs": [],
   "source": [
    "import saleae"
   ]
  },
  {
   "cell_type": "code",
   "execution_count": 401,
   "id": "heard-attraction",
   "metadata": {},
   "outputs": [],
   "source": [
    "import importlib"
   ]
  },
  {
   "cell_type": "code",
   "execution_count": 402,
   "id": "valid-extension",
   "metadata": {},
   "outputs": [
    {
     "data": {
      "text/plain": [
       "<module 'saleae' from '/Users/kraussry/git/krauss_misc/saleae.py'>"
      ]
     },
     "execution_count": 402,
     "metadata": {},
     "output_type": "execute_result"
    }
   ],
   "source": [
    "importlib.reload(saleae)"
   ]
  },
  {
   "cell_type": "code",
   "execution_count": 403,
   "id": "noted-nickname",
   "metadata": {},
   "outputs": [],
   "source": [
    "mytest = saleae.saleae_csv(fn)"
   ]
  },
  {
   "cell_type": "markdown",
   "id": "international-charlotte",
   "metadata": {},
   "source": [
    "## Analysis Plan\n",
    "\n",
    "- test really starts on first ch 0 edge after t=0\n",
    "- squarewave on ch_0 keeps going after test is over\n",
    "\n",
    "\n",
    "### Test 1\n",
    "\n",
    "- what is the period between all edges on ch 0 after t=0?"
   ]
  },
  {
   "cell_type": "markdown",
   "id": "english-investigator",
   "metadata": {},
   "source": [
    "## Beginning Plot"
   ]
  },
  {
   "cell_type": "code",
   "execution_count": 404,
   "id": "stopped-rhythm",
   "metadata": {},
   "outputs": [
    {
     "data": {
      "image/png": "[encoded data removed]",
      "text/plain": [
       "<Figure size 432x576 with 8 Axes>"
      ]
     },
     "metadata": {
      "needs_background": "light"
     },
     "output_type": "display_data"
    }
   ],
   "source": [
    "mytest.plot(xlim=[-0.002,0.007],cursor_x=0)"
   ]
  },
  {
   "cell_type": "markdown",
   "id": "induced-oasis",
   "metadata": {},
   "source": [
    "## Big Picture plot"
   ]
  },
  {
   "cell_type": "code",
   "execution_count": 405,
   "id": "mobile-package",
   "metadata": {},
   "outputs": [
    {
     "data": {
      "image/png": "[encoded data removed]",
      "text/plain": [
       "<Figure size 432x576 with 8 Axes>"
      ]
     },
     "metadata": {
      "needs_background": "light"
     },
     "output_type": "display_data"
    }
   ],
   "source": [
    "mytest.plot()"
   ]
  },
  {
   "cell_type": "markdown",
   "id": "adolescent-radiation",
   "metadata": {},
   "source": [
    "## Trying to find the end"
   ]
  },
  {
   "cell_type": "code",
   "execution_count": 418,
   "id": "extraordinary-director",
   "metadata": {},
   "outputs": [
    {
     "data": {
      "image/png": "[encoded data removed]",
      "text/plain": [
       "<Figure size 432x576 with 8 Axes>"
      ]
     },
     "metadata": {
      "needs_background": "light"
     },
     "output_type": "display_data"
    }
   ],
   "source": [
    "mytest.plot(xlim=[1.995,2.01])"
   ]
  },
  {
   "cell_type": "markdown",
   "id": "genuine-chapter",
   "metadata": {},
   "source": [
    "### Ending Note\n",
    "\n",
    "- there are extra receiving and processing events related to turning the motor off\n",
    "- the last falling edge on ch_3 is the end of the test for upython\n",
    "- Arduino still needs to receive and process that last step's i2c transmission\n",
    "- So, the test ends on the ch_6 falling edge after the last ch_3 falling edge"
   ]
  },
  {
   "cell_type": "code",
   "execution_count": 407,
   "id": "loaded-allergy",
   "metadata": {},
   "outputs": [],
   "source": [
    "ch_3 = mytest.ch_3\n",
    "ch_4 = mytest.ch_4\n",
    "ch_5 = mytest.ch_5\n",
    "ch_6 = mytest.ch_6"
   ]
  },
  {
   "cell_type": "code",
   "execution_count": 408,
   "id": "choice-letters",
   "metadata": {},
   "outputs": [
    {
     "name": "stdout",
     "output_type": "stream",
     "text": [
      "col_0 = mytest.columns[0]\n",
      "col_1 = mytest.columns[1]\n",
      "col_2 = mytest.columns[2]\n",
      "col_3 = mytest.columns[3]\n",
      "col_4 = mytest.columns[4]\n",
      "col_5 = mytest.columns[5]\n",
      "col_6 = mytest.columns[6]\n",
      "col_7 = mytest.columns[7]\n"
     ]
    }
   ],
   "source": [
    "for i in range(8):\n",
    "    cmd = \"col_%i = mytest.columns[%i]\" % (i,i)\n",
    "    print(cmd)\n",
    "    exec(cmd)"
   ]
  },
  {
   "cell_type": "markdown",
   "id": "above-volunteer",
   "metadata": {},
   "source": [
    "### Test End based on ch_3"
   ]
  },
  {
   "cell_type": "code",
   "execution_count": 409,
   "id": "assured-event",
   "metadata": {},
   "outputs": [
    {
     "data": {
      "text/plain": [
       "2.00677368"
      ]
     },
     "execution_count": 409,
     "metadata": {},
     "output_type": "execute_result"
    }
   ],
   "source": [
    "t3_end = col_3.falling_edges[-1]\n",
    "t3_end"
   ]
  },
  {
   "cell_type": "markdown",
   "id": "dangerous-consensus",
   "metadata": {},
   "source": [
    "### Test End based on ch_6\n",
    "\n",
    "- find the next falling edge after `t3_end`"
   ]
  },
  {
   "cell_type": "code",
   "execution_count": 412,
   "id": "formed-database",
   "metadata": {},
   "outputs": [
    {
     "data": {
      "text/plain": [
       "array([1.06948000e-03, 3.08080000e-03, 7.34204000e-03, 9.12556000e-03,\n",
       "       1.08007600e-02, 1.29518000e-02, 1.52156800e-02, 1.72607600e-02,\n",
       "       1.89730000e-02, 2.07518000e-02, 2.27687200e-02, 2.46808000e-02,\n",
       "       2.67391600e-02, 2.86615200e-02, 3.06917600e-02, 3.27144400e-02,\n",
       "       3.50887600e-02, 3.72781200e-02, 3.87453200e-02, 4.07952000e-02,\n",
       "       4.28104400e-02, 4.47309200e-02, 4.69315200e-02, 4.87188800e-02,\n",
       "       5.07162800e-02, 5.27162400e-02, 5.47117600e-02, 5.67558000e-02,\n",
       "       5.87244000e-02, 6.07152400e-02, 6.27114400e-02, 6.47079200e-02,\n",
       "       6.67856800e-02, 6.87174400e-02, 7.07080400e-02, 7.27061200e-02,\n",
       "       7.47044400e-02, 7.67616000e-02, 7.87341600e-02, 8.07388000e-02,\n",
       "       8.27078000e-02, 8.47005200e-02, 8.67370400e-02, 8.87182400e-02,\n",
       "       9.07360000e-02, 9.27080800e-02, 9.47052400e-02, 9.67492400e-02,\n",
       "       9.87192000e-02, 1.00715720e-01, 1.02716600e-01, 1.04716840e-01,\n",
       "       1.06724280e-01, 1.08706440e-01, 1.10741080e-01, 1.12698840e-01,\n",
       "       1.14700680e-01, 1.16741880e-01, 1.18723080e-01, 1.20805560e-01,\n",
       "       1.22716920e-01, 1.24714080e-01, 1.26743080e-01, 1.28719600e-01,\n",
       "       1.30714880e-01, 1.32713880e-01, 1.34712920e-01, 1.36734160e-01,\n",
       "       1.38719120e-01, 1.40713440e-01, 1.42711840e-01, 1.44736160e-01,\n",
       "       1.46746440e-01, 1.48727640e-01, 1.50712360e-01, 1.52719800e-01,\n",
       "       1.54749760e-01, 1.56730960e-01, 1.58715920e-01, 1.60715640e-01,\n",
       "       1.62711400e-01, 1.64761040e-01, 1.66729120e-01, 1.68711000e-01,\n",
       "       1.70709080e-01, 1.72710920e-01, 1.74738760e-01, 1.76756520e-01,\n",
       "       1.78742400e-01, 1.80739320e-01, 1.82739280e-01, 1.84742960e-01,\n",
       "       1.86753320e-01, 1.88769200e-01, 1.90736320e-01, 1.92737920e-01,\n",
       "       1.94733200e-01, 1.96750960e-01, 1.98728160e-01, 2.00725280e-01,\n",
       "       2.02727800e-01, 2.04736200e-01, 2.06775600e-01, 2.08778880e-01,\n",
       "       2.10735720e-01, 2.12736360e-01, 2.14733480e-01, 2.16754760e-01,\n",
       "       2.18727520e-01, 2.20727240e-01, 2.22724360e-01, 2.24726880e-01,\n",
       "       2.26768080e-01, 2.28749360e-01, 2.30737120e-01, 2.32762400e-01,\n",
       "       2.34741480e-01, 2.36756440e-01, 2.38734560e-01, 2.40733600e-01,\n",
       "       2.42730480e-01, 2.44737680e-01, 2.46749840e-01, 2.48845480e-01,\n",
       "       2.50749360e-01, 2.52771560e-01, 2.54734040e-01, 2.56764680e-01,\n",
       "       2.58738360e-01, 2.60735280e-01, 2.62732400e-01, 2.64743360e-01,\n",
       "       2.66757120e-01, 2.68740200e-01, 2.70731800e-01, 2.72733640e-01,\n",
       "       2.74736160e-01, 2.76768920e-01, 2.78733920e-01, 2.80739240e-01,\n",
       "       2.82729840e-01, 2.84736120e-01, 2.86751080e-01, 2.88735760e-01,\n",
       "       2.90734080e-01, 2.92734040e-01, 2.94732840e-01, 2.96775920e-01,\n",
       "       2.98729680e-01, 3.00741560e-01, 3.02738720e-01, 3.04736520e-01,\n",
       "       3.06754040e-01, 3.08731520e-01, 3.10769640e-01, 3.12734000e-01,\n",
       "       3.14733080e-01, 3.16744000e-01, 3.18727080e-01, 3.20769000e-01,\n",
       "       3.22725560e-01, 3.24725520e-01, 3.26750560e-01, 3.28737120e-01,\n",
       "       3.30734280e-01, 3.32731640e-01, 3.34734160e-01, 3.36748200e-01,\n",
       "       3.38732880e-01, 3.40774800e-01, 3.42729760e-01, 3.44736000e-01,\n",
       "       3.46746960e-01, 3.48734720e-01, 3.50774760e-01, 3.52731320e-01,\n",
       "       3.54759400e-01, 3.56763200e-01, 3.58732880e-01, 3.60733800e-01,\n",
       "       3.62728800e-01, 3.64778200e-01, 3.66746280e-01, 3.68732840e-01,\n",
       "       3.70727880e-01, 3.72728760e-01, 3.74743480e-01, 3.76810680e-01,\n",
       "       3.78747000e-01, 3.80737440e-01, 3.82736120e-01, 3.84766640e-01,\n",
       "       3.86783320e-01, 3.88751960e-01, 3.90743120e-01, 3.92735440e-01,\n",
       "       3.94781920e-01, 3.96760840e-01, 3.98750440e-01, 4.00739000e-01,\n",
       "       4.02735760e-01, 4.04737240e-01, 4.06765200e-01, 4.08749760e-01,\n",
       "       4.10737160e-01, 4.12738880e-01, 4.14736560e-01, 4.16761480e-01,\n",
       "       4.18771920e-01, 4.20739200e-01, 4.22746280e-01, 4.24737640e-01,\n",
       "       4.26756000e-01, 4.28738000e-01, 4.30740400e-01, 4.32736240e-01,\n",
       "       4.34734160e-01, 4.36753440e-01, 4.38792400e-01, 4.40741600e-01,\n",
       "       4.42740560e-01, 4.44735720e-01, 4.46754960e-01, 4.48737000e-01,\n",
       "       4.50735640e-01, 4.52738280e-01, 4.54735960e-01, 4.56777040e-01,\n",
       "       4.58744760e-01, 4.60742280e-01, 4.62760600e-01, 4.64739800e-01,\n",
       "       4.66758120e-01, 4.68742960e-01, 4.70740680e-01, 4.72746120e-01,\n",
       "       4.74736560e-01, 4.76769920e-01, 4.78745360e-01, 4.80738360e-01,\n",
       "       4.82793520e-01, 4.84742080e-01, 4.86756280e-01, 4.88746360e-01,\n",
       "       4.90740200e-01, 4.92740600e-01, 4.94739120e-01, 4.96759880e-01,\n",
       "       4.98738720e-01, 5.00738160e-01, 5.02736240e-01, 5.04796160e-01,\n",
       "       5.06791400e-01, 5.08745160e-01, 5.10738040e-01, 5.12741280e-01,\n",
       "       5.14744480e-01, 5.16756120e-01, 5.18740800e-01, 5.20737440e-01,\n",
       "       5.22736920e-01, 5.24776000e-01, 5.26801080e-01, 5.28743600e-01,\n",
       "       5.30739280e-01, 5.32738040e-01, 5.34739400e-01, 5.36765360e-01,\n",
       "       5.38737840e-01, 5.40757920e-01, 5.42742640e-01, 5.44746080e-01,\n",
       "       5.46759440e-01, 5.48740360e-01, 5.50756720e-01, 5.52738600e-01,\n",
       "       5.54736440e-01, 5.56752080e-01, 5.58739600e-01, 5.60739280e-01,\n",
       "       5.62742760e-01, 5.64730280e-01, 5.66759040e-01, 5.68742800e-01,\n",
       "       5.70770000e-01, 5.72735920e-01, 5.74734680e-01, 5.76760640e-01,\n",
       "       5.78736920e-01, 5.80768480e-01, 5.82736320e-01, 5.84860720e-01,\n",
       "       5.90716800e-01, 5.91805640e-01, 5.93158120e-01, 5.94822600e-01,\n",
       "       5.96784800e-01, 5.98746080e-01, 6.00738280e-01, 6.02781120e-01,\n",
       "       6.04743240e-01, 6.06758880e-01, 6.08731400e-01, 6.10729240e-01,\n",
       "       6.12728240e-01, 6.14761720e-01, 6.16768920e-01, 6.18733920e-01,\n",
       "       6.20726080e-01, 6.22726720e-01, 6.24771400e-01, 6.26786120e-01,\n",
       "       6.28776400e-01, 6.30729080e-01, 6.32727840e-01, 6.34730320e-01,\n",
       "       6.36759080e-01, 6.38738160e-01, 6.40732160e-01, 6.42728120e-01,\n",
       "       6.44731560e-01, 6.46762200e-01, 6.48758120e-01, 6.50727800e-01,\n",
       "       6.52725640e-01, 6.54726520e-01, 6.56761880e-01, 6.58775640e-01,\n",
       "       6.60728400e-01, 6.62732800e-01, 6.64730600e-01, 6.66770560e-01,\n",
       "       6.68791840e-01, 6.70738120e-01, 6.72733880e-01, 6.74731680e-01,\n",
       "       6.76770760e-01, 6.78772280e-01, 6.80746680e-01, 6.82739840e-01,\n",
       "       6.84739480e-01, 6.86756040e-01, 6.88742640e-01, 6.90735720e-01,\n",
       "       6.92750400e-01, 6.94735120e-01, 6.96777880e-01, 6.98755400e-01,\n",
       "       7.00740080e-01, 7.02736040e-01, 7.04737560e-01, 7.06763520e-01,\n",
       "       7.08738840e-01, 7.10734760e-01, 7.12768200e-01, 7.14745400e-01,\n",
       "       7.16755920e-01, 7.18733040e-01, 7.20734640e-01, 7.22739040e-01,\n",
       "       7.24734040e-01, 7.26749640e-01, 7.28740880e-01, 7.30789360e-01,\n",
       "       7.32738440e-01, 7.34736200e-01, 7.36765880e-01, 7.38733720e-01,\n",
       "       7.40730920e-01, 7.42734360e-01, 7.44737760e-01, 7.46753400e-01,\n",
       "       7.48733440e-01, 7.50762200e-01, 7.52763760e-01, 7.54747520e-01,\n",
       "       7.56792200e-01, 7.58734280e-01, 7.60736760e-01, 7.62747720e-01,\n",
       "       7.64739920e-01, 7.66752760e-01, 7.68738400e-01, 7.70753040e-01,\n",
       "       7.72734000e-01, 7.74730320e-01, 7.76756640e-01, 7.78737040e-01,\n",
       "       7.80740880e-01, 7.82733760e-01, 7.84733840e-01, 7.86747040e-01,\n",
       "       7.88735800e-01, 7.90737760e-01, 7.92736920e-01, 7.94733240e-01,\n",
       "       7.96750200e-01, 7.98739960e-01, 8.00753680e-01, 8.02734080e-01,\n",
       "       8.04730400e-01, 8.06750160e-01, 8.08735240e-01, 8.10734360e-01,\n",
       "       8.12731640e-01, 8.14771080e-01, 8.16752400e-01, 8.18732800e-01,\n",
       "       8.20728200e-01, 8.22729200e-01, 8.24776160e-01, 8.26752160e-01,\n",
       "       8.28730680e-01, 8.30731680e-01, 8.32728960e-01, 8.34731840e-01,\n",
       "       8.36747840e-01, 8.38734800e-01, 8.40736760e-01, 8.42726080e-01,\n",
       "       8.44768360e-01, 8.46746840e-01, 8.48728160e-01, 8.50726360e-01,\n",
       "       8.52732080e-01, 8.54765920e-01, 8.56745360e-01, 8.58812960e-01,\n",
       "       8.60738960e-01, 8.62731520e-01, 8.64726920e-01, 8.66758840e-01,\n",
       "       8.68778000e-01, 8.70729320e-01, 8.72728440e-01, 8.74728520e-01,\n",
       "       8.76750160e-01, 8.78766200e-01, 8.80730640e-01, 8.82734480e-01,\n",
       "       8.84730680e-01, 8.86750440e-01, 8.88764560e-01, 8.90734640e-01,\n",
       "       8.92731920e-01, 8.94725400e-01, 8.96758320e-01, 8.98768680e-01,\n",
       "       9.00733160e-01, 9.02724760e-01, 9.04730480e-01, 9.06751200e-01,\n",
       "       9.08732520e-01, 9.10729160e-01, 9.12724520e-01, 9.14725560e-01,\n",
       "       9.16764080e-01, 9.18729440e-01, 9.20732320e-01, 9.22751160e-01,\n",
       "       9.24726840e-01, 9.26750360e-01, 9.28732200e-01, 9.30733200e-01,\n",
       "       9.32729520e-01, 9.34726800e-01, 9.36745640e-01, 9.38727880e-01,\n",
       "       9.40730760e-01, 9.42763680e-01, 9.44727160e-01, 9.46742240e-01,\n",
       "       9.48727320e-01, 9.50722720e-01, 9.52727480e-01, 9.54726920e-01,\n",
       "       9.56749520e-01, 9.58734600e-01, 9.60729960e-01, 9.62727240e-01,\n",
       "       9.64729200e-01, 9.66759280e-01, 9.68738720e-01, 9.70728040e-01,\n",
       "       9.72729040e-01, 9.74727240e-01, 9.76744200e-01, 9.78729280e-01,\n",
       "       9.80726520e-01, 9.82725680e-01, 9.84725760e-01, 9.86840200e-01,\n",
       "       9.88732480e-01, 9.90725960e-01, 9.92729800e-01, 9.94726120e-01,\n",
       "       9.96744320e-01, 9.98726600e-01, 1.00073040e+00, 1.00272392e+00,\n",
       "       1.00473620e+00, 1.00676064e+00, 1.00873260e+00, 1.01073080e+00,\n",
       "       1.01272480e+00, 1.01472488e+00, 1.01674276e+00, 1.01872972e+00,\n",
       "       1.02072512e+00, 1.02272048e+00, 1.02472528e+00, 1.02674032e+00,\n",
       "       1.02873196e+00, 1.03076392e+00, 1.03272556e+00, 1.03472188e+00,\n",
       "       1.03674164e+00, 1.03872612e+00, 1.04072616e+00, 1.04272436e+00,\n",
       "       1.04475632e+00, 1.04674328e+00, 1.04872556e+00, 1.05073124e+00,\n",
       "       1.05273696e+00, 1.05476232e+00, 1.05674324e+00, 1.05873204e+00,\n",
       "       1.06072464e+00, 1.06272468e+00, 1.06472384e+00, 1.06674268e+00,\n",
       "       1.06873148e+00, 1.07072408e+00, 1.07273352e+00, 1.07476920e+00,\n",
       "       1.07675056e+00, 1.07872904e+00, 1.08072068e+00, 1.08276420e+00,\n",
       "       1.08475208e+00, 1.08674184e+00, 1.08874664e+00, 1.09072324e+00,\n",
       "       1.09272240e+00, 1.09472808e+00, 1.09674692e+00, 1.09876532e+00,\n",
       "       1.10072224e+00, 1.10272328e+00, 1.10472616e+00, 1.10674312e+00,\n",
       "       1.10872820e+00, 1.11072356e+00, 1.11272928e+00, 1.11472936e+00,\n",
       "       1.11674444e+00, 1.11875200e+00, 1.12072112e+00, 1.12272216e+00,\n",
       "       1.12471880e+00, 1.12673012e+00, 1.12875080e+00, 1.13071716e+00,\n",
       "       1.13272096e+00, 1.13471636e+00, 1.13675112e+00, 1.13872732e+00,\n",
       "       1.14072272e+00, 1.14272372e+00, 1.14472284e+00, 1.14674448e+00,\n",
       "       1.14872112e+00, 1.15071744e+00, 1.15274380e+00, 1.15472512e+00,\n",
       "       1.15674208e+00, 1.15872056e+00, 1.16072252e+00, 1.16272448e+00,\n",
       "       1.16472268e+00, 1.16673900e+00, 1.16876064e+00, 1.17072604e+00,\n",
       "       1.17277204e+00, 1.17472336e+00, 1.17674784e+00, 1.17873104e+00,\n",
       "       1.18072924e+00, 1.18271948e+00, 1.18471956e+00, 1.18673556e+00,\n",
       "       1.18872344e+00, 1.19071980e+00, 1.19272172e+00, 1.19471620e+00,\n",
       "       1.19676972e+00, 1.19872572e+00, 1.20071924e+00, 1.20272680e+00,\n",
       "       1.20471936e+00, 1.20674008e+00, 1.20872236e+00, 1.21076868e+00,\n",
       "       1.21272376e+00, 1.21471724e+00, 1.21677732e+00, 1.21872208e+00,\n",
       "       1.22072592e+00, 1.22272788e+00, 1.22471812e+00, 1.22673696e+00,\n",
       "       1.22872204e+00, 1.23072024e+00, 1.23271844e+00, 1.23471944e+00,\n",
       "       1.23673828e+00, 1.23872804e+00, 1.24073936e+00, 1.24272444e+00,\n",
       "       1.24472172e+00, 1.24673396e+00, 1.24872372e+00, 1.25071816e+00,\n",
       "       1.25271764e+00, 1.25472052e+00, 1.25673464e+00, 1.25871880e+00,\n",
       "       1.26075636e+00, 1.26271896e+00, 1.26472560e+00, 1.26673208e+00,\n",
       "       1.26871904e+00, 1.27071820e+00, 1.27272012e+00, 1.27473896e+00,\n",
       "       1.27673528e+00, 1.27875788e+00, 1.28072420e+00, 1.28271864e+00,\n",
       "       1.28473372e+00, 1.28673660e+00, 1.28872356e+00, 1.29071892e+00,\n",
       "       1.29271996e+00, 1.29471752e+00, 1.29673728e+00, 1.29871860e+00,\n",
       "       1.30081900e+00, 1.30276752e+00, 1.30478728e+00, 1.30676956e+00,\n",
       "       1.30873200e+00, 1.31072552e+00, 1.31272748e+00, 1.31473880e+00,\n",
       "       1.31675760e+00, 1.31876896e+00, 1.32072212e+00, 1.32271752e+00,\n",
       "       1.32472324e+00, 1.32675144e+00, 1.32877308e+00, 1.33072344e+00,\n",
       "       1.33272164e+00, 1.33471984e+00, 1.33674524e+00, 1.33877564e+00,\n",
       "       1.34072228e+00, 1.34272236e+00, 1.34472056e+00, 1.34674780e+00,\n",
       "       1.34877228e+00, 1.35071940e+00, 1.35272228e+00, 1.35472048e+00,\n",
       "       1.35674680e+00, 1.35876940e+00, 1.36071884e+00, 1.36274140e+00,\n",
       "       1.36472180e+00, 1.36673124e+00, 1.36872100e+00, 1.37072484e+00,\n",
       "       1.37273804e+00, 1.37472124e+00, 1.37673912e+00, 1.37871952e+00,\n",
       "       1.38072180e+00, 1.38273780e+00, 1.38472100e+00, 1.38673420e+00,\n",
       "       1.38872020e+00, 1.39071936e+00, 1.39276068e+00, 1.39471624e+00,\n",
       "       1.39673884e+00, 1.39872108e+00, 1.40071928e+00, 1.40285440e+00,\n",
       "       1.40472508e+00, 1.40673828e+00, 1.40872428e+00, 1.41072528e+00,\n",
       "       1.41271976e+00, 1.41471980e+00, 1.41673772e+00, 1.41871716e+00,\n",
       "       1.42071724e+00, 1.42271292e+00, 1.42471396e+00, 1.42679276e+00,\n",
       "       1.42872252e+00, 1.43071700e+00, 1.43271612e+00, 1.43472464e+00,\n",
       "       1.43673832e+00, 1.43871872e+00, 1.44071972e+00, 1.44271608e+00,\n",
       "       1.44471428e+00, 1.44677152e+00, 1.44872192e+00, 1.45072388e+00,\n",
       "       1.45271736e+00, 1.45471652e+00, 1.45673536e+00, 1.45872416e+00,\n",
       "       1.46071676e+00, 1.46271308e+00, 1.46471408e+00, 1.46677916e+00,\n",
       "       1.46871924e+00, 1.47074368e+00, 1.47271376e+00, 1.47471008e+00,\n",
       "       1.47673452e+00, 1.47871856e+00, 1.48071864e+00, 1.48271776e+00,\n",
       "       1.48471504e+00, 1.48673196e+00, 1.48872080e+00, 1.49073776e+00,\n",
       "       1.49271440e+00, 1.49471260e+00, 1.49673048e+00, 1.49871648e+00,\n",
       "       1.50128520e+00, 1.50277572e+00, 1.50473360e+00, 1.50676556e+00,\n",
       "       1.50872844e+00, 1.51072384e+00, 1.51271828e+00, 1.51471740e+00,\n",
       "       1.51674092e+00, 1.51872036e+00, 1.52071908e+00, 1.52271632e+00,\n",
       "       1.52471828e+00, 1.52674744e+00, 1.52871564e+00, 1.53072416e+00,\n",
       "       1.53271392e+00, 1.53473272e+00, 1.53673936e+00, 1.53872352e+00,\n",
       "       1.54071516e+00, 1.54271428e+00, 1.54471716e+00, 1.54675008e+00,\n",
       "       1.54875764e+00, 1.55072240e+00, 1.55272060e+00, 1.55471784e+00,\n",
       "       1.55674980e+00, 1.55875740e+00, 1.56071620e+00, 1.56277160e+00,\n",
       "       1.56472248e+00, 1.56673756e+00, 1.56872172e+00, 1.57071616e+00,\n",
       "       1.57271996e+00, 1.57472568e+00, 1.57674356e+00, 1.57877084e+00,\n",
       "       1.58071840e+00, 1.58272224e+00, 1.59013364e+00, 1.59121192e+00,\n",
       "       1.59281068e+00, 1.59472764e+00, 1.59675488e+00, 1.59872588e+00,\n",
       "       1.60072316e+00, 1.60275700e+00, 1.60472144e+00, 1.60674264e+00,\n",
       "       1.60871832e+00, 1.61070996e+00, 1.61271944e+00, 1.61470824e+00,\n",
       "       1.61674584e+00, 1.61871496e+00, 1.62071036e+00, 1.62273480e+00,\n",
       "       1.62470676e+00, 1.62673684e+00, 1.62871064e+00, 1.63071168e+00,\n",
       "       1.63274364e+00, 1.63470900e+00, 1.63670940e+00, 1.63870292e+00,\n",
       "       1.64068800e+00, 1.64268432e+00, 1.64468532e+00, 1.64669244e+00,\n",
       "       1.64867940e+00, 1.65067572e+00, 1.65267112e+00, 1.65467776e+00,\n",
       "       1.65672848e+00, 1.65866008e+00, 1.66064800e+00, 1.66265180e+00,\n",
       "       1.66465096e+00, 1.66666884e+00, 1.66865016e+00, 1.67064272e+00,\n",
       "       1.67264844e+00, 1.67464288e+00, 1.67676296e+00, 1.67864616e+00,\n",
       "       1.68063968e+00, 1.68263508e+00, 1.68463984e+00, 1.68670928e+00,\n",
       "       1.68863768e+00, 1.69064744e+00, 1.69263064e+00, 1.69473664e+00,\n",
       "       1.69700908e+00, 1.69871148e+00, 1.70074064e+00, 1.70264320e+00,\n",
       "       1.70464420e+00, 1.70672492e+00, 1.70863872e+00, 1.71063132e+00,\n",
       "       1.71263044e+00, 1.71462864e+00, 1.71672812e+00, 1.71864568e+00,\n",
       "       1.72071044e+00, 1.72264052e+00, 1.72464060e+00, 1.72672316e+00,\n",
       "       1.72864916e+00, 1.73063568e+00, 1.73263700e+00, 1.73467836e+00,\n",
       "       1.73672716e+00, 1.73864756e+00, 1.74064480e+00, 1.74264396e+00,\n",
       "       1.74468340e+00, 1.74668256e+00, 1.74864888e+00, 1.75064708e+00,\n",
       "       1.75264432e+00, 1.75464252e+00, 1.75666044e+00, 1.75865768e+00,\n",
       "       1.76064556e+00, 1.76264472e+00, 1.76466292e+00, 1.76666300e+00,\n",
       "       1.76864808e+00, 1.77065000e+00, 1.77264308e+00, 1.77463940e+00,\n",
       "       1.77671544e+00, 1.77867612e+00, 1.78064432e+00, 1.78263880e+00,\n",
       "       1.78463884e+00, 1.78665392e+00, 1.78869712e+00, 1.79065316e+00,\n",
       "       1.79264196e+00, 1.79464300e+00, 1.79671152e+00, 1.79864032e+00,\n",
       "       1.80063852e+00, 1.80264048e+00, 1.80463492e+00, 1.80670752e+00,\n",
       "       1.80872916e+00, 1.81069172e+00, 1.81268804e+00, 1.81469468e+00,\n",
       "       1.81671352e+00, 1.81870952e+00, 1.82063648e+00, 1.82276500e+00,\n",
       "       1.82464320e+00, 1.82671264e+00, 1.82863864e+00, 1.83064152e+00,\n",
       "       1.83263972e+00, 1.83463604e+00, 1.83670176e+00, 1.83864184e+00,\n",
       "       1.84064284e+00, 1.84264856e+00, 1.84464300e+00, 1.84665056e+00,\n",
       "       1.84864692e+00, 1.85064072e+00, 1.85271300e+00, 1.85464652e+00,\n",
       "       1.85666720e+00, 1.85864620e+00, 1.86064440e+00, 1.86273544e+00,\n",
       "       1.86464364e+00, 1.86665684e+00, 1.86864472e+00, 1.87064200e+00,\n",
       "       1.87263736e+00, 1.87463464e+00, 1.87674348e+00, 1.87875760e+00,\n",
       "       1.88070144e+00, 1.88269024e+00, 1.88469128e+00, 1.88672136e+00,\n",
       "       1.88869236e+00, 1.89068868e+00, 1.89268720e+00, 1.89468352e+00,\n",
       "       1.89672672e+00, 1.89869024e+00, 1.90069592e+00, 1.90268464e+00,\n",
       "       1.90468848e+00, 1.90672884e+00, 1.90868768e+00, 1.91068492e+00,\n",
       "       1.91268688e+00, 1.91468228e+00, 1.91670580e+00, 1.91873400e+00,\n",
       "       1.92068812e+00, 1.92269100e+00, 1.92468548e+00, 1.92670900e+00,\n",
       "       1.92864060e+00, 1.93067068e+00, 1.93264264e+00, 1.93463832e+00,\n",
       "       1.93670500e+00, 1.93864132e+00, 1.94064512e+00, 1.94263632e+00,\n",
       "       1.94463828e+00, 1.94665148e+00, 1.94864032e+00, 1.95072572e+00,\n",
       "       1.95264328e+00, 1.95463772e+00, 1.95665468e+00, 1.95864348e+00,\n",
       "       1.96063984e+00, 1.96263332e+00, 1.96466716e+00, 1.96670192e+00,\n",
       "       1.96864200e+00, 1.97063552e+00, 1.97263652e+00, 1.97465816e+00,\n",
       "       1.97666292e+00, 1.97863800e+00, 1.98064184e+00, 1.98265316e+00,\n",
       "       1.98463968e+00, 1.98664912e+00, 1.98864168e+00, 1.99064364e+00,\n",
       "       1.99263808e+00, 1.99472160e+00, 1.99665324e+00, 1.99864112e+00,\n",
       "       2.00064028e+00, 2.00263564e+00, 2.00463572e+00, 2.00670988e+00])"
      ]
     },
     "execution_count": 412,
     "metadata": {},
     "output_type": "execute_result"
    }
   ],
   "source": [
    "t6_falling = col_6.falling_edges\n",
    "t6_falling"
   ]
  },
  {
   "cell_type": "code",
   "execution_count": 413,
   "id": "recreational-montana",
   "metadata": {},
   "outputs": [
    {
     "data": {
      "text/plain": [
       "2.00670988"
      ]
     },
     "execution_count": 413,
     "metadata": {},
     "output_type": "execute_result"
    }
   ],
   "source": [
    "t6_falling[-1]"
   ]
  },
  {
   "cell_type": "code",
   "execution_count": 414,
   "id": "scheduled-narrative",
   "metadata": {},
   "outputs": [
    {
     "data": {
      "text/plain": [
       "2.00677368"
      ]
     },
     "execution_count": 414,
     "metadata": {},
     "output_type": "execute_result"
    }
   ],
   "source": [
    "t3_end"
   ]
  },
  {
   "cell_type": "code",
   "execution_count": 423,
   "id": "unknown-reform",
   "metadata": {},
   "outputs": [
    {
     "data": {
      "text/plain": [
       "False"
      ]
     },
     "execution_count": 423,
     "metadata": {},
     "output_type": "execute_result"
    }
   ],
   "source": [
    "t6_end_test = np.any(np.where(t6_falling > t3_end)[0])\n",
    "t6_end_test"
   ]
  },
  {
   "cell_type": "code",
   "execution_count": null,
   "id": "damaged-decimal",
   "metadata": {},
   "outputs": [],
   "source": []
  },
  {
   "cell_type": "code",
   "execution_count": 424,
   "id": "funny-committee",
   "metadata": {},
   "outputs": [
    {
     "data": {
      "text/plain": [
       "2.00670988"
      ]
     },
     "execution_count": 424,
     "metadata": {},
     "output_type": "execute_result"
    }
   ],
   "source": [
    "if t6_end_test:\n",
    "    ind_6_end = np.where(t6_falling > t3_end)[0][0]\n",
    "    t6_end = t6_falling[ind_6_end]\n",
    "else:\n",
    "    t6_end = t6_falling[-1]\n",
    "t6_end"
   ]
  },
  {
   "cell_type": "code",
   "execution_count": 425,
   "id": "referenced-chapter",
   "metadata": {},
   "outputs": [
    {
     "data": {
      "image/png": "[encoded data removed]",
      "text/plain": [
       "<Figure size 432x576 with 8 Axes>"
      ]
     },
     "metadata": {
      "needs_background": "light"
     },
     "output_type": "display_data"
    }
   ],
   "source": [
    "mytest.plot(xlim=[t6_end-0.002,t6_end+0.0015], cursor_x=t6_end)"
   ]
  },
  {
   "cell_type": "code",
   "execution_count": 426,
   "id": "ancient-yahoo",
   "metadata": {},
   "outputs": [],
   "source": [
    "col_0 = mytest.columns[0]"
   ]
  },
  {
   "cell_type": "code",
   "execution_count": 427,
   "id": "blocked-triangle",
   "metadata": {},
   "outputs": [],
   "source": [
    "t_ISR = [t_i for t_i in col_0.change_edges if 0<= t_i < t6_end]\n",
    "t_ISR = np.array(t_ISR)"
   ]
  },
  {
   "cell_type": "code",
   "execution_count": 428,
   "id": "pretty-tobago",
   "metadata": {},
   "outputs": [],
   "source": [
    "t_ISR = np.append([0],t_ISR)"
   ]
  },
  {
   "cell_type": "code",
   "execution_count": 429,
   "id": "simplified-genealogy",
   "metadata": {},
   "outputs": [],
   "source": [
    "dt = t_ISR[1:] - t_ISR[0:-1]"
   ]
  },
  {
   "cell_type": "code",
   "execution_count": 430,
   "id": "cordless-income",
   "metadata": {},
   "outputs": [
    {
     "data": {
      "text/plain": [
       "array([0.001745  , 0.00374204, 0.0057514 , 0.00774188, 0.00974088])"
      ]
     },
     "execution_count": 430,
     "metadata": {},
     "output_type": "execute_result"
    }
   ],
   "source": [
    "t_ISR[1:6]"
   ]
  },
  {
   "cell_type": "code",
   "execution_count": 431,
   "id": "indirect-subscriber",
   "metadata": {},
   "outputs": [
    {
     "data": {
      "text/plain": [
       "array([0.        , 0.001745  , 0.00374204, 0.0057514 , 0.00774188])"
      ]
     },
     "execution_count": 431,
     "metadata": {},
     "output_type": "execute_result"
    }
   ],
   "source": [
    "t_ISR[0:5]"
   ]
  },
  {
   "cell_type": "code",
   "execution_count": 432,
   "id": "grave-blues",
   "metadata": {},
   "outputs": [
    {
     "data": {
      "text/plain": [
       "array([0.001745  , 0.00199704, 0.00200936, 0.00199048, 0.001999  ])"
      ]
     },
     "execution_count": 432,
     "metadata": {},
     "output_type": "execute_result"
    }
   ],
   "source": [
    "t_ISR[1:6] - t_ISR[0:5]"
   ]
  },
  {
   "cell_type": "code",
   "execution_count": 433,
   "id": "becoming-audio",
   "metadata": {},
   "outputs": [
    {
     "data": {
      "text/plain": [
       "array([0.001745  , 0.00199704, 0.00200936, 0.00199048, 0.001999  ])"
      ]
     },
     "execution_count": 433,
     "metadata": {},
     "output_type": "execute_result"
    }
   ],
   "source": [
    "dt[0:5]"
   ]
  },
  {
   "cell_type": "code",
   "execution_count": 434,
   "id": "sharp-supply",
   "metadata": {},
   "outputs": [
    {
     "data": {
      "text/plain": [
       "0"
      ]
     },
     "execution_count": 434,
     "metadata": {},
     "output_type": "execute_result"
    }
   ],
   "source": [
    "dt.argmin()"
   ]
  },
  {
   "cell_type": "code",
   "execution_count": 435,
   "id": "white-measure",
   "metadata": {},
   "outputs": [
    {
     "data": {
      "text/plain": [
       "0.001999699102691924"
      ]
     },
     "execution_count": 435,
     "metadata": {},
     "output_type": "execute_result"
    }
   ],
   "source": [
    "dt.mean()"
   ]
  },
  {
   "cell_type": "code",
   "execution_count": 436,
   "id": "handed-montreal",
   "metadata": {},
   "outputs": [
    {
     "data": {
      "text/plain": [
       "0.0020434799999999864"
      ]
     },
     "execution_count": 436,
     "metadata": {},
     "output_type": "execute_result"
    }
   ],
   "source": [
    "dt.max()"
   ]
  },
  {
   "cell_type": "code",
   "execution_count": 437,
   "id": "entertaining-sussex",
   "metadata": {},
   "outputs": [
    {
     "data": {
      "text/plain": [
       "0.001745"
      ]
     },
     "execution_count": 437,
     "metadata": {},
     "output_type": "execute_result"
    }
   ],
   "source": [
    "dt.min()"
   ]
  },
  {
   "cell_type": "code",
   "execution_count": 438,
   "id": "confidential-easter",
   "metadata": {},
   "outputs": [
    {
     "data": {
      "text/plain": [
       "254.69910269192414"
      ]
     },
     "execution_count": 438,
     "metadata": {},
     "output_type": "execute_result"
    }
   ],
   "source": [
    "(dt.mean() - dt.min())*1e6"
   ]
  },
  {
   "cell_type": "code",
   "execution_count": 439,
   "id": "indoor-replica",
   "metadata": {},
   "outputs": [
    {
     "data": {
      "text/plain": [
       "Text(0.5, 0, 'loop count')"
      ]
     },
     "execution_count": 439,
     "metadata": {},
     "output_type": "execute_result"
    },
    {
     "data": {
      "image/png": "[encoded data removed]",
      "text/plain": [
       "<Figure size 432x288 with 1 Axes>"
      ]
     },
     "metadata": {
      "needs_background": "light"
     },
     "output_type": "display_data"
    }
   ],
   "source": [
    "plt.figure()\n",
    "plt.plot(dt)\n",
    "plt.ylabel('$\\\\Delta t$ (microseconds)')\n",
    "plt.xlabel('loop count')"
   ]
  },
  {
   "cell_type": "code",
   "execution_count": 440,
   "id": "satisfactory-consumer",
   "metadata": {},
   "outputs": [
    {
     "data": {
      "text/plain": [
       "Text(0.5, 0, 'loop count')"
      ]
     },
     "execution_count": 440,
     "metadata": {},
     "output_type": "execute_result"
    },
    {
     "data": {
      "image/png": "[encoded data removed]",
      "text/plain": [
       "<Figure size 432x288 with 1 Axes>"
      ]
     },
     "metadata": {
      "needs_background": "light"
     },
     "output_type": "display_data"
    }
   ],
   "source": [
    "plt.figure()\n",
    "plt.plot(dt[1:])\n",
    "plt.ylabel('$\\\\Delta t$ (microseconds)')\n",
    "plt.xlabel('loop count')"
   ]
  },
  {
   "cell_type": "code",
   "execution_count": 441,
   "id": "minimal-photographer",
   "metadata": {},
   "outputs": [
    {
     "data": {
      "text/plain": [
       "1003"
      ]
     },
     "execution_count": 441,
     "metadata": {},
     "output_type": "execute_result"
    }
   ],
   "source": [
    "len(dt)"
   ]
  },
  {
   "cell_type": "code",
   "execution_count": 442,
   "id": "nearby-vancouver",
   "metadata": {},
   "outputs": [
    {
     "data": {
      "text/plain": [
       "1004"
      ]
     },
     "execution_count": 442,
     "metadata": {},
     "output_type": "execute_result"
    }
   ],
   "source": [
    "len(t_ISR)"
   ]
  },
  {
   "cell_type": "code",
   "execution_count": 443,
   "id": "appropriate-silence",
   "metadata": {},
   "outputs": [
    {
     "data": {
      "image/png": "[encoded data removed]",
      "text/plain": [
       "<Figure size 432x576 with 8 Axes>"
      ]
     },
     "metadata": {
      "needs_background": "light"
     },
     "output_type": "display_data"
    }
   ],
   "source": [
    "mytest.plot(xlim=[-0.002,0.007],cursor_x=t_ISR[0])"
   ]
  },
  {
   "cell_type": "code",
   "execution_count": 444,
   "id": "pediatric-convenience",
   "metadata": {},
   "outputs": [
    {
     "data": {
      "text/plain": [
       "array([1.06948000e-03, 3.08080000e-03, 7.34204000e-03, 9.12556000e-03,\n",
       "       1.08007600e-02, 1.29518000e-02, 1.52156800e-02, 1.72607600e-02,\n",
       "       1.89730000e-02, 2.07518000e-02, 2.27687200e-02, 2.46808000e-02,\n",
       "       2.67391600e-02, 2.86615200e-02, 3.06917600e-02, 3.27144400e-02,\n",
       "       3.50887600e-02, 3.72781200e-02, 3.87453200e-02, 4.07952000e-02,\n",
       "       4.28104400e-02, 4.47309200e-02, 4.69315200e-02, 4.87188800e-02,\n",
       "       5.07162800e-02, 5.27162400e-02, 5.47117600e-02, 5.67558000e-02,\n",
       "       5.87244000e-02, 6.07152400e-02, 6.27114400e-02, 6.47079200e-02,\n",
       "       6.67856800e-02, 6.87174400e-02, 7.07080400e-02, 7.27061200e-02,\n",
       "       7.47044400e-02, 7.67616000e-02, 7.87341600e-02, 8.07388000e-02,\n",
       "       8.27078000e-02, 8.47005200e-02, 8.67370400e-02, 8.87182400e-02,\n",
       "       9.07360000e-02, 9.27080800e-02, 9.47052400e-02, 9.67492400e-02,\n",
       "       9.87192000e-02, 1.00715720e-01, 1.02716600e-01, 1.04716840e-01,\n",
       "       1.06724280e-01, 1.08706440e-01, 1.10741080e-01, 1.12698840e-01,\n",
       "       1.14700680e-01, 1.16741880e-01, 1.18723080e-01, 1.20805560e-01,\n",
       "       1.22716920e-01, 1.24714080e-01, 1.26743080e-01, 1.28719600e-01,\n",
       "       1.30714880e-01, 1.32713880e-01, 1.34712920e-01, 1.36734160e-01,\n",
       "       1.38719120e-01, 1.40713440e-01, 1.42711840e-01, 1.44736160e-01,\n",
       "       1.46746440e-01, 1.48727640e-01, 1.50712360e-01, 1.52719800e-01,\n",
       "       1.54749760e-01, 1.56730960e-01, 1.58715920e-01, 1.60715640e-01,\n",
       "       1.62711400e-01, 1.64761040e-01, 1.66729120e-01, 1.68711000e-01,\n",
       "       1.70709080e-01, 1.72710920e-01, 1.74738760e-01, 1.76756520e-01,\n",
       "       1.78742400e-01, 1.80739320e-01, 1.82739280e-01, 1.84742960e-01,\n",
       "       1.86753320e-01, 1.88769200e-01, 1.90736320e-01, 1.92737920e-01,\n",
       "       1.94733200e-01, 1.96750960e-01, 1.98728160e-01, 2.00725280e-01,\n",
       "       2.02727800e-01, 2.04736200e-01, 2.06775600e-01, 2.08778880e-01,\n",
       "       2.10735720e-01, 2.12736360e-01, 2.14733480e-01, 2.16754760e-01,\n",
       "       2.18727520e-01, 2.20727240e-01, 2.22724360e-01, 2.24726880e-01,\n",
       "       2.26768080e-01, 2.28749360e-01, 2.30737120e-01, 2.32762400e-01,\n",
       "       2.34741480e-01, 2.36756440e-01, 2.38734560e-01, 2.40733600e-01,\n",
       "       2.42730480e-01, 2.44737680e-01, 2.46749840e-01, 2.48845480e-01,\n",
       "       2.50749360e-01, 2.52771560e-01, 2.54734040e-01, 2.56764680e-01,\n",
       "       2.58738360e-01, 2.60735280e-01, 2.62732400e-01, 2.64743360e-01,\n",
       "       2.66757120e-01, 2.68740200e-01, 2.70731800e-01, 2.72733640e-01,\n",
       "       2.74736160e-01, 2.76768920e-01, 2.78733920e-01, 2.80739240e-01,\n",
       "       2.82729840e-01, 2.84736120e-01, 2.86751080e-01, 2.88735760e-01,\n",
       "       2.90734080e-01, 2.92734040e-01, 2.94732840e-01, 2.96775920e-01,\n",
       "       2.98729680e-01, 3.00741560e-01, 3.02738720e-01, 3.04736520e-01,\n",
       "       3.06754040e-01, 3.08731520e-01, 3.10769640e-01, 3.12734000e-01,\n",
       "       3.14733080e-01, 3.16744000e-01, 3.18727080e-01, 3.20769000e-01,\n",
       "       3.22725560e-01, 3.24725520e-01, 3.26750560e-01, 3.28737120e-01,\n",
       "       3.30734280e-01, 3.32731640e-01, 3.34734160e-01, 3.36748200e-01,\n",
       "       3.38732880e-01, 3.40774800e-01, 3.42729760e-01, 3.44736000e-01,\n",
       "       3.46746960e-01, 3.48734720e-01, 3.50774760e-01, 3.52731320e-01,\n",
       "       3.54759400e-01, 3.56763200e-01, 3.58732880e-01, 3.60733800e-01,\n",
       "       3.62728800e-01, 3.64778200e-01, 3.66746280e-01, 3.68732840e-01,\n",
       "       3.70727880e-01, 3.72728760e-01, 3.74743480e-01, 3.76810680e-01,\n",
       "       3.78747000e-01, 3.80737440e-01, 3.82736120e-01, 3.84766640e-01,\n",
       "       3.86783320e-01, 3.88751960e-01, 3.90743120e-01, 3.92735440e-01,\n",
       "       3.94781920e-01, 3.96760840e-01, 3.98750440e-01, 4.00739000e-01,\n",
       "       4.02735760e-01, 4.04737240e-01, 4.06765200e-01, 4.08749760e-01,\n",
       "       4.10737160e-01, 4.12738880e-01, 4.14736560e-01, 4.16761480e-01,\n",
       "       4.18771920e-01, 4.20739200e-01, 4.22746280e-01, 4.24737640e-01,\n",
       "       4.26756000e-01, 4.28738000e-01, 4.30740400e-01, 4.32736240e-01,\n",
       "       4.34734160e-01, 4.36753440e-01, 4.38792400e-01, 4.40741600e-01,\n",
       "       4.42740560e-01, 4.44735720e-01, 4.46754960e-01, 4.48737000e-01,\n",
       "       4.50735640e-01, 4.52738280e-01, 4.54735960e-01, 4.56777040e-01,\n",
       "       4.58744760e-01, 4.60742280e-01, 4.62760600e-01, 4.64739800e-01,\n",
       "       4.66758120e-01, 4.68742960e-01, 4.70740680e-01, 4.72746120e-01,\n",
       "       4.74736560e-01, 4.76769920e-01, 4.78745360e-01, 4.80738360e-01,\n",
       "       4.82793520e-01, 4.84742080e-01, 4.86756280e-01, 4.88746360e-01,\n",
       "       4.90740200e-01, 4.92740600e-01, 4.94739120e-01, 4.96759880e-01,\n",
       "       4.98738720e-01, 5.00738160e-01, 5.02736240e-01, 5.04796160e-01,\n",
       "       5.06791400e-01, 5.08745160e-01, 5.10738040e-01, 5.12741280e-01,\n",
       "       5.14744480e-01, 5.16756120e-01, 5.18740800e-01, 5.20737440e-01,\n",
       "       5.22736920e-01, 5.24776000e-01, 5.26801080e-01, 5.28743600e-01,\n",
       "       5.30739280e-01, 5.32738040e-01, 5.34739400e-01, 5.36765360e-01,\n",
       "       5.38737840e-01, 5.40757920e-01, 5.42742640e-01, 5.44746080e-01,\n",
       "       5.46759440e-01, 5.48740360e-01, 5.50756720e-01, 5.52738600e-01,\n",
       "       5.54736440e-01, 5.56752080e-01, 5.58739600e-01, 5.60739280e-01,\n",
       "       5.62742760e-01, 5.64730280e-01, 5.66759040e-01, 5.68742800e-01,\n",
       "       5.70770000e-01, 5.72735920e-01, 5.74734680e-01, 5.76760640e-01,\n",
       "       5.78736920e-01, 5.80768480e-01, 5.82736320e-01, 5.84860720e-01,\n",
       "       5.90716800e-01, 5.91805640e-01, 5.93158120e-01, 5.94822600e-01,\n",
       "       5.96784800e-01, 5.98746080e-01, 6.00738280e-01, 6.02781120e-01,\n",
       "       6.04743240e-01, 6.06758880e-01, 6.08731400e-01, 6.10729240e-01,\n",
       "       6.12728240e-01, 6.14761720e-01, 6.16768920e-01, 6.18733920e-01,\n",
       "       6.20726080e-01, 6.22726720e-01, 6.24771400e-01, 6.26786120e-01,\n",
       "       6.28776400e-01, 6.30729080e-01, 6.32727840e-01, 6.34730320e-01,\n",
       "       6.36759080e-01, 6.38738160e-01, 6.40732160e-01, 6.42728120e-01,\n",
       "       6.44731560e-01, 6.46762200e-01, 6.48758120e-01, 6.50727800e-01,\n",
       "       6.52725640e-01, 6.54726520e-01, 6.56761880e-01, 6.58775640e-01,\n",
       "       6.60728400e-01, 6.62732800e-01, 6.64730600e-01, 6.66770560e-01,\n",
       "       6.68791840e-01, 6.70738120e-01, 6.72733880e-01, 6.74731680e-01,\n",
       "       6.76770760e-01, 6.78772280e-01, 6.80746680e-01, 6.82739840e-01,\n",
       "       6.84739480e-01, 6.86756040e-01, 6.88742640e-01, 6.90735720e-01,\n",
       "       6.92750400e-01, 6.94735120e-01, 6.96777880e-01, 6.98755400e-01,\n",
       "       7.00740080e-01, 7.02736040e-01, 7.04737560e-01, 7.06763520e-01,\n",
       "       7.08738840e-01, 7.10734760e-01, 7.12768200e-01, 7.14745400e-01,\n",
       "       7.16755920e-01, 7.18733040e-01, 7.20734640e-01, 7.22739040e-01,\n",
       "       7.24734040e-01, 7.26749640e-01, 7.28740880e-01, 7.30789360e-01,\n",
       "       7.32738440e-01, 7.34736200e-01, 7.36765880e-01, 7.38733720e-01,\n",
       "       7.40730920e-01, 7.42734360e-01, 7.44737760e-01, 7.46753400e-01,\n",
       "       7.48733440e-01, 7.50762200e-01, 7.52763760e-01, 7.54747520e-01,\n",
       "       7.56792200e-01, 7.58734280e-01, 7.60736760e-01, 7.62747720e-01,\n",
       "       7.64739920e-01, 7.66752760e-01, 7.68738400e-01, 7.70753040e-01,\n",
       "       7.72734000e-01, 7.74730320e-01, 7.76756640e-01, 7.78737040e-01,\n",
       "       7.80740880e-01, 7.82733760e-01, 7.84733840e-01, 7.86747040e-01,\n",
       "       7.88735800e-01, 7.90737760e-01, 7.92736920e-01, 7.94733240e-01,\n",
       "       7.96750200e-01, 7.98739960e-01, 8.00753680e-01, 8.02734080e-01,\n",
       "       8.04730400e-01, 8.06750160e-01, 8.08735240e-01, 8.10734360e-01,\n",
       "       8.12731640e-01, 8.14771080e-01, 8.16752400e-01, 8.18732800e-01,\n",
       "       8.20728200e-01, 8.22729200e-01, 8.24776160e-01, 8.26752160e-01,\n",
       "       8.28730680e-01, 8.30731680e-01, 8.32728960e-01, 8.34731840e-01,\n",
       "       8.36747840e-01, 8.38734800e-01, 8.40736760e-01, 8.42726080e-01,\n",
       "       8.44768360e-01, 8.46746840e-01, 8.48728160e-01, 8.50726360e-01,\n",
       "       8.52732080e-01, 8.54765920e-01, 8.56745360e-01, 8.58812960e-01,\n",
       "       8.60738960e-01, 8.62731520e-01, 8.64726920e-01, 8.66758840e-01,\n",
       "       8.68778000e-01, 8.70729320e-01, 8.72728440e-01, 8.74728520e-01,\n",
       "       8.76750160e-01, 8.78766200e-01, 8.80730640e-01, 8.82734480e-01,\n",
       "       8.84730680e-01, 8.86750440e-01, 8.88764560e-01, 8.90734640e-01,\n",
       "       8.92731920e-01, 8.94725400e-01, 8.96758320e-01, 8.98768680e-01,\n",
       "       9.00733160e-01, 9.02724760e-01, 9.04730480e-01, 9.06751200e-01,\n",
       "       9.08732520e-01, 9.10729160e-01, 9.12724520e-01, 9.14725560e-01,\n",
       "       9.16764080e-01, 9.18729440e-01, 9.20732320e-01, 9.22751160e-01,\n",
       "       9.24726840e-01, 9.26750360e-01, 9.28732200e-01, 9.30733200e-01,\n",
       "       9.32729520e-01, 9.34726800e-01, 9.36745640e-01, 9.38727880e-01,\n",
       "       9.40730760e-01, 9.42763680e-01, 9.44727160e-01, 9.46742240e-01,\n",
       "       9.48727320e-01, 9.50722720e-01, 9.52727480e-01, 9.54726920e-01,\n",
       "       9.56749520e-01, 9.58734600e-01, 9.60729960e-01, 9.62727240e-01,\n",
       "       9.64729200e-01, 9.66759280e-01, 9.68738720e-01, 9.70728040e-01,\n",
       "       9.72729040e-01, 9.74727240e-01, 9.76744200e-01, 9.78729280e-01,\n",
       "       9.80726520e-01, 9.82725680e-01, 9.84725760e-01, 9.86840200e-01,\n",
       "       9.88732480e-01, 9.90725960e-01, 9.92729800e-01, 9.94726120e-01,\n",
       "       9.96744320e-01, 9.98726600e-01, 1.00073040e+00, 1.00272392e+00,\n",
       "       1.00473620e+00, 1.00676064e+00, 1.00873260e+00, 1.01073080e+00,\n",
       "       1.01272480e+00, 1.01472488e+00, 1.01674276e+00, 1.01872972e+00,\n",
       "       1.02072512e+00, 1.02272048e+00, 1.02472528e+00, 1.02674032e+00,\n",
       "       1.02873196e+00, 1.03076392e+00, 1.03272556e+00, 1.03472188e+00,\n",
       "       1.03674164e+00, 1.03872612e+00, 1.04072616e+00, 1.04272436e+00,\n",
       "       1.04475632e+00, 1.04674328e+00, 1.04872556e+00, 1.05073124e+00,\n",
       "       1.05273696e+00, 1.05476232e+00, 1.05674324e+00, 1.05873204e+00,\n",
       "       1.06072464e+00, 1.06272468e+00, 1.06472384e+00, 1.06674268e+00,\n",
       "       1.06873148e+00, 1.07072408e+00, 1.07273352e+00, 1.07476920e+00,\n",
       "       1.07675056e+00, 1.07872904e+00, 1.08072068e+00, 1.08276420e+00,\n",
       "       1.08475208e+00, 1.08674184e+00, 1.08874664e+00, 1.09072324e+00,\n",
       "       1.09272240e+00, 1.09472808e+00, 1.09674692e+00, 1.09876532e+00,\n",
       "       1.10072224e+00, 1.10272328e+00, 1.10472616e+00, 1.10674312e+00,\n",
       "       1.10872820e+00, 1.11072356e+00, 1.11272928e+00, 1.11472936e+00,\n",
       "       1.11674444e+00, 1.11875200e+00, 1.12072112e+00, 1.12272216e+00,\n",
       "       1.12471880e+00, 1.12673012e+00, 1.12875080e+00, 1.13071716e+00,\n",
       "       1.13272096e+00, 1.13471636e+00, 1.13675112e+00, 1.13872732e+00,\n",
       "       1.14072272e+00, 1.14272372e+00, 1.14472284e+00, 1.14674448e+00,\n",
       "       1.14872112e+00, 1.15071744e+00, 1.15274380e+00, 1.15472512e+00,\n",
       "       1.15674208e+00, 1.15872056e+00, 1.16072252e+00, 1.16272448e+00,\n",
       "       1.16472268e+00, 1.16673900e+00, 1.16876064e+00, 1.17072604e+00,\n",
       "       1.17277204e+00, 1.17472336e+00, 1.17674784e+00, 1.17873104e+00,\n",
       "       1.18072924e+00, 1.18271948e+00, 1.18471956e+00, 1.18673556e+00,\n",
       "       1.18872344e+00, 1.19071980e+00, 1.19272172e+00, 1.19471620e+00,\n",
       "       1.19676972e+00, 1.19872572e+00, 1.20071924e+00, 1.20272680e+00,\n",
       "       1.20471936e+00, 1.20674008e+00, 1.20872236e+00, 1.21076868e+00,\n",
       "       1.21272376e+00, 1.21471724e+00, 1.21677732e+00, 1.21872208e+00,\n",
       "       1.22072592e+00, 1.22272788e+00, 1.22471812e+00, 1.22673696e+00,\n",
       "       1.22872204e+00, 1.23072024e+00, 1.23271844e+00, 1.23471944e+00,\n",
       "       1.23673828e+00, 1.23872804e+00, 1.24073936e+00, 1.24272444e+00,\n",
       "       1.24472172e+00, 1.24673396e+00, 1.24872372e+00, 1.25071816e+00,\n",
       "       1.25271764e+00, 1.25472052e+00, 1.25673464e+00, 1.25871880e+00,\n",
       "       1.26075636e+00, 1.26271896e+00, 1.26472560e+00, 1.26673208e+00,\n",
       "       1.26871904e+00, 1.27071820e+00, 1.27272012e+00, 1.27473896e+00,\n",
       "       1.27673528e+00, 1.27875788e+00, 1.28072420e+00, 1.28271864e+00,\n",
       "       1.28473372e+00, 1.28673660e+00, 1.28872356e+00, 1.29071892e+00,\n",
       "       1.29271996e+00, 1.29471752e+00, 1.29673728e+00, 1.29871860e+00,\n",
       "       1.30081900e+00, 1.30276752e+00, 1.30478728e+00, 1.30676956e+00,\n",
       "       1.30873200e+00, 1.31072552e+00, 1.31272748e+00, 1.31473880e+00,\n",
       "       1.31675760e+00, 1.31876896e+00, 1.32072212e+00, 1.32271752e+00,\n",
       "       1.32472324e+00, 1.32675144e+00, 1.32877308e+00, 1.33072344e+00,\n",
       "       1.33272164e+00, 1.33471984e+00, 1.33674524e+00, 1.33877564e+00,\n",
       "       1.34072228e+00, 1.34272236e+00, 1.34472056e+00, 1.34674780e+00,\n",
       "       1.34877228e+00, 1.35071940e+00, 1.35272228e+00, 1.35472048e+00,\n",
       "       1.35674680e+00, 1.35876940e+00, 1.36071884e+00, 1.36274140e+00,\n",
       "       1.36472180e+00, 1.36673124e+00, 1.36872100e+00, 1.37072484e+00,\n",
       "       1.37273804e+00, 1.37472124e+00, 1.37673912e+00, 1.37871952e+00,\n",
       "       1.38072180e+00, 1.38273780e+00, 1.38472100e+00, 1.38673420e+00,\n",
       "       1.38872020e+00, 1.39071936e+00, 1.39276068e+00, 1.39471624e+00,\n",
       "       1.39673884e+00, 1.39872108e+00, 1.40071928e+00, 1.40285440e+00,\n",
       "       1.40472508e+00, 1.40673828e+00, 1.40872428e+00, 1.41072528e+00,\n",
       "       1.41271976e+00, 1.41471980e+00, 1.41673772e+00, 1.41871716e+00,\n",
       "       1.42071724e+00, 1.42271292e+00, 1.42471396e+00, 1.42679276e+00,\n",
       "       1.42872252e+00, 1.43071700e+00, 1.43271612e+00, 1.43472464e+00,\n",
       "       1.43673832e+00, 1.43871872e+00, 1.44071972e+00, 1.44271608e+00,\n",
       "       1.44471428e+00, 1.44677152e+00, 1.44872192e+00, 1.45072388e+00,\n",
       "       1.45271736e+00, 1.45471652e+00, 1.45673536e+00, 1.45872416e+00,\n",
       "       1.46071676e+00, 1.46271308e+00, 1.46471408e+00, 1.46677916e+00,\n",
       "       1.46871924e+00, 1.47074368e+00, 1.47271376e+00, 1.47471008e+00,\n",
       "       1.47673452e+00, 1.47871856e+00, 1.48071864e+00, 1.48271776e+00,\n",
       "       1.48471504e+00, 1.48673196e+00, 1.48872080e+00, 1.49073776e+00,\n",
       "       1.49271440e+00, 1.49471260e+00, 1.49673048e+00, 1.49871648e+00,\n",
       "       1.50128520e+00, 1.50277572e+00, 1.50473360e+00, 1.50676556e+00,\n",
       "       1.50872844e+00, 1.51072384e+00, 1.51271828e+00, 1.51471740e+00,\n",
       "       1.51674092e+00, 1.51872036e+00, 1.52071908e+00, 1.52271632e+00,\n",
       "       1.52471828e+00, 1.52674744e+00, 1.52871564e+00, 1.53072416e+00,\n",
       "       1.53271392e+00, 1.53473272e+00, 1.53673936e+00, 1.53872352e+00,\n",
       "       1.54071516e+00, 1.54271428e+00, 1.54471716e+00, 1.54675008e+00,\n",
       "       1.54875764e+00, 1.55072240e+00, 1.55272060e+00, 1.55471784e+00,\n",
       "       1.55674980e+00, 1.55875740e+00, 1.56071620e+00, 1.56277160e+00,\n",
       "       1.56472248e+00, 1.56673756e+00, 1.56872172e+00, 1.57071616e+00,\n",
       "       1.57271996e+00, 1.57472568e+00, 1.57674356e+00, 1.57877084e+00,\n",
       "       1.58071840e+00, 1.58272224e+00, 1.59013364e+00, 1.59121192e+00,\n",
       "       1.59281068e+00, 1.59472764e+00, 1.59675488e+00, 1.59872588e+00,\n",
       "       1.60072316e+00, 1.60275700e+00, 1.60472144e+00, 1.60674264e+00,\n",
       "       1.60871832e+00, 1.61070996e+00, 1.61271944e+00, 1.61470824e+00,\n",
       "       1.61674584e+00, 1.61871496e+00, 1.62071036e+00, 1.62273480e+00,\n",
       "       1.62470676e+00, 1.62673684e+00, 1.62871064e+00, 1.63071168e+00,\n",
       "       1.63274364e+00, 1.63470900e+00, 1.63670940e+00, 1.63870292e+00,\n",
       "       1.64068800e+00, 1.64268432e+00, 1.64468532e+00, 1.64669244e+00,\n",
       "       1.64867940e+00, 1.65067572e+00, 1.65267112e+00, 1.65467776e+00,\n",
       "       1.65672848e+00, 1.65866008e+00, 1.66064800e+00, 1.66265180e+00,\n",
       "       1.66465096e+00, 1.66666884e+00, 1.66865016e+00, 1.67064272e+00,\n",
       "       1.67264844e+00, 1.67464288e+00, 1.67676296e+00, 1.67864616e+00,\n",
       "       1.68063968e+00, 1.68263508e+00, 1.68463984e+00, 1.68670928e+00,\n",
       "       1.68863768e+00, 1.69064744e+00, 1.69263064e+00, 1.69473664e+00,\n",
       "       1.69700908e+00, 1.69871148e+00, 1.70074064e+00, 1.70264320e+00,\n",
       "       1.70464420e+00, 1.70672492e+00, 1.70863872e+00, 1.71063132e+00,\n",
       "       1.71263044e+00, 1.71462864e+00, 1.71672812e+00, 1.71864568e+00,\n",
       "       1.72071044e+00, 1.72264052e+00, 1.72464060e+00, 1.72672316e+00,\n",
       "       1.72864916e+00, 1.73063568e+00, 1.73263700e+00, 1.73467836e+00,\n",
       "       1.73672716e+00, 1.73864756e+00, 1.74064480e+00, 1.74264396e+00,\n",
       "       1.74468340e+00, 1.74668256e+00, 1.74864888e+00, 1.75064708e+00,\n",
       "       1.75264432e+00, 1.75464252e+00, 1.75666044e+00, 1.75865768e+00,\n",
       "       1.76064556e+00, 1.76264472e+00, 1.76466292e+00, 1.76666300e+00,\n",
       "       1.76864808e+00, 1.77065000e+00, 1.77264308e+00, 1.77463940e+00,\n",
       "       1.77671544e+00, 1.77867612e+00, 1.78064432e+00, 1.78263880e+00,\n",
       "       1.78463884e+00, 1.78665392e+00, 1.78869712e+00, 1.79065316e+00,\n",
       "       1.79264196e+00, 1.79464300e+00, 1.79671152e+00, 1.79864032e+00,\n",
       "       1.80063852e+00, 1.80264048e+00, 1.80463492e+00, 1.80670752e+00,\n",
       "       1.80872916e+00, 1.81069172e+00, 1.81268804e+00, 1.81469468e+00,\n",
       "       1.81671352e+00, 1.81870952e+00, 1.82063648e+00, 1.82276500e+00,\n",
       "       1.82464320e+00, 1.82671264e+00, 1.82863864e+00, 1.83064152e+00,\n",
       "       1.83263972e+00, 1.83463604e+00, 1.83670176e+00, 1.83864184e+00,\n",
       "       1.84064284e+00, 1.84264856e+00, 1.84464300e+00, 1.84665056e+00,\n",
       "       1.84864692e+00, 1.85064072e+00, 1.85271300e+00, 1.85464652e+00,\n",
       "       1.85666720e+00, 1.85864620e+00, 1.86064440e+00, 1.86273544e+00,\n",
       "       1.86464364e+00, 1.86665684e+00, 1.86864472e+00, 1.87064200e+00,\n",
       "       1.87263736e+00, 1.87463464e+00, 1.87674348e+00, 1.87875760e+00,\n",
       "       1.88070144e+00, 1.88269024e+00, 1.88469128e+00, 1.88672136e+00,\n",
       "       1.88869236e+00, 1.89068868e+00, 1.89268720e+00, 1.89468352e+00,\n",
       "       1.89672672e+00, 1.89869024e+00, 1.90069592e+00, 1.90268464e+00,\n",
       "       1.90468848e+00, 1.90672884e+00, 1.90868768e+00, 1.91068492e+00,\n",
       "       1.91268688e+00, 1.91468228e+00, 1.91670580e+00, 1.91873400e+00,\n",
       "       1.92068812e+00, 1.92269100e+00, 1.92468548e+00, 1.92670900e+00,\n",
       "       1.92864060e+00, 1.93067068e+00, 1.93264264e+00, 1.93463832e+00,\n",
       "       1.93670500e+00, 1.93864132e+00, 1.94064512e+00, 1.94263632e+00,\n",
       "       1.94463828e+00, 1.94665148e+00, 1.94864032e+00, 1.95072572e+00,\n",
       "       1.95264328e+00, 1.95463772e+00, 1.95665468e+00, 1.95864348e+00,\n",
       "       1.96063984e+00, 1.96263332e+00, 1.96466716e+00, 1.96670192e+00,\n",
       "       1.96864200e+00, 1.97063552e+00, 1.97263652e+00, 1.97465816e+00,\n",
       "       1.97666292e+00, 1.97863800e+00, 1.98064184e+00, 1.98265316e+00,\n",
       "       1.98463968e+00, 1.98664912e+00, 1.98864168e+00, 1.99064364e+00,\n",
       "       1.99263808e+00, 1.99472160e+00, 1.99665324e+00, 1.99864112e+00,\n",
       "       2.00064028e+00, 2.00263564e+00, 2.00463572e+00, 2.00670988e+00])"
      ]
     },
     "execution_count": 444,
     "metadata": {},
     "output_type": "execute_result"
    }
   ],
   "source": [
    "col_6.falling_edges"
   ]
  },
  {
   "cell_type": "code",
   "execution_count": 445,
   "id": "political-corner",
   "metadata": {},
   "outputs": [
    {
     "data": {
      "text/plain": [
       "array([0.        , 0.001745  , 0.00374204, 0.0057514 , 0.00774188])"
      ]
     },
     "execution_count": 445,
     "metadata": {},
     "output_type": "execute_result"
    }
   ],
   "source": [
    "t_ISR[0:5]"
   ]
  },
  {
   "cell_type": "code",
   "execution_count": 446,
   "id": "brutal-contribution",
   "metadata": {},
   "outputs": [
    {
     "data": {
      "text/plain": [
       "array([0.00106948, 0.0030808 , 0.00734204, 0.00912556, 0.01080076])"
      ]
     },
     "execution_count": 446,
     "metadata": {},
     "output_type": "execute_result"
    }
   ],
   "source": [
    "col_6.falling_edges[0:5]"
   ]
  },
  {
   "cell_type": "code",
   "execution_count": 449,
   "id": "other-might",
   "metadata": {},
   "outputs": [],
   "source": [
    "control_ISR_dt = col_6.falling_edges - t_ISR[0:len(col_6.falling_edges)]"
   ]
  },
  {
   "cell_type": "markdown",
   "id": "fourth-helena",
   "metadata": {},
   "source": [
    "## Note\n",
    "\n",
    "The raspberry pi glitches out for more than one time step, so the subtraction above doesn't fully make sense.  I am not sure how to quantify whether or not the RPi catches back up once is recovers from the glitch.  These leads to more t_ISR events than col_6.falling edges."
   ]
  },
  {
   "cell_type": "code",
   "execution_count": 450,
   "id": "funny-latter",
   "metadata": {},
   "outputs": [
    {
     "data": {
      "text/plain": [
       "Text(0.5, 0, 'Loop Count')"
      ]
     },
     "execution_count": 450,
     "metadata": {},
     "output_type": "execute_result"
    },
    {
     "data": {
      "image/png": "[encoded data removed]",
      "text/plain": [
       "<Figure size 432x288 with 1 Axes>"
      ]
     },
     "metadata": {
      "needs_background": "light"
     },
     "output_type": "display_data"
    }
   ],
   "source": [
    "plt.figure()\n",
    "plt.plot(control_ISR_dt)\n",
    "plt.ylabel('Time from ISR to end of\\nArduino processing (sec.)')\n",
    "plt.xlabel('Loop Count')"
   ]
  },
  {
   "cell_type": "code",
   "execution_count": 451,
   "id": "mineral-physiology",
   "metadata": {},
   "outputs": [
    {
     "data": {
      "text/plain": [
       "array([  2,   3,   4,   5,   6,   7,   8,   9,  10,  11,  12,  13,  14,\n",
       "        15,  16,  17,  18,  19,  20,  21,  22,  23,  24,  25,  26,  27,\n",
       "        28,  29,  30,  31,  32,  33,  34,  35,  36,  37,  38,  39,  40,\n",
       "        41,  42,  43,  44,  45,  46,  47,  48,  49,  50,  51,  52,  53,\n",
       "        54,  55,  56,  57,  58,  59,  60,  61,  62,  63,  64,  65,  66,\n",
       "        67,  68,  69,  70,  71,  72,  73,  74,  75,  76,  77,  78,  79,\n",
       "        80,  81,  82,  83,  84,  85,  86,  87,  88,  89,  90,  91,  92,\n",
       "        93,  94,  95,  96,  97,  98,  99, 100, 101, 102, 103, 104, 105,\n",
       "       106, 107, 108, 109, 110, 111, 112, 113, 114, 115, 116, 117, 118,\n",
       "       119, 120, 121, 122, 123, 124, 125, 126, 127, 128, 129, 130, 131,\n",
       "       132, 133, 134, 135, 136, 137, 138, 139, 140, 141, 142, 143, 144,\n",
       "       145, 146, 147, 148, 149, 150, 151, 152, 153, 154, 155, 156, 157,\n",
       "       158, 159, 160, 161, 162, 163, 164, 165, 166, 167, 168, 169, 170,\n",
       "       171, 172, 173, 174, 175, 176, 177, 178, 179, 180, 181, 182, 183,\n",
       "       184, 185, 186, 187, 188, 189, 190, 191, 192, 193, 194, 195, 196,\n",
       "       197, 198, 199, 200, 201, 202, 203, 204, 205, 206, 207, 208, 209,\n",
       "       210, 211, 212, 213, 214, 215, 216, 217, 218, 219, 220, 221, 222,\n",
       "       223, 224, 225, 226, 227, 228, 229, 230, 231, 232, 233, 234, 235,\n",
       "       236, 237, 238, 239, 240, 241, 242, 243, 244, 245, 246, 247, 248,\n",
       "       249, 250, 251, 252, 253, 254, 255, 256, 257, 258, 259, 260, 261,\n",
       "       262, 263, 264, 265, 266, 267, 268, 269, 270, 271, 272, 273, 274,\n",
       "       275, 276, 277, 278, 279, 280, 281, 282, 283, 284, 285, 286, 287,\n",
       "       288, 289, 290, 291, 292, 293, 294, 295, 296, 297, 298, 299, 300,\n",
       "       301, 302, 303, 304, 305, 306, 307, 308, 309, 310, 311, 312, 313,\n",
       "       314, 315, 316, 317, 318, 319, 320, 321, 322, 323, 324, 325, 326,\n",
       "       327, 328, 329, 330, 331, 332, 333, 334, 335, 336, 337, 338, 339,\n",
       "       340, 341, 342, 343, 344, 345, 346, 347, 348, 349, 350, 351, 352,\n",
       "       353, 354, 355, 356, 357, 358, 359, 360, 361, 362, 363, 364, 365,\n",
       "       366, 367, 368, 369, 370, 371, 372, 373, 374, 375, 376, 377, 378,\n",
       "       379, 380, 381, 382, 383, 384, 385, 386, 387, 388, 389, 390, 391,\n",
       "       392, 393, 394, 395, 396, 397, 398, 399, 400, 401, 402, 403, 404,\n",
       "       405, 406, 407, 408, 409, 410, 411, 412, 413, 414, 415, 416, 417,\n",
       "       418, 419, 420, 421, 422, 423, 424, 425, 426, 427, 428, 429, 430,\n",
       "       431, 432, 433, 434, 435, 436, 437, 438, 439, 440, 441, 442, 443,\n",
       "       444, 445, 446, 447, 448, 449, 450, 451, 452, 453, 454, 455, 456,\n",
       "       457, 458, 459, 460, 461, 462, 463, 464, 465, 466, 467, 468, 469,\n",
       "       470, 471, 472, 473, 474, 475, 476, 477, 478, 479, 480, 481, 482,\n",
       "       483, 484, 485, 486, 487, 488, 489, 490, 491, 492, 493, 494, 495,\n",
       "       496, 497, 498, 499, 500, 501, 502, 503, 504, 505, 506, 507, 508,\n",
       "       509, 510, 511, 512, 513, 514, 515, 516, 517, 518, 519, 520, 521,\n",
       "       522, 523, 524, 525, 526, 527, 528, 529, 530, 531, 532, 533, 534,\n",
       "       535, 536, 537, 538, 539, 540, 541, 542, 543, 544, 545, 546, 547,\n",
       "       548, 549, 550, 551, 552, 553, 554, 555, 556, 557, 558, 559, 560,\n",
       "       561, 562, 563, 564, 565, 566, 567, 568, 569, 570, 571, 572, 573,\n",
       "       574, 575, 576, 577, 578, 579, 580, 581, 582, 583, 584, 585, 586,\n",
       "       587, 588, 589, 590, 591, 592, 593, 594, 595, 596, 597, 598, 599,\n",
       "       600, 601, 602, 603, 604, 605, 606, 607, 608, 609, 610, 611, 612,\n",
       "       613, 614, 615, 616, 617, 618, 619, 620, 621, 622, 623, 624, 625,\n",
       "       626, 627, 628, 629, 630, 631, 632, 633, 634, 635, 636, 637, 638,\n",
       "       639, 640, 641, 642, 643, 644, 645, 646, 647, 648, 649, 650, 651,\n",
       "       652, 653, 654, 655, 656, 657, 658, 659, 660, 661, 662, 663, 664,\n",
       "       665, 666, 667, 668, 669, 670, 671, 672, 673, 674, 675, 676, 677,\n",
       "       678, 679, 680, 681, 682, 683, 684, 685, 686, 687, 688, 689, 690,\n",
       "       691, 692, 693, 694, 695, 696, 697, 698, 699, 700, 701, 702, 703,\n",
       "       704, 705, 706, 707, 708, 709, 710, 711, 712, 713, 714, 715, 716,\n",
       "       717, 718, 719, 720, 721, 722, 723, 724, 725, 726, 727, 728, 729,\n",
       "       730, 731, 732, 733, 734, 735, 736, 737, 738, 739, 740, 741, 742,\n",
       "       743, 744, 745, 746, 747, 748, 749, 750, 751, 752, 753, 754, 755,\n",
       "       756, 757, 758, 759, 760, 761, 762, 763, 764, 765, 766, 767, 768,\n",
       "       769, 770, 771, 772, 773, 774, 775, 776, 777, 778, 779, 780, 781,\n",
       "       782, 783, 784, 785, 786, 787, 788, 789, 790, 791, 792, 793, 794,\n",
       "       795, 796, 797, 798, 799, 800, 801, 802, 803, 804, 805, 806, 807,\n",
       "       808, 809, 810, 811, 812, 813, 814, 815, 816, 817, 818, 819, 820,\n",
       "       821, 822, 823, 824, 825, 826, 827, 828, 829, 830, 831, 832, 833,\n",
       "       834, 835, 836, 837, 838, 839, 840, 841, 842, 843, 844, 845, 846,\n",
       "       847, 848, 849, 850, 851, 852, 853, 854, 855, 856, 857, 858, 859,\n",
       "       860, 861, 862, 863, 864, 865, 866, 867, 868, 869, 870, 871, 872,\n",
       "       873, 874, 875, 876, 877, 878, 879, 880, 881, 882, 883, 884, 885,\n",
       "       886, 887, 888, 889, 890, 891, 892, 893, 894, 895, 896, 897, 898,\n",
       "       899, 900, 901, 902, 903, 904, 905, 906, 907, 908, 909, 910, 911,\n",
       "       912, 913, 914, 915, 916, 917, 918, 919, 920, 921, 922, 923, 924,\n",
       "       925, 926, 927, 928, 929, 930, 931, 932, 933, 934, 935, 936, 937,\n",
       "       938, 939, 940, 941, 942, 943, 944, 945, 946, 947, 948, 949, 950,\n",
       "       951, 952, 953, 954, 955, 956, 957, 958, 959, 960, 961, 962, 963,\n",
       "       964, 965, 966, 967, 968, 969, 970, 971, 972, 973, 974, 975, 976,\n",
       "       977, 978, 979, 980, 981, 982, 983, 984, 985, 986, 987, 988, 989,\n",
       "       990, 991, 992, 993, 994, 995, 996, 997, 998, 999])"
      ]
     },
     "execution_count": 451,
     "metadata": {},
     "output_type": "execute_result"
    }
   ],
   "source": [
    "bad_inds = np.where(control_ISR_dt > 0.002)[0]\n",
    "bad_inds"
   ]
  },
  {
   "cell_type": "code",
   "execution_count": 452,
   "id": "acquired-powder",
   "metadata": {},
   "outputs": [
    {
     "data": {
      "text/plain": [
       "4250"
      ]
     },
     "execution_count": 452,
     "metadata": {},
     "output_type": "execute_result"
    }
   ],
   "source": [
    "ind0 = np.where(mytest.t>0)[0][0]\n",
    "ind0"
   ]
  },
  {
   "cell_type": "code",
   "execution_count": 453,
   "id": "psychological-washer",
   "metadata": {},
   "outputs": [
    {
     "data": {
      "text/plain": [
       "array([4252, 4253, 4254, 4255, 4256, 4257, 4258, 4259, 4260, 4261, 4262,\n",
       "       4263, 4264, 4265, 4266, 4267, 4268, 4269, 4270, 4271, 4272, 4273,\n",
       "       4274, 4275, 4276, 4277, 4278, 4279, 4280, 4281, 4282, 4283, 4284,\n",
       "       4285, 4286, 4287, 4288, 4289, 4290, 4291, 4292, 4293, 4294, 4295,\n",
       "       4296, 4297, 4298, 4299, 4300, 4301, 4302, 4303, 4304, 4305, 4306,\n",
       "       4307, 4308, 4309, 4310, 4311, 4312, 4313, 4314, 4315, 4316, 4317,\n",
       "       4318, 4319, 4320, 4321, 4322, 4323, 4324, 4325, 4326, 4327, 4328,\n",
       "       4329, 4330, 4331, 4332, 4333, 4334, 4335, 4336, 4337, 4338, 4339,\n",
       "       4340, 4341, 4342, 4343, 4344, 4345, 4346, 4347, 4348, 4349, 4350,\n",
       "       4351, 4352, 4353, 4354, 4355, 4356, 4357, 4358, 4359, 4360, 4361,\n",
       "       4362, 4363, 4364, 4365, 4366, 4367, 4368, 4369, 4370, 4371, 4372,\n",
       "       4373, 4374, 4375, 4376, 4377, 4378, 4379, 4380, 4381, 4382, 4383,\n",
       "       4384, 4385, 4386, 4387, 4388, 4389, 4390, 4391, 4392, 4393, 4394,\n",
       "       4395, 4396, 4397, 4398, 4399, 4400, 4401, 4402, 4403, 4404, 4405,\n",
       "       4406, 4407, 4408, 4409, 4410, 4411, 4412, 4413, 4414, 4415, 4416,\n",
       "       4417, 4418, 4419, 4420, 4421, 4422, 4423, 4424, 4425, 4426, 4427,\n",
       "       4428, 4429, 4430, 4431, 4432, 4433, 4434, 4435, 4436, 4437, 4438,\n",
       "       4439, 4440, 4441, 4442, 4443, 4444, 4445, 4446, 4447, 4448, 4449,\n",
       "       4450, 4451, 4452, 4453, 4454, 4455, 4456, 4457, 4458, 4459, 4460,\n",
       "       4461, 4462, 4463, 4464, 4465, 4466, 4467, 4468, 4469, 4470, 4471,\n",
       "       4472, 4473, 4474, 4475, 4476, 4477, 4478, 4479, 4480, 4481, 4482,\n",
       "       4483, 4484, 4485, 4486, 4487, 4488, 4489, 4490, 4491, 4492, 4493,\n",
       "       4494, 4495, 4496, 4497, 4498, 4499, 4500, 4501, 4502, 4503, 4504,\n",
       "       4505, 4506, 4507, 4508, 4509, 4510, 4511, 4512, 4513, 4514, 4515,\n",
       "       4516, 4517, 4518, 4519, 4520, 4521, 4522, 4523, 4524, 4525, 4526,\n",
       "       4527, 4528, 4529, 4530, 4531, 4532, 4533, 4534, 4535, 4536, 4537,\n",
       "       4538, 4539, 4540, 4541, 4542, 4543, 4544, 4545, 4546, 4547, 4548,\n",
       "       4549, 4550, 4551, 4552, 4553, 4554, 4555, 4556, 4557, 4558, 4559,\n",
       "       4560, 4561, 4562, 4563, 4564, 4565, 4566, 4567, 4568, 4569, 4570,\n",
       "       4571, 4572, 4573, 4574, 4575, 4576, 4577, 4578, 4579, 4580, 4581,\n",
       "       4582, 4583, 4584, 4585, 4586, 4587, 4588, 4589, 4590, 4591, 4592,\n",
       "       4593, 4594, 4595, 4596, 4597, 4598, 4599, 4600, 4601, 4602, 4603,\n",
       "       4604, 4605, 4606, 4607, 4608, 4609, 4610, 4611, 4612, 4613, 4614,\n",
       "       4615, 4616, 4617, 4618, 4619, 4620, 4621, 4622, 4623, 4624, 4625,\n",
       "       4626, 4627, 4628, 4629, 4630, 4631, 4632, 4633, 4634, 4635, 4636,\n",
       "       4637, 4638, 4639, 4640, 4641, 4642, 4643, 4644, 4645, 4646, 4647,\n",
       "       4648, 4649, 4650, 4651, 4652, 4653, 4654, 4655, 4656, 4657, 4658,\n",
       "       4659, 4660, 4661, 4662, 4663, 4664, 4665, 4666, 4667, 4668, 4669,\n",
       "       4670, 4671, 4672, 4673, 4674, 4675, 4676, 4677, 4678, 4679, 4680,\n",
       "       4681, 4682, 4683, 4684, 4685, 4686, 4687, 4688, 4689, 4690, 4691,\n",
       "       4692, 4693, 4694, 4695, 4696, 4697, 4698, 4699, 4700, 4701, 4702,\n",
       "       4703, 4704, 4705, 4706, 4707, 4708, 4709, 4710, 4711, 4712, 4713,\n",
       "       4714, 4715, 4716, 4717, 4718, 4719, 4720, 4721, 4722, 4723, 4724,\n",
       "       4725, 4726, 4727, 4728, 4729, 4730, 4731, 4732, 4733, 4734, 4735,\n",
       "       4736, 4737, 4738, 4739, 4740, 4741, 4742, 4743, 4744, 4745, 4746,\n",
       "       4747, 4748, 4749, 4750, 4751, 4752, 4753, 4754, 4755, 4756, 4757,\n",
       "       4758, 4759, 4760, 4761, 4762, 4763, 4764, 4765, 4766, 4767, 4768,\n",
       "       4769, 4770, 4771, 4772, 4773, 4774, 4775, 4776, 4777, 4778, 4779,\n",
       "       4780, 4781, 4782, 4783, 4784, 4785, 4786, 4787, 4788, 4789, 4790,\n",
       "       4791, 4792, 4793, 4794, 4795, 4796, 4797, 4798, 4799, 4800, 4801,\n",
       "       4802, 4803, 4804, 4805, 4806, 4807, 4808, 4809, 4810, 4811, 4812,\n",
       "       4813, 4814, 4815, 4816, 4817, 4818, 4819, 4820, 4821, 4822, 4823,\n",
       "       4824, 4825, 4826, 4827, 4828, 4829, 4830, 4831, 4832, 4833, 4834,\n",
       "       4835, 4836, 4837, 4838, 4839, 4840, 4841, 4842, 4843, 4844, 4845,\n",
       "       4846, 4847, 4848, 4849, 4850, 4851, 4852, 4853, 4854, 4855, 4856,\n",
       "       4857, 4858, 4859, 4860, 4861, 4862, 4863, 4864, 4865, 4866, 4867,\n",
       "       4868, 4869, 4870, 4871, 4872, 4873, 4874, 4875, 4876, 4877, 4878,\n",
       "       4879, 4880, 4881, 4882, 4883, 4884, 4885, 4886, 4887, 4888, 4889,\n",
       "       4890, 4891, 4892, 4893, 4894, 4895, 4896, 4897, 4898, 4899, 4900,\n",
       "       4901, 4902, 4903, 4904, 4905, 4906, 4907, 4908, 4909, 4910, 4911,\n",
       "       4912, 4913, 4914, 4915, 4916, 4917, 4918, 4919, 4920, 4921, 4922,\n",
       "       4923, 4924, 4925, 4926, 4927, 4928, 4929, 4930, 4931, 4932, 4933,\n",
       "       4934, 4935, 4936, 4937, 4938, 4939, 4940, 4941, 4942, 4943, 4944,\n",
       "       4945, 4946, 4947, 4948, 4949, 4950, 4951, 4952, 4953, 4954, 4955,\n",
       "       4956, 4957, 4958, 4959, 4960, 4961, 4962, 4963, 4964, 4965, 4966,\n",
       "       4967, 4968, 4969, 4970, 4971, 4972, 4973, 4974, 4975, 4976, 4977,\n",
       "       4978, 4979, 4980, 4981, 4982, 4983, 4984, 4985, 4986, 4987, 4988,\n",
       "       4989, 4990, 4991, 4992, 4993, 4994, 4995, 4996, 4997, 4998, 4999,\n",
       "       5000, 5001, 5002, 5003, 5004, 5005, 5006, 5007, 5008, 5009, 5010,\n",
       "       5011, 5012, 5013, 5014, 5015, 5016, 5017, 5018, 5019, 5020, 5021,\n",
       "       5022, 5023, 5024, 5025, 5026, 5027, 5028, 5029, 5030, 5031, 5032,\n",
       "       5033, 5034, 5035, 5036, 5037, 5038, 5039, 5040, 5041, 5042, 5043,\n",
       "       5044, 5045, 5046, 5047, 5048, 5049, 5050, 5051, 5052, 5053, 5054,\n",
       "       5055, 5056, 5057, 5058, 5059, 5060, 5061, 5062, 5063, 5064, 5065,\n",
       "       5066, 5067, 5068, 5069, 5070, 5071, 5072, 5073, 5074, 5075, 5076,\n",
       "       5077, 5078, 5079, 5080, 5081, 5082, 5083, 5084, 5085, 5086, 5087,\n",
       "       5088, 5089, 5090, 5091, 5092, 5093, 5094, 5095, 5096, 5097, 5098,\n",
       "       5099, 5100, 5101, 5102, 5103, 5104, 5105, 5106, 5107, 5108, 5109,\n",
       "       5110, 5111, 5112, 5113, 5114, 5115, 5116, 5117, 5118, 5119, 5120,\n",
       "       5121, 5122, 5123, 5124, 5125, 5126, 5127, 5128, 5129, 5130, 5131,\n",
       "       5132, 5133, 5134, 5135, 5136, 5137, 5138, 5139, 5140, 5141, 5142,\n",
       "       5143, 5144, 5145, 5146, 5147, 5148, 5149, 5150, 5151, 5152, 5153,\n",
       "       5154, 5155, 5156, 5157, 5158, 5159, 5160, 5161, 5162, 5163, 5164,\n",
       "       5165, 5166, 5167, 5168, 5169, 5170, 5171, 5172, 5173, 5174, 5175,\n",
       "       5176, 5177, 5178, 5179, 5180, 5181, 5182, 5183, 5184, 5185, 5186,\n",
       "       5187, 5188, 5189, 5190, 5191, 5192, 5193, 5194, 5195, 5196, 5197,\n",
       "       5198, 5199, 5200, 5201, 5202, 5203, 5204, 5205, 5206, 5207, 5208,\n",
       "       5209, 5210, 5211, 5212, 5213, 5214, 5215, 5216, 5217, 5218, 5219,\n",
       "       5220, 5221, 5222, 5223, 5224, 5225, 5226, 5227, 5228, 5229, 5230,\n",
       "       5231, 5232, 5233, 5234, 5235, 5236, 5237, 5238, 5239, 5240, 5241,\n",
       "       5242, 5243, 5244, 5245, 5246, 5247, 5248, 5249])"
      ]
     },
     "execution_count": 453,
     "metadata": {},
     "output_type": "execute_result"
    }
   ],
   "source": [
    "bad_inds_shifted = bad_inds + ind0\n",
    "bad_inds_shifted"
   ]
  },
  {
   "cell_type": "code",
   "execution_count": 454,
   "id": "formed-kansas",
   "metadata": {},
   "outputs": [
    {
     "data": {
      "text/plain": [
       "array([0.00019636, 0.00063696, 0.00098436, 0.00099172, 0.00100448,\n",
       "       0.00101188, 0.0010244 , 0.00103184, 0.00104444, 0.00105204,\n",
       "       0.00105832, 0.00106948, 0.00117664, 0.00117788, 0.001745  ,\n",
       "       0.00175244, 0.001788  , 0.00205776, 0.00205936, 0.00223076,\n",
       "       0.00224672, 0.00265484, 0.0029962 , 0.00300368, 0.00301616,\n",
       "       0.0030236 , 0.00303616, 0.0030436 , 0.0030562 , 0.0030638 ,\n",
       "       0.00306968, 0.0030808 , 0.00320676, 0.00320788, 0.00374204,\n",
       "       0.0037494 , 0.00378496, 0.0057514 , 0.00575876, 0.00579436,\n",
       "       0.00617368, 0.0061752 , 0.00637772, 0.00639368, 0.00685928,\n",
       "       0.00725728, 0.00726472, 0.0072772 , 0.00728468, 0.00729728,\n",
       "       0.00730476, 0.0073172 , 0.0073248 , 0.00733092, 0.00734204,\n",
       "       0.00744356, 0.0074446 , 0.00774188, 0.00774924, 0.0077848 ,\n",
       "       0.00804748, 0.00804908, 0.0082286 , 0.00824456, 0.00872804,\n",
       "       0.00903488, 0.00904236, 0.00905496, 0.0090624 , 0.00907488,\n",
       "       0.00908236, 0.00909488, 0.00910248, 0.0091144 , 0.00912556,\n",
       "       0.00919428, 0.00919528, 0.00974088, 0.00974832, 0.00978388,\n",
       "       0.00995112, 0.00995204, 0.01007416, 0.01009012, 0.01043056,\n",
       "       0.01071628, 0.01072376, 0.01073636, 0.01074384, 0.01075628,\n",
       "       0.01076376, 0.01077636, 0.01078396, 0.01078964, 0.01080076,\n",
       "       0.01087188, 0.0108728 , 0.01173572, 0.01174308, 0.01177864,\n",
       "       0.01190928, 0.0119102 , 0.01203092, 0.01204688, 0.0124478 ,\n",
       "       0.0128672 , 0.01287468, 0.01288716, 0.0128946 , 0.01290716,\n",
       "       0.0129146 , 0.0129272 , 0.0129348 , 0.01294068, 0.0129518 ,\n",
       "       0.01305304, 0.01305416, 0.01375104, 0.01375848, 0.01379404,\n",
       "       0.01414352, 0.01414476, 0.01433544, 0.0143514 , 0.0147864 ,\n",
       "       0.01513064, 0.01513808, 0.01515064, 0.01515812, 0.01517072,\n",
       "       0.01517816, 0.01519064, 0.01519824, 0.01520452, 0.01521568,\n",
       "       0.01538516, 0.01538648, 0.01574236, 0.0157498 , 0.01578536,\n",
       "       0.0160454 , 0.016047  , 0.01621328, 0.01622924, 0.01667952,\n",
       "       0.01717552, 0.017183  , 0.01719548, 0.01720296, 0.01721548,\n",
       "       0.01722296, 0.01723556, 0.01724312, 0.01724964, 0.01726076,\n",
       "       0.01748612, 0.01748796, 0.01775112, 0.01775852, 0.01779408,\n",
       "       0.01806948, 0.01807172, 0.01820356, 0.01821952, 0.01860772,\n",
       "       0.0188884 , 0.01889584, 0.01890832, 0.0189158 , 0.01892832,\n",
       "       0.0189358 , 0.0189484 , 0.018956  , 0.01896184, 0.018973  ,\n",
       "       0.0190528 , 0.0190538 , 0.0197402 , 0.01974752, 0.01978308,\n",
       "       0.01994384, 0.01994492, 0.02004312, 0.02005908, 0.02040608,\n",
       "       0.020667  , 0.02067448, 0.02068708, 0.02069452, 0.020707  ,\n",
       "       0.02071448, 0.02072708, 0.02073468, 0.02074064, 0.0207518 ,\n",
       "       0.02082484, 0.02082612, 0.02173752, 0.02174492, 0.02178048,\n",
       "       0.02196692, 0.02196788, 0.02206964, 0.0220856 , 0.0224276 ,\n",
       "       0.02268428, 0.02269172, 0.02270432, 0.0227118 , 0.02272428,\n",
       "       0.02273176, 0.02274432, 0.02275192, 0.0227576 , 0.02276872,\n",
       "       0.02284208, 0.02284312, 0.0237348 , 0.02374216, 0.02377788,\n",
       "       0.0238956 , 0.02389652, 0.02399108, 0.02400704, 0.02434064,\n",
       "       0.02459572, 0.02460316, 0.02461576, 0.02462324, 0.02463572,\n",
       "       0.0246432 , 0.0246558 , 0.02466336, 0.02466968, 0.0246808 ,\n",
       "       0.02474972, 0.02475076, 0.02573856, 0.02574596, 0.02578164,\n",
       "       0.02593404, 0.02593508, 0.0260386 , 0.02605456, 0.02639668,\n",
       "       0.02665468, 0.02666212, 0.02667472, 0.0266822 , 0.02669468,\n",
       "       0.02670216, 0.02671476, 0.02672236, 0.026728  , 0.02673916,\n",
       "       0.02683396, 0.02683524, 0.02773504, 0.0277424 , 0.02777808,\n",
       "       0.02789432, 0.02789528, 0.02798352, 0.02799948, 0.02832568,\n",
       "       0.02857756, 0.02858504, 0.02859712, 0.0286046 , 0.02861708,\n",
       "       0.02862452, 0.02863712, 0.02864472, 0.0286504 , 0.02866152,\n",
       "       0.0287306 , 0.0287318 , 0.02973336, 0.02974072, 0.02977644,\n",
       "       0.02992732, 0.02992816, 0.03001464, 0.0300306 , 0.0303552 ,\n",
       "       0.03060672, 0.03061416, 0.03062864, 0.03063612, 0.03064664,\n",
       "       0.03065412, 0.03066672, 0.03067432, 0.0306806 , 0.03069176,\n",
       "       0.03076012, 0.0307612 , 0.03173284, 0.0317402 , 0.03177588,\n",
       "       0.03193232, 0.0319334 , 0.03202892, 0.03204488, 0.03236984,\n",
       "       0.03262828, 0.03263576, 0.03264836, 0.03265584, 0.03267416,\n",
       "       0.03268164, 0.03268992, 0.03269752, 0.03270332, 0.03271444,\n",
       "       0.03280076, 0.03280168, 0.0337416 , 0.03374896, 0.03378464,\n",
       "       0.03414508, 0.03414648, 0.03430512, 0.03432108, 0.03471748,\n",
       "       0.03500368, 0.03501112, 0.0350236 , 0.03503108, 0.03504368,\n",
       "       0.03505116, 0.0350636 , 0.0350712 , 0.03507764, 0.03508876,\n",
       "       0.03517392, 0.035175  , 0.03574308, 0.0357504 , 0.03578612,\n",
       "       0.0363774 , 0.03638024, 0.03654488, 0.03656084, 0.0369274 ,\n",
       "       0.03719332, 0.0372008 , 0.03721328, 0.03722076, 0.03723336,\n",
       "       0.0372408 , 0.03725328, 0.03726088, 0.037267  , 0.03727812,\n",
       "       0.03735044, 0.03735128, 0.03773988, 0.03774732, 0.037783  ,\n",
       "       0.03795868, 0.03795968, 0.03805164, 0.0380676 , 0.03840268,\n",
       "       0.03866008, 0.03866756, 0.03868016, 0.03868764, 0.03870008,\n",
       "       0.03870756, 0.03872008, 0.03872768, 0.0387342 , 0.03874532,\n",
       "       0.03881568, 0.03881668, 0.03973864, 0.03974608, 0.03978176,\n",
       "       0.03997332, 0.03997428, 0.04007916, 0.04009516, 0.04044464,\n",
       "       0.0407106 , 0.04071808, 0.04073056, 0.04073804, 0.04075056,\n",
       "       0.04075804, 0.04077064, 0.04077824, 0.04078408, 0.0407952 ,\n",
       "       0.04086808, 0.04086896, 0.04173844, 0.04174584, 0.04178152,\n",
       "       0.04200648, 0.04200748, 0.04210572, 0.04212168, 0.04246428,\n",
       "       0.04272596, 0.0427334 , 0.042746  , 0.04275348, 0.04276596,\n",
       "       0.04277344, 0.042786  , 0.0427936 , 0.04279928, 0.04281044,\n",
       "       0.04288296, 0.04288376, 0.0437362 , 0.04374352, 0.04377924,\n",
       "       0.04394852, 0.04394948, 0.04404652, 0.04406248, 0.044392  ,\n",
       "       0.04464632, 0.0446538 , 0.04466628, 0.04467376, 0.04468628,\n",
       "       0.04469376, 0.04470632, 0.04471392, 0.0447198 , 0.04473092,\n",
       "       0.04480264, 0.04480344, 0.04573792, 0.04574536, 0.04578108,\n",
       "       0.04611848, 0.0461194 , 0.0462252 , 0.04624116, 0.04658852,\n",
       "       0.04684644, 0.04685388, 0.04686636, 0.04687384, 0.04688644,\n",
       "       0.04689392, 0.04690636, 0.04691396, 0.0469204 , 0.04693152,\n",
       "       0.04700108, 0.04700204, 0.04773552, 0.04774288, 0.0477786 ,\n",
       "       0.04794288, 0.047944  , 0.04803912, 0.04805508, 0.04838136,\n",
       "       0.0486338 , 0.04864128, 0.04865388, 0.04866132, 0.0486738 ,\n",
       "       0.04868128, 0.04869388, 0.04870148, 0.04870776, 0.04871888,\n",
       "       0.0487878 , 0.04878872, 0.0497344 , 0.04974172, 0.0497774 ,\n",
       "       0.04993276, 0.04993372, 0.05003   , 0.05004596, 0.05037136,\n",
       "       0.05063152, 0.05063896, 0.05065156, 0.05065904, 0.05067152,\n",
       "       0.05067896, 0.05069156, 0.05069916, 0.05070516, 0.05071628,\n",
       "       0.05078916, 0.05078992, 0.05173396, 0.05174136, 0.05177704,\n",
       "       0.0519292 , 0.05193008, 0.05202828, 0.05204424, 0.05237132,\n",
       "       0.05263176, 0.05263924, 0.05265184, 0.05265932, 0.05267176,\n",
       "       0.05267924, 0.05269184, 0.05269944, 0.05270512, 0.05271624,\n",
       "       0.05279152, 0.05279248, 0.05373392, 0.05374124, 0.05377696,\n",
       "       0.05392984, 0.05393072, 0.05402612, 0.05404208, 0.05436656,\n",
       "       0.05462652, 0.054634  , 0.05464648, 0.05465396, 0.05466648,\n",
       "       0.05467396, 0.05468656, 0.05469416, 0.05470064, 0.05471176,\n",
       "       0.0547838 , 0.05478464, 0.05573616, 0.05574352, 0.0557792 ,\n",
       "       0.05595528, 0.05595632, 0.05606048, 0.05607648, 0.05640948,\n",
       "       0.05667088, 0.05667832, 0.05669092, 0.0566984 , 0.05671088,\n",
       "       0.05671836, 0.05673088, 0.05673848, 0.05674464, 0.0567558 ,\n",
       "       0.05682816, 0.05682912, 0.05773488, 0.0577422 , 0.05777792,\n",
       "       0.05793296, 0.05793392, 0.05803144, 0.0580474 , 0.05837908,\n",
       "       0.0586392 , 0.05864664, 0.05865928, 0.05866672, 0.0586792 ,\n",
       "       0.05868668, 0.0586992 , 0.0587068 , 0.05871328, 0.0587244 ,\n",
       "       0.05879624, 0.0587972 , 0.05973404, 0.05974144, 0.05977712,\n",
       "       0.05993048, 0.05993136, 0.06002896, 0.06004492, 0.06036912,\n",
       "       0.0606302 , 0.06063768, 0.0606502 , 0.06065768, 0.06067028,\n",
       "       0.06067776, 0.06069024, 0.06069784, 0.06070412, 0.06071524,\n",
       "       0.060788  , 0.06078952, 0.061734  , 0.06174136, 0.06177708,\n",
       "       0.06192932, 0.06193024, 0.0620256 , 0.06204156, 0.06236548,\n",
       "       0.06262636, 0.0626338 , 0.06264628, 0.06265376, 0.06266636,\n",
       "       0.06267384, 0.06268628, 0.06269388, 0.06270032, 0.06271144,\n",
       "       0.06278288, 0.06278396, 0.06373324, 0.06374064, 0.06377636,\n",
       "       0.0639262 , 0.06392728, 0.06402236, 0.06403836, 0.064365  ,\n",
       "       0.06462312, 0.0646306 , 0.06464308, 0.06465052, 0.06466312,\n",
       "       0.0646706 , 0.06468308, 0.06469068, 0.06469676, 0.06470792,\n",
       "       0.06478128, 0.0647822 , 0.06573572, 0.06574308, 0.0657788 ,\n",
       "       0.06598404, 0.06598496, 0.06609116, 0.06610712, 0.06643888,\n",
       "       0.06670128, 0.06670876, 0.06672128, 0.06672876, 0.06674136,\n",
       "       0.0667488 , 0.06676128, 0.06676888, 0.06677456, 0.06678568,\n",
       "       0.06685916, 0.06685996, 0.06773424, 0.0677416 , 0.06777732,\n",
       "       0.0679328 , 0.06793396, 0.06803096, 0.06804692, 0.06837228,\n",
       "       0.06863264, 0.06864012, 0.0686526 , 0.06866008, 0.06867268,\n",
       "       0.06868012, 0.0686926 , 0.0687002 , 0.06870632, 0.06871744,\n",
       "       0.06878864, 0.06878948, 0.06973356, 0.06974096, 0.06977664,\n",
       "       0.06992816, 0.06992908, 0.07002344, 0.0700394 , 0.07036444,\n",
       "       0.07062356, 0.070631  , 0.0706436 , 0.07065108, 0.07066356,\n",
       "       0.07067104, 0.07068364, 0.0706912 , 0.07069688, 0.07070804,\n",
       "       0.07077988, 0.07078076, 0.0717332 , 0.07174064, 0.07177636,\n",
       "       0.07192876, 0.07192968, 0.07202424, 0.07204024, 0.0723634 ,\n",
       "       0.07262152, 0.07262896, 0.07264156, 0.07264904, 0.07266152,\n",
       "       0.072669  , 0.07268152, 0.07268912, 0.07269496, 0.07270612,\n",
       "       0.07277936, 0.07278016, 0.07373312, 0.07374048, 0.0737762 ,\n",
       "       0.0739278 , 0.07392876, 0.07402252, 0.07403848, 0.07436216,\n",
       "       0.07462004, 0.07462748, 0.07464008, 0.07464756, 0.07466372,\n",
       "       0.0746712 , 0.07468004, 0.07468764, 0.07469328, 0.07470444,\n",
       "       0.07477636, 0.07477728, 0.07574448, 0.0757518 , 0.07578752,\n",
       "       0.0759532 , 0.0759542 , 0.07605404, 0.07607   , 0.0764102 ,\n",
       "       0.07667684, 0.07668432, 0.07669692, 0.0767044 , 0.07671888,\n",
       "       0.07672632, 0.07673688, 0.07674448, 0.07675044, 0.0767616 ,\n",
       "       0.07683464, 0.07683556, 0.07773444, 0.07774176, 0.07777748,\n",
       "       0.07795004, 0.07795104, 0.07804736, 0.07806332, 0.07838992,\n",
       "       0.07864956, 0.07865704, 0.07866952, 0.07867696, 0.07868952,\n",
       "       0.07869696, 0.07870956, 0.07871716, 0.07872304, 0.07873416,\n",
       "       0.07880672, 0.07880764, 0.07973412, 0.07974152, 0.07977724,\n",
       "       0.07993208, 0.07993304, 0.08002796, 0.08004392, 0.08036692,\n",
       "       0.08065408, 0.08066156, 0.08067408, 0.08068156, 0.08069404,\n",
       "       0.08070148, 0.08071408, 0.08072168, 0.08072768, 0.0807388 ,\n",
       "       0.0808102 , 0.0808112 , 0.08173364, 0.081741  , 0.08177668,\n",
       "       0.08192756, 0.08192852, 0.0820226 , 0.08203856, 0.08236268,\n",
       "       0.08262292, 0.08263036, 0.08264284, 0.08265032, 0.08266284,\n",
       "       0.08267032, 0.08268292, 0.08269052, 0.08269668, 0.0827078 ,\n",
       "       0.08277852, 0.08277952, 0.0837326 , 0.08374   , 0.08377572,\n",
       "       0.08392316, 0.08392404, 0.0840178 , 0.08403376, 0.08435544,\n",
       "       0.0846156 , 0.08462308, 0.08463556, 0.08464304, 0.08465556,\n",
       "       0.08466304, 0.08467548, 0.08468308, 0.0846894 , 0.08470052,\n",
       "       0.08477164, 0.0847726 , 0.08573584, 0.0857432 , 0.08577892,\n",
       "       0.08594312, 0.08594408, 0.08604796, 0.08606392, 0.08639072,\n",
       "       0.08665224, 0.08665972, 0.0866722 , 0.08667968, 0.08669228,\n",
       "       0.08669972, 0.08671216, 0.08671976, 0.08672592, 0.08673704,\n",
       "       0.08681028, 0.08681124, 0.08773376, 0.08774116, 0.08777688,\n",
       "       0.08793632, 0.08793728, 0.08803492, 0.08805088, 0.08837592,\n",
       "       0.08863376, 0.08864124, 0.08865372, 0.0886612 , 0.08867376,\n",
       "       0.08868124, 0.08869372, 0.08870132, 0.08870712, 0.08871824,\n",
       "       0.08879184, 0.0887928 , 0.08973344, 0.08974088, 0.08977656,\n",
       "       0.08992688, 0.0899278 , 0.09002228, 0.09003824, 0.09036064,\n",
       "       0.09065092, 0.0906584 , 0.09067084, 0.09067832, 0.09069092,\n",
       "       0.0906984 , 0.09071088, 0.09071844, 0.09072488, 0.090736  ,\n",
       "       0.09080684, 0.09080772, 0.09173352, 0.09174088, 0.0917766 ,\n",
       "       0.091927  , 0.09192792, 0.09202276, 0.09203872, 0.09236636,\n",
       "       0.09262304, 0.09263052, 0.09264308, 0.09265052, 0.09266312,\n",
       "       0.0926706 , 0.09268308, 0.09269068, 0.09269696, 0.09270808,\n",
       "       0.09277912, 0.09278012, 0.09373324, 0.09374064, 0.09377636,\n",
       "       0.09392508, 0.093926  , 0.09402176, 0.09403772, 0.09436276,\n",
       "       0.0946202 , 0.09462768, 0.0946402 , 0.09464768, 0.09466028,\n",
       "       0.09466772, 0.0946802 , 0.0946878 , 0.09469412, 0.09470524,\n",
       "       0.09477756, 0.09477856, 0.09573472, 0.09574204, 0.09577776,\n",
       "       0.09594628, 0.09594732, 0.09604848, 0.09606444, 0.09639932,\n",
       "       0.09666416, 0.09667164, 0.09668412, 0.09669156, 0.09670416,\n",
       "       0.09671164, 0.09672412, 0.09673172, 0.09673812, 0.09674924,\n",
       "       0.09682064, 0.09682168, 0.09773352, 0.09774096, 0.09777664,\n",
       "       0.09793124, 0.09793208, 0.09802804, 0.098044  , 0.09837332,\n",
       "       0.0986346 , 0.09864208, 0.09865456, 0.09866204, 0.09867456,\n",
       "       0.09868204, 0.09869464, 0.0987022 , 0.09870808, 0.0987192 ,\n",
       "       0.09879112, 0.09879212, 0.0997326 , 0.09973996, 0.09977568,\n",
       "       0.09992936, 0.09993032, 0.10002532, 0.10004128, 0.10036964,\n",
       "       0.10063092, 0.1006384 , 0.100651  , 0.10065848, 0.10067096,\n",
       "       0.1006784 , 0.100691  , 0.1006986 , 0.1007046 , 0.10071572,\n",
       "       0.100787  , 0.10078816, 0.10173292])"
      ]
     },
     "execution_count": 454,
     "metadata": {},
     "output_type": "execute_result"
    }
   ],
   "source": [
    "t_bad = mytest.t[bad_inds_shifted]\n",
    "t_bad"
   ]
  },
  {
   "cell_type": "code",
   "execution_count": 455,
   "id": "worthy-making",
   "metadata": {},
   "outputs": [
    {
     "data": {
      "text/plain": [
       "array([0.00734204, 0.00912556, 0.01080076, 0.0129518 , 0.01521568,\n",
       "       0.01726076, 0.018973  , 0.0207518 , 0.02276872, 0.0246808 ,\n",
       "       0.02673916, 0.02866152, 0.03069176, 0.03271444, 0.03508876,\n",
       "       0.03727812, 0.03874532, 0.0407952 , 0.04281044, 0.04473092,\n",
       "       0.04693152, 0.04871888, 0.05071628, 0.05271624, 0.05471176,\n",
       "       0.0567558 , 0.0587244 , 0.06071524, 0.06271144, 0.06470792,\n",
       "       0.06678568, 0.06871744, 0.07070804, 0.07270612, 0.07470444,\n",
       "       0.0767616 , 0.07873416, 0.0807388 , 0.0827078 , 0.08470052,\n",
       "       0.08673704, 0.08871824, 0.090736  , 0.09270808, 0.09470524,\n",
       "       0.09674924, 0.0987192 , 0.10071572, 0.1027166 , 0.10471684,\n",
       "       0.10672428, 0.10870644, 0.11074108, 0.11269884, 0.11470068,\n",
       "       0.11674188, 0.11872308, 0.12080556, 0.12271692, 0.12471408,\n",
       "       0.12674308, 0.1287196 , 0.13071488, 0.13271388, 0.13471292,\n",
       "       0.13673416, 0.13871912, 0.14071344, 0.14271184, 0.14473616,\n",
       "       0.14674644, 0.14872764, 0.15071236, 0.1527198 , 0.15474976,\n",
       "       0.15673096, 0.15871592, 0.16071564, 0.1627114 , 0.16476104,\n",
       "       0.16672912, 0.168711  , 0.17070908, 0.17271092, 0.17473876,\n",
       "       0.17675652, 0.1787424 , 0.18073932, 0.18273928, 0.18474296,\n",
       "       0.18675332, 0.1887692 , 0.19073632, 0.19273792, 0.1947332 ,\n",
       "       0.19675096, 0.19872816, 0.20072528, 0.2027278 , 0.2047362 ,\n",
       "       0.2067756 , 0.20877888, 0.21073572, 0.21273636, 0.21473348,\n",
       "       0.21675476, 0.21872752, 0.22072724, 0.22272436, 0.22472688,\n",
       "       0.22676808, 0.22874936, 0.23073712, 0.2327624 , 0.23474148,\n",
       "       0.23675644, 0.23873456, 0.2407336 , 0.24273048, 0.24473768,\n",
       "       0.24674984, 0.24884548, 0.25074936, 0.25277156, 0.25473404,\n",
       "       0.25676468, 0.25873836, 0.26073528, 0.2627324 , 0.26474336,\n",
       "       0.26675712, 0.2687402 , 0.2707318 , 0.27273364, 0.27473616,\n",
       "       0.27676892, 0.27873392, 0.28073924, 0.28272984, 0.28473612,\n",
       "       0.28675108, 0.28873576, 0.29073408, 0.29273404, 0.29473284,\n",
       "       0.29677592, 0.29872968, 0.30074156, 0.30273872, 0.30473652,\n",
       "       0.30675404, 0.30873152, 0.31076964, 0.312734  , 0.31473308,\n",
       "       0.316744  , 0.31872708, 0.320769  , 0.32272556, 0.32472552,\n",
       "       0.32675056, 0.32873712, 0.33073428, 0.33273164, 0.33473416,\n",
       "       0.3367482 , 0.33873288, 0.3407748 , 0.34272976, 0.344736  ,\n",
       "       0.34674696, 0.34873472, 0.35077476, 0.35273132, 0.3547594 ,\n",
       "       0.3567632 , 0.35873288, 0.3607338 , 0.3627288 , 0.3647782 ,\n",
       "       0.36674628, 0.36873284, 0.37072788, 0.37272876, 0.37474348,\n",
       "       0.37681068, 0.378747  , 0.38073744, 0.38273612, 0.38476664,\n",
       "       0.38678332, 0.38875196, 0.39074312, 0.39273544, 0.39478192,\n",
       "       0.39676084, 0.39875044, 0.400739  , 0.40273576, 0.40473724,\n",
       "       0.4067652 , 0.40874976, 0.41073716, 0.41273888, 0.41473656,\n",
       "       0.41676148, 0.41877192, 0.4207392 , 0.42274628, 0.42473764,\n",
       "       0.426756  , 0.428738  , 0.4307404 , 0.43273624, 0.43473416,\n",
       "       0.43675344, 0.4387924 , 0.4407416 , 0.44274056, 0.44473572,\n",
       "       0.44675496, 0.448737  , 0.45073564, 0.45273828, 0.45473596,\n",
       "       0.45677704, 0.45874476, 0.46074228, 0.4627606 , 0.4647398 ,\n",
       "       0.46675812, 0.46874296, 0.47074068, 0.47274612, 0.47473656,\n",
       "       0.47676992, 0.47874536, 0.48073836, 0.48279352, 0.48474208,\n",
       "       0.48675628, 0.48874636, 0.4907402 , 0.4927406 , 0.49473912,\n",
       "       0.49675988, 0.49873872, 0.50073816, 0.50273624, 0.50479616,\n",
       "       0.5067914 , 0.50874516, 0.51073804, 0.51274128, 0.51474448,\n",
       "       0.51675612, 0.5187408 , 0.52073744, 0.52273692, 0.524776  ,\n",
       "       0.52680108, 0.5287436 , 0.53073928, 0.53273804, 0.5347394 ,\n",
       "       0.53676536, 0.53873784, 0.54075792, 0.54274264, 0.54474608,\n",
       "       0.54675944, 0.54874036, 0.55075672, 0.5527386 , 0.55473644,\n",
       "       0.55675208, 0.5587396 , 0.56073928, 0.56274276, 0.56473028,\n",
       "       0.56675904, 0.5687428 , 0.57077   , 0.57273592, 0.57473468,\n",
       "       0.57676064, 0.57873692, 0.58076848, 0.58273632, 0.58486072,\n",
       "       0.5907168 , 0.59180564, 0.59315812, 0.5948226 , 0.5967848 ,\n",
       "       0.59874608, 0.60073828, 0.60278112, 0.60474324, 0.60675888,\n",
       "       0.6087314 , 0.61072924, 0.61272824, 0.61476172, 0.61676892,\n",
       "       0.61873392, 0.62072608, 0.62272672, 0.6247714 , 0.62678612,\n",
       "       0.6287764 , 0.63072908, 0.63272784, 0.63473032, 0.63675908,\n",
       "       0.63873816, 0.64073216, 0.64272812, 0.64473156, 0.6467622 ,\n",
       "       0.64875812, 0.6507278 , 0.65272564, 0.65472652, 0.65676188,\n",
       "       0.65877564, 0.6607284 , 0.6627328 , 0.6647306 , 0.66677056,\n",
       "       0.66879184, 0.67073812, 0.67273388, 0.67473168, 0.67677076,\n",
       "       0.67877228, 0.68074668, 0.68273984, 0.68473948, 0.68675604,\n",
       "       0.68874264, 0.69073572, 0.6927504 , 0.69473512, 0.69677788,\n",
       "       0.6987554 , 0.70074008, 0.70273604, 0.70473756, 0.70676352,\n",
       "       0.70873884, 0.71073476, 0.7127682 , 0.7147454 , 0.71675592,\n",
       "       0.71873304, 0.72073464, 0.72273904, 0.72473404, 0.72674964,\n",
       "       0.72874088, 0.73078936, 0.73273844, 0.7347362 , 0.73676588,\n",
       "       0.73873372, 0.74073092, 0.74273436, 0.74473776, 0.7467534 ,\n",
       "       0.74873344, 0.7507622 , 0.75276376, 0.75474752, 0.7567922 ,\n",
       "       0.75873428, 0.76073676, 0.76274772, 0.76473992, 0.76675276,\n",
       "       0.7687384 , 0.77075304, 0.772734  , 0.77473032, 0.77675664,\n",
       "       0.77873704, 0.78074088, 0.78273376, 0.78473384, 0.78674704,\n",
       "       0.7887358 , 0.79073776, 0.79273692, 0.79473324, 0.7967502 ,\n",
       "       0.79873996, 0.80075368, 0.80273408, 0.8047304 , 0.80675016,\n",
       "       0.80873524, 0.81073436, 0.81273164, 0.81477108, 0.8167524 ,\n",
       "       0.8187328 , 0.8207282 , 0.8227292 , 0.82477616, 0.82675216,\n",
       "       0.82873068, 0.83073168, 0.83272896, 0.83473184, 0.83674784,\n",
       "       0.8387348 , 0.84073676, 0.84272608, 0.84476836, 0.84674684,\n",
       "       0.84872816, 0.85072636, 0.85273208, 0.85476592, 0.85674536,\n",
       "       0.85881296, 0.86073896, 0.86273152, 0.86472692, 0.86675884,\n",
       "       0.868778  , 0.87072932, 0.87272844, 0.87472852, 0.87675016,\n",
       "       0.8787662 , 0.88073064, 0.88273448, 0.88473068, 0.88675044,\n",
       "       0.88876456, 0.89073464, 0.89273192, 0.8947254 , 0.89675832,\n",
       "       0.89876868, 0.90073316, 0.90272476, 0.90473048, 0.9067512 ,\n",
       "       0.90873252, 0.91072916, 0.91272452, 0.91472556, 0.91676408,\n",
       "       0.91872944, 0.92073232, 0.92275116, 0.92472684, 0.92675036,\n",
       "       0.9287322 , 0.9307332 , 0.93272952, 0.9347268 , 0.93674564,\n",
       "       0.93872788, 0.94073076, 0.94276368, 0.94472716, 0.94674224,\n",
       "       0.94872732, 0.95072272, 0.95272748, 0.95472692, 0.95674952,\n",
       "       0.9587346 , 0.96072996, 0.96272724, 0.9647292 , 0.96675928,\n",
       "       0.96873872, 0.97072804, 0.97272904, 0.97472724, 0.9767442 ,\n",
       "       0.97872928, 0.98072652, 0.98272568, 0.98472576, 0.9868402 ,\n",
       "       0.98873248, 0.99072596, 0.9927298 , 0.99472612, 0.99674432,\n",
       "       0.9987266 , 1.0007304 , 1.00272392, 1.0047362 , 1.00676064,\n",
       "       1.0087326 , 1.0107308 , 1.0127248 , 1.01472488, 1.01674276,\n",
       "       1.01872972, 1.02072512, 1.02272048, 1.02472528, 1.02674032,\n",
       "       1.02873196, 1.03076392, 1.03272556, 1.03472188, 1.03674164,\n",
       "       1.03872612, 1.04072616, 1.04272436, 1.04475632, 1.04674328,\n",
       "       1.04872556, 1.05073124, 1.05273696, 1.05476232, 1.05674324,\n",
       "       1.05873204, 1.06072464, 1.06272468, 1.06472384, 1.06674268,\n",
       "       1.06873148, 1.07072408, 1.07273352, 1.0747692 , 1.07675056,\n",
       "       1.07872904, 1.08072068, 1.0827642 , 1.08475208, 1.08674184,\n",
       "       1.08874664, 1.09072324, 1.0927224 , 1.09472808, 1.09674692,\n",
       "       1.09876532, 1.10072224, 1.10272328, 1.10472616, 1.10674312,\n",
       "       1.1087282 , 1.11072356, 1.11272928, 1.11472936, 1.11674444,\n",
       "       1.118752  , 1.12072112, 1.12272216, 1.1247188 , 1.12673012,\n",
       "       1.1287508 , 1.13071716, 1.13272096, 1.13471636, 1.13675112,\n",
       "       1.13872732, 1.14072272, 1.14272372, 1.14472284, 1.14674448,\n",
       "       1.14872112, 1.15071744, 1.1527438 , 1.15472512, 1.15674208,\n",
       "       1.15872056, 1.16072252, 1.16272448, 1.16472268, 1.166739  ,\n",
       "       1.16876064, 1.17072604, 1.17277204, 1.17472336, 1.17674784,\n",
       "       1.17873104, 1.18072924, 1.18271948, 1.18471956, 1.18673556,\n",
       "       1.18872344, 1.1907198 , 1.19272172, 1.1947162 , 1.19676972,\n",
       "       1.19872572, 1.20071924, 1.2027268 , 1.20471936, 1.20674008,\n",
       "       1.20872236, 1.21076868, 1.21272376, 1.21471724, 1.21677732,\n",
       "       1.21872208, 1.22072592, 1.22272788, 1.22471812, 1.22673696,\n",
       "       1.22872204, 1.23072024, 1.23271844, 1.23471944, 1.23673828,\n",
       "       1.23872804, 1.24073936, 1.24272444, 1.24472172, 1.24673396,\n",
       "       1.24872372, 1.25071816, 1.25271764, 1.25472052, 1.25673464,\n",
       "       1.2587188 , 1.26075636, 1.26271896, 1.2647256 , 1.26673208,\n",
       "       1.26871904, 1.2707182 , 1.27272012, 1.27473896, 1.27673528,\n",
       "       1.27875788, 1.2807242 , 1.28271864, 1.28473372, 1.2867366 ,\n",
       "       1.28872356, 1.29071892, 1.29271996, 1.29471752, 1.29673728,\n",
       "       1.2987186 , 1.300819  , 1.30276752, 1.30478728, 1.30676956,\n",
       "       1.308732  , 1.31072552, 1.31272748, 1.3147388 , 1.3167576 ,\n",
       "       1.31876896, 1.32072212, 1.32271752, 1.32472324, 1.32675144,\n",
       "       1.32877308, 1.33072344, 1.33272164, 1.33471984, 1.33674524,\n",
       "       1.33877564, 1.34072228, 1.34272236, 1.34472056, 1.3467478 ,\n",
       "       1.34877228, 1.3507194 , 1.35272228, 1.35472048, 1.3567468 ,\n",
       "       1.3587694 , 1.36071884, 1.3627414 , 1.3647218 , 1.36673124,\n",
       "       1.368721  , 1.37072484, 1.37273804, 1.37472124, 1.37673912,\n",
       "       1.37871952, 1.3807218 , 1.3827378 , 1.384721  , 1.3867342 ,\n",
       "       1.3887202 , 1.39071936, 1.39276068, 1.39471624, 1.39673884,\n",
       "       1.39872108, 1.40071928, 1.4028544 , 1.40472508, 1.40673828,\n",
       "       1.40872428, 1.41072528, 1.41271976, 1.4147198 , 1.41673772,\n",
       "       1.41871716, 1.42071724, 1.42271292, 1.42471396, 1.42679276,\n",
       "       1.42872252, 1.430717  , 1.43271612, 1.43472464, 1.43673832,\n",
       "       1.43871872, 1.44071972, 1.44271608, 1.44471428, 1.44677152,\n",
       "       1.44872192, 1.45072388, 1.45271736, 1.45471652, 1.45673536,\n",
       "       1.45872416, 1.46071676, 1.46271308, 1.46471408, 1.46677916,\n",
       "       1.46871924, 1.47074368, 1.47271376, 1.47471008, 1.47673452,\n",
       "       1.47871856, 1.48071864, 1.48271776, 1.48471504, 1.48673196,\n",
       "       1.4887208 , 1.49073776, 1.4927144 , 1.4947126 , 1.49673048,\n",
       "       1.49871648, 1.5012852 , 1.50277572, 1.5047336 , 1.50676556,\n",
       "       1.50872844, 1.51072384, 1.51271828, 1.5147174 , 1.51674092,\n",
       "       1.51872036, 1.52071908, 1.52271632, 1.52471828, 1.52674744,\n",
       "       1.52871564, 1.53072416, 1.53271392, 1.53473272, 1.53673936,\n",
       "       1.53872352, 1.54071516, 1.54271428, 1.54471716, 1.54675008,\n",
       "       1.54875764, 1.5507224 , 1.5527206 , 1.55471784, 1.5567498 ,\n",
       "       1.5587574 , 1.5607162 , 1.5627716 , 1.56472248, 1.56673756,\n",
       "       1.56872172, 1.57071616, 1.57271996, 1.57472568, 1.57674356,\n",
       "       1.57877084, 1.5807184 , 1.58272224, 1.59013364, 1.59121192,\n",
       "       1.59281068, 1.59472764, 1.59675488, 1.59872588, 1.60072316,\n",
       "       1.602757  , 1.60472144, 1.60674264, 1.60871832, 1.61070996,\n",
       "       1.61271944, 1.61470824, 1.61674584, 1.61871496, 1.62071036,\n",
       "       1.6227348 , 1.62470676, 1.62673684, 1.62871064, 1.63071168,\n",
       "       1.63274364, 1.634709  , 1.6367094 , 1.63870292, 1.640688  ,\n",
       "       1.64268432, 1.64468532, 1.64669244, 1.6486794 , 1.65067572,\n",
       "       1.65267112, 1.65467776, 1.65672848, 1.65866008, 1.660648  ,\n",
       "       1.6626518 , 1.66465096, 1.66666884, 1.66865016, 1.67064272,\n",
       "       1.67264844, 1.67464288, 1.67676296, 1.67864616, 1.68063968,\n",
       "       1.68263508, 1.68463984, 1.68670928, 1.68863768, 1.69064744,\n",
       "       1.69263064, 1.69473664, 1.69700908, 1.69871148, 1.70074064,\n",
       "       1.7026432 , 1.7046442 , 1.70672492, 1.70863872, 1.71063132,\n",
       "       1.71263044, 1.71462864, 1.71672812, 1.71864568, 1.72071044,\n",
       "       1.72264052, 1.7246406 , 1.72672316, 1.72864916, 1.73063568,\n",
       "       1.732637  , 1.73467836, 1.73672716, 1.73864756, 1.7406448 ,\n",
       "       1.74264396, 1.7446834 , 1.74668256, 1.74864888, 1.75064708,\n",
       "       1.75264432, 1.75464252, 1.75666044, 1.75865768, 1.76064556,\n",
       "       1.76264472, 1.76466292, 1.766663  , 1.76864808, 1.77065   ,\n",
       "       1.77264308, 1.7746394 , 1.77671544, 1.77867612, 1.78064432,\n",
       "       1.7826388 , 1.78463884, 1.78665392, 1.78869712, 1.79065316,\n",
       "       1.79264196, 1.794643  , 1.79671152, 1.79864032, 1.80063852,\n",
       "       1.80264048, 1.80463492, 1.80670752, 1.80872916, 1.81069172,\n",
       "       1.81268804, 1.81469468, 1.81671352, 1.81870952, 1.82063648,\n",
       "       1.822765  , 1.8246432 , 1.82671264, 1.82863864, 1.83064152,\n",
       "       1.83263972, 1.83463604, 1.83670176, 1.83864184, 1.84064284,\n",
       "       1.84264856, 1.844643  , 1.84665056, 1.84864692, 1.85064072,\n",
       "       1.852713  , 1.85464652, 1.8566672 , 1.8586462 , 1.8606444 ,\n",
       "       1.86273544, 1.86464364, 1.86665684, 1.86864472, 1.870642  ,\n",
       "       1.87263736, 1.87463464, 1.87674348, 1.8787576 , 1.88070144,\n",
       "       1.88269024, 1.88469128, 1.88672136, 1.88869236, 1.89068868,\n",
       "       1.8926872 , 1.89468352, 1.89672672, 1.89869024, 1.90069592,\n",
       "       1.90268464, 1.90468848, 1.90672884, 1.90868768, 1.91068492,\n",
       "       1.91268688, 1.91468228, 1.9167058 , 1.918734  , 1.92068812,\n",
       "       1.922691  , 1.92468548, 1.926709  , 1.9286406 , 1.93067068,\n",
       "       1.93264264, 1.93463832, 1.936705  , 1.93864132, 1.94064512,\n",
       "       1.94263632, 1.94463828, 1.94665148, 1.94864032, 1.95072572,\n",
       "       1.95264328, 1.95463772, 1.95665468, 1.95864348, 1.96063984,\n",
       "       1.96263332, 1.96466716, 1.96670192, 1.968642  , 1.97063552,\n",
       "       1.97263652, 1.97465816, 1.97666292, 1.978638  , 1.98064184,\n",
       "       1.98265316, 1.98463968, 1.98664912, 1.98864168, 1.99064364,\n",
       "       1.99263808, 1.9947216 , 1.99665324, 1.99864112, 2.00064028,\n",
       "       2.00263564, 2.00463572, 2.00670988])"
      ]
     },
     "execution_count": 455,
     "metadata": {},
     "output_type": "execute_result"
    }
   ],
   "source": [
    "t_bad = col_6.falling_edges[bad_inds]\n",
    "t_bad"
   ]
  },
  {
   "cell_type": "code",
   "execution_count": 458,
   "id": "defined-interaction",
   "metadata": {},
   "outputs": [
    {
     "data": {
      "image/png": "[encoded data removed]",
      "text/plain": [
       "<Figure size 432x576 with 8 Axes>"
      ]
     },
     "metadata": {
      "needs_background": "light"
     },
     "output_type": "display_data"
    }
   ],
   "source": [
    "for tb in t_bad[0:1]:\n",
    "    mytest.plot(xlim=[tb-0.007,tb+0.003],cursor_x=tb)"
   ]
  },
  {
   "cell_type": "code",
   "execution_count": null,
   "id": "conditional-andrew",
   "metadata": {},
   "outputs": [],
   "source": []
  }
 ],
 "metadata": {
  "kernelspec": {
   "display_name": "Python 3",
   "language": "python",
   "name": "python3"
  },
  "language_info": {
   "codemirror_mode": {
    "name": "ipython",
    "version": 3
   },
   "file_extension": ".py",
   "mimetype": "text/x-python",
   "name": "python",
   "nbconvert_exporter": "python",
   "pygments_lexer": "ipython3",
   "version": "3.9.10"
  }
 },
 "nbformat": 4,
 "nbformat_minor": 5
}
