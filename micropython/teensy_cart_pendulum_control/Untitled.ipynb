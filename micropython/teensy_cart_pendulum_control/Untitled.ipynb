{
 "cells": [
  {
   "cell_type": "code",
   "execution_count": 1,
   "id": "established-mineral",
   "metadata": {},
   "outputs": [
    {
     "data": {
      "text/plain": [
       "2"
      ]
     },
     "execution_count": 1,
     "metadata": {},
     "output_type": "execute_result"
    }
   ],
   "source": [
    "2 % 5"
   ]
  },
  {
   "cell_type": "code",
   "execution_count": 2,
   "id": "cognitive-thomas",
   "metadata": {},
   "outputs": [
    {
     "data": {
      "text/plain": [
       "1"
      ]
     },
     "execution_count": 2,
     "metadata": {},
     "output_type": "execute_result"
    }
   ],
   "source": [
    "101 % 5"
   ]
  },
  {
   "cell_type": "code",
   "execution_count": 3,
   "id": "improving-suspect",
   "metadata": {},
   "outputs": [],
   "source": [
    "test1 = \"# blah\""
   ]
  },
  {
   "cell_type": "code",
   "execution_count": 4,
   "id": "interim-liquid",
   "metadata": {},
   "outputs": [],
   "source": [
    "test2 = \"    # as;djklfhasdf\""
   ]
  },
  {
   "cell_type": "code",
   "execution_count": 5,
   "id": "signal-coverage",
   "metadata": {},
   "outputs": [],
   "source": [
    "test3 = \"    #### ;ajkshdf;lkadshj### asdfasdf # #\""
   ]
  },
  {
   "cell_type": "code",
   "execution_count": 6,
   "id": "expected-theater",
   "metadata": {},
   "outputs": [
    {
     "data": {
      "text/plain": [
       "4"
      ]
     },
     "execution_count": 6,
     "metadata": {},
     "output_type": "execute_result"
    }
   ],
   "source": [
    "test3.find(\"#\")"
   ]
  },
  {
   "cell_type": "code",
   "execution_count": 7,
   "id": "specified-exchange",
   "metadata": {},
   "outputs": [
    {
     "data": {
      "text/plain": [
       "'    '"
      ]
     },
     "execution_count": 7,
     "metadata": {},
     "output_type": "execute_result"
    }
   ],
   "source": [
    "test3[0:4]"
   ]
  },
  {
   "cell_type": "code",
   "execution_count": 8,
   "id": "novel-glasgow",
   "metadata": {},
   "outputs": [
    {
     "data": {
      "text/plain": [
       "4"
      ]
     },
     "execution_count": 8,
     "metadata": {},
     "output_type": "execute_result"
    }
   ],
   "source": [
    "len(test3[0:4])"
   ]
  },
  {
   "cell_type": "code",
   "execution_count": 9,
   "id": "welsh-motion",
   "metadata": {},
   "outputs": [
    {
     "data": {
      "text/plain": [
       "'#'"
      ]
     },
     "execution_count": 9,
     "metadata": {},
     "output_type": "execute_result"
    }
   ],
   "source": [
    "test3[4]"
   ]
  },
  {
   "cell_type": "code",
   "execution_count": 11,
   "id": "moderate-victoria",
   "metadata": {},
   "outputs": [],
   "source": [
    "indent = test1.find('#')"
   ]
  },
  {
   "cell_type": "code",
   "execution_count": 12,
   "id": "supreme-spiritual",
   "metadata": {},
   "outputs": [
    {
     "data": {
      "text/plain": [
       "int"
      ]
     },
     "execution_count": 12,
     "metadata": {},
     "output_type": "execute_result"
    }
   ],
   "source": [
    "type(indent)"
   ]
  },
  {
   "cell_type": "code",
   "execution_count": 14,
   "id": "romance-lodging",
   "metadata": {},
   "outputs": [
    {
     "data": {
      "text/plain": [
       "''"
      ]
     },
     "execution_count": 14,
     "metadata": {},
     "output_type": "execute_result"
    }
   ],
   "source": [
    "\" \"*0"
   ]
  },
  {
   "cell_type": "code",
   "execution_count": null,
   "id": "supported-robinson",
   "metadata": {},
   "outputs": [],
   "source": []
  }
 ],
 "metadata": {
  "kernelspec": {
   "display_name": "Python 3",
   "language": "python",
   "name": "python3"
  },
  "language_info": {
   "codemirror_mode": {
    "name": "ipython",
    "version": 3
   },
   "file_extension": ".py",
   "mimetype": "text/x-python",
   "name": "python",
   "nbconvert_exporter": "python",
   "pygments_lexer": "ipython3",
   "version": "3.9.10"
  }
 },
 "nbformat": 4,
 "nbformat_minor": 5
}
