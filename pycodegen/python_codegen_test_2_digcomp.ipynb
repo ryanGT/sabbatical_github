{
 "cells": [
  {
   "cell_type": "code",
   "execution_count": 1,
   "metadata": {},
   "outputs": [],
   "source": [
    "%matplotlib inline\n",
    "import matplotlib.pyplot as plt\n",
    "import numpy as np\n",
    "import control\n",
    "from numpy import sin, cos, tan, pi\n",
    "from control import TransferFunction as TF"
   ]
  },
  {
   "cell_type": "code",
   "execution_count": 2,
   "metadata": {},
   "outputs": [],
   "source": [
    "plt.rcParams['font.size'] = 14"
   ]
  },
  {
   "cell_type": "code",
   "execution_count": 3,
   "metadata": {},
   "outputs": [],
   "source": [
    "import py_block_diagram"
   ]
  },
  {
   "cell_type": "code",
   "execution_count": 4,
   "metadata": {},
   "outputs": [],
   "source": [
    "import importlib"
   ]
  },
  {
   "cell_type": "code",
   "execution_count": 5,
   "metadata": {},
   "outputs": [
    {
     "data": {
      "text/plain": [
       "<module 'py_block_diagram' from '/home/ryanwkrauss/git/py_block_diagram/py_block_diagram/__init__.py'>"
      ]
     },
     "execution_count": 5,
     "metadata": {},
     "output_type": "execute_result"
    }
   ],
   "source": [
    "importlib.reload(py_block_diagram)"
   ]
  },
  {
   "cell_type": "code",
   "execution_count": 6,
   "metadata": {},
   "outputs": [],
   "source": [
    "import py_block_diagram as pybd"
   ]
  },
  {
   "cell_type": "code",
   "execution_count": 7,
   "metadata": {},
   "outputs": [],
   "source": [
    "import digcomp"
   ]
  },
  {
   "cell_type": "code",
   "execution_count": 8,
   "metadata": {},
   "outputs": [
    {
     "data": {
      "text/plain": [
       "<module 'digcomp' from '/home/ryanwkrauss/git/research/digcomp.py'>"
      ]
     },
     "execution_count": 8,
     "metadata": {},
     "output_type": "execute_result"
    }
   ],
   "source": [
    "importlib.reload(digcomp)"
   ]
  },
  {
   "cell_type": "markdown",
   "metadata": {},
   "source": [
    "## Test Case 2: Digcomp DC Motor Control"
   ]
  },
  {
   "cell_type": "code",
   "execution_count": 9,
   "metadata": {},
   "outputs": [],
   "source": [
    "U = pybd.step_input(\"$U(s)$\")"
   ]
  },
  {
   "cell_type": "code",
   "execution_count": 10,
   "metadata": {},
   "outputs": [],
   "source": [
    "sum1 = pybd.summing_junction(U,radius=0.35,draw_feedback_loop=False)"
   ]
  },
  {
   "cell_type": "code",
   "execution_count": 11,
   "metadata": {},
   "outputs": [],
   "source": [
    "U.place_absolute(0,0)"
   ]
  },
  {
   "cell_type": "code",
   "execution_count": 12,
   "metadata": {},
   "outputs": [],
   "source": [
    "sum1.place_relative(U,\"right\")"
   ]
  },
  {
   "cell_type": "code",
   "execution_count": 13,
   "metadata": {},
   "outputs": [
    {
     "data": {
      "text/latex": [
       "$$\\frac{0.1 s + 30}{1}$$"
      ],
      "text/plain": [
       "TransferFunction(array([ 0.1, 30. ]), array([1]))"
      ]
     },
     "execution_count": 13,
     "metadata": {},
     "output_type": "execute_result"
    }
   ],
   "source": [
    "part1 = TF([0.1,30],1)\n",
    "part1"
   ]
  },
  {
   "cell_type": "code",
   "execution_count": 14,
   "metadata": {},
   "outputs": [],
   "source": [
    "p = 900\n",
    "part2 = TF(p,[1,p])"
   ]
  },
  {
   "cell_type": "code",
   "execution_count": 15,
   "metadata": {},
   "outputs": [
    {
     "data": {
      "text/latex": [
       "$$\\frac{90 s + 2.7 \\times 10^{4}}{s + 900}$$"
      ],
      "text/plain": [
       "TransferFunction(array([   90., 27000.]), array([  1, 900]))"
      ]
     },
     "execution_count": 15,
     "metadata": {},
     "output_type": "execute_result"
    }
   ],
   "source": [
    "Ds = part1*part2\n",
    "Ds"
   ]
  },
  {
   "cell_type": "code",
   "execution_count": 16,
   "metadata": {},
   "outputs": [],
   "source": [
    "D = pybd.digcomp_block(Ds, 0.002, sum1)"
   ]
  },
  {
   "cell_type": "code",
   "execution_count": 17,
   "metadata": {},
   "outputs": [],
   "source": [
    "D.place_relative(sum1, \"right\",3.5)"
   ]
  },
  {
   "cell_type": "code",
   "execution_count": 18,
   "metadata": {},
   "outputs": [
    {
     "data": {
      "text/plain": [
       "array([ 1.        , -0.05263158])"
      ]
     },
     "execution_count": 18,
     "metadata": {},
     "output_type": "execute_result"
    }
   ],
   "source": [
    "D.a_vect"
   ]
  },
  {
   "cell_type": "code",
   "execution_count": 19,
   "metadata": {},
   "outputs": [
    {
     "data": {
      "text/plain": [
       "array([ 61.57894737, -33.15789474])"
      ]
     },
     "execution_count": 19,
     "metadata": {},
     "output_type": "execute_result"
    }
   ],
   "source": [
    "D.b_vect"
   ]
  },
  {
   "cell_type": "code",
   "execution_count": 20,
   "metadata": {},
   "outputs": [
    {
     "data": {
      "text/latex": [
       "$$\\frac{90 s + 2.7 \\times 10^{4}}{s + 900}$$"
      ],
      "text/plain": [
       "TransferFunction(array([   90., 27000.]), array([  1, 900]))"
      ]
     },
     "execution_count": 20,
     "metadata": {},
     "output_type": "execute_result"
    }
   ],
   "source": [
    "D.Ds"
   ]
  },
  {
   "cell_type": "code",
   "execution_count": 21,
   "metadata": {},
   "outputs": [
    {
     "data": {
      "text/plain": [
       "array([   90., 27000.])"
      ]
     },
     "execution_count": 21,
     "metadata": {},
     "output_type": "execute_result"
    }
   ],
   "source": [
    "np.squeeze(D.Ds.num)"
   ]
  },
  {
   "cell_type": "code",
   "execution_count": 22,
   "metadata": {},
   "outputs": [
    {
     "data": {
      "text/plain": [
       "array([  1, 900])"
      ]
     },
     "execution_count": 22,
     "metadata": {},
     "output_type": "execute_result"
    }
   ],
   "source": [
    "np.squeeze(D.Ds.den)"
   ]
  },
  {
   "cell_type": "code",
   "execution_count": 23,
   "metadata": {},
   "outputs": [],
   "source": [
    "i2c = pybd.i2c_read_block('m_ino')"
   ]
  },
  {
   "cell_type": "code",
   "execution_count": 24,
   "metadata": {},
   "outputs": [],
   "source": [
    "i2c.place_relative(D,\"below\", xshift=4)"
   ]
  },
  {
   "cell_type": "code",
   "execution_count": 25,
   "metadata": {},
   "outputs": [
    {
     "data": {
      "text/plain": [
       "'i$^2$c'"
      ]
     },
     "execution_count": 25,
     "metadata": {},
     "output_type": "execute_result"
    }
   ],
   "source": [
    "i2c.label"
   ]
  },
  {
   "cell_type": "code",
   "execution_count": 26,
   "metadata": {},
   "outputs": [],
   "source": [
    "sum1.set_input2(i2c)"
   ]
  },
  {
   "cell_type": "code",
   "execution_count": 27,
   "metadata": {},
   "outputs": [],
   "source": [
    "sat = pybd.saturation_block(input_block=D)"
   ]
  },
  {
   "cell_type": "code",
   "execution_count": 28,
   "metadata": {},
   "outputs": [],
   "source": [
    "sat.place_relative(D,\"right\",5)"
   ]
  },
  {
   "cell_type": "code",
   "execution_count": 29,
   "metadata": {},
   "outputs": [],
   "source": [
    "spi = pybd.spi_send_block(\"h_spi\")\n",
    "spi.input_block = sat"
   ]
  },
  {
   "cell_type": "code",
   "execution_count": 30,
   "metadata": {},
   "outputs": [],
   "source": [
    "spi.place_relative(sat,\"right\",5)"
   ]
  },
  {
   "cell_type": "code",
   "execution_count": 31,
   "metadata": {},
   "outputs": [],
   "source": [
    "G = pybd.arduino_plant(\"$G(s)$\",spi)"
   ]
  },
  {
   "cell_type": "code",
   "execution_count": 32,
   "metadata": {},
   "outputs": [
    {
     "data": {
      "text/plain": [
       "py_block_diagram.arduino_plant"
      ]
     },
     "execution_count": 32,
     "metadata": {},
     "output_type": "execute_result"
    }
   ],
   "source": [
    "type(G)"
   ]
  },
  {
   "cell_type": "code",
   "execution_count": 33,
   "metadata": {},
   "outputs": [],
   "source": [
    "G.place_relative(spi,\"right\",4)"
   ]
  },
  {
   "cell_type": "code",
   "execution_count": 34,
   "metadata": {},
   "outputs": [],
   "source": [
    "Y = pybd.output_block(\"$Y(s)$\",G)\n",
    "Y.place_relative(G, \"right\",6)"
   ]
  },
  {
   "cell_type": "code",
   "execution_count": 35,
   "metadata": {},
   "outputs": [],
   "source": [
    "i2c.input_block = G"
   ]
  },
  {
   "cell_type": "code",
   "execution_count": 36,
   "metadata": {},
   "outputs": [],
   "source": [
    "i2c.wire_start = (G.x + G.width*0.5 + 1, G.y)"
   ]
  },
  {
   "cell_type": "code",
   "execution_count": 37,
   "metadata": {},
   "outputs": [],
   "source": [
    "mysys = pybd.block_diagram([U,sum1,D,i2c,sat,spi,G,Y])"
   ]
  },
  {
   "cell_type": "code",
   "execution_count": 38,
   "metadata": {},
   "outputs": [],
   "source": [
    "mysys.define_output_variables([('u',U),('e',sum1),('v',D),('v_sat',sat),('enc',i2c)])"
   ]
  },
  {
   "cell_type": "code",
   "execution_count": 39,
   "metadata": {},
   "outputs": [
    {
     "data": {
      "image/png": "[encoded data removed]",
      "text/plain": [
       "<Figure size 864x432 with 1 Axes>"
      ]
     },
     "metadata": {
      "needs_background": "light"
     },
     "output_type": "display_data"
    }
   ],
   "source": [
    "fig = plt.figure(figsize=(12,6))\n",
    "ax = fig.add_subplot(111)\n",
    "mysys.ax = ax\n",
    "mysys.draw()\n",
    "sum1.draw_input2_wire(ax)\n",
    "plt.xlim([-1,25])\n",
    "plt.ylim([-8,5])\n",
    "mysys.axis_off()"
   ]
  },
  {
   "cell_type": "code",
   "execution_count": 40,
   "metadata": {},
   "outputs": [
    {
     "data": {
      "text/plain": [
       "'left'"
      ]
     },
     "execution_count": 40,
     "metadata": {},
     "output_type": "execute_result"
    }
   ],
   "source": [
    "i2c.outpur_dir"
   ]
  },
  {
   "cell_type": "code",
   "execution_count": 41,
   "metadata": {},
   "outputs": [],
   "source": [
    "mysys.add_plot(['u','e','enc'],1,xlim=[0,1])\n",
    "mysys.add_plot(['u','v','v_sat'],2,xlim=[0,1])"
   ]
  },
  {
   "cell_type": "markdown",
   "metadata": {},
   "source": [
    "## Codegen Test "
   ]
  },
  {
   "cell_type": "markdown",
   "metadata": {},
   "source": [
    "### Set execution order\n",
    "\n",
    "`U` and `i2c` need to be executed first in the main loop: "
   ]
  },
  {
   "cell_type": "code",
   "execution_count": 42,
   "metadata": {},
   "outputs": [],
   "source": [
    "mysys.find_execution_order([U,i2c])"
   ]
  },
  {
   "cell_type": "code",
   "execution_count": 43,
   "metadata": {},
   "outputs": [
    {
     "data": {
      "text/plain": [
       "[<py_block_diagram.step_input at 0x7d1161dceb38>,\n",
       " <py_block_diagram.i2c_read_block at 0x7d1161dbbd30>,\n",
       " <py_block_diagram.summing_junction at 0x7d1161dbbe10>,\n",
       " <py_block_diagram.digcomp_block at 0x7d1161f86080>,\n",
       " <py_block_diagram.saturation_block at 0x7d1161f86550>,\n",
       " <py_block_diagram.spi_send_block at 0x7d1161f86b38>,\n",
       " <py_block_diagram.arduino_plant at 0x7d1161f86f60>,\n",
       " <py_block_diagram.output_block at 0x7d1161dde908>]"
      ]
     },
     "execution_count": 43,
     "metadata": {},
     "output_type": "execute_result"
    }
   ],
   "source": [
    "mysys.execution_order"
   ]
  },
  {
   "cell_type": "code",
   "execution_count": 46,
   "metadata": {},
   "outputs": [],
   "source": [
    "mysys.generate_python_code(\"py_autogen_2_digcomp.py\",template_path=\"pylooptemplate.py\")"
   ]
  },
  {
   "cell_type": "code",
   "execution_count": 47,
   "metadata": {},
   "outputs": [
    {
     "data": {
      "text/plain": [
       "['#import smbus',\n",
       " 'import pigpio',\n",
       " 'import time',\n",
       " 'import numpy as np',\n",
       " 'import copy',\n",
       " 'import matplotlib.pyplot as plt',\n",
       " \"plt.close('all')\",\n",
       " 'import py_block_diagram',\n",
       " 'import serial_utils',\n",
       " 'import control',\n",
       " 'from control import TransferFunction as TF',\n",
       " '',\n",
       " '',\n",
       " 'pi = pigpio.pi()',\n",
       " 'if not pi.connected:',\n",
       " '    print(\"not connected\")',\n",
       " '    exit()',\n",
       " '',\n",
       " '',\n",
       " '# leave this as manual for now',\n",
       " 'TIMING_ADDRESS = 0x05',\n",
       " 'MOTOR_ADDRESS = 0x04',\n",
       " '',\n",
       " '',\n",
       " 't_ino = pi.i2c_open(1, TIMING_ADDRESS)',\n",
       " 'm_ino = pi.i2c_open(1, MOTOR_ADDRESS)',\n",
       " 'h_spi = pi.spi_open(0, 400000)',\n",
       " '',\n",
       " '#c, d = pi.i2c_read_device(h,8)',\n",
       " '',\n",
       " '',\n",
       " '',\n",
       " '',\n",
       " '# In[168]:',\n",
       " '',\n",
       " '# sysprecode',\n",
       " 'N = 1000',\n",
       " 'num_read = np.zeros(N)',\n",
       " 'prev_check = -1',\n",
       " '',\n",
       " '',\n",
       " '# blockinitcode',\n",
       " 'u_step_block = py_block_diagram.step_input(label=\"$U(s)$\", on_time=0.1, amp=100)',\n",
       " 'sum1_block = py_block_diagram.summing_junction()',\n",
       " 'Ds = TF([   90. 27000.], [  1 900])',\n",
       " 'Dz_block = py_block_diagram.digcomp_block(Ds, 0.002)',\n",
       " 'i2c_block_1 = py_block_diagram.i2c_read_block(i2c_connection=m_ino, pi_instance=pi, read_bytes=6, msb_index=2, lsb_index=3)',\n",
       " 'sat_block = py_block_diagram.saturation_block(label=\"sat\", mymax=255)',\n",
       " 'spi_block_1 = py_block_diagram.spi_send_block(spi_connection=h_spi, pi_instance=pi, )',\n",
       " '',\n",
       " '',\n",
       " '',\n",
       " '# make input connections here:',\n",
       " '# blocksecondaryinitcode',\n",
       " 'u_step_block.init_vectors(N)',\n",
       " 'sum1_block.input1 = u_step_block',\n",
       " 'sum1_block.input2 = i2c_block_1',\n",
       " 'sum1_block.init_vectors(N)',\n",
       " 'Dz_block.init_vectors(N)',\n",
       " 'Dz_block.set_input_block(sum1_block)',\n",
       " 'Dz_block.Dz.input = sum1_block.output_vector',\n",
       " 'Dz_block.Dz.output = Dz_block.output_vector',\n",
       " 'i2c_block_1.init_vectors(N)',\n",
       " 'sat_block.set_input_block(Dz_block)',\n",
       " 'sat_block.init_vectors(N)',\n",
       " 'spi_block_1.set_input_block(sat_block)',\n",
       " 'spi_block_1.init_vectors(N)',\n",
       " '',\n",
       " '',\n",
       " '',\n",
       " '',\n",
       " '# start new test',\n",
       " 'pi.i2c_write_byte(t_ino, 1)',\n",
       " 'pi.i2c_write_byte(m_ino, 1)',\n",
       " '',\n",
       " '',\n",
       " 'time.sleep(0.01)',\n",
       " '',\n",
       " 't0 = time.time()',\n",
       " '',\n",
       " 'for i in range(N):',\n",
       " '    check = pi.i2c_read_byte(t_ino)',\n",
       " '    #n = 0',\n",
       " '    while (check == prev_check):',\n",
       " '        check = pi.i2c_read_byte(t_ino)',\n",
       " '        #n += 1',\n",
       " '        #j += 1',\n",
       " '        #check_array[j] = check',\n",
       " '        #time.sleep(0.00001)',\n",
       " '    num_read[i] = check',\n",
       " '    #num_checks[i] = n',\n",
       " '    #time.sleep(0.0001)',\n",
       " '',\n",
       " '    #bus.write_byte(TIMING_ADDRESS, 7)',\n",
       " '    #time.sleep(0.00001)',\n",
       " '',\n",
       " '    # pythonloopcode',\n",
       " '    u_step_block.find_output(i)',\n",
       " '    i2c_block_1.read_data(i)',\n",
       " '    sum1_block.find_output(i)',\n",
       " '    Dz_block.find_output(i)',\n",
       " '    sat_block.find_output(i)',\n",
       " '    spi_block_1.send_data(i)',\n",
       " '',\n",
       " '',\n",
       " '',\n",
       " '    prev_check = check',\n",
       " '',\n",
       " 't1 = time.time()',\n",
       " 'loop_dt = t1-t0',\n",
       " 'print(\"loop_dt = %f\" % loop_dt)',\n",
       " '',\n",
       " '',\n",
       " '# In[169]:',\n",
       " '',\n",
       " '',\n",
       " 'ave_time_step = loop_dt/N*1000',\n",
       " '',\n",
       " 'print(\"ave_time_step = %0.4g\" % ave_time_step)',\n",
       " '# In[170]:',\n",
       " '',\n",
       " '',\n",
       " '# system post loop code:',\n",
       " '',\n",
       " 'def n_unwrap(n_in):',\n",
       " '    nvect = copy.copy(n_in)',\n",
       " '    ndiff = nvect[1:]-nvect[0:-1]',\n",
       " '    ind_array = np.where(ndiff<-250)[0]',\n",
       " '    for switch_ind in ind_array:',\n",
       " '        nvect[switch_ind+1:] +=256',\n",
       " '    return nvect',\n",
       " '',\n",
       " '',\n",
       " 'n_unw = n_unwrap(num_read)',\n",
       " '',\n",
       " 'print(\"n_unw.max = %i \" % n_unw.max())',\n",
       " '',\n",
       " 'n_expected = np.arange(1,N+1,1)',\n",
       " 'ndiff = n_unw-n_expected',\n",
       " 'print(\"max diff = \" + str(np.abs(ndiff).max()))',\n",
       " '',\n",
       " 'pi.i2c_write_byte(m_ino, 2)#end test',\n",
       " 'pi.i2c_write_byte(t_ino, 2)#end test',\n",
       " '',\n",
       " 'pi.i2c_close(t_ino)',\n",
       " 'pi.i2c_close(m_ino)',\n",
       " 'pi.spi_close(h_spi)',\n",
       " '',\n",
       " 'pi.stop()',\n",
       " '',\n",
       " '',\n",
       " '# plottingcode',\n",
       " 'nvect = np.arange(N)',\n",
       " 'dt = 0.004',\n",
       " 't = nvect*dt',\n",
       " '',\n",
       " 'u = u_step_block.output_vector',\n",
       " 'e = sum1_block.output_vector',\n",
       " 'v = Dz_block.output_vector',\n",
       " 'v_sat = sat_block.output_vector',\n",
       " 'enc = i2c_block_1.output_vector',\n",
       " '',\n",
       " 'plt.figure(1)',\n",
       " 'plt.plot(t, u, t, e, t, enc)',\n",
       " 'plt.xlim([0, 1])',\n",
       " 'plt.xlabel(\"Time (sec.)\")',\n",
       " 'plt.ylabel(\"Signal Amp. (counts)\")',\n",
       " \"plt.legend(['u', 'e', 'enc'])\",\n",
       " '',\n",
       " 'plt.figure(2)',\n",
       " 'plt.plot(t, u, t, v, t, v_sat)',\n",
       " 'plt.xlim([0, 1])',\n",
       " 'plt.xlabel(\"Time (sec.)\")',\n",
       " 'plt.ylabel(\"Signal Amp. (counts)\")',\n",
       " \"plt.legend(['u', 'v', 'v_sat'])\",\n",
       " '',\n",
       " '',\n",
       " '',\n",
       " 'plt.show()']"
      ]
     },
     "execution_count": 47,
     "metadata": {},
     "output_type": "execute_result"
    }
   ],
   "source": [
    "mysys.python_file.list"
   ]
  },
  {
   "cell_type": "code",
   "execution_count": null,
   "metadata": {},
   "outputs": [],
   "source": []
  },
  {
   "cell_type": "code",
   "execution_count": null,
   "metadata": {},
   "outputs": [],
   "source": []
  },
  {
   "cell_type": "code",
   "execution_count": null,
   "metadata": {},
   "outputs": [],
   "source": []
  }
 ],
 "metadata": {
  "kernelspec": {
   "display_name": "Python 3",
   "language": "python",
   "name": "python3"
  },
  "language_info": {
   "codemirror_mode": {
    "name": "ipython",
    "version": 3
   },
   "file_extension": ".py",
   "mimetype": "text/x-python",
   "name": "python",
   "nbconvert_exporter": "python",
   "pygments_lexer": "ipython3",
   "version": "3.7.3"
  }
 },
 "nbformat": 4,
 "nbformat_minor": 4
}
