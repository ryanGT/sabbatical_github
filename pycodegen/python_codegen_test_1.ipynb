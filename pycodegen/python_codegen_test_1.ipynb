{
 "cells": [
  {
   "cell_type": "code",
   "execution_count": 1,
   "metadata": {},
   "outputs": [],
   "source": [
    "%matplotlib inline\n",
    "import matplotlib.pyplot as plt\n",
    "import numpy as np\n",
    "import control\n",
    "from numpy import sin, cos, tan, pi\n",
    "from control import TransferFunction as TF"
   ]
  },
  {
   "cell_type": "code",
   "execution_count": 2,
   "metadata": {},
   "outputs": [],
   "source": [
    "plt.rcParams['font.size'] = 14"
   ]
  },
  {
   "cell_type": "code",
   "execution_count": 3,
   "metadata": {},
   "outputs": [],
   "source": [
    "import py_block_diagram"
   ]
  },
  {
   "cell_type": "code",
   "execution_count": 4,
   "metadata": {},
   "outputs": [],
   "source": [
    "import importlib"
   ]
  },
  {
   "cell_type": "code",
   "execution_count": 5,
   "metadata": {},
   "outputs": [
    {
     "data": {
      "text/plain": [
       "<module 'py_block_diagram' from '/home/ryanwkrauss/git/py_block_diagram/py_block_diagram/__init__.py'>"
      ]
     },
     "execution_count": 5,
     "metadata": {},
     "output_type": "execute_result"
    }
   ],
   "source": [
    "importlib.reload(py_block_diagram)"
   ]
  },
  {
   "cell_type": "code",
   "execution_count": 6,
   "metadata": {},
   "outputs": [],
   "source": [
    "import py_block_diagram as pybd"
   ]
  },
  {
   "cell_type": "markdown",
   "metadata": {},
   "source": [
    "## Test Case 1: Simple Feedback Loop\n",
    "\n",
    "- the feedback loop is called out explicitly"
   ]
  },
  {
   "cell_type": "code",
   "execution_count": 7,
   "metadata": {},
   "outputs": [],
   "source": [
    "U = pybd.step_input(\"$U(s)$\")"
   ]
  },
  {
   "cell_type": "code",
   "execution_count": 8,
   "metadata": {},
   "outputs": [],
   "source": [
    "sum1 = pybd.summing_junction(U,radius=0.35)"
   ]
  },
  {
   "cell_type": "code",
   "execution_count": 9,
   "metadata": {},
   "outputs": [
    {
     "data": {
      "text/plain": [
       "'step_input'"
      ]
     },
     "execution_count": 9,
     "metadata": {},
     "output_type": "execute_result"
    }
   ],
   "source": [
    "str(type(U).__name__)"
   ]
  },
  {
   "cell_type": "code",
   "execution_count": 10,
   "metadata": {},
   "outputs": [
    {
     "data": {
      "text/plain": [
       "'py_block_diagram'"
      ]
     },
     "execution_count": 10,
     "metadata": {},
     "output_type": "execute_result"
    }
   ],
   "source": [
    "type(U).__module__"
   ]
  },
  {
   "cell_type": "code",
   "execution_count": 11,
   "metadata": {},
   "outputs": [],
   "source": [
    "U.place_absolute(0,0)"
   ]
  },
  {
   "cell_type": "code",
   "execution_count": 12,
   "metadata": {},
   "outputs": [],
   "source": [
    "sum1.place_relative(U,\"right\")"
   ]
  },
  {
   "cell_type": "code",
   "execution_count": 13,
   "metadata": {},
   "outputs": [],
   "source": [
    "D = pybd.PD_controller(3, 0.1, sum1, \"$D(s)$\")"
   ]
  },
  {
   "cell_type": "code",
   "execution_count": 14,
   "metadata": {},
   "outputs": [
    {
     "data": {
      "text/plain": [
       "<py_block_diagram.summing_junction at 0x7c813d4bf898>"
      ]
     },
     "execution_count": 14,
     "metadata": {},
     "output_type": "execute_result"
    }
   ],
   "source": [
    "D.input_block"
   ]
  },
  {
   "cell_type": "code",
   "execution_count": 15,
   "metadata": {},
   "outputs": [],
   "source": [
    "D.place_relative(sum1, \"right\",3.5)"
   ]
  },
  {
   "cell_type": "code",
   "execution_count": 16,
   "metadata": {},
   "outputs": [],
   "source": [
    "G = pybd.TF_block(\"$G(s)$\",D)"
   ]
  },
  {
   "cell_type": "code",
   "execution_count": 17,
   "metadata": {},
   "outputs": [
    {
     "data": {
      "text/plain": [
       "False"
      ]
     },
     "execution_count": 17,
     "metadata": {},
     "output_type": "execute_result"
    }
   ],
   "source": [
    "G.input_block is None"
   ]
  },
  {
   "cell_type": "code",
   "execution_count": 18,
   "metadata": {},
   "outputs": [],
   "source": [
    "G.place_relative(D,\"right\",5)"
   ]
  },
  {
   "cell_type": "code",
   "execution_count": 19,
   "metadata": {},
   "outputs": [],
   "source": [
    "Y = pybd.output_block(\"$Y(s)$\",G)\n",
    "Y.place_relative(G, \"right\",6)"
   ]
  },
  {
   "cell_type": "code",
   "execution_count": 20,
   "metadata": {},
   "outputs": [],
   "source": [
    "sum1.input2 = G"
   ]
  },
  {
   "cell_type": "code",
   "execution_count": 21,
   "metadata": {},
   "outputs": [
    {
     "data": {
      "image/png": "[encoded data removed]",
      "text/plain": [
       "<Figure size 864x432 with 1 Axes>"
      ]
     },
     "metadata": {
      "needs_background": "light"
     },
     "output_type": "display_data"
    }
   ],
   "source": [
    "fig = plt.figure(figsize=(12,6))\n",
    "ax = fig.add_subplot(111)\n",
    "mysys = pybd.block_diagram([U,sum1,D,G,Y],ax)\n",
    "mysys.draw()\n",
    "plt.xlim([-1,20])\n",
    "plt.ylim([-5,5])\n",
    "mysys.axis_off()"
   ]
  },
  {
   "cell_type": "markdown",
   "metadata": {},
   "source": [
    "## Codegen Test on Parital System\n",
    "\n"
   ]
  },
  {
   "cell_type": "code",
   "execution_count": 22,
   "metadata": {},
   "outputs": [],
   "source": [
    "test_sys = pybd.block_diagram([U,sum1,D])"
   ]
  },
  {
   "cell_type": "code",
   "execution_count": 23,
   "metadata": {},
   "outputs": [],
   "source": [
    "test_sys.generate_python_code(\"py_autogen_1.py\",template_path=\"pylooptemplate.py\")"
   ]
  },
  {
   "cell_type": "code",
   "execution_count": 24,
   "metadata": {},
   "outputs": [
    {
     "data": {
      "text/plain": [
       "['#import smbus',\n",
       " 'import pigpio',\n",
       " 'import time',\n",
       " 'import numpy as np',\n",
       " 'import copy',\n",
       " 'import matplotlib.pyplot as plt',\n",
       " \"plt.close('all')\",\n",
       " 'import py_block_diagram',\n",
       " 'import serial_utils',\n",
       " '',\n",
       " '',\n",
       " 'def mysat(vin):',\n",
       " '    if vin > 255:',\n",
       " '        return 255',\n",
       " '    elif vin < -255:',\n",
       " '        return -255',\n",
       " '    else:',\n",
       " '        return vin',\n",
       " '',\n",
       " '',\n",
       " '',\n",
       " 'pi = pigpio.pi()',\n",
       " 'if not pi.connected:',\n",
       " '    print(\"not connected\")',\n",
       " '    exit()',\n",
       " '',\n",
       " '',\n",
       " '# leave this as manual for now',\n",
       " 'TIMING_ADDRESS = 0x05',\n",
       " 'MOTOR_ADDRESS = 0x04',\n",
       " '',\n",
       " '',\n",
       " 't_ino = pi.i2c_open(1, TIMING_ADDRESS)',\n",
       " 'm_ino = pi.i2c_open(1, MOTOR_ADDRESS)',\n",
       " '',\n",
       " 'h_spi = pi.spi_open(0, 400000)',\n",
       " '',\n",
       " '#c, d = pi.i2c_read_device(h,8)',\n",
       " '',\n",
       " '',\n",
       " '',\n",
       " '',\n",
       " '# In[168]:',\n",
       " '',\n",
       " '# sysprecode',\n",
       " 'N = 1000',\n",
       " '',\n",
       " '',\n",
       " 'N = 500',\n",
       " '',\n",
       " 't0 = time.time()',\n",
       " 'check_array = np.zeros(1000)',\n",
       " 'j = 0',\n",
       " 'n = 0',\n",
       " '',\n",
       " '# blockinitcode',\n",
       " 'u = py_block_diagram.step_input(label=\"$U(s)$\", on_time=0.1, amp=100)',\n",
       " 'sum1 = py_block_diagram.summing_junction()',\n",
       " 'PD = py_block_diagram.PD_controller(label=\"$D(s)$\", Kp=3, Kd=0.1)',\n",
       " '',\n",
       " 'num_checks = np.zeros(N)',\n",
       " 'prev_check = 0',\n",
       " 'num_read = np.zeros(N)',\n",
       " 'v_sent = np.zeros(N)',\n",
       " 'enc_vect = np.zeros(N)',\n",
       " 'error_vect = np.zeros(N)',\n",
       " 'u_vect = np.zeros(N)',\n",
       " 'u_vect[10:] = 300',\n",
       " 'read_bytes = 6',\n",
       " 'responses = np.zeros((N,read_bytes))',\n",
       " 'kp = 3',\n",
       " 'kd = 1',\n",
       " '',\n",
       " '# make input connections here:',\n",
       " '# blocksecondaryinitcode',\n",
       " 'sum1.input1 = u',\n",
       " 'sum1.input2 = None',\n",
       " 'PD.input = sum1',\n",
       " '',\n",
       " '',\n",
       " '',\n",
       " '',\n",
       " '# start new test',\n",
       " 'pi.i2c_write_byte(t_ino, 1)',\n",
       " 'pi.i2c_write_byte(m_ino, 1)',\n",
       " '',\n",
       " '',\n",
       " 'time.sleep(0.01)',\n",
       " '',\n",
       " '',\n",
       " 'spi_list = []',\n",
       " '',\n",
       " 'for i in range(N):',\n",
       " '    check = pi.i2c_read_byte(t_ino)',\n",
       " '    #n = 0',\n",
       " '    while (check == prev_check):',\n",
       " '        check = pi.i2c_read_byte(t_ino)',\n",
       " '        #n += 1',\n",
       " '        #j += 1',\n",
       " '        #check_array[j] = check',\n",
       " '        #time.sleep(0.00001)',\n",
       " '    num_read[i] = check',\n",
       " '    #num_checks[i] = n',\n",
       " '    #time.sleep(0.0001)',\n",
       " '',\n",
       " '    #bus.write_byte(TIMING_ADDRESS, 7)',\n",
       " '    #time.sleep(0.00001)',\n",
       " '',\n",
       " '    # pythonloopcode',\n",
       " '    u.find_output(i)',\n",
       " '    sum1.find_output(i)',\n",
       " '    PD.find_output(i)',\n",
       " '',\n",
       " '    #',\n",
       " '    # i2c read block in feedback loop:',\n",
       " '    e, cur_resp = pi.i2c_read_device(m_ino,6)#<-- question for me: what are the 6 bytes?',\n",
       " '    #cur_resp = bus.read_i2c_block_data(MOTOR_ADDRESS,99,read_bytes)',\n",
       " '    responses[i,:]= cur_resp[0:read_bytes]',\n",
       " '    enc_i = cur_resp[3] + cur_resp[2]*256',\n",
       " '    if enc_i > 30000:',\n",
       " '        enc_i -= 2**16',\n",
       " '    enc_vect[i] = enc_i',\n",
       " '    # send pulse input to motor control Arduino',\n",
       " '    # summing junction:',\n",
       " '    e_i = u_vect[i] - enc_i',\n",
       " '    error_vect[i] = e_i',\n",
       " '    # PD block:',\n",
       " '    e_diff = e_i - error_vect[i-1]',\n",
       " '    v_out = kp*e_i +kd*e_diff',\n",
       " '    # sat block:',\n",
       " '    v_out = mysat(v_out)',\n",
       " '    v_sent[i] = v_out',\n",
       " '',\n",
       " '    # spi send block',\n",
       " '    if v_out < 0:',\n",
       " '        v_out = 2**16+v_out',\n",
       " '',\n",
       " '    msb = int(v_out/256)',\n",
       " '    lsb = int(v_out % 256)',\n",
       " '    #senddata = [30,msb,lsb]',\n",
       " '    #senddata = [17,81]',\n",
       " '    spi_data = [msb, lsb, 10]',\n",
       " '',\n",
       " '    time.sleep(0.0001)',\n",
       " '',\n",
       " '    spi_resp = pi.spi_xfer(h_spi, spi_data)',\n",
       " '    spi_list.append(spi_resp)',\n",
       " '    #pi.i2c_write_byte(m_ino, msb)',\n",
       " '    #pi.i2c_write_byte(m_ino, lsb)',\n",
       " '\\t#pi.i2c_write_device(m_ino,senddata)',\n",
       " '    #bus.write_i2c_block_data(MOTOR_ADDRESS,33,senddata)',\n",
       " '',\n",
       " '',\n",
       " '    #time.sleep(0.000001)',\n",
       " '    #for i in range(100):',\n",
       " '    #    a = 2*i',\n",
       " '',\n",
       " '    # manual code for timer Arduino',\n",
       " '    prev_check = check',\n",
       " '',\n",
       " 't1 = time.time()',\n",
       " 'dt = t1-t0',\n",
       " 'print(\"dt = %f\" % dt)',\n",
       " '',\n",
       " '',\n",
       " '# In[169]:',\n",
       " '',\n",
       " '',\n",
       " 'ave_time_step = dt/N*1000',\n",
       " '',\n",
       " 'print(\"ave_time_step = %0.4g\" % ave_time_step)',\n",
       " '# In[170]:',\n",
       " '',\n",
       " '',\n",
       " '# system post loop code:',\n",
       " '',\n",
       " 'def n_unwrap(n_in):',\n",
       " '    nvect = copy.copy(n_in)',\n",
       " '    ndiff = nvect[1:]-nvect[0:-1]',\n",
       " '    ind_array = np.where(ndiff<-250)[0]',\n",
       " '    for switch_ind in ind_array:',\n",
       " '        nvect[switch_ind+1:] +=256',\n",
       " '    return nvect',\n",
       " '',\n",
       " '',\n",
       " '# In[171]:',\n",
       " '',\n",
       " '',\n",
       " 'n_unw = n_unwrap(num_read)',\n",
       " '',\n",
       " '',\n",
       " '# In[172]:',\n",
       " '',\n",
       " '',\n",
       " 'print(\"n_unw.max = %i \" % n_unw.max())',\n",
       " '',\n",
       " '',\n",
       " '# In[173]:',\n",
       " '',\n",
       " '',\n",
       " 'n_expected = np.arange(1,N+1,1)',\n",
       " '',\n",
       " '',\n",
       " '# In[174]:',\n",
       " '',\n",
       " '',\n",
       " 'ndiff = n_unw-n_expected',\n",
       " '',\n",
       " '',\n",
       " '# In[175]:',\n",
       " '',\n",
       " '',\n",
       " 'print(\"max diff = \" + str(np.abs(ndiff).max()))',\n",
       " '',\n",
       " '',\n",
       " '# In[176]:',\n",
       " '',\n",
       " '',\n",
       " 'ndiff',\n",
       " '',\n",
       " '',\n",
       " '# In[177]:',\n",
       " '',\n",
       " '',\n",
       " 'i',\n",
       " '',\n",
       " '# - plotting code',\n",
       " '# - data saving code',\n",
       " '',\n",
       " 'n_motor = responses[:,1] + responses[:,0]*256',\n",
       " '#n_diff_motor = n_motor[1:] - n_motor[0:-1]',\n",
       " 'n_diff_motor = n_expected - n_motor',\n",
       " 'enc = responses[:,3] + responses[:,2]*256',\n",
       " '',\n",
       " 'data = np.column_stack([n_motor, u_vect, error_vect, v_sent, enc])',\n",
       " \"labels = ['n_motor','u','e','v_sent','enc']\",\n",
       " '',\n",
       " 'plt.figure(1)',\n",
       " 'plt.plot(n_motor, u_vect)',\n",
       " 'plt.plot(n_motor, v_sent)',\n",
       " 'plt.plot(n_motor, enc_vect)',\n",
       " '',\n",
       " '',\n",
       " 'plt.figure(2)',\n",
       " 'plt.plot(n_diff_motor)',\n",
       " '',\n",
       " 'pi.i2c_write_byte(m_ino, 2)#end test',\n",
       " '',\n",
       " '',\n",
       " 'pi.i2c_close(t_ino)',\n",
       " 'pi.i2c_close(m_ino)',\n",
       " 'pi.spi_close(h_spi)',\n",
       " '',\n",
       " 'pi.stop()',\n",
       " '',\n",
       " '',\n",
       " 'plt.show()']"
      ]
     },
     "execution_count": 24,
     "metadata": {},
     "output_type": "execute_result"
    }
   ],
   "source": [
    "test_sys.python_file.list"
   ]
  },
  {
   "cell_type": "markdown",
   "metadata": {},
   "source": [
    "## Next steps:\n",
    "\n",
    "- I need i2c and spi communication blocks\n",
    "- I need to specify execution order of the blocks for the loop code\n",
    "    - I think this is done, but not tested"
   ]
  }
 ],
 "metadata": {
  "kernelspec": {
   "display_name": "Python 3",
   "language": "python",
   "name": "python3"
  },
  "language_info": {
   "codemirror_mode": {
    "name": "ipython",
    "version": 3
   },
   "file_extension": ".py",
   "mimetype": "text/x-python",
   "name": "python",
   "nbconvert_exporter": "python",
   "pygments_lexer": "ipython3",
   "version": "3.7.3"
  }
 },
 "nbformat": 4,
 "nbformat_minor": 4
}
