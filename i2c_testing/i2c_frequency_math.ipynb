{
 "cells": [
  {
   "cell_type": "markdown",
   "id": "valued-queue",
   "metadata": {},
   "source": [
    "## Byte Transmision Math"
   ]
  },
  {
   "cell_type": "code",
   "execution_count": 1,
   "id": "invisible-village",
   "metadata": {},
   "outputs": [],
   "source": [
    "f = 400000#raw bit Hz"
   ]
  },
  {
   "cell_type": "code",
   "execution_count": 2,
   "id": "regular-webcam",
   "metadata": {},
   "outputs": [
    {
     "data": {
      "text/plain": [
       "40000.0"
      ]
     },
     "execution_count": 2,
     "metadata": {},
     "output_type": "execute_result"
    }
   ],
   "source": [
    "bytes_per_second = f/10\n",
    "bytes_per_second"
   ]
  },
  {
   "cell_type": "code",
   "execution_count": 3,
   "id": "million-limit",
   "metadata": {},
   "outputs": [
    {
     "data": {
      "text/plain": [
       "40.0"
      ]
     },
     "execution_count": 3,
     "metadata": {},
     "output_type": "execute_result"
    }
   ],
   "source": [
    "bytes_per_ms = bytes_per_second/1000\n",
    "bytes_per_ms"
   ]
  },
  {
   "cell_type": "code",
   "execution_count": 4,
   "id": "central-nursery",
   "metadata": {},
   "outputs": [],
   "source": [
    "T = 2#ms assuming 500Hz"
   ]
  },
  {
   "cell_type": "code",
   "execution_count": 5,
   "id": "senior-fighter",
   "metadata": {},
   "outputs": [
    {
     "data": {
      "text/plain": [
       "80.0"
      ]
     },
     "execution_count": 5,
     "metadata": {},
     "output_type": "execute_result"
    }
   ],
   "source": [
    "bytes_per_period = T*bytes_per_ms\n",
    "bytes_per_period"
   ]
  },
  {
   "cell_type": "code",
   "execution_count": 6,
   "id": "entitled-velvet",
   "metadata": {},
   "outputs": [
    {
     "data": {
      "text/plain": [
       "0.025"
      ]
     },
     "execution_count": 6,
     "metadata": {},
     "output_type": "execute_result"
    }
   ],
   "source": [
    "time_for_one_byte_ms = 1/bytes_per_ms\n",
    "time_for_one_byte_ms"
   ]
  },
  {
   "cell_type": "markdown",
   "id": "prompt-jackson",
   "metadata": {},
   "source": [
    "## Conclussion\n",
    "\n",
    "- dropping down to individual bytes instead of sending as a block means sending the address byte extra times\n",
    "    - every time we do this, it costs 0.025ms\n",
    "        - we can live with this for now"
   ]
  }
 ],
 "metadata": {
  "kernelspec": {
   "display_name": "Python 3",
   "language": "python",
   "name": "python3"
  },
  "language_info": {
   "codemirror_mode": {
    "name": "ipython",
    "version": 3
   },
   "file_extension": ".py",
   "mimetype": "text/x-python",
   "name": "python",
   "nbconvert_exporter": "python",
   "pygments_lexer": "ipython3",
   "version": "3.9.1"
  }
 },
 "nbformat": 4,
 "nbformat_minor": 5
}
