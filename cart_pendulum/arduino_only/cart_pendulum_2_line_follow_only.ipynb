{
 "cells": [
  {
   "cell_type": "code",
   "execution_count": 1,
   "metadata": {},
   "outputs": [],
   "source": [
    "%matplotlib inline\n",
    "import matplotlib.pyplot as plt\n",
    "import numpy as np\n",
    "import control\n",
    "from numpy import sin, cos, tan, pi\n",
    "from control import TransferFunction as TF"
   ]
  },
  {
   "cell_type": "code",
   "execution_count": 2,
   "metadata": {},
   "outputs": [],
   "source": [
    "import txt_mixin"
   ]
  },
  {
   "cell_type": "code",
   "execution_count": 3,
   "metadata": {},
   "outputs": [],
   "source": [
    "plt.rcParams['font.size'] = 14"
   ]
  },
  {
   "cell_type": "code",
   "execution_count": 4,
   "metadata": {},
   "outputs": [],
   "source": [
    "import py_block_diagram"
   ]
  },
  {
   "cell_type": "code",
   "execution_count": 5,
   "metadata": {},
   "outputs": [],
   "source": [
    "import importlib"
   ]
  },
  {
   "cell_type": "code",
   "execution_count": 6,
   "metadata": {},
   "outputs": [
    {
     "data": {
      "text/plain": [
       "<module 'py_block_diagram' from '/home/ryanwkrauss/git/py_block_diagram/py_block_diagram/__init__.py'>"
      ]
     },
     "execution_count": 6,
     "metadata": {},
     "output_type": "execute_result"
    }
   ],
   "source": [
    "importlib.reload(py_block_diagram)"
   ]
  },
  {
   "cell_type": "code",
   "execution_count": 7,
   "metadata": {},
   "outputs": [],
   "source": [
    "import py_block_diagram as pybd"
   ]
  },
  {
   "cell_type": "markdown",
   "metadata": {},
   "source": [
    "### Helper Function\n",
    "\n",
    "- draw the block diagram as needed to verify things"
   ]
  },
  {
   "cell_type": "code",
   "execution_count": 8,
   "metadata": {},
   "outputs": [],
   "source": [
    "def mydraw(block_list,xlim=None,ylim=None):\n",
    "    fig = plt.figure(figsize=(12,6))\n",
    "    ax = fig.add_subplot(111)\n",
    "    mysys = pybd.block_diagram(block_list,ax)\n",
    "    mysys.draw()\n",
    "    if xlim is not None:\n",
    "        plt.xlim(xlim)\n",
    "    if ylim is not None:\n",
    "        plt.ylim(ylim)\n",
    "    mysys.axis_off()\n",
    "    return mysys"
   ]
  },
  {
   "cell_type": "markdown",
   "metadata": {},
   "source": [
    "## System Description"
   ]
  },
  {
   "cell_type": "code",
   "execution_count": 9,
   "metadata": {},
   "outputs": [],
   "source": [
    "block_list = []"
   ]
  },
  {
   "cell_type": "code",
   "execution_count": 10,
   "metadata": {},
   "outputs": [],
   "source": [
    "U = pybd.int_constant_block(3500,\"U_cl\")"
   ]
  },
  {
   "cell_type": "code",
   "execution_count": 11,
   "metadata": {},
   "outputs": [],
   "source": [
    "U.place_absolute(0,0)"
   ]
  },
  {
   "cell_type": "code",
   "execution_count": 12,
   "metadata": {},
   "outputs": [],
   "source": [
    "block_list.append(U)"
   ]
  },
  {
   "cell_type": "code",
   "execution_count": 13,
   "metadata": {},
   "outputs": [],
   "source": [
    "sum1 = pybd.summing_junction()"
   ]
  },
  {
   "cell_type": "code",
   "execution_count": 14,
   "metadata": {},
   "outputs": [],
   "source": [
    "sum1.place_relative(U,\"right\")"
   ]
  },
  {
   "cell_type": "code",
   "execution_count": 15,
   "metadata": {},
   "outputs": [],
   "source": [
    "sum1.set_input1(U)"
   ]
  },
  {
   "cell_type": "code",
   "execution_count": 16,
   "metadata": {},
   "outputs": [],
   "source": [
    "block_list.append(sum1)"
   ]
  },
  {
   "cell_type": "code",
   "execution_count": 61,
   "metadata": {},
   "outputs": [],
   "source": [
    "D = pybd.PD_controller(0.1,0.01)"
   ]
  },
  {
   "cell_type": "code",
   "execution_count": 62,
   "metadata": {},
   "outputs": [],
   "source": [
    "D.place_relative(sum1,\"right\")"
   ]
  },
  {
   "cell_type": "code",
   "execution_count": 63,
   "metadata": {},
   "outputs": [],
   "source": [
    "D.set_input_block(sum1)"
   ]
  },
  {
   "cell_type": "code",
   "execution_count": 64,
   "metadata": {},
   "outputs": [],
   "source": [
    "block_list.append(D)"
   ]
  },
  {
   "cell_type": "code",
   "execution_count": 65,
   "metadata": {},
   "outputs": [],
   "source": [
    "diff_motors = pybd.custom_actuator(\"dual_motors\",\"two_motors_dbl_actuator\",\"&motors\")"
   ]
  },
  {
   "cell_type": "code",
   "execution_count": 66,
   "metadata": {},
   "outputs": [],
   "source": [
    "line_sense = pybd.custom_sensor(\"line_sense\",\"qtr_line_sensor\",\"&qtr\")"
   ]
  },
  {
   "cell_type": "code",
   "execution_count": 67,
   "metadata": {},
   "outputs": [],
   "source": [
    "G = pybd.plant_with_double_actuator(line_sense,diff_motors,\"Robot\")"
   ]
  },
  {
   "cell_type": "code",
   "execution_count": 68,
   "metadata": {},
   "outputs": [],
   "source": [
    "sat = pybd.saturation_block()"
   ]
  },
  {
   "cell_type": "code",
   "execution_count": 69,
   "metadata": {},
   "outputs": [],
   "source": [
    "sat.set_input_block(D)"
   ]
  },
  {
   "cell_type": "code",
   "execution_count": 70,
   "metadata": {},
   "outputs": [],
   "source": [
    "block_list.append(sat)"
   ]
  },
  {
   "cell_type": "code",
   "execution_count": 71,
   "metadata": {},
   "outputs": [],
   "source": [
    "sat.place_relative(D, \"right\")"
   ]
  },
  {
   "cell_type": "code",
   "execution_count": 72,
   "metadata": {},
   "outputs": [
    {
     "data": {
      "text/plain": [
       "<py_block_diagram.block_diagram at 0x79a7893f4a58>"
      ]
     },
     "execution_count": 72,
     "metadata": {},
     "output_type": "execute_result"
    },
    {
     "data": {
      "image/png": "[encoded data removed]",
      "text/plain": [
       "<Figure size 864x432 with 1 Axes>"
      ]
     },
     "metadata": {
      "needs_background": "light"
     },
     "output_type": "display_data"
    }
   ],
   "source": [
    "mydraw(block_list)"
   ]
  },
  {
   "cell_type": "code",
   "execution_count": 73,
   "metadata": {},
   "outputs": [],
   "source": [
    "add1 = pybd.addition_block()"
   ]
  },
  {
   "cell_type": "code",
   "execution_count": 74,
   "metadata": {},
   "outputs": [],
   "source": [
    "subtract1 = pybd.subtraction_block()"
   ]
  },
  {
   "cell_type": "code",
   "execution_count": 75,
   "metadata": {},
   "outputs": [],
   "source": [
    "v_nom = pybd.int_constant_block(100,'v_nom_block')"
   ]
  },
  {
   "cell_type": "code",
   "execution_count": 76,
   "metadata": {},
   "outputs": [],
   "source": [
    "v_nom.place_relative(sat, \"right\", yshift=4, xshift=-4)"
   ]
  },
  {
   "cell_type": "code",
   "execution_count": 77,
   "metadata": {},
   "outputs": [],
   "source": [
    "block_list.append(v_nom)"
   ]
  },
  {
   "cell_type": "code",
   "execution_count": 78,
   "metadata": {},
   "outputs": [],
   "source": [
    "add1.place_relative(sat, \"right\", yshift=-2, xshift=3)"
   ]
  },
  {
   "cell_type": "code",
   "execution_count": 79,
   "metadata": {},
   "outputs": [],
   "source": [
    "subtract1.place_relative(sat, \"right\", yshift=1)"
   ]
  },
  {
   "cell_type": "code",
   "execution_count": 80,
   "metadata": {},
   "outputs": [],
   "source": [
    "block_list.append(add1)"
   ]
  },
  {
   "cell_type": "code",
   "execution_count": 81,
   "metadata": {},
   "outputs": [],
   "source": [
    "block_list.append(subtract1)"
   ]
  },
  {
   "cell_type": "code",
   "execution_count": 82,
   "metadata": {},
   "outputs": [],
   "source": [
    "add1.set_inputs(v_nom, sat)"
   ]
  },
  {
   "cell_type": "code",
   "execution_count": 83,
   "metadata": {},
   "outputs": [],
   "source": [
    "subtract1.set_inputs(v_nom, sat)"
   ]
  },
  {
   "cell_type": "code",
   "execution_count": 84,
   "metadata": {},
   "outputs": [
    {
     "data": {
      "text/plain": [
       "<py_block_diagram.block_diagram at 0x79a7892c5f98>"
      ]
     },
     "execution_count": 84,
     "metadata": {},
     "output_type": "execute_result"
    },
    {
     "data": {
      "image/png": "[encoded data removed]",
      "text/plain": [
       "<Figure size 864x432 with 1 Axes>"
      ]
     },
     "metadata": {
      "needs_background": "light"
     },
     "output_type": "display_data"
    }
   ],
   "source": [
    "mydraw(block_list)"
   ]
  },
  {
   "cell_type": "code",
   "execution_count": 85,
   "metadata": {},
   "outputs": [],
   "source": [
    "G.set_inputs(subtract1,add1)"
   ]
  },
  {
   "cell_type": "code",
   "execution_count": 86,
   "metadata": {},
   "outputs": [],
   "source": [
    "G.place_relative(subtract1,\"right\",6)"
   ]
  },
  {
   "cell_type": "code",
   "execution_count": 87,
   "metadata": {},
   "outputs": [],
   "source": [
    "block_list.append(G)"
   ]
  },
  {
   "cell_type": "code",
   "execution_count": 88,
   "metadata": {},
   "outputs": [
    {
     "data": {
      "text/plain": [
       "<py_block_diagram.block_diagram at 0x79a7891e81d0>"
      ]
     },
     "execution_count": 88,
     "metadata": {},
     "output_type": "execute_result"
    },
    {
     "data": {
      "image/png": "[encoded data removed]",
      "text/plain": [
       "<Figure size 864x432 with 1 Axes>"
      ]
     },
     "metadata": {
      "needs_background": "light"
     },
     "output_type": "display_data"
    }
   ],
   "source": [
    "mydraw(block_list)"
   ]
  },
  {
   "cell_type": "code",
   "execution_count": 89,
   "metadata": {},
   "outputs": [],
   "source": [
    "Y = pybd.output_block(\"line position\",G)"
   ]
  },
  {
   "cell_type": "code",
   "execution_count": 90,
   "metadata": {},
   "outputs": [],
   "source": [
    "Y.place_relative(G, \"right\",6)"
   ]
  },
  {
   "cell_type": "code",
   "execution_count": 91,
   "metadata": {},
   "outputs": [],
   "source": [
    "Y.width = 6"
   ]
  },
  {
   "cell_type": "code",
   "execution_count": 92,
   "metadata": {},
   "outputs": [],
   "source": [
    "sum1.set_input2(G)"
   ]
  },
  {
   "cell_type": "code",
   "execution_count": 93,
   "metadata": {},
   "outputs": [],
   "source": [
    "block_list.append(Y)"
   ]
  },
  {
   "cell_type": "code",
   "execution_count": 94,
   "metadata": {},
   "outputs": [],
   "source": [
    "sum1.fb_vertical_offset = -5"
   ]
  },
  {
   "cell_type": "code",
   "execution_count": 95,
   "metadata": {},
   "outputs": [
    {
     "data": {
      "image/png": "[encoded data removed]",
      "text/plain": [
       "<Figure size 864x432 with 1 Axes>"
      ]
     },
     "metadata": {
      "needs_background": "light"
     },
     "output_type": "display_data"
    }
   ],
   "source": [
    "mysys = mydraw(block_list)"
   ]
  },
  {
   "cell_type": "markdown",
   "metadata": {},
   "source": [
    "## Print Blocks"
   ]
  },
  {
   "cell_type": "code",
   "execution_count": 96,
   "metadata": {},
   "outputs": [],
   "source": [
    "mysys.print_blocks = [sum1,D,sat,add1,subtract1,G]"
   ]
  },
  {
   "cell_type": "markdown",
   "metadata": {},
   "source": [
    "## Execution Order"
   ]
  },
  {
   "cell_type": "code",
   "execution_count": 97,
   "metadata": {},
   "outputs": [],
   "source": [
    "mysys.find_execution_order([U,sum1,D,sat,v_nom,add1,subtract1])"
   ]
  },
  {
   "cell_type": "code",
   "execution_count": 98,
   "metadata": {},
   "outputs": [
    {
     "data": {
      "text/plain": [
       "[<py_block_diagram.int_constant_block at 0x79a78b802080>,\n",
       " <py_block_diagram.summing_junction at 0x79a78b7d27f0>,\n",
       " <py_block_diagram.PD_controller at 0x79a7894e64e0>,\n",
       " <py_block_diagram.saturation_block at 0x79a7896a8438>,\n",
       " <py_block_diagram.int_constant_block at 0x79a78931f6a0>,\n",
       " <py_block_diagram.addition_block at 0x79a78930f240>,\n",
       " <py_block_diagram.subtraction_block at 0x79a78930f128>,\n",
       " <py_block_diagram.PD_controller at 0x79a78b7d2e10>,\n",
       " <py_block_diagram.saturation_block at 0x79a78b775a90>,\n",
       " <py_block_diagram.int_constant_block at 0x79a789520ac8>,\n",
       " <py_block_diagram.addition_block at 0x79a7896a88d0>,\n",
       " <py_block_diagram.subtraction_block at 0x79a789520400>,\n",
       " <py_block_diagram.plant_with_double_actuator at 0x79a78b775390>,\n",
       " <py_block_diagram.output_block at 0x79a7895cf588>,\n",
       " <py_block_diagram.plant_with_double_actuator at 0x79a789520c88>,\n",
       " <py_block_diagram.output_block at 0x79a7890c7e10>]"
      ]
     },
     "execution_count": 98,
     "metadata": {},
     "output_type": "execute_result"
    }
   ],
   "source": [
    "mysys.execution_order"
   ]
  },
  {
   "cell_type": "markdown",
   "metadata": {},
   "source": [
    "## Codegen Test"
   ]
  },
  {
   "cell_type": "code",
   "execution_count": 99,
   "metadata": {},
   "outputs": [],
   "source": [
    "msg = \"Cart Pendulum Line Follow 1\""
   ]
  },
  {
   "cell_type": "code",
   "execution_count": 100,
   "metadata": {},
   "outputs": [],
   "source": [
    "mysys.welcome_msg = msg"
   ]
  },
  {
   "cell_type": "code",
   "execution_count": 101,
   "metadata": {},
   "outputs": [
    {
     "name": "stdout",
     "output_type": "stream",
     "text": [
      "cart_pendulum_template1_vib_only.ino  cart_pendulum_template2.ino\r\n"
     ]
    }
   ],
   "source": [
    "ls *.ino"
   ]
  },
  {
   "cell_type": "code",
   "execution_count": 102,
   "metadata": {},
   "outputs": [],
   "source": [
    "template_fn = \"cart_pendulum_template2.ino\""
   ]
  },
  {
   "cell_type": "code",
   "execution_count": 103,
   "metadata": {},
   "outputs": [
    {
     "name": "stdout",
     "output_type": "stream",
     "text": [
      "block: <py_block_diagram.int_constant_block object at 0x79a78b802080>\n",
      "block: <py_block_diagram.summing_junction object at 0x79a78b7d27f0>\n",
      "block: <py_block_diagram.PD_controller object at 0x79a78b7d2e10>\n",
      "block: <py_block_diagram.saturation_block object at 0x79a78b775a90>\n",
      "block: <py_block_diagram.int_constant_block object at 0x79a789520ac8>\n",
      "block: <py_block_diagram.addition_block object at 0x79a7896a88d0>\n",
      "block: <py_block_diagram.subtraction_block object at 0x79a789520400>\n",
      "block: <py_block_diagram.plant_with_double_actuator object at 0x79a78b775390>\n",
      "block: <py_block_diagram.output_block object at 0x79a7895cf588>\n",
      "block: <py_block_diagram.PD_controller object at 0x79a7894e64e0>\n",
      "block: <py_block_diagram.saturation_block object at 0x79a7896a8438>\n",
      "block: <py_block_diagram.int_constant_block object at 0x79a78931f6a0>\n",
      "block: <py_block_diagram.addition_block object at 0x79a78930f240>\n",
      "block: <py_block_diagram.subtraction_block object at 0x79a78930f128>\n",
      "block: <py_block_diagram.plant_with_double_actuator object at 0x79a789520c88>\n",
      "block: <py_block_diagram.output_block object at 0x79a7890c7e10>\n",
      "\n",
      "\n",
      "bdsysinitcode\n",
      "====================\n",
      "int_constant_block U_cl = int_constant_block(3500);\n",
      "summing_junction sum1_block = summing_junction();\n",
      "PD_control_block PD_block = PD_control_block(3, 0.1);\n",
      "saturation_block sat_block = saturation_block();\n",
      "int_constant_block v_nom_block = int_constant_block(100);\n",
      "addition_block add_block1 = addition_block();\n",
      "subtraction_block subtract_block1 = subtraction_block();\n",
      "two_motors_dbl_actuator dual_motors = two_motors_dbl_actuator(&motors);\n",
      "qtr_line_sensor line_sense = qtr_line_sensor(&qtr);\n",
      "plant_with_double_actuator G_block = plant_with_double_actuator(&dual_motors, &line_sense);\n",
      "PD_control_block PD_block = PD_control_block(0.1, 0.01);\n",
      "saturation_block sat_block = saturation_block();\n",
      "int_constant_block v_nom_block = int_constant_block(100);\n",
      "addition_block add_block1 = addition_block();\n",
      "subtraction_block subtract_block1 = subtraction_block();\n",
      "two_motors_dbl_actuator dual_motors = two_motors_dbl_actuator(&motors);\n",
      "qtr_line_sensor line_sense = qtr_line_sensor(&qtr);\n",
      "plant_with_double_actuator G_block = plant_with_double_actuator(&dual_motors, &line_sense);\n",
      "\n",
      "\n",
      "\n",
      "\n",
      "\n",
      "bdsyssetupcode\n",
      "====================\n",
      "   sum1_block.set_inputs(&U_cl, &G_block);\n",
      "   PD_block.set_input_block(&sum1_block);\n",
      "   sat_block.set_input_block(&PD_block);\n",
      "   add_block1.set_input_blocks(&v_nom_block, &sat_block);\n",
      "   subtract_block1.set_input_blocks(&v_nom_block, &sat_block);\n",
      "   G_block.set_input_blocks(&subtract_block1, &add_block1);\n",
      "   PD_block.set_input_block(&sum1_block);\n",
      "   sat_block.set_input_block(&PD_block);\n",
      "   add_block1.set_input_blocks(&v_nom_block, &sat_block);\n",
      "   subtract_block1.set_input_blocks(&v_nom_block, &sat_block);\n",
      "   G_block.set_input_blocks(&subtract_block1, &add_block1);\n",
      "\n",
      "\n",
      "\n",
      "\n",
      "\n",
      "bdsysmenucode\n",
      "====================\n",
      "\n",
      "\n",
      "\n",
      "\n",
      "\n",
      "bdsysloopcode\n",
      "====================\n",
      "   U_cl.find_output();\n",
      "   sum1_block.find_output(t_sec);\n",
      "   PD_block.find_output(t_sec);\n",
      "   sat_block.find_output(t_sec);\n",
      "   v_nom_block.find_output();\n",
      "   add_block1.find_output();\n",
      "   subtract_block1.find_output();\n",
      "   PD_block.find_output(t_sec);\n",
      "   sat_block.find_output(t_sec);\n",
      "   v_nom_block.find_output();\n",
      "   add_block1.find_output();\n",
      "   subtract_block1.find_output();\n",
      "   G_block.send_commands();\n",
      "   G_block.find_output(t_sec);\n",
      "   G_block.send_commands();\n",
      "   G_block.find_output(t_sec);\n",
      "\n",
      "\n",
      "\n",
      "\n",
      "\n",
      "bdsysprintcode\n",
      "====================\n",
      "   print_comma_then_int(sum1_block.read_output());\n",
      "   print_comma_then_int(PD_block.read_output());\n",
      "   print_comma_then_int(sat_block.read_output());\n",
      "   print_comma_then_int(add_block1.read_output());\n",
      "   print_comma_then_int(subtract_block1.read_output());\n",
      "   print_comma_then_int(G_block.read_output());\n",
      "\n",
      "\n",
      "\n",
      "\n",
      "\n",
      "bdsyswelcomecode\n",
      "====================\n",
      "   Serial.println(\"Cart Pendulum Line Follow 1\");\n",
      "\n",
      "\n",
      "\n"
     ]
    }
   ],
   "source": [
    "mysys.generate_arduino_code(\"cart_pendulum_autogen_2_line_follow_only\", template_fn,\\\n",
    "                           verbosity=1)"
   ]
  },
  {
   "cell_type": "code",
   "execution_count": 104,
   "metadata": {},
   "outputs": [
    {
     "data": {
      "text/plain": [
       "''"
      ]
     },
     "execution_count": 104,
     "metadata": {},
     "output_type": "execute_result"
    }
   ],
   "source": [
    "add1._get_arduino_param_str()"
   ]
  },
  {
   "cell_type": "code",
   "execution_count": null,
   "metadata": {},
   "outputs": [],
   "source": []
  }
 ],
 "metadata": {
  "kernelspec": {
   "display_name": "Python 3",
   "language": "python",
   "name": "python3"
  },
  "language_info": {
   "codemirror_mode": {
    "name": "ipython",
    "version": 3
   },
   "file_extension": ".py",
   "mimetype": "text/x-python",
   "name": "python",
   "nbconvert_exporter": "python",
   "pygments_lexer": "ipython3",
   "version": "3.7.3"
  }
 },
 "nbformat": 4,
 "nbformat_minor": 4
}
