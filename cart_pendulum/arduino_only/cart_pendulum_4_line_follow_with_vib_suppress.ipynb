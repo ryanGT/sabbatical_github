{
 "cells": [
  {
   "cell_type": "code",
   "execution_count": 1,
   "metadata": {},
   "outputs": [],
   "source": [
    "%matplotlib inline\n",
    "import matplotlib.pyplot as plt\n",
    "import numpy as np\n",
    "import control\n",
    "from numpy import sin, cos, tan, pi\n",
    "from control import TransferFunction as TF"
   ]
  },
  {
   "cell_type": "code",
   "execution_count": 2,
   "metadata": {},
   "outputs": [],
   "source": [
    "import txt_mixin"
   ]
  },
  {
   "cell_type": "code",
   "execution_count": 3,
   "metadata": {},
   "outputs": [],
   "source": [
    "plt.rcParams['font.size'] = 14"
   ]
  },
  {
   "cell_type": "code",
   "execution_count": 4,
   "metadata": {},
   "outputs": [],
   "source": [
    "import py_block_diagram"
   ]
  },
  {
   "cell_type": "code",
   "execution_count": 5,
   "metadata": {},
   "outputs": [],
   "source": [
    "import importlib"
   ]
  },
  {
   "cell_type": "code",
   "execution_count": 6,
   "metadata": {},
   "outputs": [],
   "source": [
    "import sys"
   ]
  },
  {
   "cell_type": "code",
   "execution_count": 7,
   "metadata": {},
   "outputs": [
    {
     "data": {
      "text/plain": [
       "['/home/ryanwkrauss/sabbatical_github_work/cart_pendulum/arduino_only',\n",
       " '/home/ryanwkrauss/git/research',\n",
       " '/home/ryanwkrauss/git/krauss_misc',\n",
       " '/home/ryanwkrauss/git/report_generation',\n",
       " '/home/ryanwkrauss/git/teaching',\n",
       " '/home/ryanwkrauss/git/bad',\n",
       " '/home/ryanwkrauss/git/py_block_diagram',\n",
       " '/usr/lib/python37.zip',\n",
       " '/usr/lib/python3.7',\n",
       " '/usr/lib/python3.7/lib-dynload',\n",
       " '',\n",
       " '/home/ryanwkrauss/.local/lib/python3.7/site-packages',\n",
       " '/usr/local/lib/python3.7/dist-packages',\n",
       " '/usr/local/lib/python3.7/dist-packages/bode_utils-1.1.0-py3.7.egg',\n",
       " '/usr/local/lib/python3.7/dist-packages/random_bode_generator-1.2.1-py3.7.egg',\n",
       " '/usr/lib/python3/dist-packages',\n",
       " '/usr/local/lib/python3.7/dist-packages/IPython/extensions',\n",
       " '/home/ryanwkrauss/.ipython']"
      ]
     },
     "execution_count": 7,
     "metadata": {},
     "output_type": "execute_result"
    }
   ],
   "source": [
    "sys.path"
   ]
  },
  {
   "cell_type": "code",
   "execution_count": 8,
   "metadata": {},
   "outputs": [
    {
     "data": {
      "text/plain": [
       "<module 'py_block_diagram' from '/home/ryanwkrauss/git/py_block_diagram/py_block_diagram/__init__.py'>"
      ]
     },
     "execution_count": 8,
     "metadata": {},
     "output_type": "execute_result"
    }
   ],
   "source": [
    "importlib.reload(py_block_diagram)"
   ]
  },
  {
   "cell_type": "code",
   "execution_count": 9,
   "metadata": {},
   "outputs": [],
   "source": [
    "import py_block_diagram as pybd"
   ]
  },
  {
   "cell_type": "markdown",
   "metadata": {},
   "source": [
    "### Helper Function\n",
    "\n",
    "- draw the block diagram as needed to verify things"
   ]
  },
  {
   "cell_type": "code",
   "execution_count": 10,
   "metadata": {},
   "outputs": [],
   "source": [
    "def mydraw(block_list,xlim=None,ylim=None):\n",
    "    fig = plt.figure(figsize=(12,6))\n",
    "    ax = fig.add_subplot(111)\n",
    "    mysys = pybd.block_diagram(block_list,ax)\n",
    "    mysys.draw()\n",
    "    if xlim is not None:\n",
    "        plt.xlim(xlim)\n",
    "    if ylim is not None:\n",
    "        plt.ylim(ylim)\n",
    "    mysys.axis_off()\n",
    "    return mysys"
   ]
  },
  {
   "cell_type": "markdown",
   "metadata": {},
   "source": [
    "## System Description"
   ]
  },
  {
   "cell_type": "code",
   "execution_count": 11,
   "metadata": {},
   "outputs": [],
   "source": [
    "block_list = []"
   ]
  },
  {
   "cell_type": "code",
   "execution_count": 12,
   "metadata": {},
   "outputs": [],
   "source": [
    "U = pybd.int_constant_block(3500,\"U_cl\")"
   ]
  },
  {
   "cell_type": "code",
   "execution_count": 13,
   "metadata": {},
   "outputs": [],
   "source": [
    "U.width = 4"
   ]
  },
  {
   "cell_type": "code",
   "execution_count": 14,
   "metadata": {},
   "outputs": [],
   "source": [
    "U.place_absolute(0,0)"
   ]
  },
  {
   "cell_type": "code",
   "execution_count": 15,
   "metadata": {},
   "outputs": [],
   "source": [
    "block_list.append(U)"
   ]
  },
  {
   "cell_type": "code",
   "execution_count": 16,
   "metadata": {},
   "outputs": [],
   "source": [
    "sum1 = pybd.summing_junction()"
   ]
  },
  {
   "cell_type": "code",
   "execution_count": 17,
   "metadata": {},
   "outputs": [],
   "source": [
    "sum1.place_relative(U,\"right\")"
   ]
  },
  {
   "cell_type": "code",
   "execution_count": 18,
   "metadata": {},
   "outputs": [],
   "source": [
    "sum1.set_input1(U)"
   ]
  },
  {
   "cell_type": "code",
   "execution_count": 19,
   "metadata": {},
   "outputs": [],
   "source": [
    "block_list.append(sum1)"
   ]
  },
  {
   "cell_type": "code",
   "execution_count": 20,
   "metadata": {},
   "outputs": [],
   "source": [
    "D = pybd.PD_controller(0.1,0.01)"
   ]
  },
  {
   "cell_type": "code",
   "execution_count": 21,
   "metadata": {},
   "outputs": [],
   "source": [
    "D.place_relative(sum1,\"right\")"
   ]
  },
  {
   "cell_type": "code",
   "execution_count": 22,
   "metadata": {},
   "outputs": [],
   "source": [
    "D.set_input_block(sum1)"
   ]
  },
  {
   "cell_type": "code",
   "execution_count": 23,
   "metadata": {},
   "outputs": [
    {
     "data": {
      "text/plain": [
       "0.01"
      ]
     },
     "execution_count": 23,
     "metadata": {},
     "output_type": "execute_result"
    }
   ],
   "source": [
    "D.Kd"
   ]
  },
  {
   "cell_type": "code",
   "execution_count": 24,
   "metadata": {},
   "outputs": [
    {
     "data": {
      "text/plain": [
       "0.1"
      ]
     },
     "execution_count": 24,
     "metadata": {},
     "output_type": "execute_result"
    }
   ],
   "source": [
    "D.Kp"
   ]
  },
  {
   "cell_type": "code",
   "execution_count": 25,
   "metadata": {},
   "outputs": [],
   "source": [
    "block_list.append(D)"
   ]
  },
  {
   "cell_type": "code",
   "execution_count": 26,
   "metadata": {},
   "outputs": [],
   "source": [
    "diff_motors = pybd.custom_actuator(\"dual_motors\",\"two_motors_dbl_actuator\",\"&motors\")"
   ]
  },
  {
   "cell_type": "code",
   "execution_count": 27,
   "metadata": {},
   "outputs": [],
   "source": [
    "line_sense = pybd.custom_sensor(\"line_sense\",\"qtr_line_sensor\",\"&qtr\")"
   ]
  },
  {
   "cell_type": "code",
   "execution_count": 28,
   "metadata": {},
   "outputs": [],
   "source": [
    "pend_enc = pybd.custom_sensor(\"pend_enc\",\"pendulum_encoder\",\"\")"
   ]
  },
  {
   "cell_type": "code",
   "execution_count": 29,
   "metadata": {},
   "outputs": [],
   "source": [
    "G = pybd.plant_with_double_actuator_two_sensors(pend_enc,\\\n",
    "                                                line_sense,\\\n",
    "                                                diff_motors,\"Robot\")"
   ]
  },
  {
   "cell_type": "code",
   "execution_count": 30,
   "metadata": {},
   "outputs": [],
   "source": [
    "sat = pybd.sat2_adjustable_block(150)"
   ]
  },
  {
   "cell_type": "code",
   "execution_count": 31,
   "metadata": {},
   "outputs": [],
   "source": [
    "sat.set_input_block(D)"
   ]
  },
  {
   "cell_type": "code",
   "execution_count": 32,
   "metadata": {},
   "outputs": [],
   "source": [
    "block_list.append(sat)"
   ]
  },
  {
   "cell_type": "code",
   "execution_count": 33,
   "metadata": {},
   "outputs": [],
   "source": [
    "sat.place_relative(D, \"right\")"
   ]
  },
  {
   "cell_type": "code",
   "execution_count": 34,
   "metadata": {},
   "outputs": [
    {
     "data": {
      "text/plain": [
       "<py_block_diagram.block_diagram at 0x7d8621a90b38>"
      ]
     },
     "execution_count": 34,
     "metadata": {},
     "output_type": "execute_result"
    },
    {
     "data": {
      "image/png": "[encoded data removed]",
      "text/plain": [
       "<Figure size 864x432 with 1 Axes>"
      ]
     },
     "metadata": {
      "needs_background": "light"
     },
     "output_type": "display_data"
    }
   ],
   "source": [
    "mydraw(block_list)"
   ]
  },
  {
   "cell_type": "code",
   "execution_count": 35,
   "metadata": {},
   "outputs": [],
   "source": [
    "add1 = pybd.addition_block()"
   ]
  },
  {
   "cell_type": "code",
   "execution_count": 36,
   "metadata": {},
   "outputs": [],
   "source": [
    "subtract1 = pybd.subtraction_block()"
   ]
  },
  {
   "cell_type": "code",
   "execution_count": 37,
   "metadata": {},
   "outputs": [],
   "source": [
    "v_nom = pybd.int_constant_block(200,'v_nom_block')"
   ]
  },
  {
   "cell_type": "code",
   "execution_count": 38,
   "metadata": {},
   "outputs": [],
   "source": [
    "v_nom.place_relative(sat, \"right\", yshift=6, xshift=-4)"
   ]
  },
  {
   "cell_type": "code",
   "execution_count": 39,
   "metadata": {},
   "outputs": [],
   "source": [
    "block_list.append(v_nom)"
   ]
  },
  {
   "cell_type": "code",
   "execution_count": 40,
   "metadata": {},
   "outputs": [],
   "source": [
    "add1.place_relative(sat, \"right\", yshift=1, xshift=3)"
   ]
  },
  {
   "cell_type": "code",
   "execution_count": 41,
   "metadata": {},
   "outputs": [],
   "source": [
    "subtract1.place_relative(sat, \"right\", yshift=-2)"
   ]
  },
  {
   "cell_type": "code",
   "execution_count": 42,
   "metadata": {},
   "outputs": [],
   "source": [
    "block_list.append(add1)"
   ]
  },
  {
   "cell_type": "code",
   "execution_count": 43,
   "metadata": {},
   "outputs": [],
   "source": [
    "block_list.append(subtract1)"
   ]
  },
  {
   "cell_type": "code",
   "execution_count": 44,
   "metadata": {},
   "outputs": [
    {
     "data": {
      "text/plain": [
       "<py_block_diagram.block_diagram at 0x7d86218952e8>"
      ]
     },
     "execution_count": 44,
     "metadata": {},
     "output_type": "execute_result"
    },
    {
     "data": {
      "image/png": "[encoded data removed]",
      "text/plain": [
       "<Figure size 864x432 with 1 Axes>"
      ]
     },
     "metadata": {
      "needs_background": "light"
     },
     "output_type": "display_data"
    }
   ],
   "source": [
    "mydraw(block_list)"
   ]
  },
  {
   "cell_type": "code",
   "execution_count": 45,
   "metadata": {},
   "outputs": [],
   "source": [
    "satP = pybd.sat2_adjustable_block(400,label=\"satP\",variable_name=\"satP\")"
   ]
  },
  {
   "cell_type": "code",
   "execution_count": 46,
   "metadata": {},
   "outputs": [],
   "source": [
    "satP.place_relative(add1,\"right\")"
   ]
  },
  {
   "cell_type": "code",
   "execution_count": 47,
   "metadata": {},
   "outputs": [],
   "source": [
    "block_list.append(satP)"
   ]
  },
  {
   "cell_type": "code",
   "execution_count": 48,
   "metadata": {},
   "outputs": [],
   "source": [
    "satP.set_input_block(add1)"
   ]
  },
  {
   "cell_type": "code",
   "execution_count": 49,
   "metadata": {},
   "outputs": [
    {
     "data": {
      "text/plain": [
       "<py_block_diagram.block_diagram at 0x7d86219f1e48>"
      ]
     },
     "execution_count": 49,
     "metadata": {},
     "output_type": "execute_result"
    },
    {
     "data": {
      "image/png": "[encoded data removed]",
      "text/plain": [
       "<Figure size 864x432 with 1 Axes>"
      ]
     },
     "metadata": {
      "needs_background": "light"
     },
     "output_type": "display_data"
    }
   ],
   "source": [
    "mydraw(block_list)"
   ]
  },
  {
   "cell_type": "code",
   "execution_count": 50,
   "metadata": {},
   "outputs": [],
   "source": [
    "satN = pybd.sat2_adjustable_block(400,label=\"satN\",variable_name=\"satN\")"
   ]
  },
  {
   "cell_type": "code",
   "execution_count": 51,
   "metadata": {},
   "outputs": [],
   "source": [
    "satN.place_relative(subtract1,\"right\")"
   ]
  },
  {
   "cell_type": "code",
   "execution_count": 52,
   "metadata": {},
   "outputs": [],
   "source": [
    "block_list.append(satN)"
   ]
  },
  {
   "cell_type": "code",
   "execution_count": 53,
   "metadata": {},
   "outputs": [],
   "source": [
    "satN.set_input_block(subtract1)"
   ]
  },
  {
   "cell_type": "code",
   "execution_count": 54,
   "metadata": {},
   "outputs": [
    {
     "data": {
      "text/plain": [
       "<py_block_diagram.block_diagram at 0x7d8621981748>"
      ]
     },
     "execution_count": 54,
     "metadata": {},
     "output_type": "execute_result"
    },
    {
     "data": {
      "image/png": "[encoded data removed]",
      "text/plain": [
       "<Figure size 864x432 with 1 Axes>"
      ]
     },
     "metadata": {
      "needs_background": "light"
     },
     "output_type": "display_data"
    }
   ],
   "source": [
    "mydraw(block_list)"
   ]
  },
  {
   "cell_type": "code",
   "execution_count": 55,
   "metadata": {},
   "outputs": [],
   "source": [
    "G.set_inputs(satP,satN)"
   ]
  },
  {
   "cell_type": "code",
   "execution_count": 56,
   "metadata": {},
   "outputs": [],
   "source": [
    "G.place_relative(sat,\"right\",16)"
   ]
  },
  {
   "cell_type": "code",
   "execution_count": 57,
   "metadata": {},
   "outputs": [],
   "source": [
    "block_list.append(G)"
   ]
  },
  {
   "cell_type": "code",
   "execution_count": 58,
   "metadata": {},
   "outputs": [
    {
     "data": {
      "text/plain": [
       "<py_block_diagram.block_diagram at 0x7d86217e9400>"
      ]
     },
     "execution_count": 58,
     "metadata": {},
     "output_type": "execute_result"
    },
    {
     "data": {
      "image/png": "[encoded data removed]",
      "text/plain": [
       "<Figure size 864x432 with 1 Axes>"
      ]
     },
     "metadata": {
      "needs_background": "light"
     },
     "output_type": "display_data"
    }
   ],
   "source": [
    "mydraw(block_list)"
   ]
  },
  {
   "cell_type": "code",
   "execution_count": 59,
   "metadata": {},
   "outputs": [],
   "source": [
    "Y = pybd.output_block(\"line position\",G.sensor2)"
   ]
  },
  {
   "cell_type": "code",
   "execution_count": 60,
   "metadata": {},
   "outputs": [],
   "source": [
    "Y.place_relative(G.sensor2, \"right\",8)"
   ]
  },
  {
   "cell_type": "code",
   "execution_count": 61,
   "metadata": {},
   "outputs": [],
   "source": [
    "Y.width = 6"
   ]
  },
  {
   "cell_type": "code",
   "execution_count": 62,
   "metadata": {},
   "outputs": [],
   "source": [
    "Y2 = pybd.output_block(\"pend. encoder\", G.sensor1)"
   ]
  },
  {
   "cell_type": "code",
   "execution_count": 63,
   "metadata": {},
   "outputs": [],
   "source": [
    "Y2.place_relative(G.sensor1, \"right\", 8)"
   ]
  },
  {
   "cell_type": "code",
   "execution_count": 64,
   "metadata": {},
   "outputs": [],
   "source": [
    "block_list.append(Y2)"
   ]
  },
  {
   "cell_type": "code",
   "execution_count": 65,
   "metadata": {},
   "outputs": [],
   "source": [
    "sum1.set_input2(G.sensor2)"
   ]
  },
  {
   "cell_type": "code",
   "execution_count": 66,
   "metadata": {},
   "outputs": [],
   "source": [
    "block_list.append(Y)"
   ]
  },
  {
   "cell_type": "code",
   "execution_count": 67,
   "metadata": {},
   "outputs": [],
   "source": [
    "sum1.fb_vertical_offset = -5"
   ]
  },
  {
   "cell_type": "code",
   "execution_count": 68,
   "metadata": {},
   "outputs": [
    {
     "data": {
      "image/png": "[encoded data removed]",
      "text/plain": [
       "<Figure size 864x432 with 1 Axes>"
      ]
     },
     "metadata": {
      "needs_background": "light"
     },
     "output_type": "display_data"
    }
   ],
   "source": [
    "mysys = mydraw(block_list)"
   ]
  },
  {
   "cell_type": "code",
   "execution_count": 69,
   "metadata": {},
   "outputs": [],
   "source": [
    "U2 = pybd.int_constant_block(0,\"U_pend\")"
   ]
  },
  {
   "cell_type": "code",
   "execution_count": 70,
   "metadata": {},
   "outputs": [],
   "source": [
    "U2.place_relative(U,\"above\",15,xshift=-3)"
   ]
  },
  {
   "cell_type": "code",
   "execution_count": 71,
   "metadata": {},
   "outputs": [],
   "source": [
    "block_list.append(U2)"
   ]
  },
  {
   "cell_type": "code",
   "execution_count": 72,
   "metadata": {},
   "outputs": [
    {
     "data": {
      "image/png": "[encoded data removed]",
      "text/plain": [
       "<Figure size 864x432 with 1 Axes>"
      ]
     },
     "metadata": {
      "needs_background": "light"
     },
     "output_type": "display_data"
    }
   ],
   "source": [
    "mysys = mydraw(block_list)"
   ]
  },
  {
   "cell_type": "code",
   "execution_count": 73,
   "metadata": {},
   "outputs": [],
   "source": [
    "sum2 = pybd.summing_junction(variable_name='sum2')"
   ]
  },
  {
   "cell_type": "code",
   "execution_count": 74,
   "metadata": {},
   "outputs": [],
   "source": [
    "sum2.place_relative(U2,\"right\")"
   ]
  },
  {
   "cell_type": "code",
   "execution_count": 75,
   "metadata": {},
   "outputs": [],
   "source": [
    "block_list.append(sum2)"
   ]
  },
  {
   "cell_type": "code",
   "execution_count": 76,
   "metadata": {},
   "outputs": [],
   "source": [
    "sum2.set_inputs(U2,G.sensor1)"
   ]
  },
  {
   "cell_type": "code",
   "execution_count": 77,
   "metadata": {},
   "outputs": [],
   "source": [
    "D2 = pybd.PD_controller(3,0.1,variable_name='D_pend')"
   ]
  },
  {
   "cell_type": "code",
   "execution_count": 78,
   "metadata": {},
   "outputs": [],
   "source": [
    "D2.set_input_block(sum2)"
   ]
  },
  {
   "cell_type": "code",
   "execution_count": 79,
   "metadata": {},
   "outputs": [],
   "source": [
    "D2.place_relative(sum2,\"right\")"
   ]
  },
  {
   "cell_type": "code",
   "execution_count": 80,
   "metadata": {},
   "outputs": [],
   "source": [
    "block_list.append(D2)"
   ]
  },
  {
   "cell_type": "code",
   "execution_count": 82,
   "metadata": {},
   "outputs": [],
   "source": [
    "sat_pend = pybd.sat2_adjustable_block(200,variable_name='pend_sat')"
   ]
  },
  {
   "cell_type": "code",
   "execution_count": 83,
   "metadata": {},
   "outputs": [],
   "source": [
    "sat_pend.set_input_block(D2)"
   ]
  },
  {
   "cell_type": "code",
   "execution_count": 84,
   "metadata": {},
   "outputs": [],
   "source": [
    "sat_pend.place_relative(D2,\"right\")"
   ]
  },
  {
   "cell_type": "code",
   "execution_count": 85,
   "metadata": {},
   "outputs": [],
   "source": [
    "block_list.append(sat_pend)"
   ]
  },
  {
   "cell_type": "code",
   "execution_count": 86,
   "metadata": {},
   "outputs": [],
   "source": [
    "add_pend = pybd.addition_block()"
   ]
  },
  {
   "cell_type": "code",
   "execution_count": 87,
   "metadata": {},
   "outputs": [],
   "source": [
    "add_pend.set_input1(sat_pend)"
   ]
  },
  {
   "cell_type": "code",
   "execution_count": 88,
   "metadata": {},
   "outputs": [],
   "source": [
    "add_pend.set_input2(v_nom)"
   ]
  },
  {
   "cell_type": "code",
   "execution_count": 89,
   "metadata": {},
   "outputs": [],
   "source": [
    "add_pend.place_relative(sat_pend,\"right\",yshift=-3)"
   ]
  },
  {
   "cell_type": "code",
   "execution_count": 90,
   "metadata": {},
   "outputs": [],
   "source": [
    "block_list.append(add_pend)"
   ]
  },
  {
   "cell_type": "code",
   "execution_count": 91,
   "metadata": {},
   "outputs": [],
   "source": [
    "add1.set_inputs(add_pend, sat)"
   ]
  },
  {
   "cell_type": "code",
   "execution_count": 92,
   "metadata": {},
   "outputs": [],
   "source": [
    "subtract1.set_inputs(add_pend, sat)"
   ]
  },
  {
   "cell_type": "code",
   "execution_count": 93,
   "metadata": {},
   "outputs": [
    {
     "data": {
      "text/plain": [
       "<py_block_diagram.block_diagram at 0x7d86215726d8>"
      ]
     },
     "execution_count": 93,
     "metadata": {},
     "output_type": "execute_result"
    },
    {
     "data": {
      "image/png": "[encoded data removed]",
      "text/plain": [
       "<Figure size 864x432 with 1 Axes>"
      ]
     },
     "metadata": {
      "needs_background": "light"
     },
     "output_type": "display_data"
    }
   ],
   "source": [
    "mydraw(block_list)"
   ]
  },
  {
   "cell_type": "code",
   "execution_count": 101,
   "metadata": {},
   "outputs": [],
   "source": [
    "mysys.append_menu_param_from_block(D,\"Kp\")"
   ]
  },
  {
   "cell_type": "code",
   "execution_count": 102,
   "metadata": {},
   "outputs": [],
   "source": [
    "mysys.append_menu_param_from_block(D,\"Kd\")"
   ]
  },
  {
   "cell_type": "code",
   "execution_count": 103,
   "metadata": {},
   "outputs": [],
   "source": [
    "mysys.append_menu_param_from_block(v_nom,\"value\",1)"
   ]
  },
  {
   "cell_type": "code",
   "execution_count": 104,
   "metadata": {},
   "outputs": [],
   "source": [
    "mysys.append_menu_param_global_variable(\"t_stop\")"
   ]
  },
  {
   "cell_type": "code",
   "execution_count": 105,
   "metadata": {},
   "outputs": [
    {
     "data": {
      "text/plain": [
       "[('PD_block.Kp', 0),\n",
       " ('PD_block.Kd', 0),\n",
       " ('v_nom_block.value', 1),\n",
       " ('t_stop', 0)]"
      ]
     },
     "execution_count": 105,
     "metadata": {},
     "output_type": "execute_result"
    }
   ],
   "source": [
    "mysys.menu_param_list"
   ]
  },
  {
   "cell_type": "markdown",
   "metadata": {},
   "source": [
    "## Print Blocks"
   ]
  },
  {
   "cell_type": "code",
   "execution_count": 115,
   "metadata": {},
   "outputs": [],
   "source": [
    "mysys.print_blocks = [sum1,D,sat,satP,satN,pend_enc,line_sense]"
   ]
  },
  {
   "cell_type": "markdown",
   "metadata": {},
   "source": [
    "## Execution Order"
   ]
  },
  {
   "cell_type": "code",
   "execution_count": 123,
   "metadata": {},
   "outputs": [],
   "source": [
    "mysys.find_execution_order([U2,sum2,D2,sat_pend,U,sum1,D,sat,v_nom,add1,subtract1,add_pend])"
   ]
  },
  {
   "cell_type": "code",
   "execution_count": 124,
   "metadata": {},
   "outputs": [
    {
     "data": {
      "text/plain": [
       "[<py_block_diagram.int_constant_block at 0x7d86216fc198>,\n",
       " <py_block_diagram.summing_junction at 0x7d8621622668>,\n",
       " <py_block_diagram.PD_controller at 0x7d8621650c50>,\n",
       " <py_block_diagram.sat2_adjustable_block at 0x7d86215a6550>,\n",
       " <py_block_diagram.int_constant_block at 0x7d8623b22668>,\n",
       " <py_block_diagram.summing_junction at 0x7d8623b26b70>,\n",
       " <py_block_diagram.PD_controller at 0x7d8623b228d0>,\n",
       " <py_block_diagram.sat2_adjustable_block at 0x7d8623b42748>,\n",
       " <py_block_diagram.int_constant_block at 0x7d8621873860>,\n",
       " <py_block_diagram.addition_block at 0x7d8621a75390>,\n",
       " <py_block_diagram.subtraction_block at 0x7d8621873240>,\n",
       " <py_block_diagram.addition_block at 0x7d86215a6da0>,\n",
       " <py_block_diagram.sat2_adjustable_block at 0x7d8621a46208>,\n",
       " <py_block_diagram.sat2_adjustable_block at 0x7d86219bdcf8>,\n",
       " <py_block_diagram.plant_with_double_actuator_two_sensors at 0x7d8623b42588>,\n",
       " <py_block_diagram.output_block at 0x7d8621768390>,\n",
       " <py_block_diagram.output_block at 0x7d86217d3f98>]"
      ]
     },
     "execution_count": 124,
     "metadata": {},
     "output_type": "execute_result"
    }
   ],
   "source": [
    "mysys.execution_order"
   ]
  },
  {
   "cell_type": "markdown",
   "metadata": {},
   "source": [
    "## Codegen Test"
   ]
  },
  {
   "cell_type": "code",
   "execution_count": 125,
   "metadata": {},
   "outputs": [],
   "source": [
    "msg = \"Cart Pendulum Line Follow 4\""
   ]
  },
  {
   "cell_type": "code",
   "execution_count": 126,
   "metadata": {},
   "outputs": [],
   "source": [
    "mysys.welcome_msg = msg"
   ]
  },
  {
   "cell_type": "code",
   "execution_count": 127,
   "metadata": {},
   "outputs": [
    {
     "name": "stdout",
     "output_type": "stream",
     "text": [
      "cart_pendulum_template1_vib_only.ino  cart_pendulum_template2.ino\r\n"
     ]
    }
   ],
   "source": [
    "ls *.ino"
   ]
  },
  {
   "cell_type": "code",
   "execution_count": 128,
   "metadata": {},
   "outputs": [],
   "source": [
    "template_fn = \"cart_pendulum_template2.ino\""
   ]
  },
  {
   "cell_type": "code",
   "execution_count": 129,
   "metadata": {},
   "outputs": [
    {
     "name": "stdout",
     "output_type": "stream",
     "text": [
      "block: <py_block_diagram.int_constant_block object at 0x7d8623b22668>\n",
      "block: <py_block_diagram.summing_junction object at 0x7d8623b26b70>\n",
      "block: <py_block_diagram.PD_controller object at 0x7d8623b228d0>\n",
      "block: <py_block_diagram.sat2_adjustable_block object at 0x7d8623b42748>\n",
      "block: <py_block_diagram.int_constant_block object at 0x7d8621873860>\n",
      "block: <py_block_diagram.addition_block object at 0x7d8621a75390>\n",
      "block: <py_block_diagram.subtraction_block object at 0x7d8621873240>\n",
      "block: <py_block_diagram.sat2_adjustable_block object at 0x7d8621a46208>\n",
      "block: <py_block_diagram.sat2_adjustable_block object at 0x7d86219bdcf8>\n",
      "block: <py_block_diagram.plant_with_double_actuator_two_sensors object at 0x7d8623b42588>\n",
      "block: <py_block_diagram.output_block object at 0x7d8621768390>\n",
      "block: <py_block_diagram.output_block object at 0x7d86217d3f98>\n",
      "block: <py_block_diagram.int_constant_block object at 0x7d86216fc198>\n",
      "block: <py_block_diagram.summing_junction object at 0x7d8621622668>\n",
      "block: <py_block_diagram.PD_controller object at 0x7d8621650c50>\n",
      "block: <py_block_diagram.sat2_adjustable_block object at 0x7d86215a6550>\n",
      "block: <py_block_diagram.addition_block object at 0x7d86215a6da0>\n",
      "\n",
      "\n",
      "bdsysinitcode\n",
      "====================\n",
      "int_constant_block U_cl = int_constant_block(3500);\n",
      "summing_junction sum1_block = summing_junction();\n",
      "PD_control_block PD_block = PD_control_block(0.1, 0.01);\n",
      "sat2_adjustable_block sat2_block = sat2_adjustable_block(150, -150);\n",
      "int_constant_block v_nom_block = int_constant_block(200);\n",
      "addition_block add_block1 = addition_block();\n",
      "subtraction_block subtract_block1 = subtraction_block();\n",
      "sat2_adjustable_block satP = sat2_adjustable_block(400, -400);\n",
      "sat2_adjustable_block satN = sat2_adjustable_block(400, -400);\n",
      "two_motors_dbl_actuator dual_motors = two_motors_dbl_actuator(&motors);\n",
      "pendulum_encoder pend_enc = pendulum_encoder();\n",
      "qtr_line_sensor line_sense = qtr_line_sensor(&qtr);\n",
      "plant_with_double_actuator_two_sensors G_block = plant_with_double_actuator_two_sensors(&dual_motors, &pend_enc, &line_sense);\n",
      "int_constant_block U_pend = int_constant_block(0);\n",
      "summing_junction sum2 = summing_junction();\n",
      "PD_control_block D_pend = PD_control_block(3, 0.1);\n",
      "sat2_adjustable_block pend_sat = sat2_adjustable_block(200, -200);\n",
      "addition_block add_block1 = addition_block();\n",
      "\n",
      "\n",
      "\n",
      "\n",
      "\n",
      "bdsyssetupcode\n",
      "====================\n",
      "   sum1_block.set_inputs(&U_cl, &line_sense);\n",
      "   PD_block.set_input_block(&sum1_block);\n",
      "   sat2_block.set_input_block(&PD_block);\n",
      "   add_block1.set_input_blocks(&add_block1, &sat2_block);\n",
      "   subtract_block1.set_input_blocks(&add_block1, &sat2_block);\n",
      "   satP.set_input_block(&add_block1);\n",
      "   satN.set_input_block(&subtract_block1);\n",
      "   G_block.set_input_blocks(&satP, &satN);\n",
      "   sum2.set_inputs(&U_pend, &pend_enc);\n",
      "   D_pend.set_input_block(&sum2);\n",
      "   pend_sat.set_input_block(&D_pend);\n",
      "   add_block1.set_input_blocks(&pend_sat, &v_nom_block);\n",
      "\n",
      "\n",
      "\n",
      "\n",
      "\n",
      "bdsysmenucode\n",
      "====================\n",
      "PD_block.Kp = get_float_with_message_no_pointer(\"PD_block.Kp\");\n",
      "PD_block.Kd = get_float_with_message_no_pointer(\"PD_block.Kd\");\n",
      "v_nom_block.value = get_int_with_message_no_pointer(\"v_nom_block.value\");\n",
      "t_stop = get_float_with_message_no_pointer(\"t_stop\");\n",
      "\n",
      "\n",
      "\n",
      "\n",
      "\n",
      "bdsysloopcode\n",
      "====================\n",
      "   U_pend.find_output();\n",
      "   sum2.find_output(t_sec);\n",
      "   D_pend.find_output(t_sec);\n",
      "   pend_sat.find_output(t_sec);\n",
      "   U_cl.find_output();\n",
      "   sum1_block.find_output(t_sec);\n",
      "   PD_block.find_output(t_sec);\n",
      "   sat2_block.find_output(t_sec);\n",
      "   v_nom_block.find_output();\n",
      "   add_block1.find_output();\n",
      "   subtract_block1.find_output();\n",
      "   add_block1.find_output();\n",
      "   satP.find_output(t_sec);\n",
      "   satN.find_output(t_sec);\n",
      "   G_block.send_commands();\n",
      "   G_block.find_output(t_sec);\n",
      "\n",
      "\n",
      "\n",
      "\n",
      "\n",
      "bdsysprintcode\n",
      "====================\n",
      "   print_comma_then_int(sum1_block.read_output());\n",
      "   print_comma_then_int(PD_block.read_output());\n",
      "   print_comma_then_int(sat2_block.read_output());\n",
      "   print_comma_then_int(satP.read_output());\n",
      "   print_comma_then_int(satN.read_output());\n",
      "   print_comma_then_int(pend_enc.read_output());\n",
      "   print_comma_then_int(line_sense.read_output());\n",
      "\n",
      "\n",
      "\n",
      "\n",
      "\n",
      "bdsyswelcomecode\n",
      "====================\n",
      "   Serial.println(\"Cart Pendulum Line Follow 4\");\n",
      "\n",
      "\n",
      "\n"
     ]
    }
   ],
   "source": [
    "mysys.generate_arduino_code(\"cart_pendulum_autogen_4_line_follow_with_vib_suppress\", template_fn,\\\n",
    "                           verbosity=1)"
   ]
  },
  {
   "cell_type": "code",
   "execution_count": 130,
   "metadata": {},
   "outputs": [
    {
     "data": {
      "text/plain": [
       "''"
      ]
     },
     "execution_count": 130,
     "metadata": {},
     "output_type": "execute_result"
    }
   ],
   "source": [
    "add1._get_arduino_param_str()"
   ]
  },
  {
   "cell_type": "code",
   "execution_count": null,
   "metadata": {},
   "outputs": [],
   "source": []
  },
  {
   "cell_type": "code",
   "execution_count": null,
   "metadata": {},
   "outputs": [],
   "source": []
  }
 ],
 "metadata": {
  "kernelspec": {
   "display_name": "Python 3",
   "language": "python",
   "name": "python3"
  },
  "language_info": {
   "codemirror_mode": {
    "name": "ipython",
    "version": 3
   },
   "file_extension": ".py",
   "mimetype": "text/x-python",
   "name": "python",
   "nbconvert_exporter": "python",
   "pygments_lexer": "ipython3",
   "version": "3.7.3"
  }
 },
 "nbformat": 4,
 "nbformat_minor": 4
}
