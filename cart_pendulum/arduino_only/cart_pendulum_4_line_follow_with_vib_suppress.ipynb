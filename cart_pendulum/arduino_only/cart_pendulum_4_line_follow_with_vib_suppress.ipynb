{
 "cells": [
  {
   "cell_type": "code",
   "execution_count": 1,
   "metadata": {},
   "outputs": [],
   "source": [
    "%matplotlib inline\n",
    "import matplotlib.pyplot as plt\n",
    "import numpy as np\n",
    "import control\n",
    "from numpy import sin, cos, tan, pi\n",
    "from control import TransferFunction as TF"
   ]
  },
  {
   "cell_type": "code",
   "execution_count": 2,
   "metadata": {},
   "outputs": [],
   "source": [
    "import txt_mixin"
   ]
  },
  {
   "cell_type": "code",
   "execution_count": 3,
   "metadata": {},
   "outputs": [],
   "source": [
    "plt.rcParams['font.size'] = 14"
   ]
  },
  {
   "cell_type": "code",
   "execution_count": 4,
   "metadata": {},
   "outputs": [],
   "source": [
    "import py_block_diagram"
   ]
  },
  {
   "cell_type": "code",
   "execution_count": 5,
   "metadata": {},
   "outputs": [],
   "source": [
    "import importlib"
   ]
  },
  {
   "cell_type": "code",
   "execution_count": 6,
   "metadata": {},
   "outputs": [],
   "source": [
    "import sys"
   ]
  },
  {
   "cell_type": "code",
   "execution_count": 7,
   "metadata": {},
   "outputs": [
    {
     "data": {
      "text/plain": [
       "['/Users/kraussry/sabbatical_github/cart_pendulum/arduino_only',\n",
       " '/Users/kraussry/git/research',\n",
       " '/Users/kraussry/git/krauss_misc',\n",
       " '/Users/kraussry/git/report_generation',\n",
       " '/Users/kraussry/git/teaching',\n",
       " '/Users/kraussry/git/bad',\n",
       " '/Users/kraussry/git/py_block_diagram',\n",
       " '/Users/kraussry/git/other_peoples_repos/pyboard',\n",
       " '/Users/kraussry/git/tkinter_utils',\n",
       " '/usr/local/Cellar/python@3.9/3.9.10/Frameworks/Python.framework/Versions/3.9/lib/python39.zip',\n",
       " '/usr/local/Cellar/python@3.9/3.9.10/Frameworks/Python.framework/Versions/3.9/lib/python3.9',\n",
       " '/usr/local/Cellar/python@3.9/3.9.10/Frameworks/Python.framework/Versions/3.9/lib/python3.9/lib-dynload',\n",
       " '',\n",
       " '/usr/local/lib/python3.9/site-packages',\n",
       " '/usr/local/lib/python3.9/site-packages/random_bode_generator-1.2.1-py3.9.egg',\n",
       " '/usr/local/opt/python-tk@3.9/libexec',\n",
       " '/usr/local/lib/python3.9/site-packages/IPython/extensions',\n",
       " '/Users/kraussry/.ipython']"
      ]
     },
     "execution_count": 7,
     "metadata": {},
     "output_type": "execute_result"
    }
   ],
   "source": [
    "sys.path"
   ]
  },
  {
   "cell_type": "code",
   "execution_count": 8,
   "metadata": {},
   "outputs": [
    {
     "data": {
      "text/plain": [
       "<module 'py_block_diagram' from '/Users/kraussry/git/py_block_diagram/py_block_diagram/__init__.py'>"
      ]
     },
     "execution_count": 8,
     "metadata": {},
     "output_type": "execute_result"
    }
   ],
   "source": [
    "importlib.reload(py_block_diagram)"
   ]
  },
  {
   "cell_type": "code",
   "execution_count": 9,
   "metadata": {},
   "outputs": [],
   "source": [
    "import py_block_diagram as pybd"
   ]
  },
  {
   "cell_type": "markdown",
   "metadata": {},
   "source": [
    "### Helper Function\n",
    "\n",
    "- draw the block diagram as needed to verify things"
   ]
  },
  {
   "cell_type": "code",
   "execution_count": 10,
   "metadata": {},
   "outputs": [],
   "source": [
    "def mydraw(bd,xlim=None,ylim=None):\n",
    "    fig = plt.figure(figsize=(12,6))\n",
    "    ax = fig.add_subplot(111)\n",
    "    bd.ax = ax\n",
    "    bd.draw()\n",
    "    if xlim is not None:\n",
    "        plt.xlim(xlim)\n",
    "    if ylim is not None:\n",
    "        plt.ylim(ylim)\n",
    "    bd.axis_off()\n",
    "    #return mysys"
   ]
  },
  {
   "cell_type": "markdown",
   "metadata": {},
   "source": [
    "## System Description"
   ]
  },
  {
   "cell_type": "code",
   "execution_count": 11,
   "metadata": {},
   "outputs": [],
   "source": [
    "bd = pybd.block_diagram()"
   ]
  },
  {
   "cell_type": "code",
   "execution_count": 12,
   "metadata": {},
   "outputs": [
    {
     "name": "stdout",
     "output_type": "stream",
     "text": [
      "in block.__init__\n"
     ]
    }
   ],
   "source": [
    "U = pybd.int_constant_block(3500,\"U_cl\")"
   ]
  },
  {
   "cell_type": "code",
   "execution_count": 13,
   "metadata": {},
   "outputs": [],
   "source": [
    "U.width = 4"
   ]
  },
  {
   "cell_type": "code",
   "execution_count": 14,
   "metadata": {},
   "outputs": [],
   "source": [
    "U.place_absolute(0,0)"
   ]
  },
  {
   "cell_type": "code",
   "execution_count": 15,
   "metadata": {},
   "outputs": [],
   "source": [
    "bd.append_block(U)"
   ]
  },
  {
   "cell_type": "code",
   "execution_count": 16,
   "metadata": {},
   "outputs": [
    {
     "data": {
      "text/plain": [
       "{'U_cl': <py_block_diagram.int_constant_block at 0x1260575b0>}"
      ]
     },
     "execution_count": 16,
     "metadata": {},
     "output_type": "execute_result"
    }
   ],
   "source": [
    "bd.block_dict"
   ]
  },
  {
   "cell_type": "code",
   "execution_count": 17,
   "metadata": {},
   "outputs": [
    {
     "name": "stdout",
     "output_type": "stream",
     "text": [
      "in block.__init__\n"
     ]
    }
   ],
   "source": [
    "sum1 = pybd.summing_junction()"
   ]
  },
  {
   "cell_type": "code",
   "execution_count": 18,
   "metadata": {},
   "outputs": [],
   "source": [
    "sum1.place_relative(U,\"right\")"
   ]
  },
  {
   "cell_type": "code",
   "execution_count": 19,
   "metadata": {},
   "outputs": [],
   "source": [
    "sum1.set_input_block1(U)"
   ]
  },
  {
   "cell_type": "code",
   "execution_count": 20,
   "metadata": {},
   "outputs": [],
   "source": [
    "bd.append_block(sum1)"
   ]
  },
  {
   "cell_type": "code",
   "execution_count": 21,
   "metadata": {},
   "outputs": [
    {
     "name": "stdout",
     "output_type": "stream",
     "text": [
      "in block.__init__\n"
     ]
    }
   ],
   "source": [
    "D = pybd.PD_controller(0.1,0.01)"
   ]
  },
  {
   "cell_type": "code",
   "execution_count": 22,
   "metadata": {},
   "outputs": [],
   "source": [
    "D.place_relative(sum1,\"right\")"
   ]
  },
  {
   "cell_type": "code",
   "execution_count": 23,
   "metadata": {},
   "outputs": [],
   "source": [
    "D.set_input_block1(sum1)"
   ]
  },
  {
   "cell_type": "code",
   "execution_count": 24,
   "metadata": {},
   "outputs": [
    {
     "data": {
      "text/plain": [
       "0.01"
      ]
     },
     "execution_count": 24,
     "metadata": {},
     "output_type": "execute_result"
    }
   ],
   "source": [
    "D.Kd"
   ]
  },
  {
   "cell_type": "code",
   "execution_count": 25,
   "metadata": {},
   "outputs": [
    {
     "data": {
      "text/plain": [
       "0.1"
      ]
     },
     "execution_count": 25,
     "metadata": {},
     "output_type": "execute_result"
    }
   ],
   "source": [
    "D.Kp"
   ]
  },
  {
   "cell_type": "code",
   "execution_count": 26,
   "metadata": {},
   "outputs": [],
   "source": [
    "bd.append_block(D)"
   ]
  },
  {
   "cell_type": "code",
   "execution_count": 27,
   "metadata": {},
   "outputs": [],
   "source": [
    "diff_motors = pybd.custom_actuator(\"dual_motors\",\"two_motors_dbl_actuator\",\"&motors\")"
   ]
  },
  {
   "cell_type": "code",
   "execution_count": 28,
   "metadata": {},
   "outputs": [],
   "source": [
    "line_sense = pybd.custom_sensor(\"line_sense\",\"qtr_line_sensor\",\"&qtr\")"
   ]
  },
  {
   "cell_type": "code",
   "execution_count": 29,
   "metadata": {},
   "outputs": [],
   "source": [
    "pend_enc = pybd.custom_sensor(\"pend_enc\",\"pendulum_encoder\",\"\")"
   ]
  },
  {
   "cell_type": "code",
   "execution_count": 30,
   "metadata": {},
   "outputs": [
    {
     "name": "stdout",
     "output_type": "stream",
     "text": [
      "in block.__init__\n"
     ]
    }
   ],
   "source": [
    "G = pybd.plant_with_double_actuator_two_sensors(pend_enc,\\\n",
    "                                                line_sense,\\\n",
    "                                                diff_motors,\"Robot\")"
   ]
  },
  {
   "cell_type": "code",
   "execution_count": 31,
   "metadata": {},
   "outputs": [
    {
     "name": "stdout",
     "output_type": "stream",
     "text": [
      "in block.__init__\n"
     ]
    }
   ],
   "source": [
    "sat = pybd.sat2_adjustable_block(150)"
   ]
  },
  {
   "cell_type": "code",
   "execution_count": 32,
   "metadata": {},
   "outputs": [],
   "source": [
    "sat.set_input_block1(D)"
   ]
  },
  {
   "cell_type": "code",
   "execution_count": 33,
   "metadata": {},
   "outputs": [],
   "source": [
    "bd.append_block(sat)"
   ]
  },
  {
   "cell_type": "code",
   "execution_count": 34,
   "metadata": {},
   "outputs": [],
   "source": [
    "sat.place_relative(D, \"right\")"
   ]
  },
  {
   "cell_type": "code",
   "execution_count": 35,
   "metadata": {},
   "outputs": [],
   "source": [
    "bd.ax"
   ]
  },
  {
   "cell_type": "code",
   "execution_count": 36,
   "metadata": {},
   "outputs": [
    {
     "name": "stdout",
     "output_type": "stream",
     "text": [
      "placed_blocks:\n",
      "U_cl\n",
      "sum1_block\n",
      "PD_block\n",
      "sat2_block\n",
      "drawing: U_cl\n",
      "drawing: sum1_block\n",
      "drawing: PD_block\n",
      "drawing: sat2_block\n"
     ]
    },
    {
     "data": {
      "image/png": "[encoded data removed]",
      "text/plain": [
       "<Figure size 864x432 with 1 Axes>"
      ]
     },
     "metadata": {
      "needs_background": "light"
     },
     "output_type": "display_data"
    }
   ],
   "source": [
    "mydraw(bd)"
   ]
  },
  {
   "cell_type": "code",
   "execution_count": 37,
   "metadata": {},
   "outputs": [
    {
     "name": "stdout",
     "output_type": "stream",
     "text": [
      "in block.__init__\n"
     ]
    }
   ],
   "source": [
    "add1 = pybd.addition_block()"
   ]
  },
  {
   "cell_type": "code",
   "execution_count": 38,
   "metadata": {},
   "outputs": [
    {
     "name": "stdout",
     "output_type": "stream",
     "text": [
      "in block.__init__\n"
     ]
    }
   ],
   "source": [
    "subtract1 = pybd.subtraction_block()"
   ]
  },
  {
   "cell_type": "code",
   "execution_count": 39,
   "metadata": {},
   "outputs": [
    {
     "name": "stdout",
     "output_type": "stream",
     "text": [
      "in block.__init__\n"
     ]
    }
   ],
   "source": [
    "v_nom = pybd.int_constant_block(200,'v_nom_block')"
   ]
  },
  {
   "cell_type": "code",
   "execution_count": 40,
   "metadata": {},
   "outputs": [],
   "source": [
    "v_nom.place_relative(sat, \"right\", yshift=6, xshift=-4)"
   ]
  },
  {
   "cell_type": "code",
   "execution_count": 41,
   "metadata": {},
   "outputs": [],
   "source": [
    "bd.append_block(v_nom)"
   ]
  },
  {
   "cell_type": "code",
   "execution_count": 42,
   "metadata": {},
   "outputs": [],
   "source": [
    "add1.place_relative(sat, \"right\", yshift=1, xshift=3)"
   ]
  },
  {
   "cell_type": "code",
   "execution_count": 43,
   "metadata": {},
   "outputs": [],
   "source": [
    "subtract1.place_relative(sat, \"right\", yshift=-2)"
   ]
  },
  {
   "cell_type": "code",
   "execution_count": 44,
   "metadata": {},
   "outputs": [],
   "source": [
    "bd.append_block(add1)"
   ]
  },
  {
   "cell_type": "code",
   "execution_count": 45,
   "metadata": {},
   "outputs": [],
   "source": [
    "bd.append_block(subtract1)"
   ]
  },
  {
   "cell_type": "code",
   "execution_count": 46,
   "metadata": {},
   "outputs": [
    {
     "name": "stdout",
     "output_type": "stream",
     "text": [
      "placed_blocks:\n",
      "U_cl\n",
      "sum1_block\n",
      "PD_block\n",
      "sat2_block\n",
      "v_nom_block\n",
      "add_block1\n",
      "subtract_block1\n",
      "drawing: U_cl\n",
      "drawing: sum1_block\n",
      "drawing: PD_block\n",
      "drawing: sat2_block\n",
      "drawing: v_nom_block\n",
      "drawing: add_block1\n",
      "drawing: subtract_block1\n"
     ]
    },
    {
     "data": {
      "image/png": "[encoded data removed]",
      "text/plain": [
       "<Figure size 864x432 with 1 Axes>"
      ]
     },
     "metadata": {
      "needs_background": "light"
     },
     "output_type": "display_data"
    }
   ],
   "source": [
    "mydraw(bd)"
   ]
  },
  {
   "cell_type": "code",
   "execution_count": 47,
   "metadata": {},
   "outputs": [
    {
     "name": "stdout",
     "output_type": "stream",
     "text": [
      "in block.__init__\n"
     ]
    }
   ],
   "source": [
    "satP = pybd.sat2_adjustable_block(400,label=\"satP\",variable_name=\"satP\")"
   ]
  },
  {
   "cell_type": "code",
   "execution_count": 48,
   "metadata": {},
   "outputs": [],
   "source": [
    "satP.place_relative(add1,\"right\")"
   ]
  },
  {
   "cell_type": "code",
   "execution_count": 49,
   "metadata": {},
   "outputs": [],
   "source": [
    "bd.append_block(satP)"
   ]
  },
  {
   "cell_type": "code",
   "execution_count": 50,
   "metadata": {},
   "outputs": [],
   "source": [
    "satP.set_input_block1(add1)"
   ]
  },
  {
   "cell_type": "code",
   "execution_count": 51,
   "metadata": {},
   "outputs": [
    {
     "name": "stdout",
     "output_type": "stream",
     "text": [
      "placed_blocks:\n",
      "U_cl\n",
      "sum1_block\n",
      "PD_block\n",
      "sat2_block\n",
      "v_nom_block\n",
      "add_block1\n",
      "subtract_block1\n",
      "satP\n",
      "drawing: U_cl\n",
      "drawing: sum1_block\n",
      "drawing: PD_block\n",
      "drawing: sat2_block\n",
      "drawing: v_nom_block\n",
      "drawing: add_block1\n",
      "drawing: subtract_block1\n",
      "drawing: satP\n"
     ]
    },
    {
     "data": {
      "image/png": "[encoded data removed]",
      "text/plain": [
       "<Figure size 864x432 with 1 Axes>"
      ]
     },
     "metadata": {
      "needs_background": "light"
     },
     "output_type": "display_data"
    }
   ],
   "source": [
    "mydraw(bd)"
   ]
  },
  {
   "cell_type": "code",
   "execution_count": 52,
   "metadata": {},
   "outputs": [
    {
     "name": "stdout",
     "output_type": "stream",
     "text": [
      "in block.__init__\n"
     ]
    }
   ],
   "source": [
    "satN = pybd.sat2_adjustable_block(400,label=\"satN\",variable_name=\"satN\")"
   ]
  },
  {
   "cell_type": "code",
   "execution_count": 53,
   "metadata": {},
   "outputs": [],
   "source": [
    "satN.place_relative(subtract1,\"right\")"
   ]
  },
  {
   "cell_type": "code",
   "execution_count": 54,
   "metadata": {},
   "outputs": [],
   "source": [
    "bd.append_block(satN)"
   ]
  },
  {
   "cell_type": "code",
   "execution_count": 55,
   "metadata": {},
   "outputs": [],
   "source": [
    "satN.set_input_block1(subtract1)"
   ]
  },
  {
   "cell_type": "code",
   "execution_count": 56,
   "metadata": {},
   "outputs": [
    {
     "name": "stdout",
     "output_type": "stream",
     "text": [
      "placed_blocks:\n",
      "U_cl\n",
      "sum1_block\n",
      "PD_block\n",
      "sat2_block\n",
      "v_nom_block\n",
      "add_block1\n",
      "subtract_block1\n",
      "satP\n",
      "satN\n",
      "drawing: U_cl\n",
      "drawing: sum1_block\n",
      "drawing: PD_block\n",
      "drawing: sat2_block\n",
      "drawing: v_nom_block\n",
      "drawing: add_block1\n",
      "drawing: subtract_block1\n",
      "drawing: satP\n",
      "drawing: satN\n"
     ]
    },
    {
     "data": {
      "image/png": "[encoded data removed]",
      "text/plain": [
       "<Figure size 864x432 with 1 Axes>"
      ]
     },
     "metadata": {
      "needs_background": "light"
     },
     "output_type": "display_data"
    }
   ],
   "source": [
    "mydraw(bd)"
   ]
  },
  {
   "cell_type": "code",
   "execution_count": 57,
   "metadata": {},
   "outputs": [],
   "source": [
    "G.set_inputs(satP,satN)"
   ]
  },
  {
   "cell_type": "code",
   "execution_count": 58,
   "metadata": {},
   "outputs": [],
   "source": [
    "G.place_relative(sat,\"right\",16)"
   ]
  },
  {
   "cell_type": "code",
   "execution_count": 59,
   "metadata": {},
   "outputs": [],
   "source": [
    "bd.append_block(G)"
   ]
  },
  {
   "cell_type": "code",
   "execution_count": 60,
   "metadata": {},
   "outputs": [
    {
     "name": "stdout",
     "output_type": "stream",
     "text": [
      "placed_blocks:\n",
      "U_cl\n",
      "sum1_block\n",
      "PD_block\n",
      "sat2_block\n",
      "v_nom_block\n",
      "add_block1\n",
      "subtract_block1\n",
      "satP\n",
      "satN\n",
      "G_block\n",
      "drawing: U_cl\n",
      "drawing: sum1_block\n",
      "drawing: PD_block\n",
      "drawing: sat2_block\n",
      "drawing: v_nom_block\n",
      "drawing: add_block1\n",
      "drawing: subtract_block1\n",
      "drawing: satP\n",
      "drawing: satN\n",
      "drawing: G_block\n"
     ]
    },
    {
     "data": {
      "image/png": "[encoded data removed]",
      "text/plain": [
       "<Figure size 864x432 with 1 Axes>"
      ]
     },
     "metadata": {
      "needs_background": "light"
     },
     "output_type": "display_data"
    }
   ],
   "source": [
    "mydraw(bd)"
   ]
  },
  {
   "cell_type": "code",
   "execution_count": 61,
   "metadata": {},
   "outputs": [
    {
     "name": "stdout",
     "output_type": "stream",
     "text": [
      "in block.__init__\n"
     ]
    }
   ],
   "source": [
    "Y = pybd.output_block(\"line position\",G.sensor2)"
   ]
  },
  {
   "cell_type": "code",
   "execution_count": 62,
   "metadata": {},
   "outputs": [],
   "source": [
    "Y.place_relative(G.sensor2, \"right\",8)"
   ]
  },
  {
   "cell_type": "code",
   "execution_count": 63,
   "metadata": {},
   "outputs": [],
   "source": [
    "Y.width = 6"
   ]
  },
  {
   "cell_type": "code",
   "execution_count": 64,
   "metadata": {},
   "outputs": [],
   "source": [
    "bd.append_block(Y)"
   ]
  },
  {
   "cell_type": "code",
   "execution_count": 65,
   "metadata": {},
   "outputs": [
    {
     "data": {
      "text/plain": [
       "'Y'"
      ]
     },
     "execution_count": 65,
     "metadata": {},
     "output_type": "execute_result"
    }
   ],
   "source": [
    "Y.variable_name"
   ]
  },
  {
   "cell_type": "code",
   "execution_count": 66,
   "metadata": {},
   "outputs": [
    {
     "name": "stdout",
     "output_type": "stream",
     "text": [
      "in block.__init__\n"
     ]
    }
   ],
   "source": [
    "Y2 = pybd.output_block(\"pend. encoder\", G.sensor1)"
   ]
  },
  {
   "cell_type": "code",
   "execution_count": 67,
   "metadata": {},
   "outputs": [],
   "source": [
    "Y2.place_relative(G.sensor1, \"right\", 8)"
   ]
  },
  {
   "cell_type": "code",
   "execution_count": 68,
   "metadata": {},
   "outputs": [],
   "source": [
    "bd.append_block(Y2)"
   ]
  },
  {
   "cell_type": "code",
   "execution_count": 69,
   "metadata": {},
   "outputs": [],
   "source": [
    "sum1.set_input_block2(G.sensor2)"
   ]
  },
  {
   "cell_type": "code",
   "execution_count": 70,
   "metadata": {},
   "outputs": [
    {
     "data": {
      "text/plain": [
       "'Y2'"
      ]
     },
     "execution_count": 70,
     "metadata": {},
     "output_type": "execute_result"
    }
   ],
   "source": [
    "Y2.variable_name"
   ]
  },
  {
   "cell_type": "code",
   "execution_count": 71,
   "metadata": {},
   "outputs": [],
   "source": [
    "sum1.fb_vertical_offset = -5"
   ]
  },
  {
   "cell_type": "code",
   "execution_count": 72,
   "metadata": {},
   "outputs": [
    {
     "name": "stdout",
     "output_type": "stream",
     "text": [
      "placed_blocks:\n",
      "U_cl\n",
      "sum1_block\n",
      "PD_block\n",
      "sat2_block\n",
      "v_nom_block\n",
      "add_block1\n",
      "subtract_block1\n",
      "satP\n",
      "satN\n",
      "G_block\n",
      "unplaced_blocks:\n",
      "Y\n",
      "Y2\n",
      "drawing: U_cl\n",
      "drawing: sum1_block\n",
      "calling draw_feedback_wire\n",
      "drawing: PD_block\n",
      "drawing: sat2_block\n",
      "drawing: v_nom_block\n",
      "drawing: add_block1\n",
      "drawing: subtract_block1\n",
      "drawing: satP\n",
      "drawing: satN\n",
      "drawing: G_block\n",
      "drawing: Y\n",
      "drawing: Y2\n"
     ]
    },
    {
     "data": {
      "image/png": "[encoded data removed]",
      "text/plain": [
       "<Figure size 864x432 with 1 Axes>"
      ]
     },
     "metadata": {
      "needs_background": "light"
     },
     "output_type": "display_data"
    }
   ],
   "source": [
    "mysys = mydraw(bd)"
   ]
  },
  {
   "cell_type": "code",
   "execution_count": 73,
   "metadata": {},
   "outputs": [
    {
     "name": "stdout",
     "output_type": "stream",
     "text": [
      "in block.__init__\n"
     ]
    }
   ],
   "source": [
    "U2 = pybd.int_constant_block(0,\"U_pend\")"
   ]
  },
  {
   "cell_type": "code",
   "execution_count": 74,
   "metadata": {},
   "outputs": [],
   "source": [
    "U2.place_relative(U,\"above\",15,xshift=-3)"
   ]
  },
  {
   "cell_type": "code",
   "execution_count": 75,
   "metadata": {},
   "outputs": [],
   "source": [
    "bd.append_block(U2)"
   ]
  },
  {
   "cell_type": "code",
   "execution_count": 76,
   "metadata": {},
   "outputs": [
    {
     "name": "stdout",
     "output_type": "stream",
     "text": [
      "placed_blocks:\n",
      "U_cl\n",
      "sum1_block\n",
      "PD_block\n",
      "sat2_block\n",
      "v_nom_block\n",
      "add_block1\n",
      "subtract_block1\n",
      "satP\n",
      "satN\n",
      "G_block\n",
      "U_pend\n",
      "unplaced_blocks:\n",
      "Y\n",
      "Y2\n",
      "drawing: U_cl\n",
      "drawing: sum1_block\n",
      "calling draw_feedback_wire\n",
      "drawing: PD_block\n",
      "drawing: sat2_block\n",
      "drawing: v_nom_block\n",
      "drawing: add_block1\n",
      "drawing: subtract_block1\n",
      "drawing: satP\n",
      "drawing: satN\n",
      "drawing: G_block\n",
      "drawing: Y\n",
      "drawing: Y2\n",
      "drawing: U_pend\n"
     ]
    },
    {
     "data": {
      "image/png": "[encoded data removed]",
      "text/plain": [
       "<Figure size 864x432 with 1 Axes>"
      ]
     },
     "metadata": {
      "needs_background": "light"
     },
     "output_type": "display_data"
    }
   ],
   "source": [
    "mysys = mydraw(bd)"
   ]
  },
  {
   "cell_type": "code",
   "execution_count": 77,
   "metadata": {},
   "outputs": [
    {
     "name": "stdout",
     "output_type": "stream",
     "text": [
      "in block.__init__\n"
     ]
    }
   ],
   "source": [
    "sum2 = pybd.summing_junction(variable_name='sum2')"
   ]
  },
  {
   "cell_type": "code",
   "execution_count": 78,
   "metadata": {},
   "outputs": [],
   "source": [
    "sum2.place_relative(U2,\"right\")"
   ]
  },
  {
   "cell_type": "code",
   "execution_count": 79,
   "metadata": {},
   "outputs": [],
   "source": [
    "bd.append_block(sum2)"
   ]
  },
  {
   "cell_type": "code",
   "execution_count": 80,
   "metadata": {},
   "outputs": [],
   "source": [
    "sum2.set_inputs(U2,G.sensor1)"
   ]
  },
  {
   "cell_type": "code",
   "execution_count": 81,
   "metadata": {},
   "outputs": [
    {
     "name": "stdout",
     "output_type": "stream",
     "text": [
      "in block.__init__\n"
     ]
    }
   ],
   "source": [
    "D2 = pybd.PD_controller(3,0.1,variable_name='D_pend')"
   ]
  },
  {
   "cell_type": "code",
   "execution_count": 82,
   "metadata": {},
   "outputs": [],
   "source": [
    "D2.set_input_block1(sum2)"
   ]
  },
  {
   "cell_type": "code",
   "execution_count": 83,
   "metadata": {},
   "outputs": [],
   "source": [
    "D2.place_relative(sum2,\"right\")"
   ]
  },
  {
   "cell_type": "code",
   "execution_count": 84,
   "metadata": {},
   "outputs": [],
   "source": [
    "bd.append_block(D2)"
   ]
  },
  {
   "cell_type": "code",
   "execution_count": 85,
   "metadata": {},
   "outputs": [
    {
     "name": "stdout",
     "output_type": "stream",
     "text": [
      "in block.__init__\n"
     ]
    }
   ],
   "source": [
    "sat_pend = pybd.sat2_adjustable_block(200,variable_name='pend_sat')"
   ]
  },
  {
   "cell_type": "code",
   "execution_count": 86,
   "metadata": {},
   "outputs": [],
   "source": [
    "sat_pend.set_input_block1(D2)"
   ]
  },
  {
   "cell_type": "code",
   "execution_count": 87,
   "metadata": {},
   "outputs": [],
   "source": [
    "sat_pend.place_relative(D2,\"right\")"
   ]
  },
  {
   "cell_type": "code",
   "execution_count": 88,
   "metadata": {},
   "outputs": [],
   "source": [
    "bd.append_block(sat_pend)"
   ]
  },
  {
   "cell_type": "code",
   "execution_count": 89,
   "metadata": {},
   "outputs": [
    {
     "name": "stdout",
     "output_type": "stream",
     "text": [
      "in block.__init__\n"
     ]
    }
   ],
   "source": [
    "add_pend = pybd.addition_block(variable_name=\"add_pend\")"
   ]
  },
  {
   "cell_type": "code",
   "execution_count": 90,
   "metadata": {},
   "outputs": [],
   "source": [
    "add_pend.set_input_block1(sat_pend)"
   ]
  },
  {
   "cell_type": "code",
   "execution_count": 91,
   "metadata": {},
   "outputs": [],
   "source": [
    "add_pend.set_input_block2(v_nom)"
   ]
  },
  {
   "cell_type": "code",
   "execution_count": 92,
   "metadata": {},
   "outputs": [],
   "source": [
    "add_pend.place_relative(sat_pend,\"right\",yshift=-3)"
   ]
  },
  {
   "cell_type": "code",
   "execution_count": 93,
   "metadata": {},
   "outputs": [],
   "source": [
    "bd.append_block(add_pend)"
   ]
  },
  {
   "cell_type": "code",
   "execution_count": 94,
   "metadata": {},
   "outputs": [],
   "source": [
    "add1.set_inputs(add_pend, sat)"
   ]
  },
  {
   "cell_type": "code",
   "execution_count": 95,
   "metadata": {},
   "outputs": [],
   "source": [
    "subtract1.set_inputs(add_pend, sat)"
   ]
  },
  {
   "cell_type": "code",
   "execution_count": 96,
   "metadata": {},
   "outputs": [
    {
     "data": {
      "text/plain": [
       "'plant_with_double_actuator_two_sensors'"
      ]
     },
     "execution_count": 96,
     "metadata": {},
     "output_type": "execute_result"
    }
   ],
   "source": [
    "G.arduino_class"
   ]
  },
  {
   "cell_type": "code",
   "execution_count": 97,
   "metadata": {},
   "outputs": [
    {
     "data": {
      "text/plain": [
       "py_block_diagram.plant_with_double_actuator_two_sensors"
      ]
     },
     "execution_count": 97,
     "metadata": {},
     "output_type": "execute_result"
    }
   ],
   "source": [
    "type(G)"
   ]
  },
  {
   "cell_type": "code",
   "execution_count": 98,
   "metadata": {},
   "outputs": [
    {
     "name": "stdout",
     "output_type": "stream",
     "text": [
      "placed_blocks:\n",
      "U_cl\n",
      "sum1_block\n",
      "PD_block\n",
      "sat2_block\n",
      "v_nom_block\n",
      "add_block1\n",
      "subtract_block1\n",
      "satP\n",
      "satN\n",
      "G_block\n",
      "U_pend\n",
      "sum2\n",
      "D_pend\n",
      "pend_sat\n",
      "add_pend\n",
      "unplaced_blocks:\n",
      "Y\n",
      "Y2\n",
      "drawing: U_cl\n",
      "drawing: sum1_block\n",
      "calling draw_feedback_wire\n",
      "drawing: PD_block\n",
      "drawing: sat2_block\n",
      "drawing: v_nom_block\n",
      "drawing: add_block1\n",
      "drawing: subtract_block1\n",
      "drawing: satP\n",
      "drawing: satN\n",
      "drawing: G_block\n",
      "drawing: Y\n",
      "drawing: Y2\n",
      "drawing: U_pend\n",
      "drawing: sum2\n",
      "calling draw_feedback_wire\n",
      "drawing: D_pend\n",
      "drawing: pend_sat\n",
      "drawing: add_pend\n"
     ]
    },
    {
     "data": {
      "image/png": "[encoded data removed]",
      "text/plain": [
       "<Figure size 864x432 with 1 Axes>"
      ]
     },
     "metadata": {
      "needs_background": "light"
     },
     "output_type": "display_data"
    }
   ],
   "source": [
    "mydraw(bd)"
   ]
  },
  {
   "cell_type": "code",
   "execution_count": 99,
   "metadata": {},
   "outputs": [],
   "source": [
    "bd.append_menu_param_from_block(D,\"Kp\")"
   ]
  },
  {
   "cell_type": "code",
   "execution_count": 100,
   "metadata": {},
   "outputs": [],
   "source": [
    "bd.append_menu_param_from_block(D,\"Kd\")"
   ]
  },
  {
   "cell_type": "code",
   "execution_count": 101,
   "metadata": {},
   "outputs": [],
   "source": [
    "bd.append_menu_param_from_block(v_nom,\"value\",1)"
   ]
  },
  {
   "cell_type": "code",
   "execution_count": 102,
   "metadata": {},
   "outputs": [],
   "source": [
    "bd.append_menu_param_global_variable(\"t_stop\")"
   ]
  },
  {
   "cell_type": "code",
   "execution_count": 103,
   "metadata": {},
   "outputs": [
    {
     "data": {
      "text/plain": [
       "[('PD_block.Kp', 0),\n",
       " ('PD_block.Kd', 0),\n",
       " ('v_nom_block.value', 1),\n",
       " ('t_stop', 0)]"
      ]
     },
     "execution_count": 103,
     "metadata": {},
     "output_type": "execute_result"
    }
   ],
   "source": [
    "bd.menu_param_list"
   ]
  },
  {
   "cell_type": "code",
   "execution_count": 117,
   "metadata": {},
   "outputs": [
    {
     "name": "stdout",
     "output_type": "stream",
     "text": [
      "in get_csv_list_for_row: ['int_constant_block', 'U_cl', '3500', 'int_constant_block', '', '', '4', '1.5', 'absolute', '0', '0', '', '', '', '', '', 'value:3500', '', '', '', '', '', '', '', '', '']\n",
      "in get_csv_list_for_row: ['summing_junction', 'sum1_block', '', 'summing_junction', 'U_cl', 'line_sense', '2', '2', 'relative', '', '', 'U_cl', 'right', '4', '0', '0', '', '', '', '', '', '', '', '', '', '']\n",
      "in get_csv_list_for_row: ['PD_controller', 'PD_block', 'PD', 'PD_control_block', 'sum1_block', '', '3', '2', 'relative', '', '', 'sum1_block', 'right', '4', '0', '0', 'Kp:0.1', 'Kd:0.01', '', '', '', '', '', '', '', '']\n",
      "in get_csv_list_for_row: ['sat2_adjustable_block', 'sat2_block', 'sat2', 'sat2_adjustable_block', 'PD_block', '', '3', '2', 'relative', '', '', 'PD_block', 'right', '4', '0', '0', 'mymax:150', '', '', '', '', '', '', '', '', '']\n",
      "in get_csv_list_for_row: ['int_constant_block', 'v_nom_block', '200', 'int_constant_block', '', '', '1.5', '1.5', 'relative', '', '', 'sat2_block', 'right', '4', '-4', '6', 'value:200', '', '', '', '', '', '', '', '', '']\n",
      "in get_csv_list_for_row: ['addition_block', 'add_block1', '+', 'addition_block', 'add_pend', 'sat2_block', '1.5', '1.5', 'relative', '', '', 'sat2_block', 'right', '4', '3', '1', '', '', '', '', '', '', '', '', '', '']\n",
      "in get_csv_list_for_row: ['subtraction_block', 'subtract_block1', '-', 'subtraction_block', 'add_pend', 'sat2_block', '1.5', '1.5', 'relative', '', '', 'sat2_block', 'right', '4', '0', '-2', '', '', '', '', '', '', '', '', '', '']\n",
      "in get_csv_list_for_row: ['sat2_adjustable_block', 'satP', 'satP', 'sat2_adjustable_block', 'add_block1', '', '3', '2', 'relative', '', '', 'add_block1', 'right', '4', '0', '0', 'mymax:400', '', '', '', '', '', '', '', '', '']\n",
      "in get_csv_list_for_row: ['sat2_adjustable_block', 'satN', 'satN', 'sat2_adjustable_block', 'subtract_block1', '', '3', '2', 'relative', '', '', 'subtract_block1', 'right', '4', '0', '0', 'mymax:400', '', '', '', '', '', '', '', '', '']\n",
      "in get_csv_list_for_row: ['plant_with_double_actuator_two_sensors', 'G_block', 'Robot', 'plant_with_double_actuator_two_sensors', 'satP', 'satN', '3', '2', 'relative', '', '', 'sat2_block', 'right', '16', '0', '0', '', '', '', '', '', '', '', '', '', '']\n",
      "in get_csv_list_for_row: ['output_block', 'Y', 'line position', '', '', '', '6', '2', 'relative', '', '', 'line_sense', 'right', '8', '0', '0', '', '', '', '', '', '', '', '', '', '']\n",
      "in get_csv_list_for_row: ['output_block', 'Y2', 'pend. encoder', '', '', '', '3', '2', 'relative', '', '', 'pend_enc', 'right', '8', '0', '0', '', '', '', '', '', '', '', '', '', '']\n",
      "in get_csv_list_for_row: ['int_constant_block', 'U_pend', '0', 'int_constant_block', '', '', '1.5', '1.5', 'relative', '', '', 'U_cl', 'above', '15', '-3', '0', 'value:0', '', '', '', '', '', '', '', '', '']\n",
      "in get_csv_list_for_row: ['summing_junction', 'sum2', '', 'summing_junction', 'U_pend', 'pend_enc', '2', '2', 'relative', '', '', 'U_pend', 'right', '4', '0', '0', '', '', '', '', '', '', '', '', '', '']\n",
      "in get_csv_list_for_row: ['PD_controller', 'D_pend', 'PD', 'PD_control_block', 'sum2', '', '3', '2', 'relative', '', '', 'sum2', 'right', '4', '0', '0', 'Kp:3', 'Kd:0.1', '', '', '', '', '', '', '', '']\n",
      "in get_csv_list_for_row: ['sat2_adjustable_block', 'pend_sat', 'sat2', 'sat2_adjustable_block', 'D_pend', '', '3', '2', 'relative', '', '', 'D_pend', 'right', '4', '0', '0', 'mymax:200', '', '', '', '', '', '', '', '', '']\n",
      "in get_csv_list_for_row: ['addition_block', 'add_pend', '+', 'addition_block', 'pend_sat', 'v_nom_block', '1.5', '1.5', 'relative', '', '', 'pend_sat', 'right', '4', '0', '-3', '', '', '', '', '', '', '', '', '', '']\n"
     ]
    }
   ],
   "source": [
    "bd.save_model_to_csv(\"cart_pend_5_mega_as_main_arduino_only.csv\")"
   ]
  },
  {
   "cell_type": "code",
   "execution_count": 118,
   "metadata": {},
   "outputs": [
    {
     "data": {
      "text/plain": [
       "'/Users/kraussry/sabbatical_github/cart_pendulum/arduino_only'"
      ]
     },
     "execution_count": 118,
     "metadata": {},
     "output_type": "execute_result"
    }
   ],
   "source": [
    "pwd"
   ]
  },
  {
   "cell_type": "markdown",
   "metadata": {},
   "source": [
    "## Print Blocks"
   ]
  },
  {
   "cell_type": "code",
   "execution_count": 104,
   "metadata": {},
   "outputs": [],
   "source": [
    "bd.print_blocks = [sum1,D,sat,satP,satN,pend_enc,line_sense]"
   ]
  },
  {
   "cell_type": "markdown",
   "metadata": {},
   "source": [
    "## Execution Order"
   ]
  },
  {
   "cell_type": "code",
   "execution_count": 105,
   "metadata": {},
   "outputs": [
    {
     "name": "stdout",
     "output_type": "stream",
     "text": [
      "i = 0, j = 0, N = 13\n",
      "j = 0, N = 13, curblock = sum1_block\n",
      "success\n",
      "j = 0, N = 12, curblock = PD_block\n",
      "success\n",
      "j = 0, N = 11, curblock = sat2_block\n",
      "success\n",
      "j = 0, N = 10, curblock = add_block1\n",
      "failure, incrementing j\n",
      "j = 1, N = 10, curblock = subtract_block1\n",
      "failure, incrementing j\n",
      "j = 2, N = 10, curblock = satP\n",
      "failure, incrementing j\n",
      "j = 3, N = 10, curblock = satN\n",
      "failure, incrementing j\n",
      "j = 4, N = 10, curblock = Y\n",
      "success\n",
      "j = 4, N = 9, curblock = Y2\n",
      "success\n",
      "j = 4, N = 8, curblock = sum2\n",
      "success\n",
      "j = 4, N = 7, curblock = D_pend\n",
      "success\n",
      "j = 4, N = 6, curblock = pend_sat\n",
      "success\n",
      "j = 4, N = 5, curblock = add_pend\n",
      "success\n",
      "i = 1, j = 0, N = 4\n",
      "j = 0, N = 4, curblock = add_block1\n",
      "success\n",
      "j = 0, N = 3, curblock = subtract_block1\n",
      "success\n",
      "j = 0, N = 2, curblock = satP\n",
      "success\n",
      "j = 0, N = 1, curblock = satN\n",
      "success\n",
      "successful sorting of exec_order:\n",
      "U_cl\n",
      "v_nom_block\n",
      "U_pend\n",
      "G_block\n",
      "sum1_block\n",
      "PD_block\n",
      "sat2_block\n",
      "Y\n",
      "Y2\n",
      "sum2\n",
      "D_pend\n",
      "pend_sat\n",
      "add_pend\n",
      "add_block1\n",
      "subtract_block1\n",
      "satP\n",
      "satN\n"
     ]
    },
    {
     "data": {
      "text/plain": [
       "[<py_block_diagram.int_constant_block at 0x1260575b0>,\n",
       " <py_block_diagram.int_constant_block at 0x1260a3580>,\n",
       " <py_block_diagram.int_constant_block at 0x126436130>,\n",
       " <py_block_diagram.plant_with_double_actuator_two_sensors at 0x1260c07c0>,\n",
       " <py_block_diagram.summing_junction at 0x1260bd550>,\n",
       " <py_block_diagram.PD_controller at 0x1260c04c0>,\n",
       " <py_block_diagram.sat2_adjustable_block at 0x1260c05b0>,\n",
       " <py_block_diagram.output_block at 0x12639c4f0>,\n",
       " <py_block_diagram.output_block at 0x1263a9760>,\n",
       " <py_block_diagram.summing_junction at 0x1264f7e50>,\n",
       " <py_block_diagram.PD_controller at 0x126502a00>,\n",
       " <py_block_diagram.sat2_adjustable_block at 0x1265025e0>,\n",
       " <py_block_diagram.addition_block at 0x1265045e0>,\n",
       " <py_block_diagram.addition_block at 0x1260cf670>,\n",
       " <py_block_diagram.subtraction_block at 0x1260cf610>,\n",
       " <py_block_diagram.sat2_adjustable_block at 0x1261e9400>,\n",
       " <py_block_diagram.sat2_adjustable_block at 0x12626f820>]"
      ]
     },
     "execution_count": 105,
     "metadata": {},
     "output_type": "execute_result"
    }
   ],
   "source": [
    "bd.find_execution_order()"
   ]
  },
  {
   "cell_type": "code",
   "execution_count": 106,
   "metadata": {},
   "outputs": [
    {
     "data": {
      "text/plain": [
       "[<py_block_diagram.int_constant_block at 0x1260575b0>,\n",
       " <py_block_diagram.int_constant_block at 0x1260a3580>,\n",
       " <py_block_diagram.int_constant_block at 0x126436130>,\n",
       " <py_block_diagram.plant_with_double_actuator_two_sensors at 0x1260c07c0>,\n",
       " <py_block_diagram.summing_junction at 0x1260bd550>,\n",
       " <py_block_diagram.PD_controller at 0x1260c04c0>,\n",
       " <py_block_diagram.sat2_adjustable_block at 0x1260c05b0>,\n",
       " <py_block_diagram.output_block at 0x12639c4f0>,\n",
       " <py_block_diagram.output_block at 0x1263a9760>,\n",
       " <py_block_diagram.summing_junction at 0x1264f7e50>,\n",
       " <py_block_diagram.PD_controller at 0x126502a00>,\n",
       " <py_block_diagram.sat2_adjustable_block at 0x1265025e0>,\n",
       " <py_block_diagram.addition_block at 0x1265045e0>,\n",
       " <py_block_diagram.addition_block at 0x1260cf670>,\n",
       " <py_block_diagram.subtraction_block at 0x1260cf610>,\n",
       " <py_block_diagram.sat2_adjustable_block at 0x1261e9400>,\n",
       " <py_block_diagram.sat2_adjustable_block at 0x12626f820>]"
      ]
     },
     "execution_count": 106,
     "metadata": {},
     "output_type": "execute_result"
    }
   ],
   "source": [
    "bd.execution_order"
   ]
  },
  {
   "cell_type": "markdown",
   "metadata": {},
   "source": [
    "## Codegen Test"
   ]
  },
  {
   "cell_type": "code",
   "execution_count": 107,
   "metadata": {},
   "outputs": [],
   "source": [
    "msg = \"Cart Pendulum Line Follow 4\""
   ]
  },
  {
   "cell_type": "code",
   "execution_count": 108,
   "metadata": {},
   "outputs": [],
   "source": [
    "bd.welcome_msg = msg"
   ]
  },
  {
   "cell_type": "code",
   "execution_count": 109,
   "metadata": {},
   "outputs": [
    {
     "name": "stdout",
     "output_type": "stream",
     "text": [
      "cart_pendulum_template1_vib_only.ino  cart_pendulum_template2.ino\r\n"
     ]
    }
   ],
   "source": [
    "ls *.ino"
   ]
  },
  {
   "cell_type": "code",
   "execution_count": 110,
   "metadata": {},
   "outputs": [],
   "source": [
    "template_fn = \"cart_pendulum_template2.ino\""
   ]
  },
  {
   "cell_type": "code",
   "execution_count": 111,
   "metadata": {},
   "outputs": [
    {
     "name": "stdout",
     "output_type": "stream",
     "text": [
      "block: <py_block_diagram.int_constant_block object at 0x1260575b0>\n",
      "block: <py_block_diagram.summing_junction object at 0x1260bd550>\n",
      "block: <py_block_diagram.PD_controller object at 0x1260c04c0>\n",
      "block: <py_block_diagram.sat2_adjustable_block object at 0x1260c05b0>\n",
      "block: <py_block_diagram.int_constant_block object at 0x1260a3580>\n",
      "block: <py_block_diagram.addition_block object at 0x1260cf670>\n",
      "block: <py_block_diagram.subtraction_block object at 0x1260cf610>\n",
      "block: <py_block_diagram.sat2_adjustable_block object at 0x1261e9400>\n",
      "block: <py_block_diagram.sat2_adjustable_block object at 0x12626f820>\n",
      "block: <py_block_diagram.plant_with_double_actuator_two_sensors object at 0x1260c07c0>\n",
      "block: <py_block_diagram.output_block object at 0x12639c4f0>\n",
      "block: <py_block_diagram.output_block object at 0x1263a9760>\n",
      "block: <py_block_diagram.int_constant_block object at 0x126436130>\n",
      "block: <py_block_diagram.summing_junction object at 0x1264f7e50>\n",
      "block: <py_block_diagram.PD_controller object at 0x126502a00>\n",
      "block: <py_block_diagram.sat2_adjustable_block object at 0x1265025e0>\n",
      "block: <py_block_diagram.addition_block object at 0x1265045e0>\n",
      "\n",
      "\n",
      "bdsysinitcode\n",
      "====================\n",
      "int_constant_block U_cl = int_constant_block(3500);\n",
      "summing_junction sum1_block = summing_junction();\n",
      "PD_control_block PD_block = PD_control_block(0.1, 0.01);\n",
      "sat2_adjustable_block sat2_block = sat2_adjustable_block(150, -150);\n",
      "int_constant_block v_nom_block = int_constant_block(200);\n",
      "addition_block add_block1 = addition_block();\n",
      "subtraction_block subtract_block1 = subtraction_block();\n",
      "sat2_adjustable_block satP = sat2_adjustable_block(400, -400);\n",
      "sat2_adjustable_block satN = sat2_adjustable_block(400, -400);\n",
      "two_motors_dbl_actuator dual_motors = two_motors_dbl_actuator(&motors);\n",
      "pendulum_encoder pend_enc = pendulum_encoder();\n",
      "qtr_line_sensor line_sense = qtr_line_sensor(&qtr);\n",
      "plant_with_double_actuator_two_sensors G_block = plant_with_double_actuator_two_sensors(&dual_motors, &pend_enc, &line_sense);\n",
      "int_constant_block U_pend = int_constant_block(0);\n",
      "summing_junction sum2 = summing_junction();\n",
      "PD_control_block D_pend = PD_control_block(3, 0.1);\n",
      "sat2_adjustable_block pend_sat = sat2_adjustable_block(200, -200);\n",
      "addition_block add_pend = addition_block();\n",
      "\n",
      "\n",
      "\n",
      "\n",
      "\n",
      "bdsyssetupcode\n",
      "====================\n",
      "   sum1_block.set_inputs(&U_cl, &line_sense);\n",
      "   PD_block.set_input_block1(&sum1_block);\n",
      "   sat2_block.set_input_block1(&PD_block);\n",
      "   add_block1.set_input_blocks(&add_pend, &sat2_block);\n",
      "   subtract_block1.set_input_blocks(&add_pend, &sat2_block);\n",
      "   satP.set_input_block1(&add_block1);\n",
      "   satN.set_input_block1(&subtract_block1);\n",
      "   G_block.set_input_blocks(&satP, &satN);\n",
      "   sum2.set_inputs(&U_pend, &pend_enc);\n",
      "   D_pend.set_input_block1(&sum2);\n",
      "   pend_sat.set_input_block1(&D_pend);\n",
      "   add_pend.set_input_blocks(&pend_sat, &v_nom_block);\n",
      "\n",
      "\n",
      "\n",
      "\n",
      "\n",
      "bdsysmenucode\n",
      "====================\n",
      "PD_block.Kp = get_float_with_message_no_pointer(\"PD_block.Kp\");\n",
      "PD_block.Kd = get_float_with_message_no_pointer(\"PD_block.Kd\");\n",
      "v_nom_block.value = get_int_with_message_no_pointer(\"v_nom_block.value\");\n",
      "t_stop = get_float_with_message_no_pointer(\"t_stop\");\n",
      "\n",
      "\n",
      "\n",
      "\n",
      "\n",
      "bdsysloopcode\n",
      "====================\n",
      "   U_cl.find_output();\n",
      "   v_nom_block.find_output();\n",
      "   U_pend.find_output();\n",
      "   G_block.send_commands();\n",
      "   G_block.find_output(t_sec);\n",
      "   sum1_block.find_output(t_sec);\n",
      "   PD_block.find_output(t_sec);\n",
      "   sat2_block.find_output(t_sec);\n",
      "   sum2.find_output(t_sec);\n",
      "   D_pend.find_output(t_sec);\n",
      "   pend_sat.find_output(t_sec);\n",
      "   add_pend.find_output();\n",
      "   add_block1.find_output();\n",
      "   subtract_block1.find_output();\n",
      "   satP.find_output(t_sec);\n",
      "   satN.find_output(t_sec);\n",
      "\n",
      "\n",
      "\n",
      "\n",
      "\n",
      "bdsysprintcode\n",
      "====================\n",
      "   print_comma_then_int(sum1_block.read_output());\n",
      "   print_comma_then_int(PD_block.read_output());\n",
      "   print_comma_then_int(sat2_block.read_output());\n",
      "   print_comma_then_int(satP.read_output());\n",
      "   print_comma_then_int(satN.read_output());\n",
      "   print_comma_then_int(pend_enc.read_output());\n",
      "   print_comma_then_int(line_sense.read_output());\n",
      "\n",
      "\n",
      "\n",
      "\n",
      "\n",
      "bdsyswelcomecode\n",
      "====================\n",
      "   Serial.println(\"Cart Pendulum Line Follow 4\");\n",
      "\n",
      "\n",
      "\n"
     ]
    }
   ],
   "source": [
    "bd.generate_arduino_code(\"cart_pendulum_autogen_5_line_follow_with_vib_suppress_05_03_22\", template_fn,\\\n",
    "                           verbosity=1)"
   ]
  },
  {
   "cell_type": "code",
   "execution_count": 112,
   "metadata": {},
   "outputs": [
    {
     "data": {
      "text/plain": [
       "''"
      ]
     },
     "execution_count": 112,
     "metadata": {},
     "output_type": "execute_result"
    }
   ],
   "source": [
    "add1._get_arduino_param_str()"
   ]
  },
  {
   "cell_type": "code",
   "execution_count": 113,
   "metadata": {},
   "outputs": [
    {
     "data": {
      "text/plain": [
       "0.08"
      ]
     },
     "execution_count": 113,
     "metadata": {},
     "output_type": "execute_result"
    }
   ],
   "source": [
    "16/400000*1000*2"
   ]
  },
  {
   "cell_type": "code",
   "execution_count": 114,
   "metadata": {},
   "outputs": [
    {
     "data": {
      "text/plain": [
       "17.5"
      ]
     },
     "execution_count": 114,
     "metadata": {},
     "output_type": "execute_result"
    }
   ],
   "source": [
    "5/8*28"
   ]
  },
  {
   "cell_type": "code",
   "execution_count": 115,
   "metadata": {},
   "outputs": [
    {
     "data": {
      "text/plain": [
       "bytearray(b'\\x00\\x00\\x00\\x00\\x00\\x00\\x00\\x00')"
      ]
     },
     "execution_count": 115,
     "metadata": {},
     "output_type": "execute_result"
    }
   ],
   "source": [
    "bytearray(8)"
   ]
  },
  {
   "cell_type": "code",
   "execution_count": null,
   "metadata": {},
   "outputs": [],
   "source": []
  }
 ],
 "metadata": {
  "kernelspec": {
   "display_name": "Python 3",
   "language": "python",
   "name": "python3"
  },
  "language_info": {
   "codemirror_mode": {
    "name": "ipython",
    "version": 3
   },
   "file_extension": ".py",
   "mimetype": "text/x-python",
   "name": "python",
   "nbconvert_exporter": "python",
   "pygments_lexer": "ipython3",
   "version": "3.9.10"
  }
 },
 "nbformat": 4,
 "nbformat_minor": 4
}
