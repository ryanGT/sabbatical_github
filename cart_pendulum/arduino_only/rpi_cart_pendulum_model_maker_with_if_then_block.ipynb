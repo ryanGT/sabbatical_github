{
 "cells": [
  {
   "cell_type": "code",
   "execution_count": 468,
   "id": "undefined-hollow",
   "metadata": {},
   "outputs": [],
   "source": [
    "import py_block_diagram as pybd"
   ]
  },
  {
   "cell_type": "code",
   "execution_count": 469,
   "id": "documented-trash",
   "metadata": {},
   "outputs": [],
   "source": [
    "import importlib"
   ]
  },
  {
   "cell_type": "code",
   "execution_count": 470,
   "id": "caring-nickel",
   "metadata": {},
   "outputs": [
    {
     "data": {
      "text/plain": [
       "<module 'py_block_diagram' from '/Users/kraussry/git/py_block_diagram/py_block_diagram/__init__.py'>"
      ]
     },
     "execution_count": 470,
     "metadata": {},
     "output_type": "execute_result"
    }
   ],
   "source": [
    "importlib.reload(pybd)"
   ]
  },
  {
   "cell_type": "markdown",
   "id": "numerous-scroll",
   "metadata": {},
   "source": [
    "## Note\n",
    "\n",
    "- the gui doesn't current support if/then blocks with 3 inputs\n",
    "- I am loading a nearly complete model and then connecting the `bool_input` for the if/then block\n",
    "- once this is done, code generation should work (I think)\n",
    "- this should allow me to prove that the rpi can handle the coding and executing the test\n",
    "- I can fix making the gui create the model with the if/then block later"
   ]
  },
  {
   "cell_type": "code",
   "execution_count": 471,
   "id": "heard-aviation",
   "metadata": {},
   "outputs": [
    {
     "name": "stdout",
     "output_type": "stream",
     "text": [
      "cart_pend_5_mega_as_main_arduino_only.csv    teensy_cart_pend_line_follow_P_control.csv\r\n",
      "cart_pendulum_vib_suppress_rpi.csv           teensy_cart_pend_plant_and_sensors.csv\r\n",
      "line_follow_no_vib_suppress_two_sensors.csv  teensy_cart_pend_plant_and_sensors_2.csv\r\n",
      "line_follow_with_vib_suppress_test_1.csv     teensy_cart_pend_plant_and_sensors_3.csv\r\n",
      "teensy_cart_pend_1.csv                       teensy_cart_pend_plant_and_sensors_4.csv\r\n",
      "teensy_cart_pend_2.csv                       teensy_cart_pend_sensors_only.csv\r\n",
      "teensy_cart_pend_OL.csv                      vib_suppress_only_from_notebook.csv\r\n",
      "teensy_cart_pend_line_follow.csv\r\n"
     ]
    }
   ],
   "source": [
    "ls *.csv"
   ]
  },
  {
   "cell_type": "code",
   "execution_count": 472,
   "id": "sharp-stationery",
   "metadata": {},
   "outputs": [],
   "source": [
    "fn = \"cart_pendulum_vib_suppress_rpi.csv\""
   ]
  },
  {
   "cell_type": "code",
   "execution_count": 473,
   "id": "serious-model",
   "metadata": {},
   "outputs": [],
   "source": [
    "myloader = pybd.csv_block_diagram_loader(fn)"
   ]
  },
  {
   "cell_type": "code",
   "execution_count": 474,
   "id": "essential-resident",
   "metadata": {},
   "outputs": [
    {
     "name": "stdout",
     "output_type": "stream",
     "text": [
      "mydict: {'block_type': 'cart_pendulum', 'variable_name': 'G_cart', 'label': '$G_{cart}$', 'arduino_class': 'plant_with_i2c_double_actuator_and_two_sensors', 'input_block1_name': 'if_then', 'input_block2_name': 'if_then', 'width': 3, 'height': 2, 'placement_type': 'absolute', 'abs_x': 0, 'abs_y': 0, 'rel_block_name': '', 'rel_pos': '', 'rel_distance': '', 'xshift': '', 'yshift': '', 'param1': 'sensor1_name:line_sense', 'param2': 'sensor2_name:pend_enc', 'param3': 'send_address:7', 'param4': '', 'param5': '', 'param6': '', 'param7': '', 'param8': '', 'param9': '', 'param10': ''}\n",
      "key_value_strs: ['sensor1_name:line_sense', 'sensor2_name:pend_enc', 'send_address:7']\n",
      "mydict: {'block_type': 'if_block', 'variable_name': 'if_then', 'label': 'if', 'arduino_class': 'if_block', 'input_block1_name': 'adj_sat', 'input_block2_name': 'zero_if_false', 'width': 1.5, 'height': 3, 'placement_type': 'relative', 'abs_x': '', 'abs_y': '', 'rel_block_name': 'G_cart', 'rel_pos': 'left', 'rel_distance': 4, 'xshift': 0, 'yshift': 0, 'param1': '', 'param2': '', 'param3': '', 'param4': '', 'param5': '', 'param6': '', 'param7': '', 'param8': '', 'param9': '', 'param10': ''}\n",
      "key_value_strs: []\n",
      "mydict: {'block_type': 'sat2_adjustable_block', 'variable_name': 'adj_sat', 'label': 'sat2', 'arduino_class': 'sat2_adjustable_block', 'input_block1_name': 'D', 'input_block2_name': '', 'width': 3, 'height': 2, 'placement_type': 'relative', 'abs_x': '', 'abs_y': '', 'rel_block_name': 'if_then', 'rel_pos': 'left', 'rel_distance': 4, 'xshift': 0, 'yshift': 0, 'param1': 'mymax:400', 'param2': '', 'param3': '', 'param4': '', 'param5': '', 'param6': '', 'param7': '', 'param8': '', 'param9': '', 'param10': ''}\n",
      "key_value_strs: ['mymax:400']\n",
      "mydict: {'block_type': 'int_constant_block', 'variable_name': 'zero_if_false', 'label': 0, 'arduino_class': 'int_constant_block', 'input_block1_name': '', 'input_block2_name': '', 'width': 1.5, 'height': 1.5, 'placement_type': 'relative', 'abs_x': '', 'abs_y': '', 'rel_block_name': 'if_then', 'rel_pos': 'left', 'rel_distance': 3, 'xshift': 0, 'yshift': -2.5, 'param1': 'value:0', 'param2': '', 'param3': '', 'param4': '', 'param5': '', 'param6': '', 'param7': '', 'param8': '', 'param9': '', 'param10': ''}\n",
      "key_value_strs: ['value:0']\n",
      "mydict: {'block_type': 'PD_controller', 'variable_name': 'D', 'label': 'PD', 'arduino_class': 'PD_control_block', 'input_block1_name': 'sum_junct', 'input_block2_name': '', 'width': 3, 'height': 2, 'placement_type': 'relative', 'abs_x': '', 'abs_y': '', 'rel_block_name': 'adj_sat', 'rel_pos': 'left', 'rel_distance': 4, 'xshift': 0, 'yshift': 0, 'param1': 'Kp:3', 'param2': 'Kd:0.1', 'param3': '', 'param4': '', 'param5': '', 'param6': '', 'param7': '', 'param8': '', 'param9': '', 'param10': ''}\n",
      "key_value_strs: ['Kp:3', 'Kd:0.1']\n",
      "mydict: {'block_type': 'summing_junction', 'variable_name': 'sum_junct', 'label': '', 'arduino_class': 'summing_junction', 'input_block1_name': 'U_des_encoder_zero', 'input_block2_name': 'pend_enc', 'width': 2, 'height': 2, 'placement_type': 'relative', 'abs_x': '', 'abs_y': '', 'rel_block_name': 'D', 'rel_pos': 'left', 'rel_distance': 4, 'xshift': 0, 'yshift': 0, 'param1': '', 'param2': '', 'param3': '', 'param4': '', 'param5': '', 'param6': '', 'param7': '', 'param8': '', 'param9': '', 'param10': ''}\n",
      "key_value_strs: []\n",
      "mydict: {'block_type': 'int_constant_block', 'variable_name': 'U_des_encoder_zero', 'label': 0, 'arduino_class': 'int_constant_block', 'input_block1_name': '', 'input_block2_name': '', 'width': 1.5, 'height': 1.5, 'placement_type': 'relative', 'abs_x': '', 'abs_y': '', 'rel_block_name': 'sum_junct', 'rel_pos': 'left', 'rel_distance': 4, 'xshift': 0, 'yshift': 0, 'param1': 'value:0', 'param2': '', 'param3': '', 'param4': '', 'param5': '', 'param6': '', 'param7': '', 'param8': '', 'param9': '', 'param10': ''}\n",
      "key_value_strs: ['value:0']\n",
      "mydict: {'block_type': 'loop_count_block', 'variable_name': 'loop_count', 'label': 'i', 'arduino_class': 'loop_count_block', 'input_block1_name': '', 'input_block2_name': '', 'width': 3, 'height': 2, 'placement_type': 'relative', 'abs_x': '', 'abs_y': '', 'rel_block_name': 'loop_turn_on', 'rel_pos': 'above', 'rel_distance': 4, 'xshift': 0, 'yshift': 0, 'param1': '', 'param2': '', 'param3': '', 'param4': '', 'param5': '', 'param6': '', 'param7': '', 'param8': '', 'param9': '', 'param10': ''}\n",
      "key_value_strs: []\n",
      "mydict: {'block_type': 'int_constant_block', 'variable_name': 'loop_turn_on', 'label': 500, 'arduino_class': 'int_constant_block', 'input_block1_name': '', 'input_block2_name': '', 'width': 1.5, 'height': 1.5, 'placement_type': 'relative', 'abs_x': '', 'abs_y': '', 'rel_block_name': 'D', 'rel_pos': 'above', 'rel_distance': 4, 'xshift': 0, 'yshift': 0, 'param1': 'value:500', 'param2': '', 'param3': '', 'param4': '', 'param5': '', 'param6': '', 'param7': '', 'param8': '', 'param9': '', 'param10': ''}\n",
      "key_value_strs: ['value:500']\n",
      "mydict: {'block_type': 'greater_than_block', 'variable_name': 'gt_block', 'label': '>', 'arduino_class': 'greater_than_block', 'input_block1_name': 'loop_count', 'input_block2_name': 'loop_turn_on', 'width': 1.5, 'height': 1.5, 'placement_type': 'relative', 'abs_x': '', 'abs_y': '', 'rel_block_name': 'loop_count', 'rel_pos': 'right', 'rel_distance': 4, 'xshift': 0, 'yshift': -2, 'param1': '', 'param2': '', 'param3': '', 'param4': '', 'param5': '', 'param6': '', 'param7': '', 'param8': '', 'param9': '', 'param10': ''}\n",
      "key_value_strs: []\n",
      "cart_pendulum, G_cart, kwargs: {'label': '$G_{cart}$', 'arduino_class': 'plant_with_i2c_double_actuator_and_two_sensors', 'input_block1_name': 'if_then', 'input_block2_name': 'if_then', 'width': 3, 'height': 2, 'placement_type': 'absolute', 'abs_x': 0, 'abs_y': 0, 'rel_block_name': '', 'rel_pos': '', 'rel_distance': '', 'xshift': '', 'yshift': '', 'sensor1_name': 'line_sense', 'sensor2_name': 'pend_enc', 'send_address': 7}\n",
      "in block.__init__\n",
      "in block.__init__, self.param_list = ['sensor1_name', 'sensor2_name', 'send_address']\n",
      "in block_with_two_inputs.__init__, kwargs = {'param_list': ['sensor1_name', 'sensor2_name', 'send_address'], 'placement_type': 'absolute', 'abs_x': 0, 'abs_y': 0, 'rel_block_name': '', 'rel_pos': '', 'rel_distance': '', 'xshift': '', 'yshift': ''}\n",
      "if_block, if_then, kwargs: {'label': 'if', 'arduino_class': 'if_block', 'input_block1_name': 'adj_sat', 'input_block2_name': 'zero_if_false', 'width': 1.5, 'height': 3, 'placement_type': 'relative', 'abs_x': '', 'abs_y': '', 'rel_block_name': 'G_cart', 'rel_pos': 'left', 'rel_distance': 4, 'xshift': 0, 'yshift': 0}\n",
      "in block.__init__\n",
      "in block.__init__, self.param_list = []\n",
      "in block_with_two_inputs.__init__, kwargs = {'param_list': [], 'default_params': {}, 'placement_type': 'relative', 'abs_x': '', 'abs_y': '', 'rel_block_name': 'G_cart', 'rel_pos': 'left', 'rel_distance': 4, 'xshift': 0, 'yshift': 0}\n",
      "sat2_adjustable_block, adj_sat, kwargs: {'label': 'sat2', 'arduino_class': 'sat2_adjustable_block', 'input_block1_name': 'D', 'input_block2_name': '', 'width': 3, 'height': 2, 'placement_type': 'relative', 'abs_x': '', 'abs_y': '', 'rel_block_name': 'if_then', 'rel_pos': 'left', 'rel_distance': 4, 'xshift': 0, 'yshift': 0, 'mymax': 400}\n",
      "in block.__init__\n",
      "in block.__init__, self.param_list = ['mymax']\n",
      "int_constant_block, zero_if_false, kwargs: {'label': 0, 'arduino_class': 'int_constant_block', 'input_block1_name': '', 'input_block2_name': '', 'width': 1.5, 'height': 1.5, 'placement_type': 'relative', 'abs_x': '', 'abs_y': '', 'rel_block_name': 'if_then', 'rel_pos': 'left', 'rel_distance': 3, 'xshift': 0, 'yshift': -2.5, 'value': 0}\n",
      "in block.__init__\n",
      "in block.__init__, self.param_list = ['value']\n",
      "PD_controller, D, kwargs: {'label': 'PD', 'arduino_class': 'PD_control_block', 'input_block1_name': 'sum_junct', 'input_block2_name': '', 'width': 3, 'height': 2, 'placement_type': 'relative', 'abs_x': '', 'abs_y': '', 'rel_block_name': 'adj_sat', 'rel_pos': 'left', 'rel_distance': 4, 'xshift': 0, 'yshift': 0, 'Kp': 3, 'Kd': 0.1}\n",
      "in block.__init__\n",
      "in block.__init__, self.param_list = ['Kp', 'Kd']\n",
      "summing_junction, sum_junct, kwargs: {'label': '', 'arduino_class': 'summing_junction', 'input_block1_name': 'U_des_encoder_zero', 'input_block2_name': 'pend_enc', 'width': 2, 'height': 2, 'placement_type': 'relative', 'abs_x': '', 'abs_y': '', 'rel_block_name': 'D', 'rel_pos': 'left', 'rel_distance': 4, 'xshift': 0, 'yshift': 0}\n",
      "in block.__init__\n",
      "in block.__init__, self.param_list = []\n",
      "in block_with_two_inputs.__init__, kwargs = {'param_list': [], 'default_params': {}, 'placement_type': 'relative', 'abs_x': '', 'abs_y': '', 'rel_block_name': 'D', 'rel_pos': 'left', 'rel_distance': 4, 'xshift': 0, 'yshift': 0}\n",
      "int_constant_block, U_des_encoder_zero, kwargs: {'label': 0, 'arduino_class': 'int_constant_block', 'input_block1_name': '', 'input_block2_name': '', 'width': 1.5, 'height': 1.5, 'placement_type': 'relative', 'abs_x': '', 'abs_y': '', 'rel_block_name': 'sum_junct', 'rel_pos': 'left', 'rel_distance': 4, 'xshift': 0, 'yshift': 0, 'value': 0}\n",
      "in block.__init__\n",
      "in block.__init__, self.param_list = ['value']\n",
      "loop_count_block, loop_count, kwargs: {'label': 'i', 'arduino_class': 'loop_count_block', 'input_block1_name': '', 'input_block2_name': '', 'width': 3, 'height': 2, 'placement_type': 'relative', 'abs_x': '', 'abs_y': '', 'rel_block_name': 'loop_turn_on', 'rel_pos': 'above', 'rel_distance': 4, 'xshift': 0, 'yshift': 0}\n",
      "in block.__init__\n",
      "in block.__init__, self.param_list = []\n",
      "int_constant_block, loop_turn_on, kwargs: {'label': 500, 'arduino_class': 'int_constant_block', 'input_block1_name': '', 'input_block2_name': '', 'width': 1.5, 'height': 1.5, 'placement_type': 'relative', 'abs_x': '', 'abs_y': '', 'rel_block_name': 'D', 'rel_pos': 'above', 'rel_distance': 4, 'xshift': 0, 'yshift': 0, 'value': 500}\n",
      "in block.__init__\n",
      "in block.__init__, self.param_list = ['value']\n",
      "greater_than_block, gt_block, kwargs: {'label': '>', 'arduino_class': 'greater_than_block', 'input_block1_name': 'loop_count', 'input_block2_name': 'loop_turn_on', 'width': 1.5, 'height': 1.5, 'placement_type': 'relative', 'abs_x': '', 'abs_y': '', 'rel_block_name': 'loop_count', 'rel_pos': 'right', 'rel_distance': 4, 'xshift': 0, 'yshift': -2}\n",
      "in block.__init__\n",
      "in block.__init__, self.param_list = []\n",
      "in block_with_two_inputs.__init__, kwargs = {'param_list': [], 'default_params': {}, 'placement_type': 'relative', 'abs_x': '', 'abs_y': '', 'rel_block_name': 'loop_count', 'rel_pos': 'right', 'rel_distance': 4, 'xshift': 0, 'yshift': -2}\n",
      "found a plant: G_cart\n",
      "searching for sensor_name\n",
      "searching for sensor1_name\n",
      "setting: <py_block_diagram.cart_pendulum object at 0x131a67fa0>, sensor1, <py_block_diagram.custom_sensor object at 0x131f34e20>\n",
      "searching for sensor2_name\n",
      "setting: <py_block_diagram.cart_pendulum object at 0x131a67fa0>, sensor2, <py_block_diagram.custom_sensor object at 0x131f34700>\n",
      "self.x = 0\n",
      "self.width = 3\n",
      "kwargs: {'rel_pos': 'left', 'rel_distance': 4, 'xshift': 0, 'yshift': 0}\n",
      "kwargs: {'rel_pos': 'left', 'rel_distance': 4, 'xshift': 0, 'yshift': 0}\n",
      "kwargs: {'rel_pos': 'left', 'rel_distance': 3, 'xshift': 0, 'yshift': -2.5}\n",
      "kwargs: {'rel_pos': 'left', 'rel_distance': 4, 'xshift': 0, 'yshift': 0}\n",
      "kwargs: {'rel_pos': 'left', 'rel_distance': 4, 'xshift': 0, 'yshift': 0}\n",
      "kwargs: {'rel_pos': 'left', 'rel_distance': 4, 'xshift': 0, 'yshift': 0}\n",
      "kwargs: {'rel_pos': 'above', 'rel_distance': 4, 'xshift': 0, 'yshift': 0}\n",
      "kwargs: {'rel_pos': 'above', 'rel_distance': 4, 'xshift': 0, 'yshift': 0}\n",
      "kwargs: {'rel_pos': 'right', 'rel_distance': 4, 'xshift': 0, 'yshift': -2}\n",
      "placed_blocks:\n",
      "G_cart\n",
      "if_then\n",
      "adj_sat\n",
      "zero_if_false\n",
      "D\n",
      "sum_junct\n",
      "U_des_encoder_zero\n",
      "loop_turn_on\n",
      "loop_count\n",
      "gt_block\n"
     ]
    }
   ],
   "source": [
    "myloader.main()"
   ]
  },
  {
   "cell_type": "code",
   "execution_count": 475,
   "id": "decimal-interval",
   "metadata": {},
   "outputs": [],
   "source": [
    "mysys = myloader.block_diagram"
   ]
  },
  {
   "cell_type": "code",
   "execution_count": 476,
   "id": "confident-anxiety",
   "metadata": {},
   "outputs": [
    {
     "data": {
      "text/plain": [
       "{'G_cart': <py_block_diagram.cart_pendulum at 0x131a67fa0>,\n",
       " 'if_then': <py_block_diagram.if_block at 0x1322779a0>,\n",
       " 'adj_sat': <py_block_diagram.sat2_adjustable_block at 0x13146a880>,\n",
       " 'zero_if_false': <py_block_diagram.int_constant_block at 0x132a5f2e0>,\n",
       " 'D': <py_block_diagram.PD_controller at 0x131a67d90>,\n",
       " 'sum_junct': <py_block_diagram.summing_junction at 0x132a5f250>,\n",
       " 'U_des_encoder_zero': <py_block_diagram.int_constant_block at 0x132277730>,\n",
       " 'loop_count': <py_block_diagram.loop_count_block at 0x132a5fc40>,\n",
       " 'loop_turn_on': <py_block_diagram.int_constant_block at 0x131a678b0>,\n",
       " 'gt_block': <py_block_diagram.greater_than_block at 0x1322772e0>}"
      ]
     },
     "execution_count": 476,
     "metadata": {},
     "output_type": "execute_result"
    }
   ],
   "source": [
    "mysys.block_dict"
   ]
  },
  {
   "cell_type": "code",
   "execution_count": 477,
   "id": "seventh-genre",
   "metadata": {},
   "outputs": [],
   "source": [
    "gt = mysys.get_block_by_name('gt_block')"
   ]
  },
  {
   "cell_type": "code",
   "execution_count": 478,
   "id": "forced-paper",
   "metadata": {},
   "outputs": [
    {
     "data": {
      "text/plain": [
       "<py_block_diagram.greater_than_block at 0x1322772e0>"
      ]
     },
     "execution_count": 478,
     "metadata": {},
     "output_type": "execute_result"
    }
   ],
   "source": [
    "gt"
   ]
  },
  {
   "cell_type": "code",
   "execution_count": 479,
   "id": "interstate-rochester",
   "metadata": {},
   "outputs": [],
   "source": [
    "if_then = mysys.get_block_by_name('if_then')"
   ]
  },
  {
   "cell_type": "code",
   "execution_count": 480,
   "id": "prospective-immigration",
   "metadata": {},
   "outputs": [],
   "source": [
    "if_then.bool_input = gt"
   ]
  },
  {
   "cell_type": "code",
   "execution_count": 481,
   "id": "brutal-batman",
   "metadata": {},
   "outputs": [
    {
     "name": "stdout",
     "output_type": "stream",
     "text": [
      "placed_blocks:\n",
      "G_cart\n",
      "if_then\n",
      "adj_sat\n",
      "zero_if_false\n",
      "D\n",
      "sum_junct\n",
      "U_des_encoder_zero\n",
      "loop_turn_on\n",
      "loop_count\n",
      "gt_block\n",
      "drawing: G_cart\n",
      "drawing: if_then\n",
      "drawing: adj_sat\n",
      "drawing: zero_if_false\n",
      "drawing: D\n",
      "drawing: sum_junct\n",
      "calling draw_feedback_wire\n",
      "drawing: U_des_encoder_zero\n",
      "drawing: loop_count\n",
      "drawing: loop_turn_on\n",
      "drawing: gt_block\n"
     ]
    },
    {
     "data": {
      "image/png": "[encoded data removed]",
      "text/plain": [
       "<Figure size 648x648 with 1 Axes>"
      ]
     },
     "metadata": {
      "needs_background": "light"
     },
     "output_type": "display_data"
    }
   ],
   "source": [
    "mysys.draw()\n",
    "mysys.axis_off()"
   ]
  },
  {
   "cell_type": "code",
   "execution_count": 482,
   "id": "guilty-failure",
   "metadata": {},
   "outputs": [
    {
     "data": {
      "text/plain": [
       "['line_sense', 'pend_enc']"
      ]
     },
     "execution_count": 482,
     "metadata": {},
     "output_type": "execute_result"
    }
   ],
   "source": [
    "mysys.sensor_name_list"
   ]
  },
  {
   "cell_type": "code",
   "execution_count": 483,
   "id": "pharmaceutical-pendant",
   "metadata": {},
   "outputs": [
    {
     "data": {
      "text/plain": [
       "['G_cart',\n",
       " 'if_then',\n",
       " 'adj_sat',\n",
       " 'zero_if_false',\n",
       " 'D',\n",
       " 'sum_junct',\n",
       " 'U_des_encoder_zero',\n",
       " 'loop_count',\n",
       " 'loop_turn_on',\n",
       " 'gt_block']"
      ]
     },
     "execution_count": 483,
     "metadata": {},
     "output_type": "execute_result"
    }
   ],
   "source": [
    "mysys.block_name_list"
   ]
  },
  {
   "cell_type": "code",
   "execution_count": 484,
   "id": "sustainable-shoot",
   "metadata": {},
   "outputs": [],
   "source": [
    "PD = mysys.get_block_by_name('D')"
   ]
  },
  {
   "cell_type": "code",
   "execution_count": 487,
   "id": "broke-boards",
   "metadata": {},
   "outputs": [],
   "source": [
    "PD.Kp = 5"
   ]
  },
  {
   "cell_type": "code",
   "execution_count": 488,
   "id": "exotic-russell",
   "metadata": {},
   "outputs": [],
   "source": [
    "print_name_list = ['loop_count','sum_junct','D','adj_sat','gt_block','if_then']"
   ]
  },
  {
   "cell_type": "code",
   "execution_count": 489,
   "id": "solid-sperm",
   "metadata": {},
   "outputs": [],
   "source": [
    "print_blocks = [mysys.get_block_by_name(item) for item in print_name_list]"
   ]
  },
  {
   "cell_type": "code",
   "execution_count": 490,
   "id": "civil-composer",
   "metadata": {},
   "outputs": [],
   "source": [
    "pend_enc = mysys.get_sensor_by_name('pend_enc')"
   ]
  },
  {
   "cell_type": "code",
   "execution_count": 491,
   "id": "treated-working",
   "metadata": {},
   "outputs": [],
   "source": [
    "print_blocks.append(pend_enc)"
   ]
  },
  {
   "cell_type": "code",
   "execution_count": 492,
   "id": "restricted-central",
   "metadata": {},
   "outputs": [],
   "source": [
    "mysys.set_print_blocks(print_blocks)"
   ]
  },
  {
   "cell_type": "markdown",
   "id": "functional-tobacco",
   "metadata": {},
   "source": [
    "## Finish this:"
   ]
  },
  {
   "cell_type": "code",
   "execution_count": 493,
   "id": "ethical-steam",
   "metadata": {},
   "outputs": [],
   "source": [
    "src_dir = \"/Users/kraussry/sabbatical_github/rpi_wiringpi_learn/line_following_control_wiringpi/src\""
   ]
  },
  {
   "cell_type": "code",
   "execution_count": 494,
   "id": "angry-actress",
   "metadata": {},
   "outputs": [],
   "source": [
    "import os"
   ]
  },
  {
   "cell_type": "code",
   "execution_count": 495,
   "id": "aquatic-forestry",
   "metadata": {},
   "outputs": [],
   "source": [
    "template_name = \"wiringpi_line_following_i2c_template_no_cal.c\""
   ]
  },
  {
   "cell_type": "code",
   "execution_count": 496,
   "id": "spectacular-cisco",
   "metadata": {},
   "outputs": [
    {
     "data": {
      "text/plain": [
       "'/Users/kraussry/sabbatical_github/rpi_wiringpi_learn/line_following_control_wiringpi/src/wiringpi_line_following_i2c_template_no_cal.c'"
      ]
     },
     "execution_count": 496,
     "metadata": {},
     "output_type": "execute_result"
    }
   ],
   "source": [
    "template_path = os.path.join(src_dir,template_name)\n",
    "template_path"
   ]
  },
  {
   "cell_type": "code",
   "execution_count": 497,
   "id": "valued-sentence",
   "metadata": {},
   "outputs": [],
   "source": [
    "output_name = \"wiringpi_line_following_i2c_vib_suppress_autogen.c\""
   ]
  },
  {
   "cell_type": "code",
   "execution_count": 498,
   "id": "antique-reform",
   "metadata": {},
   "outputs": [
    {
     "data": {
      "text/plain": [
       "'/Users/kraussry/sabbatical_github/rpi_wiringpi_learn/line_following_control_wiringpi/src/wiringpi_line_following_i2c_vib_suppress_autogen.c'"
      ]
     },
     "execution_count": 498,
     "metadata": {},
     "output_type": "execute_result"
    }
   ],
   "source": [
    "output_path = os.path.join(src_dir, output_name)\n",
    "output_path"
   ]
  },
  {
   "cell_type": "code",
   "execution_count": 499,
   "id": "mobile-deputy",
   "metadata": {},
   "outputs": [
    {
     "name": "stdout",
     "output_type": "stream",
     "text": [
      "EEEEEEEEEEEEEEEEEEEEEEEEEEEEEEEEEEEEEEE\n",
      "\n",
      "in find_execution_order\n",
      "\n",
      "EEEEEEEEEEEEEEEEEEEEEEEEEEEEEEEEEEEEEEE\n",
      "after no input stuff, exec_order = [<py_block_diagram.int_constant_block object at 0x132a5f2e0>, <py_block_diagram.int_constant_block object at 0x132277730>, <py_block_diagram.loop_count_block object at 0x132a5fc40>, <py_block_diagram.int_constant_block object at 0x131a678b0>]\n",
      "remaining_blocks = [<py_block_diagram.cart_pendulum object at 0x131a67fa0>, <py_block_diagram.if_block object at 0x1322779a0>, <py_block_diagram.sat2_adjustable_block object at 0x13146a880>, <py_block_diagram.PD_controller object at 0x131a67d90>, <py_block_diagram.summing_junction object at 0x132a5f250>, <py_block_diagram.greater_than_block object at 0x1322772e0>]\n",
      "i = 0, j = 0, N = 5\n",
      "j = 0, N = 5, curblock = if_then\n",
      "failure, incrementing j\n",
      "j = 1, N = 5, curblock = adj_sat\n",
      "failure, incrementing j\n",
      "j = 2, N = 5, curblock = D\n",
      "failure, incrementing j\n",
      "j = 3, N = 5, curblock = sum_junct\n",
      "success\n",
      "j = 3, N = 4, curblock = gt_block\n",
      "success\n",
      "i = 1, j = 0, N = 3\n",
      "j = 0, N = 3, curblock = if_then\n",
      "failure, incrementing j\n",
      "j = 1, N = 3, curblock = adj_sat\n",
      "failure, incrementing j\n",
      "j = 2, N = 3, curblock = D\n",
      "success\n",
      "i = 2, j = 0, N = 2\n",
      "j = 0, N = 2, curblock = if_then\n",
      "failure, incrementing j\n",
      "j = 1, N = 2, curblock = adj_sat\n",
      "success\n",
      "i = 3, j = 0, N = 1\n",
      "j = 0, N = 1, curblock = if_then\n",
      "success\n",
      "successful sorting of exec_order:\n",
      "zero_if_false\n",
      "U_des_encoder_zero\n",
      "loop_count\n",
      "loop_turn_on\n",
      "G_cart\n",
      "sum_junct\n",
      "gt_block\n",
      "D\n",
      "adj_sat\n",
      "if_then\n"
     ]
    }
   ],
   "source": [
    "mysys.generate_rpi_code(output_path,template_path)"
   ]
  },
  {
   "cell_type": "code",
   "execution_count": 500,
   "id": "coupled-rugby",
   "metadata": {},
   "outputs": [
    {
     "data": {
      "text/plain": [
       "'/Users/kraussry/sabbatical_github/rpi_wiringpi_learn/line_following_control_wiringpi/src/wiringpi_line_following_i2c_vib_suppress_autogen.c'"
      ]
     },
     "execution_count": 500,
     "metadata": {},
     "output_type": "execute_result"
    }
   ],
   "source": [
    "output_path"
   ]
  },
  {
   "cell_type": "code",
   "execution_count": null,
   "id": "discrete-hierarchy",
   "metadata": {},
   "outputs": [],
   "source": []
  },
  {
   "cell_type": "code",
   "execution_count": null,
   "id": "turkish-burden",
   "metadata": {},
   "outputs": [],
   "source": []
  },
  {
   "cell_type": "code",
   "execution_count": null,
   "id": "headed-trout",
   "metadata": {},
   "outputs": [],
   "source": []
  },
  {
   "cell_type": "code",
   "execution_count": null,
   "id": "neutral-currency",
   "metadata": {},
   "outputs": [],
   "source": []
  },
  {
   "cell_type": "code",
   "execution_count": null,
   "id": "lesser-chicago",
   "metadata": {},
   "outputs": [],
   "source": []
  },
  {
   "cell_type": "code",
   "execution_count": null,
   "id": "anonymous-tribune",
   "metadata": {},
   "outputs": [],
   "source": []
  },
  {
   "cell_type": "code",
   "execution_count": null,
   "id": "natural-output",
   "metadata": {},
   "outputs": [],
   "source": []
  },
  {
   "cell_type": "code",
   "execution_count": null,
   "id": "stylish-least",
   "metadata": {},
   "outputs": [],
   "source": []
  },
  {
   "cell_type": "code",
   "execution_count": null,
   "id": "daily-glucose",
   "metadata": {},
   "outputs": [],
   "source": []
  },
  {
   "cell_type": "code",
   "execution_count": null,
   "id": "infrared-purpose",
   "metadata": {},
   "outputs": [],
   "source": []
  },
  {
   "cell_type": "code",
   "execution_count": null,
   "id": "fresh-mount",
   "metadata": {},
   "outputs": [],
   "source": []
  },
  {
   "cell_type": "code",
   "execution_count": null,
   "id": "increased-transparency",
   "metadata": {},
   "outputs": [],
   "source": []
  }
 ],
 "metadata": {
  "kernelspec": {
   "display_name": "Python 3",
   "language": "python",
   "name": "python3"
  },
  "language_info": {
   "codemirror_mode": {
    "name": "ipython",
    "version": 3
   },
   "file_extension": ".py",
   "mimetype": "text/x-python",
   "name": "python",
   "nbconvert_exporter": "python",
   "pygments_lexer": "ipython3",
   "version": "3.9.13"
  }
 },
 "nbformat": 4,
 "nbformat_minor": 5
}
