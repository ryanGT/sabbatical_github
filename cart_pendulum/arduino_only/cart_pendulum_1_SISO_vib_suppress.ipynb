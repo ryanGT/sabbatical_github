{
 "cells": [
  {
   "cell_type": "code",
   "execution_count": 1,
   "metadata": {},
   "outputs": [],
   "source": [
    "%matplotlib inline\n",
    "import matplotlib.pyplot as plt\n",
    "import numpy as np\n",
    "import control\n",
    "from numpy import sin, cos, tan, pi\n",
    "from control import TransferFunction as TF"
   ]
  },
  {
   "cell_type": "code",
   "execution_count": 2,
   "metadata": {},
   "outputs": [],
   "source": [
    "import txt_mixin"
   ]
  },
  {
   "cell_type": "code",
   "execution_count": 3,
   "metadata": {},
   "outputs": [],
   "source": [
    "plt.rcParams['font.size'] = 14"
   ]
  },
  {
   "cell_type": "code",
   "execution_count": 4,
   "metadata": {},
   "outputs": [],
   "source": [
    "import py_block_diagram"
   ]
  },
  {
   "cell_type": "code",
   "execution_count": 59,
   "metadata": {},
   "outputs": [],
   "source": [
    "import importlib"
   ]
  },
  {
   "cell_type": "code",
   "execution_count": 60,
   "metadata": {},
   "outputs": [
    {
     "data": {
      "text/plain": [
       "<module 'py_block_diagram' from '/Users/kraussry/git/py_block_diagram/py_block_diagram/__init__.py'>"
      ]
     },
     "execution_count": 60,
     "metadata": {},
     "output_type": "execute_result"
    }
   ],
   "source": [
    "importlib.reload(py_block_diagram)"
   ]
  },
  {
   "cell_type": "code",
   "execution_count": 61,
   "metadata": {},
   "outputs": [],
   "source": [
    "import py_block_diagram as pybd"
   ]
  },
  {
   "cell_type": "markdown",
   "metadata": {},
   "source": [
    "## System Description"
   ]
  },
  {
   "cell_type": "code",
   "execution_count": 62,
   "metadata": {},
   "outputs": [
    {
     "name": "stdout",
     "output_type": "stream",
     "text": [
      "in block.__init__\n",
      "in block.__init__, self.param_list = ['value']\n"
     ]
    }
   ],
   "source": [
    "U = pybd.int_constant_block(0,\"U_cl\")"
   ]
  },
  {
   "cell_type": "code",
   "execution_count": 63,
   "metadata": {},
   "outputs": [],
   "source": [
    "U.place_absolute(0,0)"
   ]
  },
  {
   "cell_type": "code",
   "execution_count": 64,
   "metadata": {},
   "outputs": [
    {
     "name": "stdout",
     "output_type": "stream",
     "text": [
      "in block.__init__\n",
      "in block.__init__, self.param_list = []\n",
      "in block_with_two_inputs.__init__, kwargs = {'param_list': [], 'default_params': {}}\n"
     ]
    }
   ],
   "source": [
    "sum1 = pybd.summing_junction()"
   ]
  },
  {
   "cell_type": "code",
   "execution_count": 65,
   "metadata": {},
   "outputs": [],
   "source": [
    "sum1.place_relative(U,\"right\")"
   ]
  },
  {
   "cell_type": "code",
   "execution_count": 66,
   "metadata": {},
   "outputs": [],
   "source": [
    "sum1.set_input_block1(U)"
   ]
  },
  {
   "cell_type": "code",
   "execution_count": 67,
   "metadata": {},
   "outputs": [
    {
     "name": "stdout",
     "output_type": "stream",
     "text": [
      "in block.__init__\n",
      "in block.__init__, self.param_list = ['Kp', 'Kd']\n"
     ]
    }
   ],
   "source": [
    "D = pybd.PD_controller(3,0.1)"
   ]
  },
  {
   "cell_type": "code",
   "execution_count": 68,
   "metadata": {},
   "outputs": [],
   "source": [
    "D.place_relative(sum1,\"right\")"
   ]
  },
  {
   "cell_type": "code",
   "execution_count": 69,
   "metadata": {},
   "outputs": [],
   "source": [
    "D.set_input_block1(sum1)"
   ]
  },
  {
   "cell_type": "code",
   "execution_count": 70,
   "metadata": {},
   "outputs": [],
   "source": [
    "diff_motors = pybd.custom_actuator(\"dual_motors\",\"two_motors_actuator\",\"&motors\")"
   ]
  },
  {
   "cell_type": "code",
   "execution_count": 71,
   "metadata": {},
   "outputs": [],
   "source": [
    "pend_enc = pybd.custom_sensor(\"pend_enc\",\"pendulum_encoder\",\"\")"
   ]
  },
  {
   "cell_type": "code",
   "execution_count": 72,
   "metadata": {},
   "outputs": [
    {
     "name": "stdout",
     "output_type": "stream",
     "text": [
      "in block.__init__\n",
      "in block.__init__, self.param_list = ['actuator_name', 'sensor_name']\n"
     ]
    }
   ],
   "source": [
    "G = pybd.plant(pend_enc,diff_motors,\"Robot\")"
   ]
  },
  {
   "cell_type": "code",
   "execution_count": 73,
   "metadata": {},
   "outputs": [
    {
     "name": "stdout",
     "output_type": "stream",
     "text": [
      "in block.__init__\n",
      "in block.__init__, self.param_list = []\n",
      "in block_with_two_inputs.__init__, kwargs = {'param_list': [], 'default_params': {}}\n"
     ]
    }
   ],
   "source": [
    "if1 = pybd.if_block()"
   ]
  },
  {
   "cell_type": "code",
   "execution_count": 74,
   "metadata": {},
   "outputs": [
    {
     "name": "stdout",
     "output_type": "stream",
     "text": [
      "in block.__init__\n",
      "in block.__init__, self.param_list = ['value']\n"
     ]
    }
   ],
   "source": [
    "const2 = pybd.int_constant_block(0, \"const2\")"
   ]
  },
  {
   "cell_type": "code",
   "execution_count": 75,
   "metadata": {},
   "outputs": [
    {
     "name": "stdout",
     "output_type": "stream",
     "text": [
      "in block.__init__\n",
      "in block.__init__, self.param_list = []\n"
     ]
    }
   ],
   "source": [
    "sat = pybd.saturation_block()"
   ]
  },
  {
   "cell_type": "code",
   "execution_count": 76,
   "metadata": {},
   "outputs": [],
   "source": [
    "sat.set_input_block1(D)"
   ]
  },
  {
   "cell_type": "code",
   "execution_count": 77,
   "metadata": {},
   "outputs": [],
   "source": [
    "sat.place_relative(D, \"right\")"
   ]
  },
  {
   "cell_type": "code",
   "execution_count": 78,
   "metadata": {},
   "outputs": [],
   "source": [
    "if1.place_relative(sat, \"right\")"
   ]
  },
  {
   "cell_type": "code",
   "execution_count": 79,
   "metadata": {},
   "outputs": [],
   "source": [
    "if1.width = 3"
   ]
  },
  {
   "cell_type": "code",
   "execution_count": 80,
   "metadata": {},
   "outputs": [],
   "source": [
    "G.place_relative(if1,\"right\",5)"
   ]
  },
  {
   "cell_type": "code",
   "execution_count": 81,
   "metadata": {},
   "outputs": [],
   "source": [
    "const2.place_relative(if1, \"below\", 2, xshift=-3)"
   ]
  },
  {
   "cell_type": "code",
   "execution_count": 82,
   "metadata": {},
   "outputs": [],
   "source": [
    "G.set_input_block1(if1)"
   ]
  },
  {
   "cell_type": "code",
   "execution_count": 83,
   "metadata": {},
   "outputs": [
    {
     "name": "stdout",
     "output_type": "stream",
     "text": [
      "in block.__init__\n",
      "in block.__init__, self.param_list = []\n"
     ]
    }
   ],
   "source": [
    "Y = pybd.output_block(\"encoder\",G)"
   ]
  },
  {
   "cell_type": "code",
   "execution_count": 84,
   "metadata": {},
   "outputs": [],
   "source": [
    "Y.place_relative(G, \"right\",6)"
   ]
  },
  {
   "cell_type": "code",
   "execution_count": 85,
   "metadata": {},
   "outputs": [],
   "source": [
    "Y.width = 4"
   ]
  },
  {
   "cell_type": "code",
   "execution_count": 86,
   "metadata": {},
   "outputs": [],
   "source": [
    "sum1.set_input_block2(G)"
   ]
  },
  {
   "cell_type": "code",
   "execution_count": 87,
   "metadata": {},
   "outputs": [
    {
     "name": "stdout",
     "output_type": "stream",
     "text": [
      "in block.__init__\n",
      "in block.__init__, self.param_list = []\n",
      "in block_with_two_inputs.__init__, kwargs = {'param_list': [], 'default_params': {}}\n"
     ]
    }
   ],
   "source": [
    "gt1 = pybd.greater_than_block()"
   ]
  },
  {
   "cell_type": "code",
   "execution_count": 88,
   "metadata": {},
   "outputs": [],
   "source": [
    "gt1.place_relative(if1, \"above\", 5, xshift=-5)"
   ]
  },
  {
   "cell_type": "code",
   "execution_count": 89,
   "metadata": {},
   "outputs": [
    {
     "name": "stdout",
     "output_type": "stream",
     "text": [
      "in block.__init__\n",
      "in block.__init__, self.param_list = []\n"
     ]
    }
   ],
   "source": [
    "lc = pybd.loop_count_block()"
   ]
  },
  {
   "cell_type": "code",
   "execution_count": 90,
   "metadata": {},
   "outputs": [],
   "source": [
    "lc.width = 5"
   ]
  },
  {
   "cell_type": "code",
   "execution_count": 91,
   "metadata": {},
   "outputs": [
    {
     "name": "stdout",
     "output_type": "stream",
     "text": [
      "in block.__init__\n",
      "in block.__init__, self.param_list = ['value']\n"
     ]
    }
   ],
   "source": [
    "const1 = pybd.int_constant_block(500,'const1')"
   ]
  },
  {
   "cell_type": "code",
   "execution_count": 92,
   "metadata": {},
   "outputs": [],
   "source": [
    "lc.place_relative(gt1,\"left\",yshift=2)"
   ]
  },
  {
   "cell_type": "code",
   "execution_count": 93,
   "metadata": {},
   "outputs": [],
   "source": [
    "const1.place_relative(gt1,\"left\", yshift=-2)"
   ]
  },
  {
   "cell_type": "code",
   "execution_count": 94,
   "metadata": {},
   "outputs": [],
   "source": [
    "gt1.set_inputs(lc, const1)"
   ]
  },
  {
   "cell_type": "code",
   "execution_count": 95,
   "metadata": {},
   "outputs": [],
   "source": [
    "if1.set_inputs(gt1, sat, const2)"
   ]
  },
  {
   "cell_type": "code",
   "execution_count": 96,
   "metadata": {},
   "outputs": [],
   "source": [
    "block_list = [U,sum1, D, sat, if1, const2, gt1, const1, lc, G, Y]"
   ]
  },
  {
   "cell_type": "markdown",
   "metadata": {},
   "source": [
    "### System Creation\n",
    "\n",
    "The approach for creating a `block_diagram` system has changed since this notebook was created.  Passing in a list of blocks is not really supported anymore:\n",
    "\n",
    "```\n",
    "class block_diagram(object):\n",
    "    def __init__(self, block_name_list=[], block_dict={}, block_list=[], axis=None, \\\n",
    "                 dt=0.004, \\\n",
    "                 welcome_msg=\"auto-generated Arduino code\", \\\n",
    "                 fontdict={'size': 16, 'family':'serif'}, \\\n",
    "                 actuators_dict={}, \\\n",
    "                 actuator_name_list=[], \\\n",
    "                 sensors_dict={}, \\\n",
    "                 sensor_name_list=[], \\\n",
    "                 max_loops=3, \\\n",
    "                 ):\n",
    " ```\n",
    " \n",
    " The list of blocks has been mostly replaced by a dictionary.\n",
    " \n",
    " I think the cleanest approach is to created an empty block diagram and then append each block in the list.\n",
    " - this could be added to the `__init__` method at some point"
   ]
  },
  {
   "cell_type": "code",
   "execution_count": 97,
   "metadata": {},
   "outputs": [
    {
     "data": {
      "text/plain": [
       "<py_block_diagram.block_diagram at 0x12dc59910>"
      ]
     },
     "execution_count": 97,
     "metadata": {},
     "output_type": "execute_result"
    }
   ],
   "source": [
    "mysys = pybd.block_diagram()\n",
    "mysys"
   ]
  },
  {
   "cell_type": "code",
   "execution_count": 98,
   "metadata": {},
   "outputs": [],
   "source": [
    "for block in block_list:\n",
    "    mysys.append_block(block)"
   ]
  },
  {
   "cell_type": "code",
   "execution_count": 99,
   "metadata": {},
   "outputs": [
    {
     "name": "stdout",
     "output_type": "stream",
     "text": [
      "placed_blocks:\n",
      "U_cl\n",
      "sum1_block\n",
      "PD_block\n",
      "sat_block\n",
      "if_block1\n",
      "const2\n",
      "gt_block\n",
      "const1\n",
      "lp_cnt_block\n",
      "G_block\n",
      "Y\n",
      "drawing: U_cl\n",
      "drawing: sum1_block\n",
      "calling draw_feedback_wire\n",
      "drawing: PD_block\n",
      "drawing: sat_block\n",
      "drawing: if_block1\n",
      "drawing: const2\n",
      "drawing: gt_block\n",
      "drawing: const1\n",
      "drawing: lp_cnt_block\n",
      "drawing: G_block\n",
      "drawing: Y\n"
     ]
    },
    {
     "data": {
      "image/png": "[encoded data removed]",
      "text/plain": [
       "<Figure size 648x648 with 1 Axes>"
      ]
     },
     "metadata": {
      "needs_background": "light"
     },
     "output_type": "display_data"
    }
   ],
   "source": [
    "mysys.draw()"
   ]
  },
  {
   "cell_type": "code",
   "execution_count": 103,
   "metadata": {},
   "outputs": [
    {
     "name": "stdout",
     "output_type": "stream",
     "text": [
      "key_list: ['value']\n",
      "param_csv_list = ['value:0']\n",
      "in get_csv_list_for_row: ['int_constant_block', 'U_cl', '0', 'int_constant_block', '', '', '1.5', '1.5', 'absolute', '0', '0', '', '', '', '', '', 'value:0', '', '', '', '', '', '', '', '', '']\n",
      "key_list: []\n",
      "param_csv_list = []\n",
      "in get_csv_list_for_row: ['summing_junction', 'sum1_block', '', 'summing_junction', 'U_cl', 'G_block', '2', '2', 'relative', '', '', 'U_cl', 'right', '4', '0', '0', '', '', '', '', '', '', '', '', '', '']\n",
      "key_list: ['Kp', 'Kd']\n",
      "param_csv_list = ['Kp:3', 'Kd:0.1']\n",
      "in get_csv_list_for_row: ['PD_controller', 'PD_block', 'PD', 'PD_control_block', 'sum1_block', '', '3', '2', 'relative', '', '', 'sum1_block', 'right', '4', '0', '0', 'Kp:3', 'Kd:0.1', '', '', '', '', '', '', '', '']\n",
      "key_list: []\n",
      "param_csv_list = []\n",
      "in get_csv_list_for_row: ['saturation_block', 'sat_block', 'sat', 'saturation_block', 'PD_block', '', '3', '2', 'relative', '', '', 'PD_block', 'right', '4', '0', '0', '', '', '', '', '', '', '', '', '', '']\n",
      "key_list: []\n",
      "param_csv_list = []\n",
      "in get_csv_list_for_row: ['if_block', 'if_block1', 'if', 'if_block', '', '', '3', '3', 'relative', '', '', 'sat_block', 'right', '4', '0', '0', '', '', '', '', '', '', '', '', '', '']\n",
      "key_list: ['value']\n",
      "param_csv_list = ['value:0']\n",
      "in get_csv_list_for_row: ['int_constant_block', 'const2', '0', 'int_constant_block', '', '', '1.5', '1.5', 'relative', '', '', 'if_block1', 'below', '2', '-3', '0', 'value:0', '', '', '', '', '', '', '', '', '']\n",
      "key_list: []\n",
      "param_csv_list = []\n",
      "in get_csv_list_for_row: ['greater_than_block', 'gt_block', '>', 'greater_than_block', 'lp_cnt_block', 'const1', '1.5', '1.5', 'relative', '', '', 'if_block1', 'above', '5', '-5', '0', '', '', '', '', '', '', '', '', '', '']\n",
      "key_list: ['value']\n",
      "param_csv_list = ['value:500']\n",
      "in get_csv_list_for_row: ['int_constant_block', 'const1', '500', 'int_constant_block', '', '', '1.5', '1.5', 'relative', '', '', 'gt_block', 'left', '4', '0', '-2', 'value:500', '', '', '', '', '', '', '', '', '']\n",
      "key_list: []\n",
      "param_csv_list = []\n",
      "in get_csv_list_for_row: ['loop_count_block', 'lp_cnt_block', 'loop count', 'loop_count_block', '', '', '5', '2', 'relative', '', '', 'gt_block', 'left', '4', '0', '2', '', '', '', '', '', '', '', '', '', '']\n",
      "key_list: ['actuator_name', 'sensor_name']\n",
      "param_csv_list = ['actuator_name:dual_motors', 'sensor_name:pend_enc']\n",
      "in get_csv_list_for_row: ['plant', 'G_block', 'Robot', 'plant', 'if_block1', '', '3', '2', 'relative', '', '', 'if_block1', 'right', '5', '0', '0', 'actuator_name:dual_motors', 'sensor_name:pend_enc', '', '', '', '', '', '', '', '']\n",
      "key_list: []\n",
      "param_csv_list = []\n",
      "in get_csv_list_for_row: ['output_block', 'Y', 'encoder', '', '', '', '4', '2', 'relative', '', '', 'G_block', 'right', '6', '0', '0', '', '', '', '', '', '', '', '', '', '']\n"
     ]
    }
   ],
   "source": [
    "mysys.save_model_to_csv(\"vib_suppress_only_from_notebook.csv\")"
   ]
  },
  {
   "cell_type": "markdown",
   "metadata": {},
   "source": [
    "## Print Blocks"
   ]
  },
  {
   "cell_type": "code",
   "execution_count": 100,
   "metadata": {},
   "outputs": [],
   "source": [
    "mysys.print_blocks = [lc,sat,gt1,if1,G]"
   ]
  },
  {
   "cell_type": "markdown",
   "metadata": {},
   "source": [
    "## Execution Order"
   ]
  },
  {
   "cell_type": "code",
   "execution_count": 101,
   "metadata": {},
   "outputs": [
    {
     "name": "stdout",
     "output_type": "stream",
     "text": [
      "EEEEEEEEEEEEEEEEEEEEEEEEEEEEEEEEEEEEEEE\n",
      "\n",
      "in find_execution_order\n",
      "\n",
      "EEEEEEEEEEEEEEEEEEEEEEEEEEEEEEEEEEEEEEE\n",
      "i = 0, j = 0, N = 2\n",
      "j = 0, N = 2, curblock = lp_cnt_block\n"
     ]
    },
    {
     "ename": "AssertionError",
     "evalue": "you cannot find the execution order for blocks whose inputs are not set: <py_block_diagram.loop_count_block object at 0x12e07a9d0>",
     "output_type": "error",
     "traceback": [
      "\u001b[0;31m---------------------------------------------------------------------------\u001b[0m",
      "\u001b[0;31mAssertionError\u001b[0m                            Traceback (most recent call last)",
      "\u001b[0;32m<ipython-input-101-fc623351e571>\u001b[0m in \u001b[0;36m<module>\u001b[0;34m\u001b[0m\n\u001b[0;32m----> 1\u001b[0;31m \u001b[0mmysys\u001b[0m\u001b[0;34m.\u001b[0m\u001b[0mfind_execution_order\u001b[0m\u001b[0;34m(\u001b[0m\u001b[0;34m[\u001b[0m\u001b[0mU\u001b[0m\u001b[0;34m,\u001b[0m\u001b[0mlc\u001b[0m\u001b[0;34m,\u001b[0m\u001b[0mconst1\u001b[0m\u001b[0;34m,\u001b[0m \u001b[0mconst2\u001b[0m\u001b[0;34m,\u001b[0m \u001b[0mgt1\u001b[0m\u001b[0;34m]\u001b[0m\u001b[0;34m)\u001b[0m\u001b[0;34m\u001b[0m\u001b[0;34m\u001b[0m\u001b[0m\n\u001b[0m",
      "\u001b[0;32m~/git/py_block_diagram/py_block_diagram/__init__.py\u001b[0m in \u001b[0;36mfind_execution_order\u001b[0;34m(self, block_list, loop_num)\u001b[0m\n\u001b[1;32m   4402\u001b[0m                 \u001b[0mcurblock\u001b[0m \u001b[0;34m=\u001b[0m \u001b[0mremaining_blocks\u001b[0m\u001b[0;34m[\u001b[0m\u001b[0mj\u001b[0m\u001b[0;34m]\u001b[0m\u001b[0;34m\u001b[0m\u001b[0;34m\u001b[0m\u001b[0m\n\u001b[1;32m   4403\u001b[0m                 \u001b[0mprint\u001b[0m\u001b[0;34m(\u001b[0m\u001b[0;34m\"j = %i, N = %i, curblock = %s\"\u001b[0m \u001b[0;34m%\u001b[0m \u001b[0;34m(\u001b[0m\u001b[0mj\u001b[0m\u001b[0;34m,\u001b[0m \u001b[0mN\u001b[0m\u001b[0;34m,\u001b[0m \u001b[0mcurblock\u001b[0m\u001b[0;34m.\u001b[0m\u001b[0mvariable_name\u001b[0m\u001b[0;34m)\u001b[0m\u001b[0;34m)\u001b[0m\u001b[0;34m\u001b[0m\u001b[0;34m\u001b[0m\u001b[0m\n\u001b[0;32m-> 4404\u001b[0;31m                 if check_for_inputs_in_block_list(curblock, exec_order, sensor_list, \\\n\u001b[0m\u001b[1;32m   4405\u001b[0m                                                   \u001b[0mother_blocks\u001b[0m\u001b[0;34m=\u001b[0m\u001b[0mother_blocks\u001b[0m\u001b[0;34m,\u001b[0m\u001b[0;31m \u001b[0m\u001b[0;31m\\\u001b[0m\u001b[0;34m\u001b[0m\u001b[0;34m\u001b[0m\u001b[0m\n\u001b[1;32m   4406\u001b[0m                                                   other_sensors=other_sensors):\n",
      "\u001b[0;32m~/git/py_block_diagram/py_block_diagram/__init__.py\u001b[0m in \u001b[0;36mcheck_for_inputs_in_block_list\u001b[0;34m(block, block_list, sensor_list, other_blocks, other_sensors, debug)\u001b[0m\n\u001b[1;32m   3154\u001b[0m     \u001b[0;31m# whose classes are known to have no inputs should already be in list\u001b[0m\u001b[0;34m\u001b[0m\u001b[0;34m\u001b[0m\u001b[0m\n\u001b[1;32m   3155\u001b[0m     \u001b[0mmsg\u001b[0m \u001b[0;34m=\u001b[0m \u001b[0;34m\"you cannot find the execution order for blocks whose inputs are not set: %s\"\u001b[0m \u001b[0;34m%\u001b[0m \u001b[0mblock\u001b[0m\u001b[0;34m\u001b[0m\u001b[0;34m\u001b[0m\u001b[0m\n\u001b[0;32m-> 3156\u001b[0;31m     \u001b[0;32massert\u001b[0m \u001b[0mblock\u001b[0m\u001b[0;34m.\u001b[0m\u001b[0minput_block1\u001b[0m \u001b[0;32mis\u001b[0m \u001b[0;32mnot\u001b[0m \u001b[0;32mNone\u001b[0m\u001b[0;34m,\u001b[0m \u001b[0mmsg\u001b[0m\u001b[0;34m\u001b[0m\u001b[0;34m\u001b[0m\u001b[0m\n\u001b[0m\u001b[1;32m   3157\u001b[0m \u001b[0;34m\u001b[0m\u001b[0m\n\u001b[1;32m   3158\u001b[0m     \u001b[0;32mif\u001b[0m \u001b[0mdebug\u001b[0m\u001b[0;34m:\u001b[0m\u001b[0;34m\u001b[0m\u001b[0;34m\u001b[0m\u001b[0m\n",
      "\u001b[0;31mAssertionError\u001b[0m: you cannot find the execution order for blocks whose inputs are not set: <py_block_diagram.loop_count_block object at 0x12e07a9d0>"
     ]
    }
   ],
   "source": [
    "mysys.find_execution_order([U,lc,const1, const2, gt1])"
   ]
  },
  {
   "cell_type": "code",
   "execution_count": 46,
   "metadata": {},
   "outputs": [
    {
     "data": {
      "text/plain": [
       "[<py_block_diagram.int_constant_block at 0x7d45d0f3e9b0>,\n",
       " <py_block_diagram.loop_count_block at 0x7d45d0f17e80>,\n",
       " <py_block_diagram.int_constant_block at 0x7d45d0ea5438>,\n",
       " <py_block_diagram.int_constant_block at 0x7d45d0f25ba8>,\n",
       " <py_block_diagram.greater_than_block at 0x7d45d0f179e8>,\n",
       " <py_block_diagram.summing_junction at 0x7d45d0f34748>,\n",
       " <py_block_diagram.PD_controller at 0x7d45d0f250f0>,\n",
       " <py_block_diagram.saturation_block at 0x7d45d0f348d0>,\n",
       " <py_block_diagram.if_block at 0x7d45d0edaf60>,\n",
       " <py_block_diagram.plant at 0x7d45d0f172e8>,\n",
       " <py_block_diagram.output_block at 0x7d45d0f170b8>]"
      ]
     },
     "execution_count": 46,
     "metadata": {},
     "output_type": "execute_result"
    }
   ],
   "source": [
    "mysys.execution_order"
   ]
  },
  {
   "cell_type": "markdown",
   "metadata": {},
   "source": [
    "## Codegen Test"
   ]
  },
  {
   "cell_type": "code",
   "execution_count": 47,
   "metadata": {},
   "outputs": [],
   "source": [
    "msg = \"Cart Pendulum Vib Suppress 1\""
   ]
  },
  {
   "cell_type": "code",
   "execution_count": 48,
   "metadata": {},
   "outputs": [],
   "source": [
    "mysys.welcome_msg = msg"
   ]
  },
  {
   "cell_type": "code",
   "execution_count": 49,
   "metadata": {},
   "outputs": [
    {
     "name": "stdout",
     "output_type": "stream",
     "text": [
      "cart_pendulum_template1_vib_only.ino\r\n"
     ]
    }
   ],
   "source": [
    "ls *.ino"
   ]
  },
  {
   "cell_type": "code",
   "execution_count": 50,
   "metadata": {},
   "outputs": [],
   "source": [
    "template_fn = \"cart_pendulum_template1_vib_only.ino\""
   ]
  },
  {
   "cell_type": "code",
   "execution_count": 51,
   "metadata": {},
   "outputs": [
    {
     "name": "stdout",
     "output_type": "stream",
     "text": [
      "block: <py_block_diagram.int_constant_block object at 0x7d45d0f3e9b0>\n",
      "block: <py_block_diagram.summing_junction object at 0x7d45d0f34748>\n",
      "block: <py_block_diagram.PD_controller object at 0x7d45d0f250f0>\n",
      "block: <py_block_diagram.saturation_block object at 0x7d45d0f348d0>\n",
      "block: <py_block_diagram.if_block object at 0x7d45d0edaf60>\n",
      "block: <py_block_diagram.int_constant_block object at 0x7d45d0f25ba8>\n",
      "block: <py_block_diagram.greater_than_block object at 0x7d45d0f179e8>\n",
      "block: <py_block_diagram.int_constant_block object at 0x7d45d0ea5438>\n",
      "block: <py_block_diagram.loop_count_block object at 0x7d45d0f17e80>\n",
      "block: <py_block_diagram.plant object at 0x7d45d0f172e8>\n",
      "block: <py_block_diagram.output_block object at 0x7d45d0f170b8>\n"
     ]
    }
   ],
   "source": [
    "mysys.generate_arduino_code(\"cart_pendulum_autogen_1_siso_vib_suppress\", template_fn)"
   ]
  },
  {
   "cell_type": "code",
   "execution_count": null,
   "metadata": {},
   "outputs": [],
   "source": []
  },
  {
   "cell_type": "code",
   "execution_count": null,
   "metadata": {},
   "outputs": [],
   "source": []
  }
 ],
 "metadata": {
  "kernelspec": {
   "display_name": "Python 3",
   "language": "python",
   "name": "python3"
  },
  "language_info": {
   "codemirror_mode": {
    "name": "ipython",
    "version": 3
   },
   "file_extension": ".py",
   "mimetype": "text/x-python",
   "name": "python",
   "nbconvert_exporter": "python",
   "pygments_lexer": "ipython3",
   "version": "3.9.13"
  }
 },
 "nbformat": 4,
 "nbformat_minor": 4
}
