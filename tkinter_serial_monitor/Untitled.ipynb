{
 "cells": [
  {
   "cell_type": "code",
   "execution_count": 1,
   "id": "starting-gibson",
   "metadata": {},
   "outputs": [],
   "source": [
    "import re"
   ]
  },
  {
   "cell_type": "code",
   "execution_count": 2,
   "id": "prerequisite-switzerland",
   "metadata": {},
   "outputs": [],
   "source": [
    "test1 = \"2789.69,100,-5,-5,105\""
   ]
  },
  {
   "cell_type": "code",
   "execution_count": 3,
   "id": "typical-outline",
   "metadata": {},
   "outputs": [],
   "source": [
    "test2 = \"t0 =5656216\""
   ]
  },
  {
   "cell_type": "code",
   "execution_count": 4,
   "id": "bottom-judge",
   "metadata": {},
   "outputs": [],
   "source": [
    "test3 = \"enter any character to start a test\""
   ]
  },
  {
   "cell_type": "code",
   "execution_count": 7,
   "id": "informational-motion",
   "metadata": {},
   "outputs": [],
   "source": [
    "p = re.compile(\"^[0-9,\\.\\-]+$\")"
   ]
  },
  {
   "cell_type": "code",
   "execution_count": 8,
   "id": "colored-wrong",
   "metadata": {},
   "outputs": [
    {
     "data": {
      "text/plain": [
       "<re.Match object; span=(0, 21), match='2789.69,100,-5,-5,105'>"
      ]
     },
     "execution_count": 8,
     "metadata": {},
     "output_type": "execute_result"
    }
   ],
   "source": [
    "p.search(test1)"
   ]
  },
  {
   "cell_type": "code",
   "execution_count": 9,
   "id": "opposed-pierce",
   "metadata": {},
   "outputs": [],
   "source": [
    "p.search(test2)"
   ]
  },
  {
   "cell_type": "code",
   "execution_count": 10,
   "id": "cardiac-national",
   "metadata": {},
   "outputs": [],
   "source": [
    "p.search(test3)"
   ]
  },
  {
   "cell_type": "code",
   "execution_count": 11,
   "id": "confirmed-excerpt",
   "metadata": {},
   "outputs": [],
   "source": [
    "mylist = list(range(5))"
   ]
  },
  {
   "cell_type": "code",
   "execution_count": 12,
   "id": "quiet-interpretation",
   "metadata": {},
   "outputs": [
    {
     "data": {
      "text/plain": [
       "[0, 1, 2, 3, 4]"
      ]
     },
     "execution_count": 12,
     "metadata": {},
     "output_type": "execute_result"
    }
   ],
   "source": [
    "mylist"
   ]
  },
  {
   "cell_type": "code",
   "execution_count": 13,
   "id": "professional-sarah",
   "metadata": {},
   "outputs": [
    {
     "data": {
      "text/plain": [
       "3"
      ]
     },
     "execution_count": 13,
     "metadata": {},
     "output_type": "execute_result"
    }
   ],
   "source": [
    "mylist.pop(3)"
   ]
  },
  {
   "cell_type": "code",
   "execution_count": 9,
   "id": "light-sandwich",
   "metadata": {},
   "outputs": [],
   "source": [
    "baudrate = 115200\n",
    "#baudrate = 230400"
   ]
  },
  {
   "cell_type": "code",
   "execution_count": 10,
   "id": "prerequisite-legislature",
   "metadata": {},
   "outputs": [],
   "source": [
    "byte_rate = baudrate/8"
   ]
  },
  {
   "cell_type": "code",
   "execution_count": 11,
   "id": "subtle-newman",
   "metadata": {},
   "outputs": [],
   "source": [
    "byte_rate_ms = byte_rate/1000"
   ]
  },
  {
   "cell_type": "code",
   "execution_count": 12,
   "id": "protected-concentration",
   "metadata": {},
   "outputs": [
    {
     "data": {
      "text/plain": [
       "14.4"
      ]
     },
     "execution_count": 12,
     "metadata": {},
     "output_type": "execute_result"
    }
   ],
   "source": [
    "byte_rate_ms"
   ]
  },
  {
   "cell_type": "code",
   "execution_count": 13,
   "id": "injured-permit",
   "metadata": {},
   "outputs": [
    {
     "data": {
      "text/plain": [
       "0.7291666666666666"
      ]
     },
     "execution_count": 13,
     "metadata": {},
     "output_type": "execute_result"
    }
   ],
   "source": [
    "21/28.8"
   ]
  },
  {
   "cell_type": "code",
   "execution_count": 14,
   "id": "interior-antenna",
   "metadata": {},
   "outputs": [],
   "source": [
    "cpu = 160000000"
   ]
  },
  {
   "cell_type": "code",
   "execution_count": 15,
   "id": "major-glance",
   "metadata": {},
   "outputs": [
    {
     "data": {
      "text/plain": [
       "0.0019"
      ]
     },
     "execution_count": 15,
     "metadata": {},
     "output_type": "execute_result"
    }
   ],
   "source": [
    "glitch = 1.9/1000\n",
    "glitch"
   ]
  },
  {
   "cell_type": "code",
   "execution_count": 16,
   "id": "apart-walnut",
   "metadata": {},
   "outputs": [
    {
     "data": {
      "text/plain": [
       "304000.0"
      ]
     },
     "execution_count": 16,
     "metadata": {},
     "output_type": "execute_result"
    }
   ],
   "source": [
    "glitch*cpu"
   ]
  },
  {
   "cell_type": "code",
   "execution_count": null,
   "id": "divided-genius",
   "metadata": {},
   "outputs": [],
   "source": []
  }
 ],
 "metadata": {
  "kernelspec": {
   "display_name": "Python 3",
   "language": "python",
   "name": "python3"
  },
  "language_info": {
   "codemirror_mode": {
    "name": "ipython",
    "version": 3
   },
   "file_extension": ".py",
   "mimetype": "text/x-python",
   "name": "python",
   "nbconvert_exporter": "python",
   "pygments_lexer": "ipython3",
   "version": "3.9.10"
  }
 },
 "nbformat": 4,
 "nbformat_minor": 5
}
